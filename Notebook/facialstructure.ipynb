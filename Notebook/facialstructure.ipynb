{
 "cells": [
  {
   "cell_type": "code",
   "execution_count": 89,
   "metadata": {},
   "outputs": [],
   "source": [
    "%matplotlib inline\n",
    "\n",
    "import numpy as np # NUMPY\n",
    "import pandas as pd # PANDAS\n",
    "import matplotlib.pyplot as plt # MATPLOTLIB\n",
    "import seaborn as sns # SEABORN\n",
    "import scipy\n",
    "import sklearn\n",
    "import random as rd\n",
    "from sklearn.decomposition import PCA\n",
    "from IPython.display import display\n",
    "import os \n",
    "from pathlib import Path\n",
    "import shutil \n",
    "import cv2"
   ]
  },
  {
   "cell_type": "markdown",
   "metadata": {},
   "source": [
    "## Vamos  a sacar el atributo de estructura (b_structure) de este notebook. \n",
    "\n",
    "### Para eso utilizamos los landmarks alineados e imagenes warpeadas que alinee en la parte de forma.\n",
    "\n",
    "### Por un lado obtenemos los 21 features que corresponden a la forma (17) y los que además usan la textura(4), para los 21 features, estos los sacamos unicamente para los frames0.\n",
    "\n",
    "### Por otro lado, para todas las imagenes sacamos su diferencia de emocion. \n",
    "\n",
    "### Luego de tener ambas, juntamos los features para cada imagen, y hacemos PCA con estos\n",
    "\n",
    "### Vamos a sacar los  17 primeros landmarks--lo  hacemos de la frame 0  de cada secuencia\n",
    "\n"
   ]
  },
  {
   "cell_type": "code",
   "execution_count": 90,
   "metadata": {},
   "outputs": [
    {
     "data": {
      "text/html": [
       "<div>\n",
       "<style scoped>\n",
       "    .dataframe tbody tr th:only-of-type {\n",
       "        vertical-align: middle;\n",
       "    }\n",
       "\n",
       "    .dataframe tbody tr th {\n",
       "        vertical-align: top;\n",
       "    }\n",
       "\n",
       "    .dataframe thead th {\n",
       "        text-align: right;\n",
       "    }\n",
       "</style>\n",
       "<table border=\"1\" class=\"dataframe\">\n",
       "  <thead>\n",
       "    <tr style=\"text-align: right;\">\n",
       "      <th></th>\n",
       "      <th>0</th>\n",
       "      <th>1</th>\n",
       "      <th>2</th>\n",
       "      <th>3</th>\n",
       "      <th>4</th>\n",
       "      <th>5</th>\n",
       "      <th>6</th>\n",
       "      <th>7</th>\n",
       "      <th>8</th>\n",
       "      <th>9</th>\n",
       "      <th>...</th>\n",
       "      <th>126</th>\n",
       "      <th>127</th>\n",
       "      <th>128</th>\n",
       "      <th>129</th>\n",
       "      <th>130</th>\n",
       "      <th>131</th>\n",
       "      <th>132</th>\n",
       "      <th>133</th>\n",
       "      <th>134</th>\n",
       "      <th>135</th>\n",
       "    </tr>\n",
       "  </thead>\n",
       "  <tbody>\n",
       "    <tr>\n",
       "      <th>0</th>\n",
       "      <td>258.213310</td>\n",
       "      <td>261.555230</td>\n",
       "      <td>267.978110</td>\n",
       "      <td>276.750350</td>\n",
       "      <td>290.519880</td>\n",
       "      <td>310.564040</td>\n",
       "      <td>332.520560</td>\n",
       "      <td>363.126800</td>\n",
       "      <td>397.902110</td>\n",
       "      <td>430.614910</td>\n",
       "      <td>...</td>\n",
       "      <td>399.276060</td>\n",
       "      <td>381.071370</td>\n",
       "      <td>361.327690</td>\n",
       "      <td>343.845490</td>\n",
       "      <td>342.421360</td>\n",
       "      <td>344.785120</td>\n",
       "      <td>356.986140</td>\n",
       "      <td>367.246760</td>\n",
       "      <td>371.105790</td>\n",
       "      <td>367.883230</td>\n",
       "    </tr>\n",
       "    <tr>\n",
       "      <th>1</th>\n",
       "      <td>258.260079</td>\n",
       "      <td>261.597406</td>\n",
       "      <td>268.016403</td>\n",
       "      <td>276.783427</td>\n",
       "      <td>290.547142</td>\n",
       "      <td>310.591197</td>\n",
       "      <td>332.539137</td>\n",
       "      <td>363.130286</td>\n",
       "      <td>397.902328</td>\n",
       "      <td>430.608304</td>\n",
       "      <td>...</td>\n",
       "      <td>399.365256</td>\n",
       "      <td>381.114874</td>\n",
       "      <td>361.348807</td>\n",
       "      <td>343.819469</td>\n",
       "      <td>342.387214</td>\n",
       "      <td>344.761274</td>\n",
       "      <td>357.004890</td>\n",
       "      <td>367.318464</td>\n",
       "      <td>371.202325</td>\n",
       "      <td>367.961851</td>\n",
       "    </tr>\n",
       "    <tr>\n",
       "      <th>2</th>\n",
       "      <td>258.260079</td>\n",
       "      <td>261.597406</td>\n",
       "      <td>268.016403</td>\n",
       "      <td>276.783427</td>\n",
       "      <td>290.547142</td>\n",
       "      <td>310.591197</td>\n",
       "      <td>332.539137</td>\n",
       "      <td>363.130286</td>\n",
       "      <td>397.902328</td>\n",
       "      <td>430.608304</td>\n",
       "      <td>...</td>\n",
       "      <td>399.365256</td>\n",
       "      <td>381.114874</td>\n",
       "      <td>361.348807</td>\n",
       "      <td>343.819469</td>\n",
       "      <td>342.387214</td>\n",
       "      <td>344.761274</td>\n",
       "      <td>357.004890</td>\n",
       "      <td>367.318464</td>\n",
       "      <td>371.202325</td>\n",
       "      <td>367.961851</td>\n",
       "    </tr>\n",
       "    <tr>\n",
       "      <th>3</th>\n",
       "      <td>258.180526</td>\n",
       "      <td>261.525672</td>\n",
       "      <td>267.951280</td>\n",
       "      <td>276.727163</td>\n",
       "      <td>290.500783</td>\n",
       "      <td>310.545016</td>\n",
       "      <td>332.507530</td>\n",
       "      <td>363.124348</td>\n",
       "      <td>397.901963</td>\n",
       "      <td>430.619539</td>\n",
       "      <td>...</td>\n",
       "      <td>399.213509</td>\n",
       "      <td>381.040850</td>\n",
       "      <td>361.312874</td>\n",
       "      <td>343.863722</td>\n",
       "      <td>342.445298</td>\n",
       "      <td>344.801846</td>\n",
       "      <td>356.972986</td>\n",
       "      <td>367.196473</td>\n",
       "      <td>371.038097</td>\n",
       "      <td>367.828110</td>\n",
       "    </tr>\n",
       "    <tr>\n",
       "      <th>4</th>\n",
       "      <td>257.731806</td>\n",
       "      <td>261.121102</td>\n",
       "      <td>267.584058</td>\n",
       "      <td>276.409971</td>\n",
       "      <td>290.239485</td>\n",
       "      <td>310.284590</td>\n",
       "      <td>332.329299</td>\n",
       "      <td>363.091027</td>\n",
       "      <td>397.899820</td>\n",
       "      <td>430.682774</td>\n",
       "      <td>...</td>\n",
       "      <td>398.354396</td>\n",
       "      <td>380.621481</td>\n",
       "      <td>361.109119</td>\n",
       "      <td>344.113637</td>\n",
       "      <td>342.773430</td>\n",
       "      <td>345.030917</td>\n",
       "      <td>356.792047</td>\n",
       "      <td>366.505904</td>\n",
       "      <td>370.108661</td>\n",
       "      <td>367.071109</td>\n",
       "    </tr>\n",
       "    <tr>\n",
       "      <th>...</th>\n",
       "      <td>...</td>\n",
       "      <td>...</td>\n",
       "      <td>...</td>\n",
       "      <td>...</td>\n",
       "      <td>...</td>\n",
       "      <td>...</td>\n",
       "      <td>...</td>\n",
       "      <td>...</td>\n",
       "      <td>...</td>\n",
       "      <td>...</td>\n",
       "      <td>...</td>\n",
       "      <td>...</td>\n",
       "      <td>...</td>\n",
       "      <td>...</td>\n",
       "      <td>...</td>\n",
       "      <td>...</td>\n",
       "      <td>...</td>\n",
       "      <td>...</td>\n",
       "      <td>...</td>\n",
       "      <td>...</td>\n",
       "      <td>...</td>\n",
       "    </tr>\n",
       "    <tr>\n",
       "      <th>578</th>\n",
       "      <td>262.385668</td>\n",
       "      <td>261.062593</td>\n",
       "      <td>266.861863</td>\n",
       "      <td>273.905367</td>\n",
       "      <td>280.123096</td>\n",
       "      <td>297.593762</td>\n",
       "      <td>326.445073</td>\n",
       "      <td>361.495379</td>\n",
       "      <td>398.277240</td>\n",
       "      <td>435.267238</td>\n",
       "      <td>...</td>\n",
       "      <td>382.551530</td>\n",
       "      <td>377.499012</td>\n",
       "      <td>358.141953</td>\n",
       "      <td>345.109024</td>\n",
       "      <td>345.145549</td>\n",
       "      <td>345.665832</td>\n",
       "      <td>354.898678</td>\n",
       "      <td>365.431509</td>\n",
       "      <td>368.794873</td>\n",
       "      <td>369.979998</td>\n",
       "    </tr>\n",
       "    <tr>\n",
       "      <th>579</th>\n",
       "      <td>262.459289</td>\n",
       "      <td>261.098531</td>\n",
       "      <td>266.925632</td>\n",
       "      <td>273.945526</td>\n",
       "      <td>280.136290</td>\n",
       "      <td>297.623928</td>\n",
       "      <td>326.464264</td>\n",
       "      <td>361.513025</td>\n",
       "      <td>398.281893</td>\n",
       "      <td>435.260389</td>\n",
       "      <td>...</td>\n",
       "      <td>382.492036</td>\n",
       "      <td>377.440158</td>\n",
       "      <td>358.135715</td>\n",
       "      <td>345.078815</td>\n",
       "      <td>345.125768</td>\n",
       "      <td>345.676078</td>\n",
       "      <td>354.905526</td>\n",
       "      <td>365.450687</td>\n",
       "      <td>368.767366</td>\n",
       "      <td>369.982708</td>\n",
       "    </tr>\n",
       "    <tr>\n",
       "      <th>580</th>\n",
       "      <td>262.346649</td>\n",
       "      <td>261.055020</td>\n",
       "      <td>266.834543</td>\n",
       "      <td>273.898203</td>\n",
       "      <td>280.120631</td>\n",
       "      <td>297.541858</td>\n",
       "      <td>326.397965</td>\n",
       "      <td>361.458747</td>\n",
       "      <td>398.250373</td>\n",
       "      <td>435.267297</td>\n",
       "      <td>...</td>\n",
       "      <td>382.482054</td>\n",
       "      <td>377.545025</td>\n",
       "      <td>358.167304</td>\n",
       "      <td>345.151649</td>\n",
       "      <td>345.217583</td>\n",
       "      <td>345.715374</td>\n",
       "      <td>354.863787</td>\n",
       "      <td>365.350292</td>\n",
       "      <td>368.692327</td>\n",
       "      <td>369.956275</td>\n",
       "    </tr>\n",
       "    <tr>\n",
       "      <th>581</th>\n",
       "      <td>262.326839</td>\n",
       "      <td>261.042689</td>\n",
       "      <td>266.813314</td>\n",
       "      <td>273.890577</td>\n",
       "      <td>280.132540</td>\n",
       "      <td>297.586126</td>\n",
       "      <td>326.448584</td>\n",
       "      <td>361.489296</td>\n",
       "      <td>398.281757</td>\n",
       "      <td>435.275927</td>\n",
       "      <td>...</td>\n",
       "      <td>382.789229</td>\n",
       "      <td>377.648590</td>\n",
       "      <td>358.193143</td>\n",
       "      <td>345.063979</td>\n",
       "      <td>345.084160</td>\n",
       "      <td>345.576679</td>\n",
       "      <td>354.930971</td>\n",
       "      <td>365.574745</td>\n",
       "      <td>369.051948</td>\n",
       "      <td>370.137988</td>\n",
       "    </tr>\n",
       "    <tr>\n",
       "      <th>582</th>\n",
       "      <td>262.347702</td>\n",
       "      <td>261.042500</td>\n",
       "      <td>266.826906</td>\n",
       "      <td>273.885789</td>\n",
       "      <td>280.123509</td>\n",
       "      <td>297.603975</td>\n",
       "      <td>326.462584</td>\n",
       "      <td>361.503765</td>\n",
       "      <td>398.290976</td>\n",
       "      <td>435.274128</td>\n",
       "      <td>...</td>\n",
       "      <td>382.722184</td>\n",
       "      <td>377.570225</td>\n",
       "      <td>358.154445</td>\n",
       "      <td>345.078748</td>\n",
       "      <td>345.088653</td>\n",
       "      <td>345.594937</td>\n",
       "      <td>354.930130</td>\n",
       "      <td>365.531718</td>\n",
       "      <td>368.978213</td>\n",
       "      <td>370.065089</td>\n",
       "    </tr>\n",
       "  </tbody>\n",
       "</table>\n",
       "<p>583 rows × 136 columns</p>\n",
       "</div>"
      ],
      "text/plain": [
       "            0           1           2           3           4           5    \\\n",
       "0    258.213310  261.555230  267.978110  276.750350  290.519880  310.564040   \n",
       "1    258.260079  261.597406  268.016403  276.783427  290.547142  310.591197   \n",
       "2    258.260079  261.597406  268.016403  276.783427  290.547142  310.591197   \n",
       "3    258.180526  261.525672  267.951280  276.727163  290.500783  310.545016   \n",
       "4    257.731806  261.121102  267.584058  276.409971  290.239485  310.284590   \n",
       "..          ...         ...         ...         ...         ...         ...   \n",
       "578  262.385668  261.062593  266.861863  273.905367  280.123096  297.593762   \n",
       "579  262.459289  261.098531  266.925632  273.945526  280.136290  297.623928   \n",
       "580  262.346649  261.055020  266.834543  273.898203  280.120631  297.541858   \n",
       "581  262.326839  261.042689  266.813314  273.890577  280.132540  297.586126   \n",
       "582  262.347702  261.042500  266.826906  273.885789  280.123509  297.603975   \n",
       "\n",
       "            6           7           8           9    ...         126  \\\n",
       "0    332.520560  363.126800  397.902110  430.614910  ...  399.276060   \n",
       "1    332.539137  363.130286  397.902328  430.608304  ...  399.365256   \n",
       "2    332.539137  363.130286  397.902328  430.608304  ...  399.365256   \n",
       "3    332.507530  363.124348  397.901963  430.619539  ...  399.213509   \n",
       "4    332.329299  363.091027  397.899820  430.682774  ...  398.354396   \n",
       "..          ...         ...         ...         ...  ...         ...   \n",
       "578  326.445073  361.495379  398.277240  435.267238  ...  382.551530   \n",
       "579  326.464264  361.513025  398.281893  435.260389  ...  382.492036   \n",
       "580  326.397965  361.458747  398.250373  435.267297  ...  382.482054   \n",
       "581  326.448584  361.489296  398.281757  435.275927  ...  382.789229   \n",
       "582  326.462584  361.503765  398.290976  435.274128  ...  382.722184   \n",
       "\n",
       "            127         128         129         130         131         132  \\\n",
       "0    381.071370  361.327690  343.845490  342.421360  344.785120  356.986140   \n",
       "1    381.114874  361.348807  343.819469  342.387214  344.761274  357.004890   \n",
       "2    381.114874  361.348807  343.819469  342.387214  344.761274  357.004890   \n",
       "3    381.040850  361.312874  343.863722  342.445298  344.801846  356.972986   \n",
       "4    380.621481  361.109119  344.113637  342.773430  345.030917  356.792047   \n",
       "..          ...         ...         ...         ...         ...         ...   \n",
       "578  377.499012  358.141953  345.109024  345.145549  345.665832  354.898678   \n",
       "579  377.440158  358.135715  345.078815  345.125768  345.676078  354.905526   \n",
       "580  377.545025  358.167304  345.151649  345.217583  345.715374  354.863787   \n",
       "581  377.648590  358.193143  345.063979  345.084160  345.576679  354.930971   \n",
       "582  377.570225  358.154445  345.078748  345.088653  345.594937  354.930130   \n",
       "\n",
       "            133         134         135  \n",
       "0    367.246760  371.105790  367.883230  \n",
       "1    367.318464  371.202325  367.961851  \n",
       "2    367.318464  371.202325  367.961851  \n",
       "3    367.196473  371.038097  367.828110  \n",
       "4    366.505904  370.108661  367.071109  \n",
       "..          ...         ...         ...  \n",
       "578  365.431509  368.794873  369.979998  \n",
       "579  365.450687  368.767366  369.982708  \n",
       "580  365.350292  368.692327  369.956275  \n",
       "581  365.574745  369.051948  370.137988  \n",
       "582  365.531718  368.978213  370.065089  \n",
       "\n",
       "[583 rows x 136 columns]"
      ]
     },
     "execution_count": 90,
     "metadata": {},
     "output_type": "execute_result"
    }
   ],
   "source": [
    "my_data = pd.read_csv('transformed_landmarks_procustres_total.csv',header = None)\n",
    "my_data"
   ]
  },
  {
   "cell_type": "code",
   "execution_count": null,
   "metadata": {},
   "outputs": [],
   "source": []
  },
  {
   "cell_type": "code",
   "execution_count": 91,
   "metadata": {},
   "outputs": [],
   "source": [
    "cant_frames_per_seq = pd.read_csv('ckmock_landmark_FramePerSeq.csv',header = None)\n",
    "cant_frames_per_seq =np.asarray(cant_frames_per_seq).flatten()"
   ]
  },
  {
   "cell_type": "code",
   "execution_count": 41,
   "metadata": {},
   "outputs": [
    {
     "data": {
      "text/plain": [
       "16"
      ]
     },
     "execution_count": 41,
     "metadata": {},
     "output_type": "execute_result"
    }
   ],
   "source": [
    "cant_frames_per_seq[0]"
   ]
  },
  {
   "cell_type": "code",
   "execution_count": 42,
   "metadata": {},
   "outputs": [],
   "source": [
    "### Aca tenemos que guardarnos cada frame0"
   ]
  },
  {
   "cell_type": "code",
   "execution_count": 125,
   "metadata": {},
   "outputs": [],
   "source": [
    "\n",
    "subjects_images = '../ck+warped'\n",
    "\n",
    "first_images = []\n",
    "first_frames = []\n",
    "total = 0\n",
    "first_frames.append(my_data.iloc[total])#first frame of first secuence\n",
    "first_images.append(subjects_images + '/' + 'warped_image_procustres_' + str(total)+ '.png')\n",
    "\n",
    "for i in range(0, len(cant_frames_per_seq)-1):\n",
    "    total = total+cant_frames_per_seq[i]\n",
    "    first_frames.append(my_data.iloc[total])\n",
    "    first_images.append(subjects_images + '/' + 'warped_image_procustres_' + str(total)+ '.png')\n",
    "\n",
    "\n",
    "first_frames = np.asarray( first_frames, dtype=object)   \n",
    "first_images = np.asarray( first_images, dtype=object)   "
   ]
  },
  {
   "cell_type": "code",
   "execution_count": 129,
   "metadata": {},
   "outputs": [
    {
     "data": {
      "text/plain": [
       "array(['../ck+warped/warped_image_procustres_0.png',\n",
       "       '../ck+warped/warped_image_procustres_16.png',\n",
       "       '../ck+warped/warped_image_procustres_38.png',\n",
       "       '../ck+warped/warped_image_procustres_52.png',\n",
       "       '../ck+warped/warped_image_procustres_73.png',\n",
       "       '../ck+warped/warped_image_procustres_93.png',\n",
       "       '../ck+warped/warped_image_procustres_106.png',\n",
       "       '../ck+warped/warped_image_procustres_125.png',\n",
       "       '../ck+warped/warped_image_procustres_141.png',\n",
       "       '../ck+warped/warped_image_procustres_161.png',\n",
       "       '../ck+warped/warped_image_procustres_178.png',\n",
       "       '../ck+warped/warped_image_procustres_192.png',\n",
       "       '../ck+warped/warped_image_procustres_215.png',\n",
       "       '../ck+warped/warped_image_procustres_237.png',\n",
       "       '../ck+warped/warped_image_procustres_248.png',\n",
       "       '../ck+warped/warped_image_procustres_261.png',\n",
       "       '../ck+warped/warped_image_procustres_281.png',\n",
       "       '../ck+warped/warped_image_procustres_309.png',\n",
       "       '../ck+warped/warped_image_procustres_330.png',\n",
       "       '../ck+warped/warped_image_procustres_344.png',\n",
       "       '../ck+warped/warped_image_procustres_362.png',\n",
       "       '../ck+warped/warped_image_procustres_375.png',\n",
       "       '../ck+warped/warped_image_procustres_384.png',\n",
       "       '../ck+warped/warped_image_procustres_399.png',\n",
       "       '../ck+warped/warped_image_procustres_420.png',\n",
       "       '../ck+warped/warped_image_procustres_430.png',\n",
       "       '../ck+warped/warped_image_procustres_442.png',\n",
       "       '../ck+warped/warped_image_procustres_459.png',\n",
       "       '../ck+warped/warped_image_procustres_476.png',\n",
       "       '../ck+warped/warped_image_procustres_492.png',\n",
       "       '../ck+warped/warped_image_procustres_510.png',\n",
       "       '../ck+warped/warped_image_procustres_528.png'], dtype=object)"
      ]
     },
     "execution_count": 129,
     "metadata": {},
     "output_type": "execute_result"
    }
   ],
   "source": [
    "first_images"
   ]
  },
  {
   "cell_type": "code",
   "execution_count": 126,
   "metadata": {},
   "outputs": [],
   "source": [
    "\n",
    "intercalated_first_frames = []\n",
    "for fframe in first_frames:\n",
    "    xaxis = fframe[0: int(len(first_frames[0])/2)]\n",
    "    yaxis = fframe[int(len(first_frames[0])/2):len(first_frames[0])]\n",
    "    lan =[]\n",
    "    for (a, b) in zip(xaxis, yaxis):\n",
    "        lan.append(np.asarray([a,b]))        \n",
    "    intercalated_first_frames.append( np.asarray(lan))\n",
    "intercalated_first_frames = np.asarray(intercalated_first_frames)"
   ]
  },
  {
   "cell_type": "code",
   "execution_count": 127,
   "metadata": {},
   "outputs": [
    {
     "data": {
      "text/plain": [
       "(32, 68, 2)"
      ]
     },
     "execution_count": 127,
     "metadata": {},
     "output_type": "execute_result"
    }
   ],
   "source": [
    "intercalated_first_frames.shape"
   ]
  },
  {
   "cell_type": "code",
   "execution_count": 128,
   "metadata": {},
   "outputs": [],
   "source": [
    "first_frame = intercalated_first_frames"
   ]
  },
  {
   "cell_type": "code",
   "execution_count": 96,
   "metadata": {},
   "outputs": [
    {
     "data": {
      "text/plain": [
       "array([[258.21331, 235.46651],\n",
       "       [261.55523, 270.38882],\n",
       "       [267.97811, 304.70225],\n",
       "       [276.75035, 339.07949],\n",
       "       [290.51988, 370.89977],\n",
       "       [310.56404, 399.76081],\n",
       "       [332.52056, 427.81513],\n",
       "       [363.1268 , 443.66015],\n",
       "       [397.90211, 448.08351],\n",
       "       [430.61491, 441.72095],\n",
       "       [454.77885, 417.60829],\n",
       "       [475.50851, 391.01632],\n",
       "       [491.64715, 361.52778],\n",
       "       [503.51746, 329.86724],\n",
       "       [510.63019, 297.13371],\n",
       "       [515.33789, 263.56669],\n",
       "       [517.22091, 229.90335],\n",
       "       [276.5953 , 208.65122],\n",
       "       [298.56746, 193.44809],\n",
       "       [324.48271, 188.98008],\n",
       "       [351.13502, 190.92712],\n",
       "       [377.12293, 195.95614],\n",
       "       [411.47442, 195.03525],\n",
       "       [431.76316, 185.32552],\n",
       "       [454.00509, 181.46308],\n",
       "       [476.10079, 181.08416],\n",
       "       [497.59387, 187.31143],\n",
       "       [393.27418, 223.76881],\n",
       "       [393.77468, 241.57579],\n",
       "       [394.62736, 259.29851],\n",
       "       [395.80941, 276.70295],\n",
       "       [367.72783, 302.41526],\n",
       "       [383.12397, 305.64901],\n",
       "       [398.78117, 306.80151],\n",
       "       [411.17201, 304.82882],\n",
       "       [422.76881, 300.4544 ],\n",
       "       [307.02557, 230.44086],\n",
       "       [321.94136, 218.08233],\n",
       "       [341.04547, 217.36618],\n",
       "       [359.21447, 225.06735],\n",
       "       [343.01645, 234.39687],\n",
       "       [324.84906, 235.56898],\n",
       "       [423.29854, 222.98092],\n",
       "       [435.99011, 212.16051],\n",
       "       [452.56869, 209.91886],\n",
       "       [466.30508, 218.89032],\n",
       "       [453.24743, 227.07423],\n",
       "       [438.02378, 226.80084],\n",
       "       [347.42333, 362.72039],\n",
       "       [360.39949, 345.18323],\n",
       "       [378.44857, 332.8443 ],\n",
       "       [399.80664, 331.95783],\n",
       "       [415.70135, 333.91119],\n",
       "       [429.21755, 342.77413],\n",
       "       [439.40367, 355.7132 ],\n",
       "       [431.93181, 377.50953],\n",
       "       [419.43237, 396.38219],\n",
       "       [399.8267 , 403.12588],\n",
       "       [378.22203, 399.27606],\n",
       "       [361.84195, 381.07137],\n",
       "       [358.25009, 361.32769],\n",
       "       [376.36535, 343.84549],\n",
       "       [400.76107, 342.42136],\n",
       "       [418.70829, 344.78512],\n",
       "       [432.56265, 356.98614],\n",
       "       [415.85116, 367.24676],\n",
       "       [397.5425 , 371.10579],\n",
       "       [377.76162, 367.88323]])"
      ]
     },
     "execution_count": 96,
     "metadata": {},
     "output_type": "execute_result"
    }
   ],
   "source": [
    "first_frame[0]"
   ]
  },
  {
   "cell_type": "code",
   "execution_count": null,
   "metadata": {},
   "outputs": [],
   "source": []
  },
  {
   "cell_type": "code",
   "execution_count": null,
   "metadata": {},
   "outputs": [],
   "source": []
  },
  {
   "cell_type": "code",
   "execution_count": null,
   "metadata": {},
   "outputs": [],
   "source": []
  },
  {
   "cell_type": "code",
   "execution_count": null,
   "metadata": {},
   "outputs": [],
   "source": []
  },
  {
   "cell_type": "code",
   "execution_count": null,
   "metadata": {},
   "outputs": [],
   "source": []
  },
  {
   "cell_type": "code",
   "execution_count": null,
   "metadata": {},
   "outputs": [],
   "source": []
  },
  {
   "cell_type": "code",
   "execution_count": 11,
   "metadata": {},
   "outputs": [],
   "source": [
    "#por ahora usamos la distancia horizontal (ver 1)"
   ]
  },
  {
   "cell_type": "code",
   "execution_count": 12,
   "metadata": {},
   "outputs": [],
   "source": [
    "#los primeros 17 son simples, usamos los landmarks 68 de la ck+ database, y los adaptamos al del modelo del paper (que es un modelo aam de 94 puntos) "
   ]
  },
  {
   "cell_type": "code",
   "execution_count": 97,
   "metadata": {},
   "outputs": [
    {
     "data": {
      "text/plain": [
       "array([177.53333000000003, 193.76199348776356, 193.02165621780216,\n",
       "       192.43693336207804, 192.81192069116616, 195.20719107735192,\n",
       "       179.93666143253188, 176.41802416358468, 175.33786580425243,\n",
       "       177.21986571014133, 186.9330456274766, 183.6456112257162,\n",
       "       183.03287413204816, 188.9518438131406, 192.95099375280313,\n",
       "       190.3614811940961, 192.33631554356356, 194.21075611251405,\n",
       "       192.82684924362502, 189.01795334038394, 186.99431411968902,\n",
       "       186.7343860937159, 176.2302883581212, 183.35454424326076,\n",
       "       188.9293013917893, 192.4986349928215, 183.7852724144925,\n",
       "       178.8580418241438, 182.81659422284667, 187.3550859924955,\n",
       "       180.34888214435693, 184.47293200846718], dtype=object)"
      ]
     },
     "execution_count": 97,
     "metadata": {},
     "output_type": "execute_result"
    }
   ],
   "source": [
    "#usamos 19 y 6 porque son los mas cercanos a nivel de temple de los landmarks de ck+ y asumimos hay correlacion entre la distancia de estos y la distancia que tendria gente con temples mas largos\n",
    "\n",
    "#Acordemonos que los array el indice va de 0-67 y en imagenes de 1 a 68, en codigo usamos -1 del que se usa en la imagen\n",
    "\n",
    "first_feature_point = []\n",
    "for i in range(0, len(first_frame)):   \n",
    "    point1 = first_frame[i][18][0]\n",
    "    point2 = first_frame[i][25][0]\n",
    "    first_feature_point.append(np.abs(point2-point1))\n",
    "first_feature_point = np.asarray( first_feature_point, dtype=object)\n",
    "first_feature_point\n",
    "#19,26"
   ]
  },
  {
   "cell_type": "code",
   "execution_count": 98,
   "metadata": {},
   "outputs": [
    {
     "data": {
      "text/plain": [
       "array([253.78266000000002, 271.3527849180832, 273.9253054361393,\n",
       "       275.7381555672631, 272.9272323120172, 271.6777204278304,\n",
       "       261.6638313289751, 262.467611320955, 263.03349857318494,\n",
       "       260.4181950118524, 259.9005970877566, 260.72815648654193,\n",
       "       260.2453213363174, 263.3181492107021, 272.2115190056272,\n",
       "       271.2132115289683, 270.4827922357734, 271.8473134275963,\n",
       "       271.2071883247678, 265.3902054396885, 260.69938919635274,\n",
       "       264.62369249158127, 269.6120000809591, 266.668565937485,\n",
       "       263.2140216553911, 262.84289441475374, 272.21308644652055,\n",
       "       259.003549081594, 262.1818163014045, 264.49401202477196,\n",
       "       262.5989244463883, 264.49676606751643], dtype=object)"
      ]
     },
     "execution_count": 98,
     "metadata": {},
     "output_type": "execute_result"
    }
   ],
   "source": [
    "second_feature_point = []\n",
    "for i in range(0, len(first_frame)):\n",
    "    point1 = first_frame[i][1][0]\n",
    "    point2 = first_frame[i][15][0]\n",
    "    second_feature_point.append(np.abs(point2-point1))\n",
    "second_feature_point = np.asarray( second_feature_point, dtype=object)\n",
    "second_feature_point\n",
    "#2,16"
   ]
  },
  {
   "cell_type": "code",
   "execution_count": 99,
   "metadata": {},
   "outputs": [
    {
     "data": {
      "text/plain": [
       "array([249.07496000000003, 267.25333663611264, 269.5354369781205,\n",
       "       271.33628805535454, 268.23045493514456, 267.4407138535273,\n",
       "       257.8924079959187, 258.6256973637499, 259.6538833229962,\n",
       "       256.9915213136236, 256.60088591159337, 258.1974058390414,\n",
       "       256.8271761652129, 263.2512646384309, 266.2196886022174,\n",
       "       269.091029635981, 263.78606830085806, 265.3543449911331,\n",
       "       267.1202713842166, 265.9472381676555, 260.62464486361307,\n",
       "       262.5758611760089, 263.77787346342575, 261.68912754706355,\n",
       "       257.35365135475456, 259.5811315518724, 267.1385144519591,\n",
       "       256.52509773811767, 259.5203695887452, 260.63474948372453,\n",
       "       260.3630861732015, 263.24325867255754], dtype=object)"
      ]
     },
     "execution_count": 99,
     "metadata": {},
     "output_type": "execute_result"
    }
   ],
   "source": [
    "third_feature_point = []\n",
    "for i in range(0, len(first_frame)):   \n",
    "    point1 = first_frame[i][1][0]\n",
    "    point2 = first_frame[i][14][0]\n",
    "    third_feature_point.append(np.abs(point2-point1))\n",
    "third_feature_point = np.asarray( third_feature_point, dtype=object)\n",
    "third_feature_point\n",
    "#3,15"
   ]
  },
  {
   "cell_type": "code",
   "execution_count": 100,
   "metadata": {},
   "outputs": [
    {
     "data": {
      "text/plain": [
       "array([213.94718999999998, 232.8306608062117, 234.47090553040363,\n",
       "       235.1655649163987, 234.02413115157736, 236.67066610069276,\n",
       "       225.2382545336498, 226.81541809902535, 225.59652043755034,\n",
       "       226.48593035438262, 228.39143421135958, 226.0651020474561,\n",
       "       225.9235903551056, 228.9205605400307, 232.91588383954985,\n",
       "       233.74132895768986, 232.2284649908422, 230.75684256527938,\n",
       "       234.98934627091597, 236.81018306731676, 231.91732200803222,\n",
       "       231.8468206002933, 222.85186588359568, 221.51626625177607,\n",
       "       224.49832721059846, 226.63961753968124, 232.25057020688348,\n",
       "       221.23379292435078, 225.2792783691719, 226.96156211294124,\n",
       "       239.9616586969937, 242.24144904558284], dtype=object)"
      ]
     },
     "execution_count": 100,
     "metadata": {},
     "output_type": "execute_result"
    }
   ],
   "source": [
    "#asumimos la mean horizontalmente va a dar la distancia horizontal del punto intermedio\n",
    "fourth_feature_point = []\n",
    "for i in range(0, len(first_frame)):   \n",
    "    point1a = first_frame[i][3][0]\n",
    "    point2a = first_frame[i][13][0]        \n",
    "    point1b = first_frame[i][4][0]\n",
    "    point2b = first_frame[i][12][0]\n",
    "    point1 = (point1a + point1b)/2#mean\n",
    "    point2 = (point2a + point2b)/2\n",
    "    fourth_feature_point.append(np.abs(point2-point1))\n",
    "fourth_feature_point = np.asarray( fourth_feature_point, dtype=object)\n",
    "fourth_feature_point\n",
    "#diferencia de mean entre 4 y 5, 14 y 13,  "
   ]
  },
  {
   "cell_type": "code",
   "execution_count": 101,
   "metadata": {},
   "outputs": [
    {
     "data": {
      "text/plain": [
       "array([122.25828999999999, 131.6545558891391, 130.61882592481055,\n",
       "       131.2416703292854, 131.63967641693608, 132.99772566985672,\n",
       "       135.26649298958637, 135.35306099053662, 136.51438830707565,\n",
       "       134.67961011990724, 125.60919125155857, 126.47024243714748,\n",
       "       124.17309487194609, 124.35797343026428, 131.06353978123195,\n",
       "       129.41653604467763, 130.59390520999477, 128.4368271776247,\n",
       "       132.332720027035, 134.71391004989977, 132.8617946664387,\n",
       "       129.42955236554565, 119.46747435798011, 121.57623618524963,\n",
       "       130.55169083370816, 130.62884558727228, 129.64170374755582,\n",
       "       125.37220853345951, 127.65916648107157, 131.23772022950857,\n",
       "       140.02493334871946, 142.39665453571888], dtype=object)"
      ]
     },
     "execution_count": 101,
     "metadata": {},
     "output_type": "execute_result"
    }
   ],
   "source": [
    "five_feature_point = []\n",
    "for i in range(0, len(first_frame)):   \n",
    "    point1 = first_frame[i][6][0]\n",
    "    point2 = first_frame[i][10][0]\n",
    "    five_feature_point.append(np.abs(point2-point1))\n",
    "five_feature_point = np.asarray( five_feature_point, dtype=object)\n",
    "five_feature_point\n",
    "#7,11"
   ]
  },
  {
   "cell_type": "code",
   "execution_count": 102,
   "metadata": {},
   "outputs": [
    {
     "data": {
      "text/plain": [
       "array([55.04097999999999, 59.69721436674371, 51.11529667539702,\n",
       "       53.50781127153101, 48.49261195151405, 50.84747174425098,\n",
       "       74.0501684564947, 69.89702190966187, 63.863922483941224,\n",
       "       68.3149865537336, 43.81613870746071, 42.21955366559854,\n",
       "       37.30416956717767, 48.44996094529125, 50.143591306772464,\n",
       "       46.25828737947984, 53.339165459194476, 50.098892192485664,\n",
       "       56.327598902399984, 44.185960193317726, 48.46807596800568,\n",
       "       52.55550744113464, 42.51135602860495, 43.314475743336516,\n",
       "       67.01545344862154, 64.84443798709384, 50.838317910793876,\n",
       "       45.423800155553295, 48.89243896239054, 58.98397808390729,\n",
       "       45.91195008196917, 46.73661744890285], dtype=object)"
      ]
     },
     "execution_count": 102,
     "metadata": {},
     "output_type": "execute_result"
    }
   ],
   "source": [
    "six_feature_point =[]\n",
    "for i in range(0, len(first_frame)):   \n",
    "    point1 = first_frame[i][31][0]\n",
    "    point2 = first_frame[i][35][0]\n",
    "    six_feature_point.append(np.abs(point2-point1))\n",
    "six_feature_point = np.asarray( six_feature_point, dtype=object)\n",
    "six_feature_point\n",
    "#32,36"
   ]
  },
  {
   "cell_type": "code",
   "execution_count": 103,
   "metadata": {},
   "outputs": [
    {
     "data": {
      "text/plain": [
       "array([39.485810000000015, 31.86290272411327, 33.628431694321705,\n",
       "       27.336265245193943, 30.389603355554584, 23.095158161979043,\n",
       "       41.495099399290325, 40.938661949113055, 41.34003048281306,\n",
       "       40.87587806545099, 35.33052800263573, 34.114844420336,\n",
       "       33.3789270242188, 46.473566169278854, 27.87158298775421,\n",
       "       25.455562225320477, 30.101137609599675, 25.17619409142236,\n",
       "       52.87005655647397, 26.11158731953884, 43.217855482969526,\n",
       "       47.70051421802731, 32.48036999978228, 27.02995574331817,\n",
       "       39.14577281608257, 36.45071667599461, 27.322354216096244,\n",
       "       27.830184108229105, 26.95830952402781, 50.711496561162846,\n",
       "       49.58628602420549, 47.92943055644599], dtype=object)"
      ]
     },
     "execution_count": 103,
     "metadata": {},
     "output_type": "execute_result"
    }
   ],
   "source": [
    "seven_feature_point =[]\n",
    "for i in range(0, len(first_frame)):   \n",
    "    point1 = first_frame[i][61][0]\n",
    "    point2 = first_frame[i][65][0]\n",
    "    seven_feature_point.append(np.abs(point2-point1))\n",
    "seven_feature_point = np.asarray( seven_feature_point, dtype=object)\n",
    "seven_feature_point\n",
    "#61,65"
   ]
  },
  {
   "cell_type": "code",
   "execution_count": 104,
   "metadata": {},
   "outputs": [
    {
     "data": {
      "text/plain": [
       "array([112.78598499999998, 121.85947740466918, 121.03738895581967,\n",
       "       117.8858648920488, 121.28100021778585, 118.26327738398777,\n",
       "       113.36740693521409, 116.43794669830447, 114.51298533655859,\n",
       "       115.39844861561471, 118.55181714251455, 122.13729293576671,\n",
       "       119.5475165540073, 115.00799203789973, 127.0309599870879,\n",
       "       124.42121164105379, 124.45010150874066, 127.33883358820992,\n",
       "       123.43064604415048, 121.38275443506177, 120.76359912044177,\n",
       "       115.85144048925866, 118.9819421758836, 112.53569949774851,\n",
       "       115.2265754401181, 116.20924862529279, 111.10618949553589,\n",
       "       111.20667659547019, 112.8984641731563, 113.58055514031747,\n",
       "       108.65933860050563, 108.87950979407515], dtype=object)"
      ]
     },
     "execution_count": 104,
     "metadata": {},
     "output_type": "execute_result"
    }
   ],
   "source": [
    "#asumimos la mean horizontalmente va a dar la distancia horizontal del punto intermedio\n",
    "eight_feature_point = []\n",
    "for i in range(0, len(first_frame)):   \n",
    "    point1a = first_frame[i][37][0]\n",
    "    point2a = first_frame[i][43][0]        \n",
    "    point1b = first_frame[i][38][0]\n",
    "    point2b = first_frame[i][44][0]\n",
    "    point1 = (point1a + point1b)/2#mean\n",
    "    point2 = (point2a + point2b)/2\n",
    "    eight_feature_point.append(np.abs(point2-point1))\n",
    "eight_feature_point = np.asarray( eight_feature_point, dtype=object)\n",
    "eight_feature_point\n",
    "#dieferencia entre mean de 38-39 y 44-45"
   ]
  },
  {
   "cell_type": "code",
   "execution_count": 105,
   "metadata": {},
   "outputs": [
    {
     "data": {
      "text/plain": [
       "array([43.006539999999916, 52.658966547304146, 61.96792933732593,\n",
       "       59.81106698408081, 61.65330141054858, 55.75121685562482,\n",
       "       52.975234885703344, 51.05769859486884, 51.31471981225553,\n",
       "       51.9215373543895, 49.22619347735673, 48.55723688238004,\n",
       "       46.77164282412514, 58.82931489056091, 54.19206165465437,\n",
       "       51.06189481071959, 50.86255517168115, 50.6316103429416,\n",
       "       58.259898937778644, 45.10582838479462, 59.60630184610369,\n",
       "       56.206303235386486, 47.726498159653715, 48.93654970041172,\n",
       "       46.350295082060484, 46.78836381694953, 49.70679039160183,\n",
       "       54.10854822787053, 51.74587687701069, 57.29958523199224,\n",
       "       53.82431735255966, 53.604749164331224], dtype=object)"
      ]
     },
     "execution_count": 105,
     "metadata": {},
     "output_type": "execute_result"
    }
   ],
   "source": [
    "nine_feature_point =[]\n",
    "for i in range(0, len(first_frame)):   \n",
    "    point1 = first_frame[i][42][0]\n",
    "    point2 = first_frame[i][45][0]\n",
    "    nine_feature_point.append(np.abs(point2-point1))\n",
    "nine_feature_point = np.asarray( nine_feature_point, dtype=object)\n",
    "nine_feature_point\n",
    "#43 46"
   ]
  },
  {
   "cell_type": "code",
   "execution_count": 106,
   "metadata": {},
   "outputs": [
    {
     "data": {
      "text/plain": [
       "array([64.08407000000005, 69.0387875815872, 57.89313067857677,\n",
       "       58.39435098945967, 60.381853131076184, 61.79551457054674,\n",
       "       62.55758220384553, 66.16149085020032, 65.2854022676886,\n",
       "       65.29136682445056, 72.11068371028642, 73.00182484696478,\n",
       "       73.34269072436985, 62.54920126931296, 72.7448727597361,\n",
       "       71.83421172117352, 73.01761366451797, 76.23964466099551,\n",
       "       64.78566986595087, 79.18520476343798, 63.11829132970223,\n",
       "       62.473149589015065, 67.56756475285789, 59.775290553876005,\n",
       "       69.58330126731238, 70.244851149917, 61.252089339260976,\n",
       "       61.38432329073771, 65.12398193350617, 56.96495156453659,\n",
       "       57.02200837829491, 56.30197282071396], dtype=object)"
      ]
     },
     "execution_count": 106,
     "metadata": {},
     "output_type": "execute_result"
    }
   ],
   "source": [
    "ten_feature_point =[]\n",
    "for i in range(0, len(first_frame)):   \n",
    "    point1 = first_frame[i][39][0]\n",
    "    point2 = first_frame[i][42][0]\n",
    "    ten_feature_point.append(np.abs(point2-point1))\n",
    "ten_feature_point = np.asarray( ten_feature_point, dtype=object)\n",
    "ten_feature_point\n",
    "#40-43"
   ]
  },
  {
   "cell_type": "code",
   "execution_count": 107,
   "metadata": {},
   "outputs": [
    {
     "data": {
      "text/plain": [
       "array([52.18889999999999, 55.915744640280195, 63.32698610694678,\n",
       "       62.4739833922016, 60.65258153265182, 59.57380521169182,\n",
       "       51.332020492121615, 50.868630026932124, 50.551717063240346,\n",
       "       51.3742337307541, 49.54191420071959, 51.19990126036868,\n",
       "       46.21716709233863, 53.94509725442845, 52.85369154861485,\n",
       "       53.42207080220635, 51.7464166991619, 48.5580990137218,\n",
       "       57.0563181976089, 39.23529453778866, 56.52320097398086,\n",
       "       54.45425953393266, 52.897028429105376, 55.99843736010513,\n",
       "       50.15625551773019, 49.59846114650054, 53.94488597509053,\n",
       "       49.725321997833134, 50.64460310392565, 57.188665768677424,\n",
       "       55.37221072373478, 56.912874115945385], dtype=object)"
      ]
     },
     "execution_count": 107,
     "metadata": {},
     "output_type": "execute_result"
    }
   ],
   "source": [
    "eleven_feature_point =[]\n",
    "for i in range(0, len(first_frame)):   \n",
    "    point1 = first_frame[i][36][0]\n",
    "    point2 = first_frame[i][39][0]\n",
    "    eleven_feature_point.append(np.abs(point2-point1))\n",
    "eleven_feature_point = np.asarray( eleven_feature_point, dtype=object)\n",
    "eleven_feature_point\n",
    "#37 40"
   ]
  },
  {
   "cell_type": "code",
   "execution_count": null,
   "metadata": {},
   "outputs": [],
   "source": []
  },
  {
   "cell_type": "code",
   "execution_count": 108,
   "metadata": {},
   "outputs": [],
   "source": [
    "#estos son vertical distance"
   ]
  },
  {
   "cell_type": "code",
   "execution_count": 109,
   "metadata": {},
   "outputs": [
    {
     "data": {
      "text/plain": [
       "array([83.0327, 85.76934738400169, 85.48115401492896, 86.10337706307612,\n",
       "       88.03162148996998, 86.80522269337158, 98.0369512275368,\n",
       "       98.01653969550838, 94.62356374299122, 93.81460670292697,\n",
       "       88.63696214083373, 87.05347687789083, 91.15053787312948,\n",
       "       86.99064742327485, 77.10333528267722, 78.05990763376462,\n",
       "       83.07630108806521, 76.70150559364427, 97.57755122298624,\n",
       "       89.52248005920802, 115.49833592606407, 111.19423864679774,\n",
       "       78.88970643373906, 87.0626557616323, 94.94206987656182,\n",
       "       95.26008254304284, 88.57003067680006, 80.67011601668693,\n",
       "       85.51046045518001, 107.28457981991673, 94.86081900634449,\n",
       "       91.63092289180426], dtype=object)"
      ]
     },
     "execution_count": 109,
     "metadata": {},
     "output_type": "execute_result"
    }
   ],
   "source": [
    "twelve_feature_point =[]\n",
    "for i in range(0, len(first_frame)):   \n",
    "    point1 = first_frame[i][27][1]\n",
    "    point2 = first_frame[i][33][1]\n",
    "    twelve_feature_point.append(np.abs(point2-point1))\n",
    "twelve_feature_point = np.asarray( twelve_feature_point, dtype=object)\n",
    "twelve_feature_point\n",
    "#28-34"
   ]
  },
  {
   "cell_type": "code",
   "execution_count": 110,
   "metadata": {},
   "outputs": [
    {
     "data": {
      "text/plain": [
       "array([141.28199999999993, 123.04173222419792, 118.47500064153922,\n",
       "       119.97671096394635, 117.92758752923135, 117.8612955503342,\n",
       "       139.5675418425962, 134.97222620801284, 138.56121472444033,\n",
       "       136.6065141973694, 127.4596544743568, 130.03698628052342,\n",
       "       133.4950101542865, 129.48477560663684, 126.02730003868709,\n",
       "       125.26226084425923, 123.15425890911803, 130.53958243143387,\n",
       "       121.71355615559418, 129.81116355306852, 121.38209056111009,\n",
       "       124.63091144367047, 141.21956761129405, 140.19487078186557,\n",
       "       124.02886487070464, 124.55578146708388, 133.4963251737601,\n",
       "       140.9756891157233, 133.04906063233045, 122.36646491708228,\n",
       "       130.16571107973493, 132.4607857868849], dtype=object)"
      ]
     },
     "execution_count": 110,
     "metadata": {},
     "output_type": "execute_result"
    }
   ],
   "source": [
    "thirteen_feature_point =[]\n",
    "for i in range(0, len(first_frame)):   \n",
    "    point1 = first_frame[i][33][1]\n",
    "    point2 = first_frame[i][8][1]\n",
    "    thirteen_feature_point.append(np.abs(point2-point1))\n",
    "thirteen_feature_point = np.asarray( thirteen_feature_point, dtype=object)\n",
    "thirteen_feature_point\n",
    "#34 9"
   ]
  },
  {
   "cell_type": "code",
   "execution_count": 111,
   "metadata": {},
   "outputs": [
    {
     "data": {
      "text/plain": [
       "array([26.637024999999994, 25.465900943580863, 26.055596495734818,\n",
       "       26.37547041903065, 22.613093353389445, 24.129048910708377,\n",
       "       25.603329634289167, 25.52849672608599, 25.908329330262205,\n",
       "       26.203510611930255, 31.465384458334455, 32.09005767374316,\n",
       "       33.20888063032038, 32.4630630679691, 38.29181206700022,\n",
       "       36.42980539312359, 37.128960414499375, 37.98584457460112,\n",
       "       36.47922745728289, 45.236965218131445, 41.41732357316147,\n",
       "       30.803926798188087, 30.83640616916807, 33.597091696345615,\n",
       "       30.662459825401356, 30.239858526607236, 32.12956906411807,\n",
       "       35.76510076283637, 33.14766719943904, 33.678908193758986,\n",
       "       27.277432205914153, 30.525231686372166], dtype=object)"
      ]
     },
     "execution_count": 111,
     "metadata": {},
     "output_type": "execute_result"
    }
   ],
   "source": [
    "#asumimos la mean horizontalmente va a dar la distancia horizontal del punto intermedio\n",
    "fourteen_feature_point = []\n",
    "for i in range(0, len(first_frame)):   \n",
    "    point1a = first_frame[i][38][1]\n",
    "    point2a = first_frame[i][20][1]        \n",
    "    point1b = first_frame[i][43][1]\n",
    "    point2b = first_frame[i][23][1]\n",
    "    point1 = (point1a + point1b)/2#mean\n",
    "    point2 = (point2a + point2b)/2\n",
    "    fourteen_feature_point.append(np.abs(point2-point1))\n",
    "fourteen_feature_point = np.asarray( fourteen_feature_point, dtype=object)\n",
    "fourteen_feature_point\n",
    "#distancia de ños means de39-44 y 21-24\n"
   ]
  },
  {
   "cell_type": "code",
   "execution_count": 112,
   "metadata": {},
   "outputs": [
    {
     "data": {
      "text/plain": [
       "array([16.578259999999993, 18.229391784833204, 19.041370162766263,\n",
       "       19.683158804479035, 22.128521633502025, 18.52560248681447,\n",
       "       15.799262516590211, 15.12984629713484, 15.142924798576168,\n",
       "       15.692360087425975, 21.44372832891076, 22.00673866597341,\n",
       "       21.619752628376638, 20.654282793961514, 17.265183825724527,\n",
       "       17.653124632339043, 17.720780179873486, 17.304855110542675,\n",
       "       17.060582684730086, 2.63416423534197, 6.0102989215329785,\n",
       "       17.053139266369982, 20.36737998405053, 17.721579513137733,\n",
       "       17.026568663794677, 16.48153538411828, 19.729836540107726,\n",
       "       15.072050561377914, 17.345190393630077, 16.462330940279223,\n",
       "       18.429583494322152, 18.772548080408143], dtype=object)"
      ]
     },
     "execution_count": 112,
     "metadata": {},
     "output_type": "execute_result"
    }
   ],
   "source": [
    "#it says distance, I asumme is vertical pnly, but could be actual difference in witch case we use np.align\n",
    "#creo que solo la vertical tiene + sentido para el height\n",
    "fifteen_feature_point = []\n",
    "for i in range(0, len(first_frame)):   \n",
    "    point1 = first_frame[i][37][1]\n",
    "    point2 = first_frame[i][41][1]        \n",
    "    point3 = first_frame[i][38][1]\n",
    "    point4 = first_frame[i][40][1]     \n",
    "    point5 = first_frame[i][43][1]\n",
    "    point6 = first_frame[i][47][1]        \n",
    "    point7 = first_frame[i][44][1]\n",
    "    point8 = first_frame[i][46][1]\n",
    "    point_pair1 = np.abs(point2-point1)\n",
    "    point_pair2 = np.abs(point4-point3)\n",
    "    point_pair3 = np.abs(point6-point5)\n",
    "    point_pair4 = np.abs(point8-point7)\n",
    "    fifteen_point = np.mean(np.array([point_pair1, point_pair2, point_pair3, point_pair4]))\n",
    "    fifteen_feature_point.append(fifteen_point)\n",
    "fifteen_feature_point = np.asarray( fifteen_feature_point, dtype=object)\n",
    "fifteen_feature_point\n",
    "#mean de las distancias de par 38-42, 39-41, 44-48, 45-47"
   ]
  },
  {
   "cell_type": "code",
   "execution_count": 113,
   "metadata": {},
   "outputs": [
    {
     "data": {
      "text/plain": [
       "array([89.58067999999986, 59.47057230992084, 51.94735993318983,\n",
       "       52.597220259436654, 52.46493723253087, 51.03644534372046,\n",
       "       62.313728830579805, 60.70723383071527, 64.09394056852989,\n",
       "       63.6818672727926, 66.25198958417798, 64.0943954959331,\n",
       "       63.011832981532166, 59.62871194892841, 57.415029667702015,\n",
       "       59.76510469984646, 56.723586555570364, 59.549026811995816,\n",
       "       51.42180157135857, 59.62848559749534, 56.66438189290602,\n",
       "       51.340281667985835, 68.1080168788339, 63.45458415361219,\n",
       "       50.17566691944273, 49.09601955219648, 53.04417931516571,\n",
       "       60.845348159267644, 53.29891077095442, 46.836076817434446,\n",
       "       55.82262318304339, 53.846258587062664], dtype=object)"
      ]
     },
     "execution_count": 113,
     "metadata": {},
     "output_type": "execute_result"
    }
   ],
   "source": [
    "sixteen_feature_point =[]\n",
    "for i in range(0, len(first_frame)):   \n",
    "    point1 = first_frame[i][33][1]\n",
    "    point2 = first_frame[i][56][1]\n",
    "    sixteen_feature_point.append(np.abs(point2-point1))\n",
    "sixteen_feature_point = np.asarray( sixteen_feature_point, dtype=object)\n",
    "sixteen_feature_point\n",
    "#34-57"
   ]
  },
  {
   "cell_type": "code",
   "execution_count": 114,
   "metadata": {},
   "outputs": [
    {
     "data": {
      "text/plain": [
       "array([80.20027999999996, 78.40948405664307, 77.28912386490742,\n",
       "       81.24666749029831, 78.0122405996396, 77.41272273233585,\n",
       "       101.21710474113479, 96.73520599675436, 96.73535523572059,\n",
       "       95.74189688604133, 78.48187357929066, 80.91942963956245,\n",
       "       86.98807695140118, 87.24725896324668, 82.98657285865494,\n",
       "       80.56645487054061, 81.666755788601, 85.46914946984924,\n",
       "       81.87414524255144, 89.91514242365855, 85.58484114932264,\n",
       "       90.18773792847298, 94.3766889668621, 96.57837151418602,\n",
       "       86.36148094817298, 86.0337495198857, 96.50950106400325,\n",
       "       95.23623430630977, 89.30094163051922, 87.80231137442746,\n",
       "       91.00112436274918, 93.16715608595848], dtype=object)"
      ]
     },
     "execution_count": 114,
     "metadata": {},
     "output_type": "execute_result"
    }
   ],
   "source": [
    "#no tenemos chin, usamos desde la boca hasta el fondo\n",
    "seventeen_feature_point =[]\n",
    "for i in range(0, len(first_frame)):   \n",
    "    point1 = first_frame[i][67][1]\n",
    "    point2 = first_frame[i][8][1]\n",
    "    seventeen_feature_point.append(np.abs(point2-point1))\n",
    "seventeen_feature_point = np.asarray( seventeen_feature_point, dtype=object)\n",
    "seventeen_feature_point\n",
    "\n",
    "#68-9\n",
    "\n",
    "#HAY QUE CAMBIAR TODOS LOS INDICES"
   ]
  },
  {
   "cell_type": "code",
   "execution_count": 115,
   "metadata": {},
   "outputs": [],
   "source": [
    "#Ahora vienen los feature points que involucran shape y textura\n",
    "#el 18 es el area del convex hull de los labios. Usamos los landmarks que lo limitan para sacarlo"
   ]
  },
  {
   "cell_type": "code",
   "execution_count": 116,
   "metadata": {},
   "outputs": [
    {
     "data": {
      "text/plain": [
       "array([19154.095039644442, 18987.33256266523, 19380.209287033074,\n",
       "       19147.77602792295, 19332.92083299979, 19465.924533134163,\n",
       "       18010.351908991703, 17973.546893190447, 18135.206825341236,\n",
       "       18204.34849814119, 17353.030760609392, 16890.441883795167,\n",
       "       16870.931021225984, 17901.057588550466, 17250.039020213284,\n",
       "       17900.18819172085, 17934.66496788048, 16934.038605947495,\n",
       "       17653.523366740836, 15788.287975407427, 17158.06821799004,\n",
       "       17824.221639872998, 17863.0842593003, 17188.052477862704,\n",
       "       17446.528966459675, 17149.445309808787, 16866.36948336876,\n",
       "       17096.883365540005, 18036.14961990345, 18090.801829568973,\n",
       "       17781.893236567626, 17015.90562824241], dtype=object)"
      ]
     },
     "execution_count": 116,
     "metadata": {},
     "output_type": "execute_result"
    }
   ],
   "source": [
    "from scipy.spatial import ConvexHull, convex_hull_plot_2d\n",
    "import numpy as np\n",
    "eigtheen_feature_point = []\n",
    "for i in range(0, len(first_frame)):   \n",
    "    points = first_frame[i][39:59]\n",
    "    hull = ConvexHull(points)\n",
    "    eigtheen_feature_point.append(hull.volume)#cause is a 2d array volume == area\n",
    "eigtheen_feature_point = np.asarray( eigtheen_feature_point, dtype=object)\n",
    "eigtheen_feature_point\n",
    "\n",
    "#40 a 60"
   ]
  },
  {
   "cell_type": "code",
   "execution_count": null,
   "metadata": {},
   "outputs": [],
   "source": [
    "nineteen_feature_point<- Deberia ser average curvatura de cheeks\n",
    "\n",
    "twenty_feature_point <- Deberia ser x co-ordinate of center of mass where mass rep-\n",
    "resents curvature coefficient of cheeks area\n",
    "\n",
    "twentyone_feature_point <- Deberia ser y co-ordinate of center of mass where mass rep-\n",
    "resents curvature coefficient of cheeks area"
   ]
  },
  {
   "cell_type": "code",
   "execution_count": null,
   "metadata": {},
   "outputs": [],
   "source": []
  },
  {
   "cell_type": "markdown",
   "metadata": {},
   "source": [
    "### Vamos a empezar denuevo"
   ]
  },
  {
   "cell_type": "markdown",
   "metadata": {},
   "source": []
  },
  {
   "cell_type": "markdown",
   "metadata": {},
   "source": [
    "### "
   ]
  },
  {
   "cell_type": "code",
   "execution_count": null,
   "metadata": {},
   "outputs": [],
   "source": []
  },
  {
   "cell_type": "code",
   "execution_count": 121,
   "metadata": {},
   "outputs": [],
   "source": [
    "#VA A HABER QUE RASTERIZAR TAL VEZ.POR AHORA UN RECTANGULO COMUN\n",
    "import numpy as np\n",
    "'''\n",
    "SHAPES PARA MAS ADELANTE\n",
    "left_cheek = []\n",
    "left_cheek.append(first_frame[0][1]\n",
    ")\n",
    "left_cheek.append(first_frame[0][39]\n",
    ")\n",
    "left_cheek.append(first_frame[0][28]\n",
    ")\n",
    "left_cheek.append(first_frame[0][48]\n",
    ")\n",
    "left_cheek.append(first_frame[0][4]\n",
    ")\n",
    "left_cheek.append(first_frame[0][3]\n",
    ")\n",
    "left_cheek.append(first_frame[0][2]\n",
    ")\n",
    "left_cheek = np.asarray(left_cheek)\n",
    "print(left_cheek)\n",
    "#left cheek\n",
    "\n",
    "\n",
    "'''\n",
    "\n",
    "\n",
    "##Para sacar el coefficiente de las mejillas (cheeks), usamos un rectangulo\n",
    "##para cada una, basada en los 68 landmarks.\n",
    "#Rectangula actual\n",
    "left_cheek_x0 = int(first_frame[0][1][0])#x de landmark 2\n",
    "left_cheek_x1 = int(first_frame[0][31][0])#\n",
    "left_cheek_y0 = int(first_frame[0][28][1])\n",
    "left_cheek_y1 = int(first_frame[0][2][1])\n",
    "\n",
    "right_cheek_x0 = int(first_frame[0][35][0])#x de landmark 2\n",
    "right_cheek_x1 = int(first_frame[0][15][0])#\n",
    "right_cheek_y0 = int(first_frame[0][28][1])\n",
    "right_cheek_y1 = int(first_frame[0][14][1])\n",
    "\n",
    "\n",
    "#cargamos la imagen y separamos las cheeks, las apsamos a grey\n",
    "face_example = '../ck+warped/warped_image_procustres_0.png'\n",
    "\n",
    "img= cv2.imread(face_example)\n",
    "#ROI = image[y1:y2, x1:x2]\n",
    "#243 249 258 251\n",
    "imgleft = img[left_cheek_y0: left_cheek_y1,left_cheek_x0:left_cheek_x1 ]\n",
    "imgright = img[right_cheek_y0: right_cheek_y1,right_cheek_x0:right_cheek_x1 ]\n",
    "\n",
    "#imageRGB = cv2.cvtColor(imgleft, cv2.COLOR_BGR2RGB)\n",
    "\n",
    "\n",
    "imgleft = cv2.cvtColor(imgleft, cv2.COLOR_BGR2GRAY)\n",
    "imgright =cv2.cvtColor(imgright, cv2.COLOR_BGR2GRAY)\n",
    "\n",
    "cv2.imshow(\"Face landmark result\", imgright)\n",
    "\n",
    "# Pause screen to wait key from user to see result\n",
    "cv2.waitKey(0)\n",
    "cv2.destroyAllWindows()\n"
   ]
  },
  {
   "cell_type": "code",
   "execution_count": 120,
   "metadata": {},
   "outputs": [],
   "source": []
  },
  {
   "cell_type": "code",
   "execution_count": 138,
   "metadata": {},
   "outputs": [],
   "source": [
    "\n"
   ]
  },
  {
   "cell_type": "code",
   "execution_count": 122,
   "metadata": {},
   "outputs": [],
   "source": [
    "      #ESTA ES CON UNA SOLA      \n",
    "\n",
    "    \n",
    "def cheeks_function(imgleft, imgright, left_cheek_y0,left_cheek_x0,right_cheek_y0,right_cheek_x0):\n",
    "    #usamos sobel para sacar las derivadas\n",
    "    edgesxleft = cv2.Sobel(imgleft, -1, dx=1, dy=0, ksize=1)\n",
    "    edgesyleft = cv2.Sobel(imgleft, -1, dx=0, dy=1, ksize=1)\n",
    "\n",
    "    outputleft = np.zeros((len(edgesxleft),len(edgesxleft[0])))\n",
    "\n",
    "    for i in range(0, len(edgesxleft)):\n",
    "     for j in range(0, len(edgesxleft[0])):      \n",
    "            outputleft[i][j] = math.sqrt(pow(edgesxleft[i][j],2) + pow(edgesyleft[i][j],2)+ pow(-1,2)) #raiz de suma de cuadrados y -1 al cuadradp\n",
    "\n",
    "    angleleft = np.zeros((len(edgesxleft),len(edgesxleft[0]),3))  \n",
    "    \n",
    "    for i in range(0, len(edgesxleft)):\n",
    "     for j in range(0, len(edgesxleft[0])):\n",
    "            pos =np.array([edgesxleft[i][j], edgesyleft[i][j], -1]/outputleft[i][j])\n",
    "            angleleft[i][j] = pos\n",
    "            \n",
    "    #lo mismo para la otra mejilla\n",
    "\n",
    "    edgesxright = cv2.Sobel(imgright, -1, dx=1, dy=0, ksize=1)\n",
    "    edgesyright = cv2.Sobel(imgright, -1, dx=0, dy=1, ksize=1)\n",
    "\n",
    "    outputright = np.zeros((len(edgesxright),len(edgesxright[0])))\n",
    "\n",
    "    for i in range(0, len(edgesxright)):\n",
    "     for j in range(0, len(edgesxright[0])):       \n",
    "            outputright[i][j] = math.sqrt(pow(edgesxright[i][j],2) + pow(edgesyright[i][j],2)+ pow(-1,2))\n",
    "\n",
    "    angleright = np.zeros((len(edgesxright),len(edgesxright[0]),3))  \n",
    "    for i in range(0, len(edgesxright)):\n",
    "     for j in range(0, len(edgesxright[0])):\n",
    "            pos =np.array([edgesxright[i][j], edgesyright[i][j], -1]/outputright[i][j])\n",
    "            angleright[i][j] = pos\n",
    "            \n",
    "            \n",
    "    beta = np.array([0,0,1])    \n",
    "\n",
    "\n",
    "    #dados los angles, sacamos los coefficientes\n",
    "        \n",
    "    coffleft = np.zeros((len(edgesxleft),len(edgesxleft[0])))\n",
    "    for i in range(0, len(edgesxleft)):\n",
    "     for j in range(0, len(edgesxleft[0])):\n",
    "            coffleft[i][j] = 1- np.dot(angleleft[i][j],beta)\n",
    "\n",
    "    coffright = np.zeros((len(edgesxright),len(edgesxright[0])))\n",
    "    for i in range(0, len(edgesxright)):\n",
    "     for j in range(0, len(edgesxright[0])):\n",
    "            coffright[i][j] = 1 - np.dot(angleright[i][j],beta)\n",
    "    \n",
    "    coff = np.concatenate((coffleft.flatten(), coffright.flatten()))\n",
    "    coff_sum = coff.sum() #lo usamos para center of mass\n",
    "    coff_average = coff.mean()#es el 19\n",
    "    \n",
    "    partial_sumxleft = []\n",
    "    for i in range(0, len(edgesxleft)):#losy0debencambiarse arriba\n",
    "     partial_sumxleft.append(coff[i]*(left_cheek_y0+i))\n",
    "\n",
    "    partial_sumyleft = []\n",
    "    for i in range(0, len(edgesxleft[0])):#losy0debencambiarse arriba\n",
    "     partial_sumyleft.append(coff[len(edgesxleft)+i]*(left_cheek_x0+i))\n",
    "    \n",
    "\n",
    "    partial_sumxright = []\n",
    "    for i in range(0, len(edgesxright)):#losy0debencambiarse arriba\n",
    "     partial_sumxright.append(coff[i+len(edgesxleft)*len(edgesxleft[0])]*(right_cheek_y0+i))\n",
    "\n",
    "    partial_sumyright = []\n",
    "    for i in range(0, len(edgesxright[0])):#losy0debencambiarse arriba\n",
    "     partial_sumyright.append(coff[len(edgesxleft)*len(edgesxleft[0])+len(edgesxright)+i]*(right_cheek_x0+i))\n",
    "\n",
    "    partial_sumx = np.concatenate((np.asarray(partial_sumxleft),np.asarray(partial_sumxright)))    \n",
    "    partial_sumy = np.concatenate((np.asarray(partial_sumyleft),np.asarray(partial_sumyright)))    \n",
    "\n",
    "        \n",
    "\n",
    "    #HAY QUE PREGUNTAR ESTO\n",
    "    center_of_massx = np.asarray(partial_sumx).sum()/coff_sum\n",
    "    center_of_massy = np.asarray(partial_sumy).sum()/coff_sum\n",
    "\n",
    "      \n",
    "    return coff_average, center_of_massx, center_of_massy  \n",
    "\n",
    "        \n",
    "\n",
    "\n",
    "\n"
   ]
  },
  {
   "cell_type": "code",
   "execution_count": 130,
   "metadata": {},
   "outputs": [
    {
     "name": "stdout",
     "output_type": "stream",
     "text": [
      "../ck+warped/warped_image_procustres_0.png\n",
      "../ck+warped/warped_image_procustres_16.png\n",
      "../ck+warped/warped_image_procustres_38.png\n",
      "../ck+warped/warped_image_procustres_52.png\n",
      "../ck+warped/warped_image_procustres_73.png\n",
      "../ck+warped/warped_image_procustres_93.png\n",
      "../ck+warped/warped_image_procustres_106.png\n",
      "../ck+warped/warped_image_procustres_125.png\n",
      "../ck+warped/warped_image_procustres_141.png\n",
      "../ck+warped/warped_image_procustres_161.png\n",
      "../ck+warped/warped_image_procustres_178.png\n",
      "../ck+warped/warped_image_procustres_192.png\n",
      "../ck+warped/warped_image_procustres_215.png\n",
      "../ck+warped/warped_image_procustres_237.png\n",
      "../ck+warped/warped_image_procustres_248.png\n",
      "../ck+warped/warped_image_procustres_261.png\n",
      "../ck+warped/warped_image_procustres_281.png\n",
      "../ck+warped/warped_image_procustres_309.png\n",
      "../ck+warped/warped_image_procustres_330.png\n",
      "../ck+warped/warped_image_procustres_344.png\n",
      "../ck+warped/warped_image_procustres_362.png\n",
      "../ck+warped/warped_image_procustres_375.png\n",
      "../ck+warped/warped_image_procustres_384.png\n",
      "../ck+warped/warped_image_procustres_399.png\n",
      "../ck+warped/warped_image_procustres_420.png\n",
      "../ck+warped/warped_image_procustres_430.png\n",
      "../ck+warped/warped_image_procustres_442.png\n",
      "../ck+warped/warped_image_procustres_459.png\n",
      "../ck+warped/warped_image_procustres_476.png\n",
      "../ck+warped/warped_image_procustres_492.png\n",
      "../ck+warped/warped_image_procustres_510.png\n",
      "../ck+warped/warped_image_procustres_528.png\n"
     ]
    }
   ],
   "source": [
    "import math\n",
    "\n",
    "\n",
    "nineteen_feature = []\n",
    "twenty_feature = []\n",
    "twentyone_feature = []\n",
    "\n",
    "\n",
    "for i in range(0, len(first_images)): \n",
    "    #Rectangulo actual\n",
    "    \n",
    "    left_cheek_x0 = int(first_frame[0][1][0])#x de landmark 2\n",
    "    left_cheek_x1 = int(first_frame[0][31][0])#\n",
    "    left_cheek_y0 = int(first_frame[0][28][1])\n",
    "    left_cheek_y1 = int(first_frame[0][2][1])\n",
    "\n",
    "    right_cheek_x0 = int(first_frame[0][35][0])#x de landmark 2\n",
    "    right_cheek_x1 = int(first_frame[0][15][0])#\n",
    "    right_cheek_y0 = int(first_frame[0][28][1])\n",
    "    right_cheek_y1 = int(first_frame[0][14][1])\n",
    "\n",
    "    print(first_images[i])\n",
    "    img = cv2.imread(first_images[i])\n",
    "    \n",
    "    imgleft = img[left_cheek_y0:left_cheek_y1,left_cheek_x0:left_cheek_x1]\n",
    "    #imgleft = img[left_cheek_y1:left_cheek_y0,left_cheek_x1:left_cheek_x0,:]\n",
    "\n",
    "    imgright = img[right_cheek_y0:right_cheek_y1,right_cheek_x0:right_cheek_x1]#[,:]\n",
    "\n",
    "    #imageRGB = cv2.cvtColor(imgleft, cv2.COLOR_BGR2RGB)\n",
    "\n",
    "    imgleft = cv2.cvtColor(imgleft, cv2.COLOR_BGR2GRAY)\n",
    "    imgright =cv2.cvtColor(imgright, cv2.COLOR_BGR2GRAY)\n",
    "    \n",
    "    \n",
    "    \n",
    "    \n",
    "    nineteen, twenty, twentyone = cheeks_function(imgleft, imgright, left_cheek_y0,left_cheek_x0,right_cheek_y0,right_cheek_x0)\n",
    "    nineteen_feature.append(nineteen)\n",
    "    twenty_feature.append(twenty)\n",
    "    twentyone_feature.append(twentyone)"
   ]
  },
  {
   "cell_type": "code",
   "execution_count": 31,
   "metadata": {},
   "outputs": [
    {
     "data": {
      "text/plain": [
       "array([[ 1,  2,  3],\n",
       "       [ 5,  6,  7],\n",
       "       [ 8,  9, 10],\n",
       "       [11, 12, 13]])"
      ]
     },
     "execution_count": 31,
     "metadata": {},
     "output_type": "execute_result"
    }
   ],
   "source": [
    "jo=np.array([[1,2,3],[5,6,7]])\n",
    "no=np.array([[8,9,10],[11,12,13]])\n",
    "ve= np.vstack((jo,no))\n",
    "ve"
   ]
  },
  {
   "cell_type": "markdown",
   "metadata": {},
   "source": [
    "## YA obtenidos los features, los concatenamos a cada frame"
   ]
  },
  {
   "cell_type": "code",
   "execution_count": 131,
   "metadata": {},
   "outputs": [],
   "source": [
    "\n",
    "structure_vector = first_feature_point\n",
    "structure_vector = np.vstack((structure_vector, second_feature_point))\n",
    "structure_vector = np.vstack((structure_vector, third_feature_point))\n",
    "structure_vector = np.vstack((structure_vector, fourth_feature_point))\n",
    "structure_vector = np.vstack((structure_vector, five_feature_point))\n",
    "structure_vector = np.vstack((structure_vector, six_feature_point))\n",
    "structure_vector = np.vstack((structure_vector, seven_feature_point))\n",
    "structure_vector = np.vstack((structure_vector, eight_feature_point))\n",
    "structure_vector = np.vstack((structure_vector, nine_feature_point))\n",
    "structure_vector = np.vstack((structure_vector, ten_feature_point))\n",
    "structure_vector = np.vstack((structure_vector, eleven_feature_point))\n",
    "structure_vector = np.vstack((structure_vector, twelve_feature_point))\n",
    "structure_vector = np.vstack((structure_vector, thirteen_feature_point))\n",
    "structure_vector = np.vstack((structure_vector, fourteen_feature_point))\n",
    "structure_vector = np.vstack((structure_vector, fifteen_feature_point))\n",
    "structure_vector = np.vstack((structure_vector, sixteen_feature_point))\n",
    "structure_vector = np.vstack((structure_vector, seventeen_feature_point))\n",
    "structure_vector = np.vstack((structure_vector, eigtheen_feature_point))\n",
    "structure_vector = np.vstack((structure_vector, nineteen_feature))\n",
    "structure_vector = np.vstack((structure_vector, twenty_feature))\n",
    "structure_vector = np.vstack((structure_vector, twentyone_feature))\n"
   ]
  },
  {
   "cell_type": "code",
   "execution_count": 132,
   "metadata": {},
   "outputs": [
    {
     "data": {
      "text/plain": [
       "(21, 32)"
      ]
     },
     "execution_count": 132,
     "metadata": {},
     "output_type": "execute_result"
    }
   ],
   "source": [
    "structure_vector.shape #cada columna es una instancia"
   ]
  },
  {
   "cell_type": "markdown",
   "metadata": {},
   "source": [
    "### AHORA HAY QUE CONCATENAR LAS EMOCIONES Y PCA "
   ]
  },
  {
   "cell_type": "markdown",
   "metadata": {},
   "source": [
    "## PRIMERO HACEMOS EL CALCULO DE EMOCION"
   ]
  },
  {
   "cell_type": "code",
   "execution_count": 136,
   "metadata": {},
   "outputs": [
    {
     "data": {
      "text/html": [
       "<div>\n",
       "<style scoped>\n",
       "    .dataframe tbody tr th:only-of-type {\n",
       "        vertical-align: middle;\n",
       "    }\n",
       "\n",
       "    .dataframe tbody tr th {\n",
       "        vertical-align: top;\n",
       "    }\n",
       "\n",
       "    .dataframe thead th {\n",
       "        text-align: right;\n",
       "    }\n",
       "</style>\n",
       "<table border=\"1\" class=\"dataframe\">\n",
       "  <thead>\n",
       "    <tr style=\"text-align: right;\">\n",
       "      <th></th>\n",
       "      <th>0</th>\n",
       "    </tr>\n",
       "  </thead>\n",
       "  <tbody>\n",
       "    <tr>\n",
       "      <th>0</th>\n",
       "      <td>16</td>\n",
       "    </tr>\n",
       "    <tr>\n",
       "      <th>1</th>\n",
       "      <td>22</td>\n",
       "    </tr>\n",
       "    <tr>\n",
       "      <th>2</th>\n",
       "      <td>14</td>\n",
       "    </tr>\n",
       "    <tr>\n",
       "      <th>3</th>\n",
       "      <td>21</td>\n",
       "    </tr>\n",
       "    <tr>\n",
       "      <th>4</th>\n",
       "      <td>20</td>\n",
       "    </tr>\n",
       "    <tr>\n",
       "      <th>5</th>\n",
       "      <td>13</td>\n",
       "    </tr>\n",
       "    <tr>\n",
       "      <th>6</th>\n",
       "      <td>19</td>\n",
       "    </tr>\n",
       "    <tr>\n",
       "      <th>7</th>\n",
       "      <td>16</td>\n",
       "    </tr>\n",
       "    <tr>\n",
       "      <th>8</th>\n",
       "      <td>20</td>\n",
       "    </tr>\n",
       "    <tr>\n",
       "      <th>9</th>\n",
       "      <td>17</td>\n",
       "    </tr>\n",
       "    <tr>\n",
       "      <th>10</th>\n",
       "      <td>14</td>\n",
       "    </tr>\n",
       "    <tr>\n",
       "      <th>11</th>\n",
       "      <td>23</td>\n",
       "    </tr>\n",
       "    <tr>\n",
       "      <th>12</th>\n",
       "      <td>22</td>\n",
       "    </tr>\n",
       "    <tr>\n",
       "      <th>13</th>\n",
       "      <td>11</td>\n",
       "    </tr>\n",
       "    <tr>\n",
       "      <th>14</th>\n",
       "      <td>13</td>\n",
       "    </tr>\n",
       "    <tr>\n",
       "      <th>15</th>\n",
       "      <td>20</td>\n",
       "    </tr>\n",
       "    <tr>\n",
       "      <th>16</th>\n",
       "      <td>28</td>\n",
       "    </tr>\n",
       "    <tr>\n",
       "      <th>17</th>\n",
       "      <td>21</td>\n",
       "    </tr>\n",
       "    <tr>\n",
       "      <th>18</th>\n",
       "      <td>14</td>\n",
       "    </tr>\n",
       "    <tr>\n",
       "      <th>19</th>\n",
       "      <td>18</td>\n",
       "    </tr>\n",
       "    <tr>\n",
       "      <th>20</th>\n",
       "      <td>13</td>\n",
       "    </tr>\n",
       "    <tr>\n",
       "      <th>21</th>\n",
       "      <td>9</td>\n",
       "    </tr>\n",
       "    <tr>\n",
       "      <th>22</th>\n",
       "      <td>15</td>\n",
       "    </tr>\n",
       "    <tr>\n",
       "      <th>23</th>\n",
       "      <td>21</td>\n",
       "    </tr>\n",
       "    <tr>\n",
       "      <th>24</th>\n",
       "      <td>10</td>\n",
       "    </tr>\n",
       "    <tr>\n",
       "      <th>25</th>\n",
       "      <td>12</td>\n",
       "    </tr>\n",
       "    <tr>\n",
       "      <th>26</th>\n",
       "      <td>17</td>\n",
       "    </tr>\n",
       "    <tr>\n",
       "      <th>27</th>\n",
       "      <td>17</td>\n",
       "    </tr>\n",
       "    <tr>\n",
       "      <th>28</th>\n",
       "      <td>16</td>\n",
       "    </tr>\n",
       "    <tr>\n",
       "      <th>29</th>\n",
       "      <td>18</td>\n",
       "    </tr>\n",
       "    <tr>\n",
       "      <th>30</th>\n",
       "      <td>18</td>\n",
       "    </tr>\n",
       "    <tr>\n",
       "      <th>31</th>\n",
       "      <td>55</td>\n",
       "    </tr>\n",
       "  </tbody>\n",
       "</table>\n",
       "</div>"
      ],
      "text/plain": [
       "     0\n",
       "0   16\n",
       "1   22\n",
       "2   14\n",
       "3   21\n",
       "4   20\n",
       "5   13\n",
       "6   19\n",
       "7   16\n",
       "8   20\n",
       "9   17\n",
       "10  14\n",
       "11  23\n",
       "12  22\n",
       "13  11\n",
       "14  13\n",
       "15  20\n",
       "16  28\n",
       "17  21\n",
       "18  14\n",
       "19  18\n",
       "20  13\n",
       "21   9\n",
       "22  15\n",
       "23  21\n",
       "24  10\n",
       "25  12\n",
       "26  17\n",
       "27  17\n",
       "28  16\n",
       "29  18\n",
       "30  18\n",
       "31  55"
      ]
     },
     "execution_count": 136,
     "metadata": {},
     "output_type": "execute_result"
    }
   ],
   "source": [
    "frame_seq_data = pd.read_csv('ckmock_landmark_FramePerSeq.csv',header = None)\n",
    "frame_seq_data"
   ]
  },
  {
   "cell_type": "code",
   "execution_count": 135,
   "metadata": {},
   "outputs": [],
   "source": [
    "frame_seq_array = np.asarray(frame_seq_data)\n"
   ]
  },
  {
   "cell_type": "code",
   "execution_count": 137,
   "metadata": {},
   "outputs": [
    {
     "data": {
      "text/html": [
       "<div>\n",
       "<style scoped>\n",
       "    .dataframe tbody tr th:only-of-type {\n",
       "        vertical-align: middle;\n",
       "    }\n",
       "\n",
       "    .dataframe tbody tr th {\n",
       "        vertical-align: top;\n",
       "    }\n",
       "\n",
       "    .dataframe thead th {\n",
       "        text-align: right;\n",
       "    }\n",
       "</style>\n",
       "<table border=\"1\" class=\"dataframe\">\n",
       "  <thead>\n",
       "    <tr style=\"text-align: right;\">\n",
       "      <th></th>\n",
       "      <th>0</th>\n",
       "      <th>1</th>\n",
       "      <th>2</th>\n",
       "      <th>3</th>\n",
       "      <th>4</th>\n",
       "      <th>5</th>\n",
       "      <th>6</th>\n",
       "      <th>7</th>\n",
       "      <th>8</th>\n",
       "      <th>9</th>\n",
       "      <th>...</th>\n",
       "      <th>126</th>\n",
       "      <th>127</th>\n",
       "      <th>128</th>\n",
       "      <th>129</th>\n",
       "      <th>130</th>\n",
       "      <th>131</th>\n",
       "      <th>132</th>\n",
       "      <th>133</th>\n",
       "      <th>134</th>\n",
       "      <th>135</th>\n",
       "    </tr>\n",
       "  </thead>\n",
       "  <tbody>\n",
       "    <tr>\n",
       "      <th>0</th>\n",
       "      <td>0.000000</td>\n",
       "      <td>0.000000</td>\n",
       "      <td>0.000000</td>\n",
       "      <td>0.000000</td>\n",
       "      <td>0.000000</td>\n",
       "      <td>0.000000</td>\n",
       "      <td>0.000000</td>\n",
       "      <td>0.000000</td>\n",
       "      <td>0.000000</td>\n",
       "      <td>0.000000</td>\n",
       "      <td>...</td>\n",
       "      <td>0.000000</td>\n",
       "      <td>0.000000</td>\n",
       "      <td>0.000000</td>\n",
       "      <td>0.000000</td>\n",
       "      <td>0.000000</td>\n",
       "      <td>0.000000</td>\n",
       "      <td>0.000000</td>\n",
       "      <td>0.000000</td>\n",
       "      <td>0.000000</td>\n",
       "      <td>0.000000</td>\n",
       "    </tr>\n",
       "    <tr>\n",
       "      <th>1</th>\n",
       "      <td>0.046769</td>\n",
       "      <td>0.042176</td>\n",
       "      <td>0.038293</td>\n",
       "      <td>0.033077</td>\n",
       "      <td>0.027262</td>\n",
       "      <td>0.027157</td>\n",
       "      <td>0.018577</td>\n",
       "      <td>0.003486</td>\n",
       "      <td>0.000218</td>\n",
       "      <td>-0.006606</td>\n",
       "      <td>...</td>\n",
       "      <td>0.089196</td>\n",
       "      <td>0.043504</td>\n",
       "      <td>0.021117</td>\n",
       "      <td>-0.026021</td>\n",
       "      <td>-0.034146</td>\n",
       "      <td>-0.023846</td>\n",
       "      <td>0.018750</td>\n",
       "      <td>0.071704</td>\n",
       "      <td>0.096535</td>\n",
       "      <td>0.078621</td>\n",
       "    </tr>\n",
       "    <tr>\n",
       "      <th>2</th>\n",
       "      <td>0.046769</td>\n",
       "      <td>0.042176</td>\n",
       "      <td>0.038293</td>\n",
       "      <td>0.033077</td>\n",
       "      <td>0.027262</td>\n",
       "      <td>0.027157</td>\n",
       "      <td>0.018577</td>\n",
       "      <td>0.003486</td>\n",
       "      <td>0.000218</td>\n",
       "      <td>-0.006606</td>\n",
       "      <td>...</td>\n",
       "      <td>0.089196</td>\n",
       "      <td>0.043504</td>\n",
       "      <td>0.021117</td>\n",
       "      <td>-0.026021</td>\n",
       "      <td>-0.034146</td>\n",
       "      <td>-0.023846</td>\n",
       "      <td>0.018750</td>\n",
       "      <td>0.071704</td>\n",
       "      <td>0.096535</td>\n",
       "      <td>0.078621</td>\n",
       "    </tr>\n",
       "    <tr>\n",
       "      <th>3</th>\n",
       "      <td>-0.032784</td>\n",
       "      <td>-0.029558</td>\n",
       "      <td>-0.026830</td>\n",
       "      <td>-0.023187</td>\n",
       "      <td>-0.019097</td>\n",
       "      <td>-0.019024</td>\n",
       "      <td>-0.013030</td>\n",
       "      <td>-0.002452</td>\n",
       "      <td>-0.000147</td>\n",
       "      <td>0.004629</td>\n",
       "      <td>...</td>\n",
       "      <td>-0.062551</td>\n",
       "      <td>-0.030520</td>\n",
       "      <td>-0.014816</td>\n",
       "      <td>0.018232</td>\n",
       "      <td>0.023938</td>\n",
       "      <td>0.016726</td>\n",
       "      <td>-0.013154</td>\n",
       "      <td>-0.050287</td>\n",
       "      <td>-0.067693</td>\n",
       "      <td>-0.055120</td>\n",
       "    </tr>\n",
       "    <tr>\n",
       "      <th>4</th>\n",
       "      <td>-0.481504</td>\n",
       "      <td>-0.434128</td>\n",
       "      <td>-0.394052</td>\n",
       "      <td>-0.340379</td>\n",
       "      <td>-0.280395</td>\n",
       "      <td>-0.279450</td>\n",
       "      <td>-0.191261</td>\n",
       "      <td>-0.035773</td>\n",
       "      <td>-0.002290</td>\n",
       "      <td>0.067864</td>\n",
       "      <td>...</td>\n",
       "      <td>-0.921664</td>\n",
       "      <td>-0.449889</td>\n",
       "      <td>-0.218571</td>\n",
       "      <td>0.268147</td>\n",
       "      <td>0.352070</td>\n",
       "      <td>0.245797</td>\n",
       "      <td>-0.194093</td>\n",
       "      <td>-0.740856</td>\n",
       "      <td>-0.997129</td>\n",
       "      <td>-0.812121</td>\n",
       "    </tr>\n",
       "    <tr>\n",
       "      <th>...</th>\n",
       "      <td>...</td>\n",
       "      <td>...</td>\n",
       "      <td>...</td>\n",
       "      <td>...</td>\n",
       "      <td>...</td>\n",
       "      <td>...</td>\n",
       "      <td>...</td>\n",
       "      <td>...</td>\n",
       "      <td>...</td>\n",
       "      <td>...</td>\n",
       "      <td>...</td>\n",
       "      <td>...</td>\n",
       "      <td>...</td>\n",
       "      <td>...</td>\n",
       "      <td>...</td>\n",
       "      <td>...</td>\n",
       "      <td>...</td>\n",
       "      <td>...</td>\n",
       "      <td>...</td>\n",
       "      <td>...</td>\n",
       "      <td>...</td>\n",
       "    </tr>\n",
       "    <tr>\n",
       "      <th>578</th>\n",
       "      <td>3.098186</td>\n",
       "      <td>2.988080</td>\n",
       "      <td>3.345981</td>\n",
       "      <td>4.404354</td>\n",
       "      <td>2.801976</td>\n",
       "      <td>0.717847</td>\n",
       "      <td>0.503815</td>\n",
       "      <td>-0.033916</td>\n",
       "      <td>-0.314410</td>\n",
       "      <td>0.038284</td>\n",
       "      <td>...</td>\n",
       "      <td>12.470661</td>\n",
       "      <td>10.024959</td>\n",
       "      <td>4.949259</td>\n",
       "      <td>-7.416548</td>\n",
       "      <td>-5.575409</td>\n",
       "      <td>-4.965306</td>\n",
       "      <td>4.683216</td>\n",
       "      <td>14.586773</td>\n",
       "      <td>18.033447</td>\n",
       "      <td>17.151559</td>\n",
       "    </tr>\n",
       "    <tr>\n",
       "      <th>579</th>\n",
       "      <td>3.171807</td>\n",
       "      <td>3.024018</td>\n",
       "      <td>3.409750</td>\n",
       "      <td>4.444514</td>\n",
       "      <td>2.815170</td>\n",
       "      <td>0.748013</td>\n",
       "      <td>0.523005</td>\n",
       "      <td>-0.016271</td>\n",
       "      <td>-0.309756</td>\n",
       "      <td>0.031435</td>\n",
       "      <td>...</td>\n",
       "      <td>12.411167</td>\n",
       "      <td>9.966105</td>\n",
       "      <td>4.943021</td>\n",
       "      <td>-7.446757</td>\n",
       "      <td>-5.595191</td>\n",
       "      <td>-4.955060</td>\n",
       "      <td>4.690065</td>\n",
       "      <td>14.605951</td>\n",
       "      <td>18.005940</td>\n",
       "      <td>17.154269</td>\n",
       "    </tr>\n",
       "    <tr>\n",
       "      <th>580</th>\n",
       "      <td>3.059167</td>\n",
       "      <td>2.980506</td>\n",
       "      <td>3.318661</td>\n",
       "      <td>4.397191</td>\n",
       "      <td>2.799512</td>\n",
       "      <td>0.665942</td>\n",
       "      <td>0.456706</td>\n",
       "      <td>-0.070549</td>\n",
       "      <td>-0.341276</td>\n",
       "      <td>0.038343</td>\n",
       "      <td>...</td>\n",
       "      <td>12.401185</td>\n",
       "      <td>10.070972</td>\n",
       "      <td>4.974610</td>\n",
       "      <td>-7.373922</td>\n",
       "      <td>-5.503375</td>\n",
       "      <td>-4.915764</td>\n",
       "      <td>4.648326</td>\n",
       "      <td>14.505556</td>\n",
       "      <td>17.930901</td>\n",
       "      <td>17.127836</td>\n",
       "    </tr>\n",
       "    <tr>\n",
       "      <th>581</th>\n",
       "      <td>3.039358</td>\n",
       "      <td>2.968175</td>\n",
       "      <td>3.297432</td>\n",
       "      <td>4.389565</td>\n",
       "      <td>2.811420</td>\n",
       "      <td>0.710211</td>\n",
       "      <td>0.507325</td>\n",
       "      <td>-0.039999</td>\n",
       "      <td>-0.309893</td>\n",
       "      <td>0.046973</td>\n",
       "      <td>...</td>\n",
       "      <td>12.708360</td>\n",
       "      <td>10.174537</td>\n",
       "      <td>5.000449</td>\n",
       "      <td>-7.461592</td>\n",
       "      <td>-5.636798</td>\n",
       "      <td>-5.054459</td>\n",
       "      <td>4.715510</td>\n",
       "      <td>14.730009</td>\n",
       "      <td>18.290522</td>\n",
       "      <td>17.309550</td>\n",
       "    </tr>\n",
       "    <tr>\n",
       "      <th>582</th>\n",
       "      <td>3.060221</td>\n",
       "      <td>2.967986</td>\n",
       "      <td>3.311024</td>\n",
       "      <td>4.384776</td>\n",
       "      <td>2.802389</td>\n",
       "      <td>0.728059</td>\n",
       "      <td>0.521325</td>\n",
       "      <td>-0.025531</td>\n",
       "      <td>-0.300673</td>\n",
       "      <td>0.045174</td>\n",
       "      <td>...</td>\n",
       "      <td>12.641315</td>\n",
       "      <td>10.096172</td>\n",
       "      <td>4.961751</td>\n",
       "      <td>-7.446823</td>\n",
       "      <td>-5.632305</td>\n",
       "      <td>-5.036200</td>\n",
       "      <td>4.714669</td>\n",
       "      <td>14.686983</td>\n",
       "      <td>18.216787</td>\n",
       "      <td>17.236651</td>\n",
       "    </tr>\n",
       "  </tbody>\n",
       "</table>\n",
       "<p>583 rows × 136 columns</p>\n",
       "</div>"
      ],
      "text/plain": [
       "          0         1         2         3         4         5         6    \\\n",
       "0    0.000000  0.000000  0.000000  0.000000  0.000000  0.000000  0.000000   \n",
       "1    0.046769  0.042176  0.038293  0.033077  0.027262  0.027157  0.018577   \n",
       "2    0.046769  0.042176  0.038293  0.033077  0.027262  0.027157  0.018577   \n",
       "3   -0.032784 -0.029558 -0.026830 -0.023187 -0.019097 -0.019024 -0.013030   \n",
       "4   -0.481504 -0.434128 -0.394052 -0.340379 -0.280395 -0.279450 -0.191261   \n",
       "..        ...       ...       ...       ...       ...       ...       ...   \n",
       "578  3.098186  2.988080  3.345981  4.404354  2.801976  0.717847  0.503815   \n",
       "579  3.171807  3.024018  3.409750  4.444514  2.815170  0.748013  0.523005   \n",
       "580  3.059167  2.980506  3.318661  4.397191  2.799512  0.665942  0.456706   \n",
       "581  3.039358  2.968175  3.297432  4.389565  2.811420  0.710211  0.507325   \n",
       "582  3.060221  2.967986  3.311024  4.384776  2.802389  0.728059  0.521325   \n",
       "\n",
       "          7         8         9    ...        126        127       128  \\\n",
       "0    0.000000  0.000000  0.000000  ...   0.000000   0.000000  0.000000   \n",
       "1    0.003486  0.000218 -0.006606  ...   0.089196   0.043504  0.021117   \n",
       "2    0.003486  0.000218 -0.006606  ...   0.089196   0.043504  0.021117   \n",
       "3   -0.002452 -0.000147  0.004629  ...  -0.062551  -0.030520 -0.014816   \n",
       "4   -0.035773 -0.002290  0.067864  ...  -0.921664  -0.449889 -0.218571   \n",
       "..        ...       ...       ...  ...        ...        ...       ...   \n",
       "578 -0.033916 -0.314410  0.038284  ...  12.470661  10.024959  4.949259   \n",
       "579 -0.016271 -0.309756  0.031435  ...  12.411167   9.966105  4.943021   \n",
       "580 -0.070549 -0.341276  0.038343  ...  12.401185  10.070972  4.974610   \n",
       "581 -0.039999 -0.309893  0.046973  ...  12.708360  10.174537  5.000449   \n",
       "582 -0.025531 -0.300673  0.045174  ...  12.641315  10.096172  4.961751   \n",
       "\n",
       "          129       130       131       132        133        134        135  \n",
       "0    0.000000  0.000000  0.000000  0.000000   0.000000   0.000000   0.000000  \n",
       "1   -0.026021 -0.034146 -0.023846  0.018750   0.071704   0.096535   0.078621  \n",
       "2   -0.026021 -0.034146 -0.023846  0.018750   0.071704   0.096535   0.078621  \n",
       "3    0.018232  0.023938  0.016726 -0.013154  -0.050287  -0.067693  -0.055120  \n",
       "4    0.268147  0.352070  0.245797 -0.194093  -0.740856  -0.997129  -0.812121  \n",
       "..        ...       ...       ...       ...        ...        ...        ...  \n",
       "578 -7.416548 -5.575409 -4.965306  4.683216  14.586773  18.033447  17.151559  \n",
       "579 -7.446757 -5.595191 -4.955060  4.690065  14.605951  18.005940  17.154269  \n",
       "580 -7.373922 -5.503375 -4.915764  4.648326  14.505556  17.930901  17.127836  \n",
       "581 -7.461592 -5.636798 -5.054459  4.715510  14.730009  18.290522  17.309550  \n",
       "582 -7.446823 -5.632305 -5.036200  4.714669  14.686983  18.216787  17.236651  \n",
       "\n",
       "[583 rows x 136 columns]"
      ]
     },
     "execution_count": 137,
     "metadata": {},
     "output_type": "execute_result"
    }
   ],
   "source": [
    "my_data_2 = pd.read_csv('my_data_aligned_diff.csv',header = None)\n",
    "my_data_2#aca tenemos lasdiferencias en orden xy"
   ]
  },
  {
   "cell_type": "code",
   "execution_count": 138,
   "metadata": {},
   "outputs": [
    {
     "data": {
      "text/plain": [
       "(136,)"
      ]
     },
     "execution_count": 138,
     "metadata": {},
     "output_type": "execute_result"
    }
   ],
   "source": [
    "#ai deberia ser el maximo de cada columna\n",
    "\n",
    "Ai = my_data_2.max() # da el maximo por columnas\n",
    "Ai.shape"
   ]
  },
  {
   "cell_type": "code",
   "execution_count": 139,
   "metadata": {},
   "outputs": [
    {
     "data": {
      "text/plain": [
       "0      0.000000\n",
       "1     -0.000794\n",
       "2     -0.000794\n",
       "3      0.000557\n",
       "4      0.008197\n",
       "         ...   \n",
       "578   -0.234288\n",
       "579   -0.233589\n",
       "580   -0.235466\n",
       "581   -0.236747\n",
       "582   -0.235139\n",
       "Length: 583, dtype: float64"
      ]
     },
     "execution_count": 139,
     "metadata": {},
     "output_type": "execute_result"
    }
   ],
   "source": [
    "data_2_intensity = my_data_2\n",
    "data_2_intensity_div = data_2_intensity/Ai\n",
    "data_2_intensity_sum =  np.sum(data_2_intensity_div, axis=1)\n",
    "data_2_intensity_final = data_2_intensity_sum/136\n",
    "data_2_intensity_final  #the emotion for each frame\n",
    "#revisar que este bien la cuenta"
   ]
  },
  {
   "cell_type": "code",
   "execution_count": 142,
   "metadata": {},
   "outputs": [
    {
     "data": {
      "text/plain": [
       "(583, 22)"
      ]
     },
     "execution_count": 142,
     "metadata": {},
     "output_type": "execute_result"
    }
   ],
   "source": [
    "sumi=0\n",
    "cant_features = 22\n",
    "\n",
    "frame_seq_flattened = frame_seq_array.flatten()\n",
    "\n",
    "structure_feature_vector = np.zeros((len(data_2_intensity_final), cant_features))\n",
    "for i in range(0, len(frame_seq_flattened)):\n",
    "    current_index = frame_seq_flattened[i]\n",
    "    for j in range(0, current_index):\n",
    "        vector = structure_vector[:,i]#columna i\n",
    "        vector = np.append(vector,data_2_intensity_final[j+sumi])        \n",
    "        structure_feature_vector[j+sumi] = vector\n",
    "    sumi = sumi + current_index\n",
    "  \n",
    "structure_feature_vector.shape"
   ]
  },
  {
   "cell_type": "code",
   "execution_count": null,
   "metadata": {},
   "outputs": [],
   "source": []
  },
  {
   "cell_type": "markdown",
   "metadata": {},
   "source": [
    "### AHORA si hacemos PCA con los 22 features"
   ]
  },
  {
   "cell_type": "code",
   "execution_count": 143,
   "metadata": {},
   "outputs": [
    {
     "data": {
      "text/plain": [
       "(583, 22)"
      ]
     },
     "execution_count": 143,
     "metadata": {},
     "output_type": "execute_result"
    }
   ],
   "source": [
    "from sklearn.preprocessing import StandardScaler\n",
    "std_scaler = StandardScaler()\n",
    "scaled_landDiff = std_scaler.fit_transform(structure_feature_vector)\n",
    "scaled_landDiff.shape"
   ]
  },
  {
   "cell_type": "code",
   "execution_count": 149,
   "metadata": {},
   "outputs": [
    {
     "data": {
      "text/plain": [
       "(583, 13)"
      ]
     },
     "execution_count": 149,
     "metadata": {},
     "output_type": "execute_result"
    }
   ],
   "source": [
    "from sklearn.decomposition import PCA\n",
    "pca = PCA(n_components=13)\n",
    "pca.fit_transform(scaled_landDiff)\n",
    "b_structure = pca.fit_transform(scaled_landDiff)\n",
    "b_structure.shape # cada fila deberia ser el b de 1 frame en 12 componentes proncipales (de 22 feature points)"
   ]
  },
  {
   "cell_type": "code",
   "execution_count": 150,
   "metadata": {},
   "outputs": [
    {
     "name": "stdout",
     "output_type": "stream",
     "text": [
      "0.9909925302706426\n"
     ]
    }
   ],
   "source": [
    "print(sum(pca.explained_variance_ratio_))\n"
   ]
  },
  {
   "cell_type": "code",
   "execution_count": 151,
   "metadata": {},
   "outputs": [
    {
     "data": {
      "image/png": "[encoded data removed]",
      "text/plain": [
       "<Figure size 432x288 with 1 Axes>"
      ]
     },
     "metadata": {},
     "output_type": "display_data"
    }
   ],
   "source": [
    "b_structure\n",
    "pca_var=np.round(pca.explained_variance_ratio_* 100, decimals=1 )\n",
    "labels = ['PC'+ str(s) for s in range(1, len(pca_var)+1)]\n",
    "\n",
    "plt.bar(x= range(1, len(pca_var)+1), height = pca_var, tick_label= labels)\n",
    "plt.ylabel(\"Percentage of Variance\")\n",
    "plt.xlabel(\"Principal Components\")\n",
    "plt.title(\"Scree Plot\")\n",
    "plt.show()"
   ]
  },
  {
   "cell_type": "code",
   "execution_count": null,
   "metadata": {},
   "outputs": [],
   "source": []
  },
  {
   "cell_type": "code",
   "execution_count": null,
   "metadata": {},
   "outputs": [],
   "source": []
  },
  {
   "cell_type": "code",
   "execution_count": null,
   "metadata": {},
   "outputs": [],
   "source": []
  },
  {
   "cell_type": "code",
   "execution_count": null,
   "metadata": {},
   "outputs": [],
   "source": []
  },
  {
   "cell_type": "code",
   "execution_count": null,
   "metadata": {},
   "outputs": [],
   "source": []
  },
  {
   "cell_type": "code",
   "execution_count": 48,
   "metadata": {},
   "outputs": [
    {
     "ename": "IndentationError",
     "evalue": "unindent does not match any outer indentation level (<ipython-input-48-f35130b63526>, line 12)",
     "output_type": "error",
     "traceback": [
      "\u001b[0;36m  File \u001b[0;32m\"<ipython-input-48-f35130b63526>\"\u001b[0;36m, line \u001b[0;32m12\u001b[0m\n\u001b[0;31m    output[i][j] = math.sqrt(pow(edgesx[i][j],2) +pow(edgesy[i][j],2)+ pow(-1,2))\u001b[0m\n\u001b[0m                                                                                 ^\u001b[0m\n\u001b[0;31mIndentationError\u001b[0m\u001b[0;31m:\u001b[0m unindent does not match any outer indentation level\n"
     ]
    }
   ],
   "source": [
    "      #ESTA ES CON UNA SOLA      \n",
    "import math \n",
    "\n",
    "edgesx = cv2.Sobel(imgleft, -1, dx=1, dy=0, ksize=1)\n",
    "edgesy = cv2.Sobel(imgleft, -1, dx=0, dy=1, ksize=1)\n",
    "\n",
    "\n",
    "\n",
    "output = np.zeros((len(edgesx),len(edgesx[0])))\n",
    "for i in range(0, len(edgesx)):\n",
    "    for j in range(0, len(edgesx[0])):\n",
    "        output[i][j] = math.sqrt(pow(edgesx[i][j],2) +pow(edgesy[i][j],2)+ pow(-1,2))\n",
    "\n",
    "\n",
    "angle = np.zeros((len(edgesx),len(edgesx[0]),3))  \n",
    "for i in range(0, len(edgesx)):\n",
    "    for j in range(0, len(edgesx[0])):\n",
    "        pos =np.array([edgesx[i][j], edgesy[i][j], -1]/output[i][j])\n",
    "        angle[i][j] = pos\n",
    "\n",
    "beta = np.array([0,0,1])\n",
    "        \n",
    "coff = np.zeros((len(edgesx),len(edgesx[0])))\n",
    "for i in range(0, len(edgesx)):\n",
    "    for j in range(0, len(edgesx[0])):\n",
    "        coff[i][j] = 1- np.dot(angle[i][j],beta)\n",
    "\n",
    "coeff_average = coff.mean()\n",
    "coeff_sum = coff.sum()\n",
    "\n",
    "partial_sumx = []\n",
    "for i in range(0, len(edgesx)):#losy0debencambiarse arriba\n",
    "    partial_sumx.append(coff[i]*(left_cheek_y0+i))\n",
    "\n",
    "partial_sumy = []\n",
    "for i in range(0, len(edgesx[0])):#losy0debencambiarse arriba\n",
    "    partial_sumy.append(coff[:,i]*(left_cheek_x0+i))\n",
    "        \n",
    "center_of_massx = np.asarray(partial_sumx).sum()/coeff_sum\n",
    "center_of_massy = np.asarray(partial_sumy).sum()/coeff_sum\n"
   ]
  },
  {
   "cell_type": "code",
   "execution_count": null,
   "metadata": {},
   "outputs": [],
   "source": []
  },
  {
   "cell_type": "code",
   "execution_count": null,
   "metadata": {},
   "outputs": [],
   "source": []
  },
  {
   "cell_type": "code",
   "execution_count": null,
   "metadata": {},
   "outputs": [],
   "source": []
  },
  {
   "cell_type": "code",
   "execution_count": null,
   "metadata": {},
   "outputs": [],
   "source": []
  },
  {
   "cell_type": "code",
   "execution_count": null,
   "metadata": {},
   "outputs": [],
   "source": []
  },
  {
   "cell_type": "code",
   "execution_count": null,
   "metadata": {},
   "outputs": [],
   "source": []
  },
  {
   "cell_type": "code",
   "execution_count": null,
   "metadata": {},
   "outputs": [],
   "source": []
  },
  {
   "cell_type": "code",
   "execution_count": null,
   "metadata": {},
   "outputs": [],
   "source": []
  },
  {
   "cell_type": "code",
   "execution_count": null,
   "metadata": {},
   "outputs": [],
   "source": []
  },
  {
   "cell_type": "code",
   "execution_count": null,
   "metadata": {},
   "outputs": [],
   "source": []
  },
  {
   "cell_type": "code",
   "execution_count": null,
   "metadata": {},
   "outputs": [],
   "source": []
  },
  {
   "cell_type": "code",
   "execution_count": 49,
   "metadata": {},
   "outputs": [],
   "source": []
  },
  {
   "cell_type": "code",
   "execution_count": null,
   "metadata": {},
   "outputs": [],
   "source": []
  },
  {
   "cell_type": "code",
   "execution_count": null,
   "metadata": {},
   "outputs": [],
   "source": []
  },
  {
   "cell_type": "code",
   "execution_count": null,
   "metadata": {},
   "outputs": [],
   "source": []
  },
  {
   "cell_type": "code",
   "execution_count": null,
   "metadata": {},
   "outputs": [],
   "source": []
  },
  {
   "cell_type": "code",
   "execution_count": null,
   "metadata": {},
   "outputs": [],
   "source": []
  },
  {
   "cell_type": "code",
   "execution_count": null,
   "metadata": {},
   "outputs": [],
   "source": []
  }
 ],
 "metadata": {
  "kernelspec": {
   "display_name": "Python 3",
   "language": "python",
   "name": "python3"
  },
  "language_info": {
   "codemirror_mode": {
    "name": "ipython",
    "version": 3
   },
   "file_extension": ".py",
   "mimetype": "text/x-python",
   "name": "python",
   "nbconvert_exporter": "python",
   "pygments_lexer": "ipython3",
   "version": "3.6.9"
  }
 },
 "nbformat": 4,
 "nbformat_minor": 2
}
