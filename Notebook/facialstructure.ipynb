{
 "cells": [
  {
   "cell_type": "code",
   "execution_count": 1,
   "metadata": {},
   "outputs": [],
   "source": [
    "%matplotlib inline\n",
    "\n",
    "import numpy as np # NUMPY\n",
    "import pandas as pd # PANDAS\n",
    "import matplotlib.pyplot as plt # MATPLOTLIB\n",
    "import seaborn as sns # SEABORN\n",
    "import scipy\n",
    "import sklearn\n",
    "import random as rd\n",
    "from sklearn.decomposition import PCA\n",
    "from IPython.display import display\n",
    "import os \n",
    "from pathlib import Path\n",
    "import shutil \n",
    "import cv2"
   ]
  },
  {
   "cell_type": "code",
   "execution_count": 2,
   "metadata": {},
   "outputs": [],
   "source": [
    "### Vamos a sacar los  17 primeros landmarks--lo  hacemos de la frame 0  de cada secuencia\n",
    "##Por ahora acá no voy a usarlas alineadas<---PREGUNTAR"
   ]
  },
  {
   "cell_type": "code",
   "execution_count": 3,
   "metadata": {},
   "outputs": [],
   "source": [
    "subjects_landmarks = '../ck+copy/Landmarks/'\n",
    "sorted_subjects =   np.sort(os.listdir('../ck+copy/Landmarks/')) # we probably need to not have the sorted\n",
    "\n",
    "distances = []\n",
    "for subject in sorted_subjects:\n",
    "    one_subject_landmarks = '../ck+copy/Landmarks/' + str(subject)+ '/'\n",
    "    sorted_list = np.sort(os.listdir(one_subject_landmarks)) #creo que este sort se puede quitar\n",
    "    distances_per_subject = []\n",
    "    for emotion in sorted_list:\n",
    "        matrix_landmark_per_frame = []\n",
    "        subject_landmark_emotion = one_subject_landmarks + str(emotion)    \n",
    "        for i in range(0, len(os.listdir(subject_landmark_emotion))):\n",
    "            data = pd.read_csv('../ck+copy/Landmarks/' +  str(subject)+ '/' + str(emotion)+'/'+ str(subject)+ '_'+str(emotion)+'_'+ str(i+1).zfill(8)+'_landmarks.txt',  header=None)\n",
    "            data.columns =['landmarks']\n",
    "            quantity_of_landmarks = data.size #68\n",
    "            data = data['landmarks'].str.split('   ', expand=True)\n",
    "            data.columns =['landmarks', 'landmarkX', 'landmarkY']\n",
    "            data =data.drop(columns=['landmarks'])\n",
    "            dataarray = data.to_numpy(dtype=float)\n",
    "            matrix_landmark_per_frame.append(dataarray)\n",
    "        \n",
    "        distances_per_subject.append(matrix_landmark_per_frame)\n",
    "    distances.append(distances_per_subject)   "
   ]
  },
  {
   "cell_type": "code",
   "execution_count": 4,
   "metadata": {},
   "outputs": [],
   "source": [
    "for i in range(0, len(distances)):\n",
    "    for j in range(0, len( distances[i])):\n",
    "        distances[i][j]= np.asarray( distances[i][j], dtype=object)\n",
    "    distances[i]= np.asarray( distances[i], dtype=object)\n",
    "distances= np.asarray( distances, dtype=object)\n"
   ]
  },
  {
   "cell_type": "code",
   "execution_count": 5,
   "metadata": {},
   "outputs": [
    {
     "data": {
      "text/plain": [
       "29"
      ]
     },
     "execution_count": 5,
     "metadata": {},
     "output_type": "execute_result"
    }
   ],
   "source": [
    "len(distances[0][0])"
   ]
  },
  {
   "cell_type": "code",
   "execution_count": 6,
   "metadata": {},
   "outputs": [],
   "source": [
    "first_frame =[]\n",
    "cant_frame_per_seq = []\n",
    "for i in range(0, len(distances)):\n",
    "    for j in range(0, len( distances[i])):\n",
    "        first_frame.append(distances[i][j][0])\n",
    "        cant_frame_per_seq.append(len(distances[i][j]))\n",
    "        \n",
    "\n",
    "first_frame = np.asarray( first_frame, dtype=object)\n",
    "cant_frame_per_seq = np.asarray( cant_frame_per_seq, dtype=object)"
   ]
  },
  {
   "cell_type": "code",
   "execution_count": 7,
   "metadata": {},
   "outputs": [
    {
     "data": {
      "text/plain": [
       "(51, 68, 2)"
      ]
     },
     "execution_count": 7,
     "metadata": {},
     "output_type": "execute_result"
    }
   ],
   "source": [
    "first_frame.shape"
   ]
  },
  {
   "cell_type": "code",
   "execution_count": 8,
   "metadata": {},
   "outputs": [
    {
     "data": {
      "text/plain": [
       "array([29, 16, 30, 19, 17, 30, 17, 33, 23, 32, 17, 19, 12, 29, 25, 14, 24,\n",
       "       15, 14, 10, 21, 13, 29, 28, 14, 21, 14, 33, 17, 19, 27, 22, 20, 13,\n",
       "       14, 15, 13, 5, 23, 16, 14, 15, 7, 6, 27, 20, 10, 22, 9, 15, 18],\n",
       "      dtype=object)"
      ]
     },
     "execution_count": 8,
     "metadata": {},
     "output_type": "execute_result"
    }
   ],
   "source": [
    "cant_frame_per_seq"
   ]
  },
  {
   "cell_type": "code",
   "execution_count": 9,
   "metadata": {},
   "outputs": [
    {
     "data": {
      "text/plain": [
       "array([[245.688, 252.45154],\n",
       "       [250.75381, 282.80546],\n",
       "       [259.36702, 312.51759],\n",
       "       [266.68465, 342.4186],\n",
       "       [277.26378, 371.34904],\n",
       "       [295.88027, 395.58941],\n",
       "       [319.49635, 415.18508],\n",
       "       [346.07042, 431.09897],\n",
       "       [375.99423, 434.84148],\n",
       "       [406.69956, 428.90793],\n",
       "       [433.89479, 413.33251],\n",
       "       [456.79126, 392.04819],\n",
       "       [474.23993, 366.08947],\n",
       "       [482.94386, 335.99443],\n",
       "       [488.31702, 305.20952],\n",
       "       [493.74997, 274.06672],\n",
       "       [496.64832, 243.13984],\n",
       "       [265.41412, 215.47898],\n",
       "       [283.89499, 205.55665],\n",
       "       [304.25895, 201.28303],\n",
       "       [324.85539, 202.94621],\n",
       "       [344.74546, 208.83489],\n",
       "       [393.71675, 206.22633],\n",
       "       [413.20441, 198.00231],\n",
       "       [433.98556, 194.42791],\n",
       "       [454.67283, 197.57962],\n",
       "       [473.53553, 206.85074],\n",
       "       [369.43201, 238.88037],\n",
       "       [369.70983, 258.08105],\n",
       "       [370.28162, 277.01609],\n",
       "       [370.77023, 295.95668],\n",
       "       [348.72465, 320.63784],\n",
       "       [360.2594, 323.11326],\n",
       "       [371.82231, 324.07323],\n",
       "       [383.49287, 322.95606],\n",
       "       [394.72711, 319.88761],\n",
       "       [285.58476, 242.20164],\n",
       "       [299.53251, 229.0025],\n",
       "       [318.50875, 227.97123],\n",
       "       [333.39195, 239.6574],\n",
       "       [317.758, 245.14707],\n",
       "       [301.39618, 246.40006],\n",
       "       [403.25196, 237.69039],\n",
       "       [418.07173, 223.84519],\n",
       "       [438.33186, 223.76441],\n",
       "       [454.66487, 235.87949],\n",
       "       [437.85413, 241.10115],\n",
       "       [420.37298, 241.38888],\n",
       "       [325.32339, 359.93267],\n",
       "       [340.19541, 351.74456],\n",
       "       [356.24074, 345.55064],\n",
       "       [373.11387, 345.7936],\n",
       "       [390.01007, 346.79579],\n",
       "       [405.84309, 353.06453],\n",
       "       [420.80956, 360.38709],\n",
       "       [406.5841, 368.64627],\n",
       "       [390.723, 373.06956],\n",
       "       [374.44021, 374.16595],\n",
       "       [357.04605, 372.84879],\n",
       "       [340.4404, 368.309],\n",
       "       [348.0127, 358.95264],\n",
       "       [360.87913, 357.22541],\n",
       "       [373.86423, 356.73931],\n",
       "       [385.53323, 357.43714],\n",
       "       [397.0008, 359.24213],\n",
       "       [385.52817, 360.5936],\n",
       "       [374.12698, 361.01155],\n",
       "       [360.94643, 360.49401]], dtype=object)"
      ]
     },
     "execution_count": 9,
     "metadata": {},
     "output_type": "execute_result"
    }
   ],
   "source": [
    "first_frame[0]"
   ]
  },
  {
   "cell_type": "code",
   "execution_count": 11,
   "metadata": {},
   "outputs": [],
   "source": [
    "#por ahora usamos la distancia horizontal (ver 1)"
   ]
  },
  {
   "cell_type": "code",
   "execution_count": 10,
   "metadata": {},
   "outputs": [
    {
     "data": {
      "text/plain": [
       "array([170.77783999999997, 168.93462, 170.06516999999997, 171.19804,\n",
       "       168.32029, 129.55662999999998, 131.46166999999997, 127.38072,\n",
       "       130.84753999999998, 130.84129000000001, 128.40718999999996,\n",
       "       131.88854000000003, 147.9945, 151.98522, 154.56719999999999,\n",
       "       155.45786, 156.06501, 157.25549, 153.98916999999997,\n",
       "       156.65437000000003, 142.65292, 167.49652999999998, 162.5411,\n",
       "       163.45542, 159.85144999999997, 160.87183000000002,\n",
       "       162.35458999999997, 148.51279, 151.28485999999998,\n",
       "       147.49376999999998, 145.65249, 152.04866, 149.8119,\n",
       "       152.02220000000003, 169.27717, 166.48325999999997, 169.64881,\n",
       "       167.52213, 167.15892000000002, 170.28283, 177.62755, 180.96388,\n",
       "       180.93162, 181.47614000000002, 181.48164, 179.35411,\n",
       "       156.18697999999998, 205.67178, 209.61372000000003,\n",
       "       209.09468999999999, 204.73733], dtype=object)"
      ]
     },
     "execution_count": 10,
     "metadata": {},
     "output_type": "execute_result"
    }
   ],
   "source": [
    "#usamos 19 y 6 porque son los mas cercanos a nivel de temple de los landmarks de ck+ y asumimos hay correlacion entre la distancia de estos y la distancia que tendria gente con temples mas largos\n",
    "#revisar que la asumpsion sea verdad\n",
    "#Acordemonos que los arry el indice va de 0-67 y en iomagenes de 1 a 68, en codigo usamos -1 del que se usa en la imagen\n",
    "\n",
    "first_feature_point = []\n",
    "for i in range(0, len(first_frame)):   \n",
    "    point1 = first_frame[i][18][0]\n",
    "    point2 = first_frame[i][25][0]\n",
    "    first_feature_point.append(np.abs(point2-point1))\n",
    "first_feature_point = np.asarray( first_feature_point, dtype=object)\n",
    "first_feature_point\n",
    "#19,26"
   ]
  },
  {
   "cell_type": "code",
   "execution_count": 11,
   "metadata": {},
   "outputs": [
    {
     "data": {
      "text/plain": [
       "array([242.99616000000003, 244.42923000000002, 244.29061000000002,\n",
       "       246.06672, 245.47744, 197.57958000000002, 196.48839999999998,\n",
       "       194.02043, 196.54987000000003, 196.31359999999998, 195.4785,\n",
       "       194.13973, 224.02455, 218.59473999999997, 224.36149000000003,\n",
       "       224.19346999999996, 216.88727000000003, 217.59705999999997,\n",
       "       214.58100000000002, 213.60518999999996, 213.61859,\n",
       "       221.32809999999998, 218.55567, 219.08137000000002,\n",
       "       218.20252000000002, 221.31825000000003, 218.63573, 221.25832,\n",
       "       223.21594000000002, 223.98555, 222.09176999999997,\n",
       "       222.69307999999998, 223.71244, 225.8115, 244.74725, 244.19702,\n",
       "       244.19439000000003, 241.97357999999997, 243.73223000000002,\n",
       "       244.77529, 242.72324000000003, 245.15591999999998, 244.79638,\n",
       "       244.94695000000002, 241.44837000000004, 243.06213999999997,\n",
       "       219.76012000000003, 273.50397999999996, 271.40627,\n",
       "       272.76027999999997, 271.93015], dtype=object)"
      ]
     },
     "execution_count": 11,
     "metadata": {},
     "output_type": "execute_result"
    }
   ],
   "source": [
    "second_feature_point = []\n",
    "for i in range(0, len(first_frame)):\n",
    "    point1 = first_frame[i][1][0]\n",
    "    point2 = first_frame[i][15][0]\n",
    "    second_feature_point.append(np.abs(point2-point1))\n",
    "second_feature_point = np.asarray( second_feature_point, dtype=object)\n",
    "second_feature_point\n",
    "#2,16"
   ]
  },
  {
   "cell_type": "code",
   "execution_count": 12,
   "metadata": {},
   "outputs": [
    {
     "data": {
      "text/plain": [
       "array([237.56321000000003, 239.14769, 237.73748999999998,\n",
       "       240.14542000000003, 239.78365000000002, 197.45231,\n",
       "       195.01178000000002, 190.97196, 194.52761, 193.89962999999997,\n",
       "       192.31806999999998, 191.44419, 220.09828000000002, 215.56179,\n",
       "       218.90326000000002, 216.33124999999998, 214.60825000000003,\n",
       "       215.42241999999996, 215.32493, 213.94082999999998, 211.96496,\n",
       "       220.59079, 215.89115999999999, 216.79227999999998,\n",
       "       214.74267999999998, 218.78919000000002, 215.9421, 214.54554,\n",
       "       216.28195000000002, 219.01794999999998, 216.19364,\n",
       "       215.67666999999997, 217.63358000000002, 220.84263, 237.68464,\n",
       "       234.8775, 238.53817, 236.08321, 236.86639000000002, 238.24765,\n",
       "       238.37414, 240.87176, 239.5765, 243.10806000000002,\n",
       "       236.39781000000002, 236.82104999999999, 213.29798, 272.10934,\n",
       "       270.46026, 269.88485, 270.94245], dtype=object)"
      ]
     },
     "execution_count": 12,
     "metadata": {},
     "output_type": "execute_result"
    }
   ],
   "source": [
    "third_feature_point = []\n",
    "for i in range(0, len(first_frame)):   \n",
    "    point1 = first_frame[i][1][0]\n",
    "    point2 = first_frame[i][14][0]\n",
    "    third_feature_point.append(np.abs(point2-point1))\n",
    "third_feature_point = np.asarray( third_feature_point, dtype=object)\n",
    "third_feature_point\n",
    "#3,15"
   ]
  },
  {
   "cell_type": "code",
   "execution_count": 14,
   "metadata": {},
   "outputs": [
    {
     "data": {
      "text/plain": [
       "array([206.61768000000006, 208.826775, 210.33306, 210.45923000000005,\n",
       "       210.61737500000004, 168.567045, 165.43779, 165.59345999999994,\n",
       "       168.685025, 168.37056999999993, 170.42478500000004, 167.048335,\n",
       "       191.66966000000002, 192.3735, 192.05901, 192.729605, 198.246915,\n",
       "       196.66978499999996, 195.48874, 195.04576, 199.00933999999998,\n",
       "       194.319395, 190.98964, 191.53355499999998, 192.69318, 192.34116,\n",
       "       190.37552999999997, 188.8671, 189.58366, 189.13129999999995,\n",
       "       188.21261500000003, 187.28498000000002, 187.07253999999995,\n",
       "       190.773905, 211.3568, 208.03021499999997, 210.13388500000002,\n",
       "       208.64860499999998, 209.185365, 210.94231500000004,\n",
       "       209.63739999999996, 212.22577500000006, 213.41444999999996,\n",
       "       212.31738, 211.73346500000002, 213.18663999999995,\n",
       "       191.36537500000003, 251.71267999999998, 250.18885500000005,\n",
       "       249.42301000000003, 251.81550500000003], dtype=object)"
      ]
     },
     "execution_count": 14,
     "metadata": {},
     "output_type": "execute_result"
    }
   ],
   "source": [
    "#asumimos la mean horizontalmente va a dar la distancia horizontal del punto intermedio\n",
    "fourth_feature_point = []\n",
    "for i in range(0, len(first_frame)):   \n",
    "    point1a = first_frame[i][3][0]\n",
    "    point2a = first_frame[i][13][0]        \n",
    "    point1b = first_frame[i][4][0]\n",
    "    point2b = first_frame[i][12][0]\n",
    "    point1 = (point1a + point1b)/2#mean\n",
    "    point2 = (point2a + point2b)/2\n",
    "    fourth_feature_point.append(np.abs(point2-point1))\n",
    "fourth_feature_point = np.asarray( fourth_feature_point, dtype=object)\n",
    "fourth_feature_point\n",
    "#diferencia de mean entre 4 y 5, 14 y 13,  "
   ]
  },
  {
   "cell_type": "code",
   "execution_count": 15,
   "metadata": {},
   "outputs": [
    {
     "data": {
      "text/plain": [
       "array([114.39844, 117.83312000000001, 116.06396000000001,\n",
       "       116.55308000000002, 115.72111000000001, 92.34618,\n",
       "       95.12004999999999, 91.22553999999997, 96.37851999999998, 92.81734,\n",
       "       98.12718999999998, 92.99597, 109.06219000000002, 111.37859,\n",
       "       112.62211000000002, 110.90966000000003, 109.18882000000002,\n",
       "       106.38199, 106.98391000000001, 106.12100000000001, 108.81187,\n",
       "       103.28314999999998, 109.41278000000003, 107.71508999999998,\n",
       "       106.08174000000002, 108.81124000000003, 105.79146000000003,\n",
       "       105.82914, 106.36009000000001, 105.13608000000005,\n",
       "       107.19103000000001, 106.32248999999999, 109.20044000000001,\n",
       "       110.94890000000001, 112.97381000000001, 112.35740999999999,\n",
       "       113.02426, 113.04085000000003, 111.91798, 111.64093,\n",
       "       118.15116999999998, 118.25062999999997, 120.08277000000001,\n",
       "       121.39840000000001, 119.12638999999999, 117.39411999999999,\n",
       "       109.78521999999998, 133.13085, 131.68364000000003, 132.91104,\n",
       "       136.72561], dtype=object)"
      ]
     },
     "execution_count": 15,
     "metadata": {},
     "output_type": "execute_result"
    }
   ],
   "source": [
    "five_feature_point = []\n",
    "for i in range(0, len(first_frame)):   \n",
    "    point1 = first_frame[i][6][0]\n",
    "    point2 = first_frame[i][10][0]\n",
    "    five_feature_point.append(np.abs(point2-point1))\n",
    "five_feature_point = np.asarray( five_feature_point, dtype=object)\n",
    "five_feature_point\n",
    "#7,11"
   ]
  },
  {
   "cell_type": "code",
   "execution_count": 16,
   "metadata": {},
   "outputs": [
    {
     "data": {
      "text/plain": [
       "array([46.002459999999985, 47.573459999999955, 50.37164999999999,\n",
       "       48.91736000000003, 47.700710000000015, 36.29955000000001,\n",
       "       33.960890000000006, 35.974789999999985, 38.51358000000005,\n",
       "       35.275769999999966, 37.67982000000001, 47.29204999999996,\n",
       "       44.03095999999999, 42.380420000000015, 39.40820000000002,\n",
       "       44.05560000000003, 52.62810000000002, 49.441689999999966,\n",
       "       43.70517000000001, 42.25925999999998, 53.80801999999997,\n",
       "       48.90110000000004, 44.22910999999999, 44.468129999999974,\n",
       "       45.70139999999998, 43.54512, 42.06837999999999, 40.40829000000002,\n",
       "       44.444339999999954, 38.32390000000004, 40.52332000000001,\n",
       "       37.60826000000003, 39.715400000000045, 41.64678999999995,\n",
       "       39.16867000000002, 37.12783000000002, 38.561019999999985,\n",
       "       36.21756999999997, 37.12158999999997, 39.239480000000015,\n",
       "       69.62619999999998, 66.22681, 67.06600000000003, 65.57173,\n",
       "       67.30680000000001, 67.60883000000001, 41.41097000000002,\n",
       "       64.12536999999998, 67.61678, 67.28053, 65.61491999999998],\n",
       "      dtype=object)"
      ]
     },
     "execution_count": 16,
     "metadata": {},
     "output_type": "execute_result"
    }
   ],
   "source": [
    "six_feature_point =[]\n",
    "for i in range(0, len(first_frame)):   \n",
    "    point1 = first_frame[i][31][0]\n",
    "    point2 = first_frame[i][35][0]\n",
    "    six_feature_point.append(np.abs(point2-point1))\n",
    "six_feature_point = np.asarray( six_feature_point, dtype=object)\n",
    "six_feature_point\n",
    "#32,36"
   ]
  },
  {
   "cell_type": "code",
   "execution_count": 17,
   "metadata": {},
   "outputs": [
    {
     "data": {
      "text/plain": [
       "array([24.649040000000014, 29.27212000000003, 30.33069999999998,\n",
       "       29.592300000000023, 28.068979999999954, 21.404629999999997,\n",
       "       23.045680000000004, 23.574039999999968, 23.31711999999999,\n",
       "       22.358220000000017, 22.10163, 36.93379999999996, 22.83148,\n",
       "       23.09147999999999, 22.345950000000016, 41.54285999999996,\n",
       "       25.704489999999964, 28.11425, 41.76231999999999, 42.36403999999999,\n",
       "       45.60861999999997, 34.050509999999974, 35.04303999999996,\n",
       "       36.72737000000001, 31.82704000000001, 33.23340999999999,\n",
       "       33.54767000000004, 20.330319999999972, 21.923249999999996,\n",
       "       23.46078, 23.266509999999982, 22.797169999999994,\n",
       "       21.665020000000027, 39.84535999999997, 31.01967000000002,\n",
       "       30.557979999999986, 29.26596999999998, 31.101459999999975,\n",
       "       29.747210000000052, 28.056579999999997, 39.563890000000015,\n",
       "       40.56035000000003, 42.18499000000003, 40.23010999999997,\n",
       "       49.30556999999999, 50.959, 42.33797000000004, 58.353080000000034,\n",
       "       62.67945000000003, 60.739779999999996, 59.41408999999999],\n",
       "      dtype=object)"
      ]
     },
     "execution_count": 17,
     "metadata": {},
     "output_type": "execute_result"
    }
   ],
   "source": [
    "seven_feature_point =[]\n",
    "for i in range(0, len(first_frame)):   \n",
    "    point1 = first_frame[i][61][0]\n",
    "    point2 = first_frame[i][65][0]\n",
    "    seven_feature_point.append(np.abs(point2-point1))\n",
    "seven_feature_point = np.asarray( seven_feature_point, dtype=object)\n",
    "seven_feature_point\n",
    "#61,65"
   ]
  },
  {
   "cell_type": "code",
   "execution_count": 18,
   "metadata": {},
   "outputs": [
    {
     "data": {
      "text/plain": [
       "array([119.18116500000002, 116.83295999999996, 118.35316,\n",
       "       118.02394499999991, 118.15443000000005, 86.32914,\n",
       "       87.27517499999999, 86.58643999999998, 82.83473499999997, 85.08625,\n",
       "       84.27823999999998, 93.07187500000003, 93.79263500000002, 95.786145,\n",
       "       97.56446999999997, 92.59136000000001, 97.13424499999996,\n",
       "       98.32676500000002, 95.56271000000004, 95.74266, 97.29689499999998,\n",
       "       108.70876999999999, 110.82799499999999, 110.31047999999998,\n",
       "       109.70598000000001, 112.01627000000002, 109.76085499999999,\n",
       "       89.99258000000003, 89.95303000000001, 90.2595, 90.08671499999997,\n",
       "       91.59902499999998, 91.10108499999996, 91.31486500000005,\n",
       "       109.13162000000003, 111.47793000000001, 111.56210499999997,\n",
       "       110.43670499999999, 110.72919000000002, 109.931895,\n",
       "       102.72643000000005, 103.22321499999998, 101.43882000000002,\n",
       "       101.964745, 103.63901000000004, 103.56627500000002,\n",
       "       99.55260999999996, 125.67472500000002, 124.70084500000002,\n",
       "       127.08872999999994, 131.37437999999997], dtype=object)"
      ]
     },
     "execution_count": 18,
     "metadata": {},
     "output_type": "execute_result"
    }
   ],
   "source": [
    "#asumimos la mean horizontalmente va a dar la distancia horizontal del punto intermedio\n",
    "eight_feature_point = []\n",
    "for i in range(0, len(first_frame)):   \n",
    "    point1a = first_frame[i][37][0]\n",
    "    point2a = first_frame[i][43][0]        \n",
    "    point1b = first_frame[i][38][0]\n",
    "    point2b = first_frame[i][44][0]\n",
    "    point1 = (point1a + point1b)/2#mean\n",
    "    point2 = (point2a + point2b)/2\n",
    "    eight_feature_point.append(np.abs(point2-point1))\n",
    "eight_feature_point = np.asarray( eight_feature_point, dtype=object)\n",
    "eight_feature_point\n",
    "#dieferencia entre mean de 38-39 y 44-45"
   ]
  },
  {
   "cell_type": "code",
   "execution_count": 19,
   "metadata": {},
   "outputs": [
    {
     "data": {
      "text/plain": [
       "array([51.41291000000001, 51.15017, 56.84996000000001, 55.691340000000025,\n",
       "       54.559860000000015, 35.001149999999996, 38.44709,\n",
       "       36.228290000000015, 33.60449, 35.77386999999999, 40.50103999999999,\n",
       "       33.82542999999998, 40.15244000000001, 39.79626000000002,\n",
       "       40.57670999999999, 44.79680000000002, 37.53293000000002,\n",
       "       39.24250000000001, 44.498339999999985, 44.356539999999995,\n",
       "       46.07274000000001, 38.57808, 38.30173000000002, 39.167250000000024,\n",
       "       38.597170000000006, 40.32446999999996, 38.25757999999996,\n",
       "       40.00405000000001, 41.5634, 40.86660999999998, 39.909940000000006,\n",
       "       42.19081, 42.30257999999998, 46.76688999999999, 43.292640000000006,\n",
       "       45.054550000000006, 43.351699999999994, 45.634979999999985,\n",
       "       45.36531000000002, 41.439059999999984, 43.803589999999986,\n",
       "       45.20595000000003, 44.18829999999997, 43.443370000000016,\n",
       "       50.43281999999999, 50.703449999999975, 46.17833999999999,\n",
       "       59.16003999999998, 56.91854000000001, 57.24261000000001, 49.07549],\n",
       "      dtype=object)"
      ]
     },
     "execution_count": 19,
     "metadata": {},
     "output_type": "execute_result"
    }
   ],
   "source": [
    "nine_feature_point =[]\n",
    "for i in range(0, len(first_frame)):   \n",
    "    point1 = first_frame[i][42][0]\n",
    "    point2 = first_frame[i][45][0]\n",
    "    nine_feature_point.append(np.abs(point2-point1))\n",
    "nine_feature_point = np.asarray( nine_feature_point, dtype=object)\n",
    "nine_feature_point\n",
    "#43 46"
   ]
  },
  {
   "cell_type": "code",
   "execution_count": 20,
   "metadata": {},
   "outputs": [
    {
     "data": {
      "text/plain": [
       "array([69.86000999999999, 64.64231000000001, 63.32152000000002,\n",
       "       63.650649999999985, 64.66537, 49.67561999999998, 49.07823000000002,\n",
       "       50.58783, 50.21794999999997, 49.754440000000045, 47.9898,\n",
       "       59.037409999999966, 55.27931000000001, 57.783180000000016,\n",
       "       56.723040000000026, 48.19219999999996, 57.358239999999995,\n",
       "       57.68609999999998, 51.66739000000001, 50.51757999999998,\n",
       "       52.17429000000001, 68.63281, 70.98340000000002, 68.91091,\n",
       "       67.76471999999995, 68.59812, 68.61796000000004, 49.518759999999986,\n",
       "       48.29227000000003, 49.71836999999999, 48.20049999999998, 50.05507,\n",
       "       52.24979999999999, 44.811019999999985, 67.73109, 68.61674,\n",
       "       69.44612999999998, 65.95105000000001, 67.05129, 68.04049000000003,\n",
       "       61.04767000000004, 60.35156999999998, 61.15163000000001,\n",
       "       60.45715000000001, 56.67595, 56.12189999999998, 55.46085999999997,\n",
       "       66.43509, 65.67982, 68.80474999999996, 83.29998], dtype=object)"
      ]
     },
     "execution_count": 20,
     "metadata": {},
     "output_type": "execute_result"
    }
   ],
   "source": [
    "ten_feature_point =[]\n",
    "for i in range(0, len(first_frame)):   \n",
    "    point1 = first_frame[i][39][0]\n",
    "    point2 = first_frame[i][42][0]\n",
    "    ten_feature_point.append(np.abs(point2-point1))\n",
    "ten_feature_point = np.asarray( ten_feature_point, dtype=object)\n",
    "ten_feature_point\n",
    "#40-43"
   ]
  },
  {
   "cell_type": "code",
   "execution_count": 22,
   "metadata": {},
   "outputs": [
    {
     "data": {
      "text/plain": [
       "array([47.80718999999999, 55.123729999999966, 55.13198999999997,\n",
       "       54.09541999999999, 52.140480000000025, 40.675070000000005,\n",
       "       39.26644999999996, 36.97985, 32.09397000000001, 34.6927,\n",
       "       34.36339000000004, 35.21338000000003, 40.58403999999999,\n",
       "       39.37221999999997, 43.46955, 47.43306000000001, 40.49709999999999,\n",
       "       40.48258000000001, 44.838959999999986, 46.557890000000015,\n",
       "       43.28882999999999, 39.46400999999997, 38.29972999999998,\n",
       "       39.167359999999974, 41.248020000000025, 42.670590000000004,\n",
       "       40.338179999999994, 42.886089999999996, 42.83466999999999,\n",
       "       43.406620000000004, 42.818460000000016, 44.13716999999997,\n",
       "       41.88017000000002, 47.753690000000034, 40.34245999999999,\n",
       "       41.51903999999999, 42.590750000000014, 44.16561999999999,\n",
       "       42.51775999999998, 43.60672999999997, 45.574059999999974,\n",
       "       46.03012000000001, 44.97759000000002, 46.91054, 49.93450999999999,\n",
       "       50.06148000000002, 44.85014000000001, 58.50622000000001,\n",
       "       59.82470000000001, 58.16809000000001, 46.004849999999976],\n",
       "      dtype=object)"
      ]
     },
     "execution_count": 22,
     "metadata": {},
     "output_type": "execute_result"
    }
   ],
   "source": [
    "eleven_feature_point =[]\n",
    "for i in range(0, len(first_frame)):   \n",
    "    point1 = first_frame[i][36][0]\n",
    "    point2 = first_frame[i][39][0]\n",
    "    eleven_feature_point.append(np.abs(point2-point1))\n",
    "eleven_feature_point = np.asarray( eleven_feature_point, dtype=object)\n",
    "eleven_feature_point\n",
    "#37 40"
   ]
  },
  {
   "cell_type": "code",
   "execution_count": null,
   "metadata": {},
   "outputs": [],
   "source": []
  },
  {
   "cell_type": "code",
   "execution_count": 19,
   "metadata": {},
   "outputs": [],
   "source": [
    "#estos son vertical distance"
   ]
  },
  {
   "cell_type": "code",
   "execution_count": 23,
   "metadata": {},
   "outputs": [
    {
     "data": {
      "text/plain": [
       "array([85.19286000000002, 85.26593000000003, 82.72518, 84.73577,\n",
       "       81.64027000000002, 72.69696000000002, 71.16573, 74.79878000000002,\n",
       "       71.00049999999999, 73.34162, 62.96787999999998, 54.3364,\n",
       "       79.87141999999997, 79.20645999999999, 78.88707, 86.58848,\n",
       "       70.77699000000001, 69.61424000000002, 70.84064000000001, 71.9794,\n",
       "       70.059, 83.65520999999998, 80.69811000000001, 88.78900999999999,\n",
       "       87.21096999999997, 88.60242, 86.30506000000003, 68.08273,\n",
       "       66.90150999999997, 67.40003999999999, 67.93413000000001,\n",
       "       68.17873000000003, 71.66983000000002, 79.60194000000004,\n",
       "       78.92867000000001, 79.76671000000002, 83.87159, 78.92781,\n",
       "       73.78066999999999, 87.44486, 76.38666999999998, 78.77701000000002,\n",
       "       78.39039, 79.47626, 83.86206999999999, 83.86332999999996, 87.249,\n",
       "       101.44395999999998, 105.55780999999999, 102.29326999999998,\n",
       "       102.73244], dtype=object)"
      ]
     },
     "execution_count": 23,
     "metadata": {},
     "output_type": "execute_result"
    }
   ],
   "source": [
    "twelve_feature_point =[]\n",
    "for i in range(0, len(first_frame)):   \n",
    "    point1 = first_frame[i][27][1]\n",
    "    point2 = first_frame[i][33][1]\n",
    "    twelve_feature_point.append(np.abs(point2-point1))\n",
    "twelve_feature_point = np.asarray( twelve_feature_point, dtype=object)\n",
    "twelve_feature_point\n",
    "#28-34"
   ]
  },
  {
   "cell_type": "code",
   "execution_count": 24,
   "metadata": {},
   "outputs": [
    {
     "data": {
      "text/plain": [
       "array([110.76824999999997, 100.3175, 103.39454999999998,\n",
       "       107.00492000000003, 106.29678999999999, 102.97696000000002,\n",
       "       105.94421999999997, 102.71310999999997, 104.5736,\n",
       "       104.14107000000001, 106.30690000000004, 91.00027999999998,\n",
       "       117.37940000000003, 117.72199, 120.28562, 111.80210999999997,\n",
       "       104.81504999999999, 102.83697999999998, 104.80451, 108.62939,\n",
       "       100.10750000000002, 127.48154, 129.48134999999996, 130.31236,\n",
       "       124.03861, 129.55374, 126.03174999999999, 94.36556000000002,\n",
       "       102.70691000000005, 104.88641999999999, 101.88626,\n",
       "       101.45824999999996, 100.61406, 99.26884999999999,\n",
       "       113.07557999999997, 115.14842000000002, 113.05331000000001,\n",
       "       116.35392000000002, 116.39790000000002, 117.09838999999997,\n",
       "       116.21154999999999, 116.90812999999997, 115.32841000000002,\n",
       "       118.05580000000003, 113.60248000000001, 118.92256000000003,\n",
       "       112.54378999999997, 148.20011, 145.43834000000004,\n",
       "       146.34543000000002, 145.15496000000002], dtype=object)"
      ]
     },
     "execution_count": 24,
     "metadata": {},
     "output_type": "execute_result"
    }
   ],
   "source": [
    "thirteen_feature_point =[]\n",
    "for i in range(0, len(first_frame)):   \n",
    "    point1 = first_frame[i][33][1]\n",
    "    point2 = first_frame[i][8][1]\n",
    "    thirteen_feature_point.append(np.abs(point2-point1))\n",
    "thirteen_feature_point = np.asarray( thirteen_feature_point, dtype=object)\n",
    "thirteen_feature_point\n",
    "#34 9"
   ]
  },
  {
   "cell_type": "code",
   "execution_count": 25,
   "metadata": {},
   "outputs": [
    {
     "data": {
      "text/plain": [
       "array([25.43394999999998, 31.849395000000015, 33.787980000000005,\n",
       "       33.35919000000001, 31.797134999999997, 22.386184999999983,\n",
       "       24.508229999999998, 23.896424999999994, 24.351009999999974,\n",
       "       24.007569999999987, 23.472489999999993, 26.858494999999976,\n",
       "       22.329559999999987, 22.5779, 23.319080000000014,\n",
       "       24.749839999999978, 31.628094999999973, 31.23707999999999,\n",
       "       28.89399499999996, 30.13246000000001, 24.87205499999999,\n",
       "       34.96621999999999, 31.77130999999997, 32.73441500000001, 33.3348,\n",
       "       32.97154500000002, 32.13674500000002, 24.42233999999999,\n",
       "       24.553499999999985, 24.182995000000005, 25.711234999999988,\n",
       "       26.034215000000017, 25.085139999999996, 26.187534999999997,\n",
       "       32.040880000000016, 30.378005, 31.320525000000004,\n",
       "       31.897154999999998, 29.48604500000002, 32.06499500000001,\n",
       "       32.641549999999995, 36.535225, 37.858589999999964,\n",
       "       37.578389999999985, 32.17262499999998, 34.141744999999986,\n",
       "       26.559444999999982, 48.40535, 53.139820000000014,\n",
       "       53.00726500000002, 55.41767500000003], dtype=object)"
      ]
     },
     "execution_count": 25,
     "metadata": {},
     "output_type": "execute_result"
    }
   ],
   "source": [
    "#asumimos la mean horizontalmente va a dar la distancia horizontal del punto intermedio\n",
    "fourteen_feature_point = []\n",
    "for i in range(0, len(first_frame)):   \n",
    "    point1a = first_frame[i][38][1]\n",
    "    point2a = first_frame[i][20][1]        \n",
    "    point1b = first_frame[i][43][1]\n",
    "    point2b = first_frame[i][23][1]\n",
    "    point1 = (point1a + point1b)/2#mean\n",
    "    point2 = (point2a + point2b)/2\n",
    "    fourteen_feature_point.append(np.abs(point2-point1))\n",
    "fourteen_feature_point = np.asarray( fourteen_feature_point, dtype=object)\n",
    "fourteen_feature_point\n",
    "#distancia de ños means de39-44 y 21-24\n"
   ]
  },
  {
   "cell_type": "code",
   "execution_count": 26,
   "metadata": {},
   "outputs": [
    {
     "data": {
      "text/plain": [
       "array([17.363457500000003, 15.06223, 13.163489999999996,\n",
       "       15.416887500000001, 13.8038125, 14.812505000000002,\n",
       "       13.569245000000002, 13.744282500000004, 12.618985000000002,\n",
       "       13.345924999999987, 14.52060500000001, 3.844930000000005,\n",
       "       15.723605, 16.177172500000005, 16.210892499999993, 12.6752975,\n",
       "       13.55037999999999, 13.408520000000003, 12.906537500000006,\n",
       "       13.005870000000002, 11.276705000000007, 13.656700000000008,\n",
       "       14.3531075, 15.359937499999994, 15.186212500000003,\n",
       "       13.55447000000001, 13.22249, 13.629129999999996,\n",
       "       13.108332499999996, 13.964640000000003, 13.393919999999994,\n",
       "       15.004925, 14.359575, 13.3896625, 17.1515025, 17.325792500000006,\n",
       "       18.1352125, 17.589789999999994, 16.636069999999997,\n",
       "       17.158779999999993, 14.893019999999993, 14.333462500000003,\n",
       "       14.270400000000002, 14.7078025, 13.669012500000001,\n",
       "       13.478895000000001, 16.8914075, 14.520387499999998,\n",
       "       13.904597500000001, 15.042067500000002, 6.964854999999993],\n",
       "      dtype=object)"
      ]
     },
     "execution_count": 26,
     "metadata": {},
     "output_type": "execute_result"
    }
   ],
   "source": [
    "#it says distance, I asumme is vertical pnly, but could be actual difference in witch case we use np.align\n",
    "#creo que solo la vertical tiene + sentido para el height\n",
    "fifteen_feature_point = []\n",
    "for i in range(0, len(first_frame)):   \n",
    "    point1 = first_frame[i][37][1]\n",
    "    point2 = first_frame[i][41][1]        \n",
    "    point3 = first_frame[i][38][1]\n",
    "    point4 = first_frame[i][40][1]     \n",
    "    point5 = first_frame[i][43][1]\n",
    "    point6 = first_frame[i][47][1]        \n",
    "    point7 = first_frame[i][44][1]\n",
    "    point8 = first_frame[i][46][1]\n",
    "    point_pair1 = np.abs(point2-point1)\n",
    "    point_pair2 = np.abs(point4-point3)\n",
    "    point_pair3 = np.abs(point6-point5)\n",
    "    point_pair4 = np.abs(point8-point7)\n",
    "    fifteen_point = np.mean(np.array([point_pair1, point_pair2, point_pair3, point_pair4]))\n",
    "    fifteen_feature_point.append(fifteen_point)\n",
    "fifteen_feature_point = np.asarray( fifteen_feature_point, dtype=object)\n",
    "fifteen_feature_point\n",
    "#mean de las distancias de par 38-42, 39-41, 44-48, 45-47"
   ]
  },
  {
   "cell_type": "code",
   "execution_count": 27,
   "metadata": {},
   "outputs": [
    {
     "data": {
      "text/plain": [
       "array([48.99633, 49.86543999999998, 50.08084000000002, 53.78095000000002,\n",
       "       49.25133999999997, 48.42476999999997, 48.52463, 45.52366000000001,\n",
       "       50.73687000000001, 50.624059999999986, 51.98631, 40.02122000000003,\n",
       "       50.85893000000004, 51.78203000000002, 53.379399999999976, 48.21499,\n",
       "       41.43878000000001, 42.37847999999997, 43.292340000000024,\n",
       "       44.75483000000003, 41.951329999999984, 55.91941000000003,\n",
       "       54.50265999999999, 59.01902000000001, 55.004110000000026,\n",
       "       57.01080999999999, 53.95152999999999, 44.09562999999997,\n",
       "       43.026070000000004, 43.95587999999998, 43.90263999999996,\n",
       "       42.03710000000001, 46.45740999999998, 40.039289999999994,\n",
       "       51.791829999999976, 52.936949999999996, 51.704740000000015,\n",
       "       54.13814000000002, 54.18267, 52.93573999999998, 58.11385000000001,\n",
       "       57.41740999999996, 55.341920000000016, 58.05344000000002,\n",
       "       59.58931000000001, 58.21849000000003, 49.88230999999999,\n",
       "       76.50444000000005, 67.62918000000002, 81.02731, 76.70150000000001],\n",
       "      dtype=object)"
      ]
     },
     "execution_count": 27,
     "metadata": {},
     "output_type": "execute_result"
    }
   ],
   "source": [
    "sixteen_feature_point =[]\n",
    "for i in range(0, len(first_frame)):   \n",
    "    point1 = first_frame[i][33][1]\n",
    "    point2 = first_frame[i][56][1]\n",
    "    sixteen_feature_point.append(np.abs(point2-point1))\n",
    "sixteen_feature_point = np.asarray( sixteen_feature_point, dtype=object)\n",
    "sixteen_feature_point\n",
    "#34-57"
   ]
  },
  {
   "cell_type": "code",
   "execution_count": 28,
   "metadata": {},
   "outputs": [
    {
     "data": {
      "text/plain": [
       "array([74.34746999999999, 65.12040000000002, 68.08348000000001,\n",
       "       71.60160000000002, 69.47980999999999, 65.96454, 67.45283,\n",
       "       66.62212999999997, 65.75743999999997, 65.49421000000001, 66.80291,\n",
       "       62.821619999999996, 79.93736000000001, 79.59676999999999,\n",
       "       80.10529000000002, 79.11417999999998, 76.11461000000003,\n",
       "       73.51929999999999, 76.51299999999998, 75.54428000000001,\n",
       "       73.28885000000002, 88.69857999999999, 90.61431999999996,\n",
       "       89.66271999999998, 86.07155999999998, 91.77510999999998,\n",
       "       89.76679999999999, 58.99261000000001, 67.79843, 68.25948,\n",
       "       66.14613000000003, 69.03927999999996, 64.86788999999999,\n",
       "       67.44631000000004, 78.91685999999999, 79.00750000000005,\n",
       "       78.52897000000002, 79.21875, 80.29554000000002, 81.6651,\n",
       "       78.59447999999998, 79.58364999999998, 80.93040000000002,\n",
       "       80.93030000000005, 74.97501, 82.29521, 78.13221999999996,\n",
       "       97.31737999999996, 101.17429000000004, 93.23665, 94.55027999999999],\n",
       "      dtype=object)"
      ]
     },
     "execution_count": 28,
     "metadata": {},
     "output_type": "execute_result"
    }
   ],
   "source": [
    "#no tenemos chin, usamos desde la boca hasta el fondo\n",
    "seventeen_feature_point =[]\n",
    "for i in range(0, len(first_frame)):   \n",
    "    point1 = first_frame[i][67][1]\n",
    "    point2 = first_frame[i][8][1]\n",
    "    seventeen_feature_point.append(np.abs(point2-point1))\n",
    "seventeen_feature_point = np.asarray( seventeen_feature_point, dtype=object)\n",
    "seventeen_feature_point\n",
    "\n",
    "#68-9\n",
    "\n",
    "#HAY QUE CAMBIAR TODOS LOS INDICES"
   ]
  },
  {
   "cell_type": "code",
   "execution_count": 26,
   "metadata": {},
   "outputs": [],
   "source": [
    "#Ahora vienen los feature points que involucran shape y textura"
   ]
  },
  {
   "cell_type": "code",
   "execution_count": 29,
   "metadata": {},
   "outputs": [
    {
     "data": {
      "text/plain": [
       "array([16929.688541697597, 16825.895329713, 16951.82625665295,\n",
       "       17249.8376208582, 16820.517535870396, 10692.643661647602,\n",
       "       10610.107474816901, 10523.635431144847, 10515.7463111047,\n",
       "       10496.235564302002, 10701.921786340952, 8520.42366207225,\n",
       "       13182.2552882128, 13415.4689510437, 13323.158128681096,\n",
       "       13430.240439551146, 11295.264277317749, 11581.671528186398,\n",
       "       11294.756084516748, 11736.719252832145, 11849.798670261402,\n",
       "       14840.617331517496, 15098.856033622757, 15082.470357333,\n",
       "       14220.186879104298, 15077.449273355698, 14522.581718650998,\n",
       "       11130.071558831296, 11057.836023950753, 11100.216072182997,\n",
       "       10920.174774150653, 11396.2664522105, 11477.832497169404,\n",
       "       11350.014115382646, 13280.506987798391, 13115.425615025846,\n",
       "       13472.43065867635, 13329.8603109792, 13354.681553797504,\n",
       "       13018.019238007295, 15580.271613836749, 15126.301237277403,\n",
       "       15123.946751250054, 15333.596242563108, 16170.473512675004,\n",
       "       15917.589299154399, 12867.754359327853, 22027.94394421074,\n",
       "       21227.570796756954, 23040.415502951197, 21878.226983951503],\n",
       "      dtype=object)"
      ]
     },
     "execution_count": 29,
     "metadata": {},
     "output_type": "execute_result"
    }
   ],
   "source": [
    "from scipy.spatial import ConvexHull, convex_hull_plot_2d\n",
    "import numpy as np\n",
    "eigtheen_feature_point = []\n",
    "for i in range(0, len(first_frame)):   \n",
    "    points = first_frame[i][39:59]\n",
    "    hull = ConvexHull(points)\n",
    "    eigtheen_feature_point.append(hull.volume)#cause is a 2d array volume == area\n",
    "eigtheen_feature_point = np.asarray( eigtheen_feature_point, dtype=object)\n",
    "eigtheen_feature_point\n",
    "\n",
    "#40 a 60"
   ]
  },
  {
   "cell_type": "code",
   "execution_count": null,
   "metadata": {},
   "outputs": [],
   "source": [
    "nineteen_feature_point<- Deberia ser average curvatura de cheeks\n",
    "\n",
    "twenty_feature_point <- Deberia ser x co-ordinate of center of mass where mass rep-\n",
    "resents curvature coefficient of cheeks area\n",
    "\n",
    "twentyone_feature_point <- Deberia ser y co-ordinate of center of mass where mass rep-\n",
    "resents curvature coefficient of cheeks area"
   ]
  },
  {
   "cell_type": "code",
   "execution_count": null,
   "metadata": {},
   "outputs": [],
   "source": []
  },
  {
   "cell_type": "markdown",
   "metadata": {},
   "source": [
    "### Vamos a empezar denuevo"
   ]
  },
  {
   "cell_type": "markdown",
   "metadata": {},
   "source": []
  },
  {
   "cell_type": "markdown",
   "metadata": {},
   "source": [
    "### "
   ]
  },
  {
   "cell_type": "code",
   "execution_count": 52,
   "metadata": {},
   "outputs": [
    {
     "data": {
      "text/plain": [
       "array([488.31702, 305.20952], dtype=object)"
      ]
     },
     "execution_count": 52,
     "metadata": {},
     "output_type": "execute_result"
    }
   ],
   "source": [
    "first_frame[0][14]"
   ]
  },
  {
   "cell_type": "code",
   "execution_count": 36,
   "metadata": {},
   "outputs": [],
   "source": [
    "#VA A HABER QUE RASTERIZAR TAL VEZ.POR AHORA UN RECTANGULO COMUN\n",
    "import numpy as np\n",
    "'''\n",
    "SHAPES PARA MAS ADELANTE\n",
    "left_cheek = []\n",
    "left_cheek.append(first_frame[0][1]\n",
    ")\n",
    "left_cheek.append(first_frame[0][39]\n",
    ")\n",
    "left_cheek.append(first_frame[0][28]\n",
    ")\n",
    "left_cheek.append(first_frame[0][48]\n",
    ")\n",
    "left_cheek.append(first_frame[0][4]\n",
    ")\n",
    "left_cheek.append(first_frame[0][3]\n",
    ")\n",
    "left_cheek.append(first_frame[0][2]\n",
    ")\n",
    "left_cheek = np.asarray(left_cheek)\n",
    "print(left_cheek)\n",
    "#left cheek\n",
    "\n",
    "\n",
    "\n",
    "first_frame[0][28]\n",
    "first_frame[0][42]\n",
    "first_frame[0][15]\n",
    "first_frame[0][14]\n",
    "first_frame[0][13]\n",
    "first_frame[0][12]\n",
    "first_frame[0][54]\n",
    "#right cheek\n",
    "'''\n",
    "#Rectangula actual\n",
    "left_cheek_x0 = int(first_frame[0][1][0])#x de landmark 2\n",
    "left_cheek_x1 = int(first_frame[0][31][0])#\n",
    "left_cheek_y0 = int(first_frame[0][28][1])\n",
    "left_cheek_y1 = int(first_frame[0][3][1])\n",
    "\n",
    "\n",
    "right_cheek_x0 = int(first_frame[0][35][0])#x de landmark 2\n",
    "right_cheek_x1 = int(first_frame[0][15][0])#\n",
    "right_cheek_y0 = int(first_frame[0][28][1])\n",
    "right_cheek_y1 = int(first_frame[0][13][1])\n",
    "\n",
    "\n",
    "face_example = '../ck+copy/extended-cohn-kanade-images/cohn-kanade-images/S014/001/S014_001_00000001.png'\n",
    "img= cv2.imread(face_example)\n",
    "#imgleft = img[left_cheek_x0:left_cheek_x1,left_cheek_y0:left_cheek_y1,:]\n",
    "imgleft = img[left_cheek_y0:left_cheek_y1,left_cheek_x0:left_cheek_x1,:]\n",
    "imgright = img[right_cheek_y0:right_cheek_y1,right_cheek_x0:right_cheek_x1,:]\n",
    "#imageRGB = cv2.cvtColor(imgleft, cv2.COLOR_BGR2RGB)\n",
    "\n",
    "imgleft = cv2.cvtColor(imgleft, cv2.COLOR_BGR2GRAY)\n",
    "imgright =cv2.cvtColor(imgright, cv2.COLOR_BGR2GRAY)\n",
    "\n",
    "cv2.imshow(\"Face landmark result\", imgleft)\n",
    "\n",
    "# Pause screen to wait key from user to see result\n",
    "cv2.waitKey(0)\n",
    "cv2.destroyAllWindows()\n"
   ]
  },
  {
   "cell_type": "code",
   "execution_count": 120,
   "metadata": {},
   "outputs": [],
   "source": []
  },
  {
   "cell_type": "code",
   "execution_count": 138,
   "metadata": {},
   "outputs": [],
   "source": [
    "\n",
    "\n",
    "\n",
    "subjects_images = '../ck+copy/extended-cohn-kanade-images/cohn-kanade-images'\n",
    "sorted_subjects =   np.sort(os.listdir('../ck+copy/extended-cohn-kanade-images/cohn-kanade-images/')) # we probably need to not have the sorted\n",
    "\n",
    "first_images = []\n",
    "\n",
    "for subject in sorted_subjects:\n",
    "    one_subject_images = '../ck+copy/extended-cohn-kanade-images/cohn-kanade-images/' + str(subject)+ '/'\n",
    "    sorted_list = np.sort(os.listdir(one_subject_images)) #creo que este sort se puede quitar\n",
    "    distances_per_subject = []\n",
    "    for emotion in sorted_list:\n",
    "        matrix_landmark_per_frame = []\n",
    "        subject_landmark_emotion = one_subject_landmarks + str(emotion)                   \n",
    "        img = '../ck+copy/extended-cohn-kanade-images/cohn-kanade-images/' +  str(subject)+ '/' + str(emotion)+'/'+ str(subject)+ '_'+str(emotion)+'_'+ str(1).zfill(8)+'.png'            \n",
    "        first_images.append(img)   \n",
    "    "
   ]
  },
  {
   "cell_type": "code",
   "execution_count": 145,
   "metadata": {},
   "outputs": [],
   "source": [
    "import math\n",
    "first_images = np.asarray(first_images)\n",
    "\n",
    "\n",
    "nineteen_feature = []\n",
    "twenty_feature = []\n",
    "twentyone_feature = []\n",
    "\n",
    "\n",
    "for i in range(0, len(first_images)):    \n",
    "    #Rectangula actual\n",
    "    left_cheek_x0 = int(first_frame[i][1][0])#x de landmark 2\n",
    "    left_cheek_x1 = int(first_frame[i][31][0])#\n",
    "    left_cheek_y0 = int(first_frame[i][28][1])\n",
    "    left_cheek_y1 = int(first_frame[i][3][1])\n",
    "    \n",
    "    right_cheek_x0 = int(first_frame[i][35][0])#x de landmark 2\n",
    "    right_cheek_x1 = int(first_frame[i][15][0])#\n",
    "    right_cheek_y0 = int(first_frame[i][28][1])\n",
    "    right_cheek_y1 = int(first_frame[i][13][1])\n",
    "\n",
    "    img = cv2.imread(first_images[i])\n",
    "    imgleft = img[left_cheek_y0:left_cheek_y1,left_cheek_x0:left_cheek_x1,:]\n",
    "    imgright = img[right_cheek_y0:right_cheek_y1,right_cheek_x0:right_cheek_x1,:]\n",
    "    #imageRGB = cv2.cvtColor(imgleft, cv2.COLOR_BGR2RGB)\n",
    "\n",
    "    imgleft = cv2.cvtColor(imgleft, cv2.COLOR_BGR2GRAY)\n",
    "    imgright =cv2.cvtColor(imgright, cv2.COLOR_BGR2GRAY)\n",
    "    \n",
    "    nineteen, twenty, twentyone = cheeks_function(imgleft, imgright, left_cheek_y0,left_cheek_x0,right_cheek_y0,right_cheek_x0)\n",
    "    nineteen_feature.append(nineteen)\n",
    "    twenty_feature.append(twenty)\n",
    "    twentyone_feature.append(twentyone)"
   ]
  },
  {
   "cell_type": "code",
   "execution_count": 137,
   "metadata": {},
   "outputs": [],
   "source": [
    "      #ESTA ES CON UNA SOLA      \n",
    "\n",
    "def cheeks_function(imgleft, imgright, left_cheek_y0,left_cheek_x0,right_cheek_y0,right_cheek_x0):\n",
    "    edgesxleft = cv2.Sobel(imgleft, -1, dx=1, dy=0, ksize=1)\n",
    "    edgesyleft = cv2.Sobel(imgleft, -1, dx=0, dy=1, ksize=1)\n",
    "\n",
    "    outputleft = np.zeros((len(edgesxleft),len(edgesxleft[0])))\n",
    "\n",
    "    for i in range(0, len(edgesxleft)):\n",
    "     for j in range(0, len(edgesxleft[0])):      \n",
    "            outputleft[i][j] = math.sqrt(pow(edgesxleft[i][j],2) + pow(edgesyleft[i][j],2)+ pow(-1,2))\n",
    "\n",
    "    angleleft = np.zeros((len(edgesxleft),len(edgesxleft[0]),3))  \n",
    "    \n",
    "    for i in range(0, len(edgesxleft)):\n",
    "     for j in range(0, len(edgesxleft[0])):\n",
    "            pos =np.array([edgesxleft[i][j], edgesyleft[i][j], -1]/outputleft[i][j])\n",
    "            angleleft[i][j] = pos\n",
    "            \n",
    "    \n",
    "\n",
    "    edgesxright = cv2.Sobel(imgright, -1, dx=1, dy=0, ksize=1)\n",
    "    edgesyright = cv2.Sobel(imgright, -1, dx=0, dy=1, ksize=1)\n",
    "\n",
    "    outputright = np.zeros((len(edgesxright),len(edgesxright[0])))\n",
    "\n",
    "    for i in range(0, len(edgesxright)):\n",
    "     for j in range(0, len(edgesxright[0])):       \n",
    "            outputright[i][j] = math.sqrt(pow(edgesxright[i][j],2) + pow(edgesyright[i][j],2)+ pow(-1,2))\n",
    "\n",
    "    angleright = np.zeros((len(edgesxright),len(edgesxright[0]),3))  \n",
    "    for i in range(0, len(edgesxright)):\n",
    "     for j in range(0, len(edgesxright[0])):\n",
    "            pos =np.array([edgesxright[i][j], edgesyright[i][j], -1]/outputright[i][j])\n",
    "            angleright[i][j] = pos\n",
    "            \n",
    "            \n",
    "    beta = np.array([0,0,1])    \n",
    "\n",
    "\n",
    "\n",
    "        \n",
    "    coffleft = np.zeros((len(edgesxleft),len(edgesxleft[0])))\n",
    "    for i in range(0, len(edgesxleft)):\n",
    "     for j in range(0, len(edgesxleft[0])):\n",
    "            coffleft[i][j] = 1- np.dot(angleleft[i][j],beta)\n",
    "\n",
    "    coffright = np.zeros((len(edgesxright),len(edgesxright[0])))\n",
    "    for i in range(0, len(edgesxright)):\n",
    "     for j in range(0, len(edgesxright[0])):\n",
    "            coffright[i][j] = 1 - np.dot(angleright[i][j],beta)\n",
    "    \n",
    "    coff = np.concatenate((coffleft.flatten(), coffright.flatten()))\n",
    "    coff_sum = coff.sum()\n",
    "    coff_average = coff.mean()\n",
    "    \n",
    "    partial_sumxleft = []\n",
    "    for i in range(0, len(edgesxleft)):#losy0debencambiarse arriba\n",
    "     partial_sumxleft.append(coff[i]*(left_cheek_y0+i))\n",
    "\n",
    "    partial_sumyleft = []\n",
    "    for i in range(0, len(edgesxleft[0])):#losy0debencambiarse arriba\n",
    "     partial_sumyleft.append(coff[len(edgesxleft)+i]*(left_cheek_x0+i))\n",
    "    \n",
    "\n",
    "    partial_sumxright = []\n",
    "    for i in range(0, len(edgesxright)):#losy0debencambiarse arriba\n",
    "     partial_sumxright.append(coff[i+len(edgesxleft)*len(edgesxleft[0])]*(right_cheek_y0+i))\n",
    "\n",
    "    partial_sumyright = []\n",
    "    for i in range(0, len(edgesxright[0])):#losy0debencambiarse arriba\n",
    "     partial_sumyright.append(coff[len(edgesxleft)*len(edgesxleft[0])+len(edgesxright)+i]*(right_cheek_x0+i))\n",
    "\n",
    "    partial_sumx = np.concatenate((np.asarray(partial_sumxleft),np.asarray(partial_sumxright)))    \n",
    "    partial_sumy = np.concatenate((np.asarray(partial_sumyleft),np.asarray(partial_sumyright)))    \n",
    "\n",
    "        \n",
    "\n",
    "    #HAY QUE PREGUNTAR ESTO\n",
    "    center_of_massx = np.asarray(partial_sumx).sum()/coff_sum\n",
    "    center_of_massy = np.asarray(partial_sumy).sum()/coff_sum\n",
    "\n",
    "      \n",
    "    return coff_average, center_of_massx, center_of_massy  \n",
    "\n",
    "        \n",
    "\n",
    "\n",
    "\n"
   ]
  },
  {
   "cell_type": "code",
   "execution_count": 103,
   "metadata": {},
   "outputs": [
    {
     "data": {
      "text/plain": [
       "array([[ 1,  2,  3],\n",
       "       [ 5,  6,  7],\n",
       "       [ 8,  9, 10],\n",
       "       [11, 12, 13]])"
      ]
     },
     "execution_count": 103,
     "metadata": {},
     "output_type": "execute_result"
    }
   ],
   "source": [
    "jo=np.array([[1,2,3],[5,6,7]])\n",
    "no=np.array([[8,9,10],[11,12,13]])\n",
    "ve= np.vstack((jo,no))\n",
    "ve"
   ]
  },
  {
   "cell_type": "code",
   "execution_count": 164,
   "metadata": {},
   "outputs": [],
   "source": []
  },
  {
   "cell_type": "code",
   "execution_count": 167,
   "metadata": {},
   "outputs": [],
   "source": [
    "\n",
    "structure_vector = first_feature_point\n",
    "structure_vector = np.vstack((structure_vector, second_feature_point))\n",
    "structure_vector = np.vstack((structure_vector, third_feature_point))\n",
    "structure_vector = np.vstack((structure_vector, fourth_feature_point))\n",
    "structure_vector = np.vstack((structure_vector, five_feature_point))\n",
    "structure_vector = np.vstack((structure_vector, six_feature_point))\n",
    "structure_vector = np.vstack((structure_vector, seven_feature_point))\n",
    "structure_vector = np.vstack((structure_vector, eight_feature_point))\n",
    "structure_vector = np.vstack((structure_vector, nine_feature_point))\n",
    "structure_vector = np.vstack((structure_vector, ten_feature_point))\n",
    "structure_vector = np.vstack((structure_vector, eleven_feature_point))\n",
    "structure_vector = np.vstack((structure_vector, twelve_feature_point))\n",
    "structure_vector = np.vstack((structure_vector, thirteen_feature_point))\n",
    "structure_vector = np.vstack((structure_vector, fourteen_feature_point))\n",
    "structure_vector = np.vstack((structure_vector, fifteen_feature_point))\n",
    "structure_vector = np.vstack((structure_vector, sixteen_feature_point))\n",
    "structure_vector = np.vstack((structure_vector, seventeen_feature_point))\n",
    "structure_vector = np.vstack((structure_vector, eigtheen_feature_point))\n",
    "structure_vector = np.vstack((structure_vector, nineteen_feature))\n",
    "structure_vector = np.vstack((structure_vector, twenty_feature))\n",
    "structure_vector = np.vstack((structure_vector, twentyone_feature))\n"
   ]
  },
  {
   "cell_type": "code",
   "execution_count": 168,
   "metadata": {},
   "outputs": [
    {
     "data": {
      "text/plain": [
       "(21, 51)"
      ]
     },
     "execution_count": 168,
     "metadata": {},
     "output_type": "execute_result"
    }
   ],
   "source": [
    "structure_vector.shape #cada columna es una instancia"
   ]
  },
  {
   "cell_type": "code",
   "execution_count": null,
   "metadata": {},
   "outputs": [],
   "source": [
    "#AHORA HAY QUE CONCATENAR LAS EMOCIONES Y PCA "
   ]
  },
  {
   "cell_type": "code",
   "execution_count": null,
   "metadata": {},
   "outputs": [],
   "source": [
    "#PRIMERO HACEMOS EL CALCULO DE EMOCION"
   ]
  },
  {
   "cell_type": "code",
   "execution_count": 176,
   "metadata": {},
   "outputs": [
    {
     "data": {
      "text/html": [
       "<div>\n",
       "<style scoped>\n",
       "    .dataframe tbody tr th:only-of-type {\n",
       "        vertical-align: middle;\n",
       "    }\n",
       "\n",
       "    .dataframe tbody tr th {\n",
       "        vertical-align: top;\n",
       "    }\n",
       "\n",
       "    .dataframe thead th {\n",
       "        text-align: right;\n",
       "    }\n",
       "</style>\n",
       "<table border=\"1\" class=\"dataframe\">\n",
       "  <thead>\n",
       "    <tr style=\"text-align: right;\">\n",
       "      <th></th>\n",
       "      <th>0</th>\n",
       "    </tr>\n",
       "  </thead>\n",
       "  <tbody>\n",
       "    <tr>\n",
       "      <th>0</th>\n",
       "      <td>29</td>\n",
       "    </tr>\n",
       "    <tr>\n",
       "      <th>1</th>\n",
       "      <td>16</td>\n",
       "    </tr>\n",
       "    <tr>\n",
       "      <th>2</th>\n",
       "      <td>30</td>\n",
       "    </tr>\n",
       "    <tr>\n",
       "      <th>3</th>\n",
       "      <td>19</td>\n",
       "    </tr>\n",
       "    <tr>\n",
       "      <th>4</th>\n",
       "      <td>17</td>\n",
       "    </tr>\n",
       "    <tr>\n",
       "      <th>5</th>\n",
       "      <td>30</td>\n",
       "    </tr>\n",
       "    <tr>\n",
       "      <th>6</th>\n",
       "      <td>17</td>\n",
       "    </tr>\n",
       "    <tr>\n",
       "      <th>7</th>\n",
       "      <td>33</td>\n",
       "    </tr>\n",
       "    <tr>\n",
       "      <th>8</th>\n",
       "      <td>23</td>\n",
       "    </tr>\n",
       "    <tr>\n",
       "      <th>9</th>\n",
       "      <td>32</td>\n",
       "    </tr>\n",
       "    <tr>\n",
       "      <th>10</th>\n",
       "      <td>17</td>\n",
       "    </tr>\n",
       "    <tr>\n",
       "      <th>11</th>\n",
       "      <td>19</td>\n",
       "    </tr>\n",
       "    <tr>\n",
       "      <th>12</th>\n",
       "      <td>12</td>\n",
       "    </tr>\n",
       "    <tr>\n",
       "      <th>13</th>\n",
       "      <td>29</td>\n",
       "    </tr>\n",
       "    <tr>\n",
       "      <th>14</th>\n",
       "      <td>25</td>\n",
       "    </tr>\n",
       "    <tr>\n",
       "      <th>15</th>\n",
       "      <td>14</td>\n",
       "    </tr>\n",
       "    <tr>\n",
       "      <th>16</th>\n",
       "      <td>24</td>\n",
       "    </tr>\n",
       "    <tr>\n",
       "      <th>17</th>\n",
       "      <td>15</td>\n",
       "    </tr>\n",
       "    <tr>\n",
       "      <th>18</th>\n",
       "      <td>14</td>\n",
       "    </tr>\n",
       "    <tr>\n",
       "      <th>19</th>\n",
       "      <td>10</td>\n",
       "    </tr>\n",
       "    <tr>\n",
       "      <th>20</th>\n",
       "      <td>21</td>\n",
       "    </tr>\n",
       "    <tr>\n",
       "      <th>21</th>\n",
       "      <td>13</td>\n",
       "    </tr>\n",
       "    <tr>\n",
       "      <th>22</th>\n",
       "      <td>29</td>\n",
       "    </tr>\n",
       "    <tr>\n",
       "      <th>23</th>\n",
       "      <td>28</td>\n",
       "    </tr>\n",
       "    <tr>\n",
       "      <th>24</th>\n",
       "      <td>14</td>\n",
       "    </tr>\n",
       "    <tr>\n",
       "      <th>25</th>\n",
       "      <td>21</td>\n",
       "    </tr>\n",
       "    <tr>\n",
       "      <th>26</th>\n",
       "      <td>14</td>\n",
       "    </tr>\n",
       "    <tr>\n",
       "      <th>27</th>\n",
       "      <td>33</td>\n",
       "    </tr>\n",
       "    <tr>\n",
       "      <th>28</th>\n",
       "      <td>17</td>\n",
       "    </tr>\n",
       "    <tr>\n",
       "      <th>29</th>\n",
       "      <td>19</td>\n",
       "    </tr>\n",
       "    <tr>\n",
       "      <th>30</th>\n",
       "      <td>27</td>\n",
       "    </tr>\n",
       "    <tr>\n",
       "      <th>31</th>\n",
       "      <td>22</td>\n",
       "    </tr>\n",
       "    <tr>\n",
       "      <th>32</th>\n",
       "      <td>20</td>\n",
       "    </tr>\n",
       "    <tr>\n",
       "      <th>33</th>\n",
       "      <td>13</td>\n",
       "    </tr>\n",
       "    <tr>\n",
       "      <th>34</th>\n",
       "      <td>14</td>\n",
       "    </tr>\n",
       "    <tr>\n",
       "      <th>35</th>\n",
       "      <td>15</td>\n",
       "    </tr>\n",
       "    <tr>\n",
       "      <th>36</th>\n",
       "      <td>13</td>\n",
       "    </tr>\n",
       "    <tr>\n",
       "      <th>37</th>\n",
       "      <td>5</td>\n",
       "    </tr>\n",
       "    <tr>\n",
       "      <th>38</th>\n",
       "      <td>23</td>\n",
       "    </tr>\n",
       "    <tr>\n",
       "      <th>39</th>\n",
       "      <td>16</td>\n",
       "    </tr>\n",
       "    <tr>\n",
       "      <th>40</th>\n",
       "      <td>14</td>\n",
       "    </tr>\n",
       "    <tr>\n",
       "      <th>41</th>\n",
       "      <td>15</td>\n",
       "    </tr>\n",
       "    <tr>\n",
       "      <th>42</th>\n",
       "      <td>7</td>\n",
       "    </tr>\n",
       "    <tr>\n",
       "      <th>43</th>\n",
       "      <td>6</td>\n",
       "    </tr>\n",
       "    <tr>\n",
       "      <th>44</th>\n",
       "      <td>27</td>\n",
       "    </tr>\n",
       "    <tr>\n",
       "      <th>45</th>\n",
       "      <td>20</td>\n",
       "    </tr>\n",
       "    <tr>\n",
       "      <th>46</th>\n",
       "      <td>10</td>\n",
       "    </tr>\n",
       "    <tr>\n",
       "      <th>47</th>\n",
       "      <td>22</td>\n",
       "    </tr>\n",
       "    <tr>\n",
       "      <th>48</th>\n",
       "      <td>9</td>\n",
       "    </tr>\n",
       "    <tr>\n",
       "      <th>49</th>\n",
       "      <td>15</td>\n",
       "    </tr>\n",
       "    <tr>\n",
       "      <th>50</th>\n",
       "      <td>18</td>\n",
       "    </tr>\n",
       "  </tbody>\n",
       "</table>\n",
       "</div>"
      ],
      "text/plain": [
       "     0\n",
       "0   29\n",
       "1   16\n",
       "2   30\n",
       "3   19\n",
       "4   17\n",
       "5   30\n",
       "6   17\n",
       "7   33\n",
       "8   23\n",
       "9   32\n",
       "10  17\n",
       "11  19\n",
       "12  12\n",
       "13  29\n",
       "14  25\n",
       "15  14\n",
       "16  24\n",
       "17  15\n",
       "18  14\n",
       "19  10\n",
       "20  21\n",
       "21  13\n",
       "22  29\n",
       "23  28\n",
       "24  14\n",
       "25  21\n",
       "26  14\n",
       "27  33\n",
       "28  17\n",
       "29  19\n",
       "30  27\n",
       "31  22\n",
       "32  20\n",
       "33  13\n",
       "34  14\n",
       "35  15\n",
       "36  13\n",
       "37   5\n",
       "38  23\n",
       "39  16\n",
       "40  14\n",
       "41  15\n",
       "42   7\n",
       "43   6\n",
       "44  27\n",
       "45  20\n",
       "46  10\n",
       "47  22\n",
       "48   9\n",
       "49  15\n",
       "50  18"
      ]
     },
     "execution_count": 176,
     "metadata": {},
     "output_type": "execute_result"
    }
   ],
   "source": [
    "frame_seq_data = pd.read_csv('ckmock_landmark_FramePerSeq.csv',header = None)\n",
    "frame_seq_data"
   ]
  },
  {
   "cell_type": "code",
   "execution_count": 182,
   "metadata": {},
   "outputs": [
    {
     "data": {
      "text/plain": [
       "(array([29, 16, 30, 19, 17, 30, 17, 33, 23, 32, 17, 19, 12, 29, 25, 14, 24,\n",
       "        15, 14, 10, 21, 13, 29, 28, 14, 21, 14, 33, 17, 19, 27, 22, 20, 13,\n",
       "        14, 15, 13, 5, 23, 16, 14, 15, 7, 6, 27, 20, 10, 22, 9, 15, 18],\n",
       "       dtype=object),\n",
       " array([29, 16, 30, 19, 17, 30, 17, 33, 23, 32, 17, 19, 12, 29, 25, 14, 24,\n",
       "        15, 14, 10, 21, 13, 29, 28, 14, 21, 14, 33, 17, 19, 27, 22, 20, 13,\n",
       "        14, 15, 13,  5, 23, 16, 14, 15,  7,  6, 27, 20, 10, 22,  9, 15, 18]))"
      ]
     },
     "execution_count": 182,
     "metadata": {},
     "output_type": "execute_result"
    }
   ],
   "source": [
    "frame_seq_array = np.asarray(frame_seq_data)\n",
    "frame_seq_array.flatten()\n",
    "cant_frame_per_seq, frame_seq_array.flatten()\n",
    "\n"
   ]
  },
  {
   "cell_type": "code",
   "execution_count": 170,
   "metadata": {},
   "outputs": [
    {
     "data": {
      "text/html": [
       "<div>\n",
       "<style scoped>\n",
       "    .dataframe tbody tr th:only-of-type {\n",
       "        vertical-align: middle;\n",
       "    }\n",
       "\n",
       "    .dataframe tbody tr th {\n",
       "        vertical-align: top;\n",
       "    }\n",
       "\n",
       "    .dataframe thead th {\n",
       "        text-align: right;\n",
       "    }\n",
       "</style>\n",
       "<table border=\"1\" class=\"dataframe\">\n",
       "  <thead>\n",
       "    <tr style=\"text-align: right;\">\n",
       "      <th></th>\n",
       "      <th>0</th>\n",
       "      <th>1</th>\n",
       "      <th>2</th>\n",
       "      <th>3</th>\n",
       "      <th>4</th>\n",
       "      <th>5</th>\n",
       "      <th>6</th>\n",
       "      <th>7</th>\n",
       "      <th>8</th>\n",
       "      <th>9</th>\n",
       "      <th>...</th>\n",
       "      <th>126</th>\n",
       "      <th>127</th>\n",
       "      <th>128</th>\n",
       "      <th>129</th>\n",
       "      <th>130</th>\n",
       "      <th>131</th>\n",
       "      <th>132</th>\n",
       "      <th>133</th>\n",
       "      <th>134</th>\n",
       "      <th>135</th>\n",
       "    </tr>\n",
       "  </thead>\n",
       "  <tbody>\n",
       "    <tr>\n",
       "      <th>0</th>\n",
       "      <td>-0.163450</td>\n",
       "      <td>-0.156895</td>\n",
       "      <td>-0.145752</td>\n",
       "      <td>-0.136284</td>\n",
       "      <td>-0.122597</td>\n",
       "      <td>-0.098510</td>\n",
       "      <td>-0.067956</td>\n",
       "      <td>-0.033574</td>\n",
       "      <td>0.005142</td>\n",
       "      <td>0.044869</td>\n",
       "      <td>...</td>\n",
       "      <td>0.087766</td>\n",
       "      <td>0.081893</td>\n",
       "      <td>0.069788</td>\n",
       "      <td>0.067553</td>\n",
       "      <td>0.066924</td>\n",
       "      <td>0.067827</td>\n",
       "      <td>0.070162</td>\n",
       "      <td>0.071911</td>\n",
       "      <td>0.072451</td>\n",
       "      <td>0.071782</td>\n",
       "    </tr>\n",
       "    <tr>\n",
       "      <th>1</th>\n",
       "      <td>-0.163450</td>\n",
       "      <td>-0.156895</td>\n",
       "      <td>-0.145752</td>\n",
       "      <td>-0.136284</td>\n",
       "      <td>-0.122597</td>\n",
       "      <td>-0.098510</td>\n",
       "      <td>-0.067956</td>\n",
       "      <td>-0.033574</td>\n",
       "      <td>0.005142</td>\n",
       "      <td>0.044869</td>\n",
       "      <td>...</td>\n",
       "      <td>0.087766</td>\n",
       "      <td>0.081893</td>\n",
       "      <td>0.069788</td>\n",
       "      <td>0.067553</td>\n",
       "      <td>0.066924</td>\n",
       "      <td>0.067827</td>\n",
       "      <td>0.070162</td>\n",
       "      <td>0.071911</td>\n",
       "      <td>0.072451</td>\n",
       "      <td>0.071782</td>\n",
       "    </tr>\n",
       "    <tr>\n",
       "      <th>2</th>\n",
       "      <td>-0.163450</td>\n",
       "      <td>-0.156895</td>\n",
       "      <td>-0.145752</td>\n",
       "      <td>-0.136284</td>\n",
       "      <td>-0.122597</td>\n",
       "      <td>-0.098510</td>\n",
       "      <td>-0.067956</td>\n",
       "      <td>-0.033574</td>\n",
       "      <td>0.005142</td>\n",
       "      <td>0.044869</td>\n",
       "      <td>...</td>\n",
       "      <td>0.087766</td>\n",
       "      <td>0.081893</td>\n",
       "      <td>0.069788</td>\n",
       "      <td>0.067553</td>\n",
       "      <td>0.066924</td>\n",
       "      <td>0.067827</td>\n",
       "      <td>0.070162</td>\n",
       "      <td>0.071911</td>\n",
       "      <td>0.072451</td>\n",
       "      <td>0.071782</td>\n",
       "    </tr>\n",
       "    <tr>\n",
       "      <th>3</th>\n",
       "      <td>-0.163462</td>\n",
       "      <td>-0.156908</td>\n",
       "      <td>-0.145755</td>\n",
       "      <td>-0.136281</td>\n",
       "      <td>-0.122597</td>\n",
       "      <td>-0.098517</td>\n",
       "      <td>-0.067972</td>\n",
       "      <td>-0.033580</td>\n",
       "      <td>0.005137</td>\n",
       "      <td>0.044863</td>\n",
       "      <td>...</td>\n",
       "      <td>0.087772</td>\n",
       "      <td>0.081898</td>\n",
       "      <td>0.069807</td>\n",
       "      <td>0.067551</td>\n",
       "      <td>0.066919</td>\n",
       "      <td>0.067826</td>\n",
       "      <td>0.070184</td>\n",
       "      <td>0.071954</td>\n",
       "      <td>0.072516</td>\n",
       "      <td>0.071826</td>\n",
       "    </tr>\n",
       "    <tr>\n",
       "      <th>4</th>\n",
       "      <td>-0.163406</td>\n",
       "      <td>-0.156854</td>\n",
       "      <td>-0.145720</td>\n",
       "      <td>-0.136245</td>\n",
       "      <td>-0.122544</td>\n",
       "      <td>-0.098467</td>\n",
       "      <td>-0.067924</td>\n",
       "      <td>-0.033558</td>\n",
       "      <td>0.005157</td>\n",
       "      <td>0.044874</td>\n",
       "      <td>...</td>\n",
       "      <td>0.087870</td>\n",
       "      <td>0.081942</td>\n",
       "      <td>0.069783</td>\n",
       "      <td>0.067510</td>\n",
       "      <td>0.066874</td>\n",
       "      <td>0.067786</td>\n",
       "      <td>0.070165</td>\n",
       "      <td>0.071976</td>\n",
       "      <td>0.072554</td>\n",
       "      <td>0.071843</td>\n",
       "    </tr>\n",
       "    <tr>\n",
       "      <th>...</th>\n",
       "      <td>...</td>\n",
       "      <td>...</td>\n",
       "      <td>...</td>\n",
       "      <td>...</td>\n",
       "      <td>...</td>\n",
       "      <td>...</td>\n",
       "      <td>...</td>\n",
       "      <td>...</td>\n",
       "      <td>...</td>\n",
       "      <td>...</td>\n",
       "      <td>...</td>\n",
       "      <td>...</td>\n",
       "      <td>...</td>\n",
       "      <td>...</td>\n",
       "      <td>...</td>\n",
       "      <td>...</td>\n",
       "      <td>...</td>\n",
       "      <td>...</td>\n",
       "      <td>...</td>\n",
       "      <td>...</td>\n",
       "      <td>...</td>\n",
       "    </tr>\n",
       "    <tr>\n",
       "      <th>960</th>\n",
       "      <td>-0.148756</td>\n",
       "      <td>-0.148653</td>\n",
       "      <td>-0.147350</td>\n",
       "      <td>-0.142510</td>\n",
       "      <td>-0.125884</td>\n",
       "      <td>-0.099116</td>\n",
       "      <td>-0.067693</td>\n",
       "      <td>-0.034620</td>\n",
       "      <td>0.002989</td>\n",
       "      <td>0.042856</td>\n",
       "      <td>...</td>\n",
       "      <td>0.087104</td>\n",
       "      <td>0.081242</td>\n",
       "      <td>0.062722</td>\n",
       "      <td>0.061722</td>\n",
       "      <td>0.062258</td>\n",
       "      <td>0.058505</td>\n",
       "      <td>0.057794</td>\n",
       "      <td>0.058807</td>\n",
       "      <td>0.063288</td>\n",
       "      <td>0.062188</td>\n",
       "    </tr>\n",
       "    <tr>\n",
       "      <th>961</th>\n",
       "      <td>-0.148750</td>\n",
       "      <td>-0.148671</td>\n",
       "      <td>-0.147348</td>\n",
       "      <td>-0.142510</td>\n",
       "      <td>-0.125914</td>\n",
       "      <td>-0.099120</td>\n",
       "      <td>-0.067702</td>\n",
       "      <td>-0.034628</td>\n",
       "      <td>0.002981</td>\n",
       "      <td>0.042855</td>\n",
       "      <td>...</td>\n",
       "      <td>0.087195</td>\n",
       "      <td>0.081358</td>\n",
       "      <td>0.062807</td>\n",
       "      <td>0.061829</td>\n",
       "      <td>0.062320</td>\n",
       "      <td>0.058664</td>\n",
       "      <td>0.057920</td>\n",
       "      <td>0.058891</td>\n",
       "      <td>0.063298</td>\n",
       "      <td>0.062257</td>\n",
       "    </tr>\n",
       "    <tr>\n",
       "      <th>962</th>\n",
       "      <td>-0.148761</td>\n",
       "      <td>-0.148685</td>\n",
       "      <td>-0.147358</td>\n",
       "      <td>-0.142514</td>\n",
       "      <td>-0.125920</td>\n",
       "      <td>-0.099120</td>\n",
       "      <td>-0.067688</td>\n",
       "      <td>-0.034631</td>\n",
       "      <td>0.002974</td>\n",
       "      <td>0.042849</td>\n",
       "      <td>...</td>\n",
       "      <td>0.087149</td>\n",
       "      <td>0.081329</td>\n",
       "      <td>0.062785</td>\n",
       "      <td>0.061839</td>\n",
       "      <td>0.062338</td>\n",
       "      <td>0.058680</td>\n",
       "      <td>0.057926</td>\n",
       "      <td>0.058856</td>\n",
       "      <td>0.063253</td>\n",
       "      <td>0.062230</td>\n",
       "    </tr>\n",
       "    <tr>\n",
       "      <th>963</th>\n",
       "      <td>-0.148763</td>\n",
       "      <td>-0.148652</td>\n",
       "      <td>-0.147356</td>\n",
       "      <td>-0.142512</td>\n",
       "      <td>-0.125875</td>\n",
       "      <td>-0.099113</td>\n",
       "      <td>-0.067682</td>\n",
       "      <td>-0.034619</td>\n",
       "      <td>0.002988</td>\n",
       "      <td>0.042853</td>\n",
       "      <td>...</td>\n",
       "      <td>0.087044</td>\n",
       "      <td>0.081181</td>\n",
       "      <td>0.062667</td>\n",
       "      <td>0.061684</td>\n",
       "      <td>0.062242</td>\n",
       "      <td>0.058448</td>\n",
       "      <td>0.057757</td>\n",
       "      <td>0.058756</td>\n",
       "      <td>0.063262</td>\n",
       "      <td>0.062147</td>\n",
       "    </tr>\n",
       "    <tr>\n",
       "      <th>964</th>\n",
       "      <td>-0.148765</td>\n",
       "      <td>-0.148622</td>\n",
       "      <td>-0.147354</td>\n",
       "      <td>-0.142509</td>\n",
       "      <td>-0.125834</td>\n",
       "      <td>-0.099108</td>\n",
       "      <td>-0.067679</td>\n",
       "      <td>-0.034608</td>\n",
       "      <td>0.003001</td>\n",
       "      <td>0.042857</td>\n",
       "      <td>...</td>\n",
       "      <td>0.086955</td>\n",
       "      <td>0.081053</td>\n",
       "      <td>0.062549</td>\n",
       "      <td>0.061548</td>\n",
       "      <td>0.062157</td>\n",
       "      <td>0.058244</td>\n",
       "      <td>0.057626</td>\n",
       "      <td>0.058671</td>\n",
       "      <td>0.063272</td>\n",
       "      <td>0.062075</td>\n",
       "    </tr>\n",
       "  </tbody>\n",
       "</table>\n",
       "<p>965 rows × 136 columns</p>\n",
       "</div>"
      ],
      "text/plain": [
       "          0         1         2         3         4         5         6    \\\n",
       "0   -0.163450 -0.156895 -0.145752 -0.136284 -0.122597 -0.098510 -0.067956   \n",
       "1   -0.163450 -0.156895 -0.145752 -0.136284 -0.122597 -0.098510 -0.067956   \n",
       "2   -0.163450 -0.156895 -0.145752 -0.136284 -0.122597 -0.098510 -0.067956   \n",
       "3   -0.163462 -0.156908 -0.145755 -0.136281 -0.122597 -0.098517 -0.067972   \n",
       "4   -0.163406 -0.156854 -0.145720 -0.136245 -0.122544 -0.098467 -0.067924   \n",
       "..        ...       ...       ...       ...       ...       ...       ...   \n",
       "960 -0.148756 -0.148653 -0.147350 -0.142510 -0.125884 -0.099116 -0.067693   \n",
       "961 -0.148750 -0.148671 -0.147348 -0.142510 -0.125914 -0.099120 -0.067702   \n",
       "962 -0.148761 -0.148685 -0.147358 -0.142514 -0.125920 -0.099120 -0.067688   \n",
       "963 -0.148763 -0.148652 -0.147356 -0.142512 -0.125875 -0.099113 -0.067682   \n",
       "964 -0.148765 -0.148622 -0.147354 -0.142509 -0.125834 -0.099108 -0.067679   \n",
       "\n",
       "          7         8         9    ...       126       127       128  \\\n",
       "0   -0.033574  0.005142  0.044869  ...  0.087766  0.081893  0.069788   \n",
       "1   -0.033574  0.005142  0.044869  ...  0.087766  0.081893  0.069788   \n",
       "2   -0.033574  0.005142  0.044869  ...  0.087766  0.081893  0.069788   \n",
       "3   -0.033580  0.005137  0.044863  ...  0.087772  0.081898  0.069807   \n",
       "4   -0.033558  0.005157  0.044874  ...  0.087870  0.081942  0.069783   \n",
       "..        ...       ...       ...  ...       ...       ...       ...   \n",
       "960 -0.034620  0.002989  0.042856  ...  0.087104  0.081242  0.062722   \n",
       "961 -0.034628  0.002981  0.042855  ...  0.087195  0.081358  0.062807   \n",
       "962 -0.034631  0.002974  0.042849  ...  0.087149  0.081329  0.062785   \n",
       "963 -0.034619  0.002988  0.042853  ...  0.087044  0.081181  0.062667   \n",
       "964 -0.034608  0.003001  0.042857  ...  0.086955  0.081053  0.062549   \n",
       "\n",
       "          129       130       131       132       133       134       135  \n",
       "0    0.067553  0.066924  0.067827  0.070162  0.071911  0.072451  0.071782  \n",
       "1    0.067553  0.066924  0.067827  0.070162  0.071911  0.072451  0.071782  \n",
       "2    0.067553  0.066924  0.067827  0.070162  0.071911  0.072451  0.071782  \n",
       "3    0.067551  0.066919  0.067826  0.070184  0.071954  0.072516  0.071826  \n",
       "4    0.067510  0.066874  0.067786  0.070165  0.071976  0.072554  0.071843  \n",
       "..        ...       ...       ...       ...       ...       ...       ...  \n",
       "960  0.061722  0.062258  0.058505  0.057794  0.058807  0.063288  0.062188  \n",
       "961  0.061829  0.062320  0.058664  0.057920  0.058891  0.063298  0.062257  \n",
       "962  0.061839  0.062338  0.058680  0.057926  0.058856  0.063253  0.062230  \n",
       "963  0.061684  0.062242  0.058448  0.057757  0.058756  0.063262  0.062147  \n",
       "964  0.061548  0.062157  0.058244  0.057626  0.058671  0.063272  0.062075  \n",
       "\n",
       "[965 rows x 136 columns]"
      ]
     },
     "execution_count": 170,
     "metadata": {},
     "output_type": "execute_result"
    }
   ],
   "source": [
    "my_data_2 = pd.read_csv('ckmock_landmark_aligned_xy.csv',header = None)\n",
    "my_data_2"
   ]
  },
  {
   "cell_type": "code",
   "execution_count": 171,
   "metadata": {},
   "outputs": [
    {
     "data": {
      "text/plain": [
       "(136,)"
      ]
     },
     "execution_count": 171,
     "metadata": {},
     "output_type": "execute_result"
    }
   ],
   "source": [
    "#ai deberia ser el maximo de cada columna\n",
    "\n",
    "Ai = my_data_2.max() # da el maximo por columnas\n",
    "Ai.shape"
   ]
  },
  {
   "cell_type": "code",
   "execution_count": 184,
   "metadata": {},
   "outputs": [
    {
     "data": {
      "text/plain": [
       "0      1.037203\n",
       "1      1.037203\n",
       "2      1.037203\n",
       "3      1.037367\n",
       "4      1.037418\n",
       "         ...   \n",
       "960    1.065990\n",
       "961    1.067019\n",
       "962    1.066922\n",
       "963    1.065527\n",
       "964    1.064312\n",
       "Length: 965, dtype: float64"
      ]
     },
     "execution_count": 184,
     "metadata": {},
     "output_type": "execute_result"
    }
   ],
   "source": [
    "data_2_intensity = my_data_2\n",
    "data_2_intensity_div = data_2_intensity/Ai\n",
    "data_2_intensity_sum =  np.sum(data_2_intensity_div, axis=1)\n",
    "data_2_intensity_final = data_2_intensity_sum/136\n",
    "data_2_intensity_final  #the emotion for each frame\n",
    "#revisar que este bien la cuenta"
   ]
  },
  {
   "cell_type": "code",
   "execution_count": 200,
   "metadata": {},
   "outputs": [
    {
     "data": {
      "text/plain": [
       "(965, 22)"
      ]
     },
     "execution_count": 200,
     "metadata": {},
     "output_type": "execute_result"
    }
   ],
   "source": [
    "sumi=0\n",
    "cant_features = 22\n",
    "\n",
    "frame_seq_flattened = frame_seq_array.flatten()\n",
    "\n",
    "structure_feature_vector = np.zeros((len(data_2_intensity_final), cant_features))\n",
    "for i in range(0, len(frame_seq_flattened)):\n",
    "    current_index = frame_seq_flattened[i]\n",
    "    for j in range(0, current_index):\n",
    "        vector = structure_vector[:,i]#columna i\n",
    "        vector = np.append(vector,data_2_intensity_final[j+sumi])        \n",
    "        structure_feature_vector[j+sumi] = vector\n",
    "    sumi = sumi + current_index\n",
    "  "
   ]
  },
  {
   "cell_type": "code",
   "execution_count": null,
   "metadata": {},
   "outputs": [],
   "source": []
  },
  {
   "cell_type": "markdown",
   "metadata": {},
   "source": [
    "### AHORA si hacemos PCA con los 22 features"
   ]
  },
  {
   "cell_type": "code",
   "execution_count": 201,
   "metadata": {},
   "outputs": [
    {
     "data": {
      "text/plain": [
       "(965, 22)"
      ]
     },
     "execution_count": 201,
     "metadata": {},
     "output_type": "execute_result"
    }
   ],
   "source": [
    "from sklearn.preprocessing import StandardScaler\n",
    "std_scaler = StandardScaler()\n",
    "scaled_landDiff = std_scaler.fit_transform(structure_feature_vector)\n",
    "scaled_landDiff.shape"
   ]
  },
  {
   "cell_type": "code",
   "execution_count": 216,
   "metadata": {},
   "outputs": [
    {
     "data": {
      "text/plain": [
       "(965, 12)"
      ]
     },
     "execution_count": 216,
     "metadata": {},
     "output_type": "execute_result"
    }
   ],
   "source": [
    "from sklearn.decomposition import PCA\n",
    "pca = PCA(n_components=12)\n",
    "pca.fit_transform(scaled_landDiff)\n",
    "b_shape = pca.fit_transform(scaled_landDiff)\n",
    "b_shape.shape # cada fila deberia ser el b de 1 frame en 12 componentes proncipales (de 22 feature points)"
   ]
  },
  {
   "cell_type": "code",
   "execution_count": 217,
   "metadata": {},
   "outputs": [
    {
     "name": "stdout",
     "output_type": "stream",
     "text": [
      "0.9920708753865839\n"
     ]
    }
   ],
   "source": [
    "print(sum(pca.explained_variance_ratio_))\n"
   ]
  },
  {
   "cell_type": "code",
   "execution_count": null,
   "metadata": {},
   "outputs": [],
   "source": []
  },
  {
   "cell_type": "code",
   "execution_count": null,
   "metadata": {},
   "outputs": [],
   "source": []
  },
  {
   "cell_type": "code",
   "execution_count": null,
   "metadata": {},
   "outputs": [],
   "source": []
  },
  {
   "cell_type": "code",
   "execution_count": null,
   "metadata": {},
   "outputs": [],
   "source": []
  },
  {
   "cell_type": "code",
   "execution_count": null,
   "metadata": {},
   "outputs": [],
   "source": []
  },
  {
   "cell_type": "code",
   "execution_count": 51,
   "metadata": {},
   "outputs": [
    {
     "data": {
      "text/plain": [
       "(84, 98)"
      ]
     },
     "execution_count": 51,
     "metadata": {},
     "output_type": "execute_result"
    }
   ],
   "source": []
  },
  {
   "cell_type": "code",
   "execution_count": 48,
   "metadata": {},
   "outputs": [
    {
     "ename": "IndentationError",
     "evalue": "unindent does not match any outer indentation level (<ipython-input-48-f35130b63526>, line 12)",
     "output_type": "error",
     "traceback": [
      "\u001b[0;36m  File \u001b[0;32m\"<ipython-input-48-f35130b63526>\"\u001b[0;36m, line \u001b[0;32m12\u001b[0m\n\u001b[0;31m    output[i][j] = math.sqrt(pow(edgesx[i][j],2) +pow(edgesy[i][j],2)+ pow(-1,2))\u001b[0m\n\u001b[0m                                                                                 ^\u001b[0m\n\u001b[0;31mIndentationError\u001b[0m\u001b[0;31m:\u001b[0m unindent does not match any outer indentation level\n"
     ]
    }
   ],
   "source": [
    "      #ESTA ES CON UNA SOLA      \n",
    "import math \n",
    "\n",
    "edgesx = cv2.Sobel(imgleft, -1, dx=1, dy=0, ksize=1)\n",
    "edgesy = cv2.Sobel(imgleft, -1, dx=0, dy=1, ksize=1)\n",
    "\n",
    "\n",
    "\n",
    "output = np.zeros((len(edgesx),len(edgesx[0])))\n",
    "for i in range(0, len(edgesx)):\n",
    "    for j in range(0, len(edgesx[0])):\n",
    "        output[i][j] = math.sqrt(pow(edgesx[i][j],2) +pow(edgesy[i][j],2)+ pow(-1,2))\n",
    "\n",
    "\n",
    "angle = np.zeros((len(edgesx),len(edgesx[0]),3))  \n",
    "for i in range(0, len(edgesx)):\n",
    "    for j in range(0, len(edgesx[0])):\n",
    "        pos =np.array([edgesx[i][j], edgesy[i][j], -1]/output[i][j])\n",
    "        angle[i][j] = pos\n",
    "\n",
    "beta = np.array([0,0,1])\n",
    "        \n",
    "coff = np.zeros((len(edgesx),len(edgesx[0])))\n",
    "for i in range(0, len(edgesx)):\n",
    "    for j in range(0, len(edgesx[0])):\n",
    "        coff[i][j] = 1- np.dot(angle[i][j],beta)\n",
    "\n",
    "coeff_average = coff.mean()\n",
    "coeff_sum = coff.sum()\n",
    "\n",
    "partial_sumx = []\n",
    "for i in range(0, len(edgesx)):#losy0debencambiarse arriba\n",
    "    partial_sumx.append(coff[i]*(left_cheek_y0+i))\n",
    "\n",
    "partial_sumy = []\n",
    "for i in range(0, len(edgesx[0])):#losy0debencambiarse arriba\n",
    "    partial_sumy.append(coff[:,i]*(left_cheek_x0+i))\n",
    "        \n",
    "center_of_massx = np.asarray(partial_sumx).sum()/coeff_sum\n",
    "center_of_massy = np.asarray(partial_sumy).sum()/coeff_sum\n"
   ]
  },
  {
   "cell_type": "code",
   "execution_count": null,
   "metadata": {},
   "outputs": [],
   "source": []
  },
  {
   "cell_type": "code",
   "execution_count": 102,
   "metadata": {},
   "outputs": [
    {
     "data": {
      "text/plain": [
       "(98,)"
      ]
     },
     "execution_count": 102,
     "metadata": {},
     "output_type": "execute_result"
    }
   ],
   "source": [
    "coff[1,::].shape"
   ]
  },
  {
   "cell_type": "code",
   "execution_count": 79,
   "metadata": {},
   "outputs": [
    {
     "data": {
      "text/plain": [
       "array([ 0,  4,  6,  4,  4,  3,  2,  3,  1,  2,  4,  3,  1,  1,  0,  0,  2,\n",
       "        4,  2,  0,  1,  0,  0,  0,  0,  0,  0,  0,  0,  0,  0,  0,  0,  0,\n",
       "        0,  0,  0,  0,  0,  0,  0,  0,  0,  0,  0,  1,  1,  0,  0,  0,  0,\n",
       "        0,  0,  0,  0,  0,  0,  0,  1,  5,  3,  2,  4,  2,  3, 11, 14, 13,\n",
       "       16, 21, 14,  6,  8,  5,  0,  1,  4,  0,  0,  9, 10,  8,  8,  8,  7,\n",
       "        7,  8,  8,  5,  2,  3,  3,  1,  0,  0,  2,  3,  0], dtype=uint8)"
      ]
     },
     "execution_count": 79,
     "metadata": {},
     "output_type": "execute_result"
    }
   ],
   "source": [
    "edgesx[0]"
   ]
  },
  {
   "cell_type": "code",
   "execution_count": null,
   "metadata": {},
   "outputs": [],
   "source": []
  },
  {
   "cell_type": "code",
   "execution_count": 40,
   "metadata": {},
   "outputs": [
    {
     "data": {
      "text/plain": [
       "20"
      ]
     },
     "execution_count": 40,
     "metadata": {},
     "output_type": "execute_result"
    }
   ],
   "source": [
    "points = first_frame[0][39:59]\n",
    "  \n",
    "\n",
    "rng = np.random.default_rng()\n",
    "points = rng.random((30, 2))   # 30 random points in 2-D\n",
    "hull = ConvexHull(points)"
   ]
  },
  {
   "cell_type": "code",
   "execution_count": 35,
   "metadata": {},
   "outputs": [
    {
     "data": {
      "text/plain": [
       "array([[14, 15],\n",
       "       [27, 23],\n",
       "       [18, 15],\n",
       "       [18,  6],\n",
       "       [24,  9],\n",
       "       [24,  6],\n",
       "       [ 4, 23],\n",
       "       [ 4, 14],\n",
       "       [ 7,  9],\n",
       "       [ 7, 27]], dtype=int32)"
      ]
     },
     "execution_count": 35,
     "metadata": {},
     "output_type": "execute_result"
    }
   ],
   "source": [
    "hull.simplices"
   ]
  },
  {
   "cell_type": "code",
   "execution_count": 38,
   "metadata": {},
   "outputs": [
    {
     "data": {
      "text/plain": [
       "0.807617690185429"
      ]
     },
     "execution_count": 38,
     "metadata": {},
     "output_type": "execute_result"
    }
   ],
   "source": [
    "hull.volume"
   ]
  },
  {
   "cell_type": "code",
   "execution_count": null,
   "metadata": {},
   "outputs": [],
   "source": []
  },
  {
   "cell_type": "code",
   "execution_count": null,
   "metadata": {},
   "outputs": [],
   "source": []
  },
  {
   "cell_type": "code",
   "execution_count": null,
   "metadata": {},
   "outputs": [],
   "source": []
  },
  {
   "cell_type": "code",
   "execution_count": null,
   "metadata": {},
   "outputs": [],
   "source": []
  },
  {
   "cell_type": "code",
   "execution_count": 49,
   "metadata": {},
   "outputs": [],
   "source": [
    "#adaptamos los valores de los features a los mas parecidos, el primero al 2 entre cejas porque es la mejor distancia a igual altura y asumo que las distancias se corresponden con el contorno entre facial shapes\n",
    "#el 4, 14 podria ser 3,13 y tal vez seberia ser la media de ambps\n",
    "#64,71 media entre las pupilas, ahora estoy midiendo distancia entre las exteriories 37-46, pero cambie a lo mas cercano horizontalmente38-44\n",
    "feature_horizontal_distance =[]\n",
    "feature_pairs = np.array([[19, 26], [2, 16], [3,15], [4,14], [7,11], [32,37], [61,65], [38,44],[43,46], [40,43], [37,40]])\n",
    "for i in range(0,11):\n",
    "    feature_horizontally = []\n",
    "    for j in range(0, len(first_frame)):\n",
    "        point1 = first_frame[j][feature_pairs[i][0]][0]\n",
    "        point2 = first_frame[j][feature_pairs[i][1]][0]\n",
    "        feature_horizontally.append(np.abs(point2-point1))\n",
    "    feature_horizontally = np.asarray( feature_horizontally, dtype=object)\n",
    "    feature_horizontal_distance.append(feature_horizontally)\n",
    "feature_horizontal_distance = np.asarray( feature_horizontal_distance, dtype=object)"
   ]
  },
  {
   "cell_type": "code",
   "execution_count": null,
   "metadata": {},
   "outputs": [],
   "source": []
  },
  {
   "cell_type": "code",
   "execution_count": 45,
   "metadata": {},
   "outputs": [
    {
     "data": {
      "text/plain": [
       "5"
      ]
     },
     "execution_count": 45,
     "metadata": {},
     "output_type": "execute_result"
    }
   ],
   "source": [
    "feature_vertical_distance =[]\n",
    "feature_pairs = np.array([[19, 26], [2, 16], [3,15], [4,14], [7,11], [32,36], [61,65], [38,44],[43,46], [40,43], [37,40]])\n",
    "for i in range(0,11):\n",
    "    feature_vertically = []\n",
    "    for j in range(0, len(first_frame)):\n",
    "        point1 = first_frame[j][feature_pairs[i][0]][0]\n",
    "        point2 = first_frame[j][feature_pairs[i][1]][0]\n",
    "        feature_vertically.append(np.abs(point2-point1))\n",
    "    feature_vertically = np.asarray( feature_vertically, dtype=object)\n",
    "    feature_vertical_distance.append(feature_horizontally)\n",
    "feature_vertical_distance = np.asarray( feature_vertical_distance, dtype=object)"
   ]
  },
  {
   "cell_type": "code",
   "execution_count": null,
   "metadata": {},
   "outputs": [],
   "source": []
  },
  {
   "cell_type": "code",
   "execution_count": null,
   "metadata": {},
   "outputs": [],
   "source": [
    "#Faltan landmarks <-- Hagamos lo de la textura y luego volvemos a esto"
   ]
  },
  {
   "cell_type": "code",
   "execution_count": null,
   "metadata": {},
   "outputs": [],
   "source": []
  },
  {
   "cell_type": "code",
   "execution_count": null,
   "metadata": {},
   "outputs": [],
   "source": []
  }
 ],
 "metadata": {
  "kernelspec": {
   "display_name": "Python 3",
   "language": "python",
   "name": "python3"
  },
  "language_info": {
   "codemirror_mode": {
    "name": "ipython",
    "version": 3
   },
   "file_extension": ".py",
   "mimetype": "text/x-python",
   "name": "python",
   "nbconvert_exporter": "python",
   "pygments_lexer": "ipython3",
   "version": "3.6.9"
  }
 },
 "nbformat": 4,
 "nbformat_minor": 2
}
