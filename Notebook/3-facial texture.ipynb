{
 "cells": [
  {
   "cell_type": "code",
   "execution_count": 1,
   "metadata": {},
   "outputs": [],
   "source": [
    "%matplotlib inline\n",
    "\n",
    "import numpy as np # NUMPY\n",
    "import pandas as pd # PANDAS\n",
    "import matplotlib.pyplot as plt # MATPLOTLIB\n",
    "import seaborn as sns # SEABORN\n",
    "import scipy\n",
    "import sklearn\n",
    "from sklearn.decomposition import PCA\n",
    "import cv2\n",
    "import os \n"
   ]
  },
  {
   "cell_type": "markdown",
   "metadata": {},
   "source": [
    "# Ahora ya tenemos las imagenes warpeadas en torno a una forma de referencia (elegida usando Procustres).\n",
    "## Las cargamos y luego hacemos el metodo basado en  Total Regulation del paper"
   ]
  },
  {
   "cell_type": "code",
   "execution_count": 2,
   "metadata": {},
   "outputs": [
    {
     "data": {
      "text/html": [
       "<div>\n",
       "<style scoped>\n",
       "    .dataframe tbody tr th:only-of-type {\n",
       "        vertical-align: middle;\n",
       "    }\n",
       "\n",
       "    .dataframe tbody tr th {\n",
       "        vertical-align: top;\n",
       "    }\n",
       "\n",
       "    .dataframe thead th {\n",
       "        text-align: right;\n",
       "    }\n",
       "</style>\n",
       "<table border=\"1\" class=\"dataframe\">\n",
       "  <thead>\n",
       "    <tr style=\"text-align: right;\">\n",
       "      <th></th>\n",
       "      <th>0</th>\n",
       "      <th>1</th>\n",
       "      <th>2</th>\n",
       "      <th>3</th>\n",
       "      <th>4</th>\n",
       "      <th>5</th>\n",
       "      <th>6</th>\n",
       "      <th>7</th>\n",
       "      <th>8</th>\n",
       "      <th>9</th>\n",
       "      <th>...</th>\n",
       "      <th>126</th>\n",
       "      <th>127</th>\n",
       "      <th>128</th>\n",
       "      <th>129</th>\n",
       "      <th>130</th>\n",
       "      <th>131</th>\n",
       "      <th>132</th>\n",
       "      <th>133</th>\n",
       "      <th>134</th>\n",
       "      <th>135</th>\n",
       "    </tr>\n",
       "  </thead>\n",
       "  <tbody>\n",
       "    <tr>\n",
       "      <th>0</th>\n",
       "      <td>258.213310</td>\n",
       "      <td>261.555230</td>\n",
       "      <td>267.978110</td>\n",
       "      <td>276.750350</td>\n",
       "      <td>290.519880</td>\n",
       "      <td>310.564040</td>\n",
       "      <td>332.520560</td>\n",
       "      <td>363.126800</td>\n",
       "      <td>397.902110</td>\n",
       "      <td>430.614910</td>\n",
       "      <td>...</td>\n",
       "      <td>399.276060</td>\n",
       "      <td>381.071370</td>\n",
       "      <td>361.327690</td>\n",
       "      <td>343.845490</td>\n",
       "      <td>342.421360</td>\n",
       "      <td>344.785120</td>\n",
       "      <td>356.986140</td>\n",
       "      <td>367.246760</td>\n",
       "      <td>371.105790</td>\n",
       "      <td>367.883230</td>\n",
       "    </tr>\n",
       "    <tr>\n",
       "      <th>1</th>\n",
       "      <td>258.260079</td>\n",
       "      <td>261.597406</td>\n",
       "      <td>268.016403</td>\n",
       "      <td>276.783427</td>\n",
       "      <td>290.547142</td>\n",
       "      <td>310.591197</td>\n",
       "      <td>332.539137</td>\n",
       "      <td>363.130286</td>\n",
       "      <td>397.902328</td>\n",
       "      <td>430.608304</td>\n",
       "      <td>...</td>\n",
       "      <td>399.365256</td>\n",
       "      <td>381.114874</td>\n",
       "      <td>361.348807</td>\n",
       "      <td>343.819469</td>\n",
       "      <td>342.387214</td>\n",
       "      <td>344.761274</td>\n",
       "      <td>357.004890</td>\n",
       "      <td>367.318464</td>\n",
       "      <td>371.202325</td>\n",
       "      <td>367.961851</td>\n",
       "    </tr>\n",
       "    <tr>\n",
       "      <th>2</th>\n",
       "      <td>258.260079</td>\n",
       "      <td>261.597406</td>\n",
       "      <td>268.016403</td>\n",
       "      <td>276.783427</td>\n",
       "      <td>290.547142</td>\n",
       "      <td>310.591197</td>\n",
       "      <td>332.539137</td>\n",
       "      <td>363.130286</td>\n",
       "      <td>397.902328</td>\n",
       "      <td>430.608304</td>\n",
       "      <td>...</td>\n",
       "      <td>399.365256</td>\n",
       "      <td>381.114874</td>\n",
       "      <td>361.348807</td>\n",
       "      <td>343.819469</td>\n",
       "      <td>342.387214</td>\n",
       "      <td>344.761274</td>\n",
       "      <td>357.004890</td>\n",
       "      <td>367.318464</td>\n",
       "      <td>371.202325</td>\n",
       "      <td>367.961851</td>\n",
       "    </tr>\n",
       "    <tr>\n",
       "      <th>3</th>\n",
       "      <td>258.180526</td>\n",
       "      <td>261.525672</td>\n",
       "      <td>267.951280</td>\n",
       "      <td>276.727163</td>\n",
       "      <td>290.500783</td>\n",
       "      <td>310.545016</td>\n",
       "      <td>332.507530</td>\n",
       "      <td>363.124348</td>\n",
       "      <td>397.901963</td>\n",
       "      <td>430.619539</td>\n",
       "      <td>...</td>\n",
       "      <td>399.213509</td>\n",
       "      <td>381.040850</td>\n",
       "      <td>361.312874</td>\n",
       "      <td>343.863722</td>\n",
       "      <td>342.445298</td>\n",
       "      <td>344.801846</td>\n",
       "      <td>356.972986</td>\n",
       "      <td>367.196473</td>\n",
       "      <td>371.038097</td>\n",
       "      <td>367.828110</td>\n",
       "    </tr>\n",
       "    <tr>\n",
       "      <th>4</th>\n",
       "      <td>257.731806</td>\n",
       "      <td>261.121102</td>\n",
       "      <td>267.584058</td>\n",
       "      <td>276.409971</td>\n",
       "      <td>290.239485</td>\n",
       "      <td>310.284590</td>\n",
       "      <td>332.329299</td>\n",
       "      <td>363.091027</td>\n",
       "      <td>397.899820</td>\n",
       "      <td>430.682774</td>\n",
       "      <td>...</td>\n",
       "      <td>398.354396</td>\n",
       "      <td>380.621481</td>\n",
       "      <td>361.109119</td>\n",
       "      <td>344.113637</td>\n",
       "      <td>342.773430</td>\n",
       "      <td>345.030917</td>\n",
       "      <td>356.792047</td>\n",
       "      <td>366.505904</td>\n",
       "      <td>370.108661</td>\n",
       "      <td>367.071109</td>\n",
       "    </tr>\n",
       "    <tr>\n",
       "      <th>...</th>\n",
       "      <td>...</td>\n",
       "      <td>...</td>\n",
       "      <td>...</td>\n",
       "      <td>...</td>\n",
       "      <td>...</td>\n",
       "      <td>...</td>\n",
       "      <td>...</td>\n",
       "      <td>...</td>\n",
       "      <td>...</td>\n",
       "      <td>...</td>\n",
       "      <td>...</td>\n",
       "      <td>...</td>\n",
       "      <td>...</td>\n",
       "      <td>...</td>\n",
       "      <td>...</td>\n",
       "      <td>...</td>\n",
       "      <td>...</td>\n",
       "      <td>...</td>\n",
       "      <td>...</td>\n",
       "      <td>...</td>\n",
       "      <td>...</td>\n",
       "    </tr>\n",
       "    <tr>\n",
       "      <th>578</th>\n",
       "      <td>262.385668</td>\n",
       "      <td>261.062593</td>\n",
       "      <td>266.861863</td>\n",
       "      <td>273.905367</td>\n",
       "      <td>280.123096</td>\n",
       "      <td>297.593762</td>\n",
       "      <td>326.445073</td>\n",
       "      <td>361.495379</td>\n",
       "      <td>398.277240</td>\n",
       "      <td>435.267238</td>\n",
       "      <td>...</td>\n",
       "      <td>382.551530</td>\n",
       "      <td>377.499012</td>\n",
       "      <td>358.141953</td>\n",
       "      <td>345.109024</td>\n",
       "      <td>345.145549</td>\n",
       "      <td>345.665832</td>\n",
       "      <td>354.898678</td>\n",
       "      <td>365.431509</td>\n",
       "      <td>368.794873</td>\n",
       "      <td>369.979998</td>\n",
       "    </tr>\n",
       "    <tr>\n",
       "      <th>579</th>\n",
       "      <td>262.459289</td>\n",
       "      <td>261.098531</td>\n",
       "      <td>266.925632</td>\n",
       "      <td>273.945526</td>\n",
       "      <td>280.136290</td>\n",
       "      <td>297.623928</td>\n",
       "      <td>326.464264</td>\n",
       "      <td>361.513025</td>\n",
       "      <td>398.281893</td>\n",
       "      <td>435.260389</td>\n",
       "      <td>...</td>\n",
       "      <td>382.492036</td>\n",
       "      <td>377.440158</td>\n",
       "      <td>358.135715</td>\n",
       "      <td>345.078815</td>\n",
       "      <td>345.125768</td>\n",
       "      <td>345.676078</td>\n",
       "      <td>354.905526</td>\n",
       "      <td>365.450687</td>\n",
       "      <td>368.767366</td>\n",
       "      <td>369.982708</td>\n",
       "    </tr>\n",
       "    <tr>\n",
       "      <th>580</th>\n",
       "      <td>262.346649</td>\n",
       "      <td>261.055020</td>\n",
       "      <td>266.834543</td>\n",
       "      <td>273.898203</td>\n",
       "      <td>280.120631</td>\n",
       "      <td>297.541858</td>\n",
       "      <td>326.397965</td>\n",
       "      <td>361.458747</td>\n",
       "      <td>398.250373</td>\n",
       "      <td>435.267297</td>\n",
       "      <td>...</td>\n",
       "      <td>382.482054</td>\n",
       "      <td>377.545025</td>\n",
       "      <td>358.167304</td>\n",
       "      <td>345.151649</td>\n",
       "      <td>345.217583</td>\n",
       "      <td>345.715374</td>\n",
       "      <td>354.863787</td>\n",
       "      <td>365.350292</td>\n",
       "      <td>368.692327</td>\n",
       "      <td>369.956275</td>\n",
       "    </tr>\n",
       "    <tr>\n",
       "      <th>581</th>\n",
       "      <td>262.326839</td>\n",
       "      <td>261.042689</td>\n",
       "      <td>266.813314</td>\n",
       "      <td>273.890577</td>\n",
       "      <td>280.132540</td>\n",
       "      <td>297.586126</td>\n",
       "      <td>326.448584</td>\n",
       "      <td>361.489296</td>\n",
       "      <td>398.281757</td>\n",
       "      <td>435.275927</td>\n",
       "      <td>...</td>\n",
       "      <td>382.789229</td>\n",
       "      <td>377.648590</td>\n",
       "      <td>358.193143</td>\n",
       "      <td>345.063979</td>\n",
       "      <td>345.084160</td>\n",
       "      <td>345.576679</td>\n",
       "      <td>354.930971</td>\n",
       "      <td>365.574745</td>\n",
       "      <td>369.051948</td>\n",
       "      <td>370.137988</td>\n",
       "    </tr>\n",
       "    <tr>\n",
       "      <th>582</th>\n",
       "      <td>262.347702</td>\n",
       "      <td>261.042500</td>\n",
       "      <td>266.826906</td>\n",
       "      <td>273.885789</td>\n",
       "      <td>280.123509</td>\n",
       "      <td>297.603975</td>\n",
       "      <td>326.462584</td>\n",
       "      <td>361.503765</td>\n",
       "      <td>398.290976</td>\n",
       "      <td>435.274128</td>\n",
       "      <td>...</td>\n",
       "      <td>382.722184</td>\n",
       "      <td>377.570225</td>\n",
       "      <td>358.154445</td>\n",
       "      <td>345.078748</td>\n",
       "      <td>345.088653</td>\n",
       "      <td>345.594937</td>\n",
       "      <td>354.930130</td>\n",
       "      <td>365.531718</td>\n",
       "      <td>368.978213</td>\n",
       "      <td>370.065089</td>\n",
       "    </tr>\n",
       "  </tbody>\n",
       "</table>\n",
       "<p>583 rows × 136 columns</p>\n",
       "</div>"
      ],
      "text/plain": [
       "            0           1           2           3           4           5    \\\n",
       "0    258.213310  261.555230  267.978110  276.750350  290.519880  310.564040   \n",
       "1    258.260079  261.597406  268.016403  276.783427  290.547142  310.591197   \n",
       "2    258.260079  261.597406  268.016403  276.783427  290.547142  310.591197   \n",
       "3    258.180526  261.525672  267.951280  276.727163  290.500783  310.545016   \n",
       "4    257.731806  261.121102  267.584058  276.409971  290.239485  310.284590   \n",
       "..          ...         ...         ...         ...         ...         ...   \n",
       "578  262.385668  261.062593  266.861863  273.905367  280.123096  297.593762   \n",
       "579  262.459289  261.098531  266.925632  273.945526  280.136290  297.623928   \n",
       "580  262.346649  261.055020  266.834543  273.898203  280.120631  297.541858   \n",
       "581  262.326839  261.042689  266.813314  273.890577  280.132540  297.586126   \n",
       "582  262.347702  261.042500  266.826906  273.885789  280.123509  297.603975   \n",
       "\n",
       "            6           7           8           9    ...         126  \\\n",
       "0    332.520560  363.126800  397.902110  430.614910  ...  399.276060   \n",
       "1    332.539137  363.130286  397.902328  430.608304  ...  399.365256   \n",
       "2    332.539137  363.130286  397.902328  430.608304  ...  399.365256   \n",
       "3    332.507530  363.124348  397.901963  430.619539  ...  399.213509   \n",
       "4    332.329299  363.091027  397.899820  430.682774  ...  398.354396   \n",
       "..          ...         ...         ...         ...  ...         ...   \n",
       "578  326.445073  361.495379  398.277240  435.267238  ...  382.551530   \n",
       "579  326.464264  361.513025  398.281893  435.260389  ...  382.492036   \n",
       "580  326.397965  361.458747  398.250373  435.267297  ...  382.482054   \n",
       "581  326.448584  361.489296  398.281757  435.275927  ...  382.789229   \n",
       "582  326.462584  361.503765  398.290976  435.274128  ...  382.722184   \n",
       "\n",
       "            127         128         129         130         131         132  \\\n",
       "0    381.071370  361.327690  343.845490  342.421360  344.785120  356.986140   \n",
       "1    381.114874  361.348807  343.819469  342.387214  344.761274  357.004890   \n",
       "2    381.114874  361.348807  343.819469  342.387214  344.761274  357.004890   \n",
       "3    381.040850  361.312874  343.863722  342.445298  344.801846  356.972986   \n",
       "4    380.621481  361.109119  344.113637  342.773430  345.030917  356.792047   \n",
       "..          ...         ...         ...         ...         ...         ...   \n",
       "578  377.499012  358.141953  345.109024  345.145549  345.665832  354.898678   \n",
       "579  377.440158  358.135715  345.078815  345.125768  345.676078  354.905526   \n",
       "580  377.545025  358.167304  345.151649  345.217583  345.715374  354.863787   \n",
       "581  377.648590  358.193143  345.063979  345.084160  345.576679  354.930971   \n",
       "582  377.570225  358.154445  345.078748  345.088653  345.594937  354.930130   \n",
       "\n",
       "            133         134         135  \n",
       "0    367.246760  371.105790  367.883230  \n",
       "1    367.318464  371.202325  367.961851  \n",
       "2    367.318464  371.202325  367.961851  \n",
       "3    367.196473  371.038097  367.828110  \n",
       "4    366.505904  370.108661  367.071109  \n",
       "..          ...         ...         ...  \n",
       "578  365.431509  368.794873  369.979998  \n",
       "579  365.450687  368.767366  369.982708  \n",
       "580  365.350292  368.692327  369.956275  \n",
       "581  365.574745  369.051948  370.137988  \n",
       "582  365.531718  368.978213  370.065089  \n",
       "\n",
       "[583 rows x 136 columns]"
      ]
     },
     "execution_count": 2,
     "metadata": {},
     "output_type": "execute_result"
    }
   ],
   "source": [
    "my_data = pd.read_csv('transformed_landmarks_procustres_total.csv',header = None)\n",
    "#orden x1xn-y1yn\n",
    "my_data"
   ]
  },
  {
   "cell_type": "code",
   "execution_count": 3,
   "metadata": {},
   "outputs": [],
   "source": [
    "cant_frames_per_seq = pd.read_csv('cktraining_landmark_FramePerSeq.csv',header = None)\n",
    "cant_frames_per_seq = np.asarray(cant_frames_per_seq).flatten()\n"
   ]
  },
  {
   "cell_type": "markdown",
   "metadata": {},
   "source": [
    " ### cargamos las imagenes"
   ]
  },
  {
   "cell_type": "code",
   "execution_count": 5,
   "metadata": {},
   "outputs": [],
   "source": [
    "subject_images = []\n",
    "warpimgpath = '../ck+warpedtraining'\n",
    "for i in range(0, len(os.listdir(warpimgpath))):\n",
    "    subject_images.append('../ck+warpedtraining/' + 'warped_image_procustres_' + str(i)+'.png')\n",
    "subject_images = np.asarray(subject_images)\n"
   ]
  },
  {
   "cell_type": "code",
   "execution_count": 10,
   "metadata": {},
   "outputs": [],
   "source": [
    "### Para empezar, hacemos la descomposición con 1 imagen, luego lo haremos con todas.\n",
    "\n",
    "La descomposion es f = u + v . Nosotros encontramos u (cartoon) y sabemos v = f- u (texture)\n",
    "\n",
    "Para hacerla en la primera instancia vamos a hacer el algoritmo del paper\n",
    "\n",
    "Para eso vamos a hacerlo primero en 1 imagen y luego repilicarlo\n",
    "\n",
    "Empezamos cargando la imagen.\n",
    "\n",
    "Luego debemos guardarla por un lado, y por otro aplicarle un low-pass \n",
    "filter. Utilizamos el aconsejado  Gaussian filter"
   ]
  },
  {
   "cell_type": "code",
   "execution_count": 6,
   "metadata": {},
   "outputs": [
    {
     "data": {
      "text/plain": [
       "True"
      ]
     },
     "execution_count": 6,
     "metadata": {},
     "output_type": "execute_result"
    }
   ],
   "source": [
    "img = cv2.imread(subject_images[0])\n",
    "img = cv2.cvtColor(img, cv2.COLOR_BGR2GRAY)\n",
    "\n",
    "cv2.imshow(\"Texture start\", img)\n",
    "\n",
    "# Pause screen to wait key from user to see result\n",
    "cv2.waitKey(0)\n",
    "cv2.destroyAllWindows()\n",
    "\n",
    "cv2.imwrite(\"ejemplotex.png\", img)"
   ]
  },
  {
   "cell_type": "code",
   "execution_count": null,
   "metadata": {},
   "outputs": [],
   "source": [
    "# the scale parameter sigma es el que utiliza el filtro gaussaino. scale =2 recomendado al inicio.\n",
    "#La gente percibe con scale 3<s<6\n",
    "#scale is standart deviation"
   ]
  },
  {
   "cell_type": "code",
   "execution_count": 7,
   "metadata": {},
   "outputs": [],
   "source": [
    "def iterative_low_pass(imagen, sigma ,times, mod):\n",
    "    low = scipy.ndimage.gaussian_filter(imagen, sigma, mode = mod)\n",
    "    high = imagen - low\n",
    "    for i in range (0, times):\n",
    "        high = high - scipy.ndimage.gaussian_filter(high, sigma, mode = mod)\n",
    "        low = imagen - high\n",
    "    return low, high\n",
    "    "
   ]
  },
  {
   "cell_type": "code",
   "execution_count": null,
   "metadata": {},
   "outputs": [],
   "source": [
    "\n",
    "    \n",
    "\n"
   ]
  },
  {
   "cell_type": "code",
   "execution_count": null,
   "metadata": {},
   "outputs": [],
   "source": []
  },
  {
   "cell_type": "code",
   "execution_count": 11,
   "metadata": {},
   "outputs": [
    {
     "data": {
      "text/plain": [
       "True"
      ]
     },
     "execution_count": 11,
     "metadata": {},
     "output_type": "execute_result"
    }
   ],
   "source": [
    "# lo iteramos 5 veces como dice el paper.\n",
    "lowpassing,_ = iterative_low_pass(img, 0.5, 100,'reflect')\n",
    "\n",
    "cv2.imshow(\"Texture start\", lowpassing )\n",
    "\n",
    "# Pause screen to wait key from user to see result\n",
    "cv2.waitKey(0)\n",
    "cv2.destroyAllWindows()\n",
    "cv2.imwrite(\"ejemplolowpassim.png\", img)\n",
    "#usamos por ahora mirror mode en todas las convoluvciones como dicho"
   ]
  },
  {
   "cell_type": "code",
   "execution_count": 12,
   "metadata": {},
   "outputs": [],
   "source": [
    "def getgradient(imagen):\n",
    "    ##sobel_h = scipy.ndimage.sobel(imagen, 0)  # horizontal gradient\n",
    "    ##sobel_v = scipy.ndimage.sobel(imagen, 1)  # vertical gradient\n",
    "    sobel_h = cv2.Sobel(img, ddepth=-1, dx=1, dy=0, borderType=cv2.BORDER_REFLECT)\n",
    "    sobel_v = cv2.Sobel(img, ddepth=-1, dx=0, dy=1, borderType=cv2.BORDER_REFLECT)\n",
    "    magnitude = np.sqrt(sobel_h**2 + sobel_v**2)\n",
    "    not_normalized_magnitude = magnitude\n",
    "    magnitude *= 255.0 / np.max(magnitude)  # normalization\n",
    "    return not_normalized_magnitude, magnitude"
   ]
  },
  {
   "cell_type": "code",
   "execution_count": 63,
   "metadata": {},
   "outputs": [],
   "source": []
  },
  {
   "cell_type": "code",
   "execution_count": 14,
   "metadata": {},
   "outputs": [],
   "source": [
    "mag_img,_ = getgradient(img)\n",
    "mag_lowim,_ = getgradient(lowpassing)\n",
    "\n",
    "mag_img = mag_img.astype('float32')\n",
    "mag_lowim = mag_lowim.astype('float32')\n",
    "#usamos la magnitud normalizada- float32 en vez de uint8"
   ]
  },
  {
   "cell_type": "code",
   "execution_count": 15,
   "metadata": {},
   "outputs": [],
   "source": [
    "local_total_var_img =  cv2.GaussianBlur(mag_img, (5,5), 2., borderType=cv2.BORDER_REFLECT)\n",
    "local_total_var_lowim = cv2.GaussianBlur(mag_lowim, (5,5), 2., borderType=cv2.BORDER_REFLECT)"
   ]
  },
  {
   "cell_type": "code",
   "execution_count": 16,
   "metadata": {},
   "outputs": [],
   "source": [
    "diff =  local_total_var_img - local_total_var_lowim"
   ]
  },
  {
   "cell_type": "code",
   "execution_count": 17,
   "metadata": {},
   "outputs": [
    {
     "name": "stderr",
     "output_type": "stream",
     "text": [
      "/tmp/ipykernel_4554/4277002566.py:1: RuntimeWarning: invalid value encountered in divide\n",
      "  landa = diff / local_total_var_img\n"
     ]
    }
   ],
   "source": [
    "landa = diff / local_total_var_img"
   ]
  },
  {
   "cell_type": "code",
   "execution_count": 19,
   "metadata": {},
   "outputs": [],
   "source": [
    "\n",
    "def weigthed_function(data, min_br=0.25, max_br=0.5):\n",
    "    if data <= min_br:\n",
    "        return 0.0\n",
    "    elif data >= max_br:\n",
    "        return 1.0\n",
    "    else:\n",
    "        a = 1 / (max_br - min_br)\n",
    "        return a * data - a * min_br\n",
    "        \n"
   ]
  },
  {
   "cell_type": "code",
   "execution_count": null,
   "metadata": {},
   "outputs": [],
   "source": []
  },
  {
   "cell_type": "code",
   "execution_count": null,
   "metadata": {},
   "outputs": [],
   "source": []
  },
  {
   "cell_type": "code",
   "execution_count": null,
   "metadata": {},
   "outputs": [],
   "source": []
  },
  {
   "cell_type": "code",
   "execution_count": null,
   "metadata": {},
   "outputs": [],
   "source": []
  },
  {
   "cell_type": "code",
   "execution_count": null,
   "metadata": {},
   "outputs": [],
   "source": []
  },
  {
   "cell_type": "code",
   "execution_count": null,
   "metadata": {},
   "outputs": [],
   "source": []
  },
  {
   "cell_type": "code",
   "execution_count": 22,
   "metadata": {},
   "outputs": [],
   "source": []
  },
  {
   "cell_type": "code",
   "execution_count": null,
   "metadata": {},
   "outputs": [],
   "source": []
  },
  {
   "cell_type": "code",
   "execution_count": null,
   "metadata": {},
   "outputs": [],
   "source": []
  },
  {
   "cell_type": "code",
   "execution_count": null,
   "metadata": {},
   "outputs": [],
   "source": []
  },
  {
   "cell_type": "code",
   "execution_count": null,
   "metadata": {},
   "outputs": [],
   "source": []
  },
  {
   "cell_type": "code",
   "execution_count": null,
   "metadata": {},
   "outputs": [],
   "source": [
    "\n"
   ]
  },
  {
   "cell_type": "code",
   "execution_count": 91,
   "metadata": {},
   "outputs": [],
   "source": []
  },
  {
   "cell_type": "code",
   "execution_count": null,
   "metadata": {},
   "outputs": [],
   "source": []
  },
  {
   "cell_type": "code",
   "execution_count": null,
   "metadata": {},
   "outputs": [],
   "source": []
  },
  {
   "cell_type": "code",
   "execution_count": null,
   "metadata": {},
   "outputs": [],
   "source": []
  },
  {
   "cell_type": "code",
   "execution_count": 144,
   "metadata": {},
   "outputs": [],
   "source": []
  },
  {
   "cell_type": "code",
   "execution_count": null,
   "metadata": {},
   "outputs": [],
   "source": []
  },
  {
   "cell_type": "code",
   "execution_count": null,
   "metadata": {},
   "outputs": [],
   "source": []
  },
  {
   "cell_type": "code",
   "execution_count": 20,
   "metadata": {},
   "outputs": [],
   "source": [
    "\n",
    "def NormalizeData(data):\n",
    "    return (data - np.min(data)) / (np.max(data) - np.min(data))\n"
   ]
  },
  {
   "cell_type": "code",
   "execution_count": 21,
   "metadata": {},
   "outputs": [
    {
     "ename": "NameError",
     "evalue": "name 'landa2' is not defined",
     "output_type": "error",
     "traceback": [
      "\u001b[0;31m---------------------------------------------------------------------------\u001b[0m",
      "\u001b[0;31mNameError\u001b[0m                                 Traceback (most recent call last)",
      "Cell \u001b[0;32mIn[21], line 1\u001b[0m\n\u001b[0;32m----> 1\u001b[0m landa2norm \u001b[38;5;241m=\u001b[39m NormalizeData(np\u001b[38;5;241m.\u001b[39mabs(\u001b[43mlanda2\u001b[49m))\n\u001b[1;32m      4\u001b[0m \u001b[38;5;28;01mdef\u001b[39;00m \u001b[38;5;21mweigthed_function\u001b[39m(data, min_br\u001b[38;5;241m=\u001b[39m\u001b[38;5;241m0.25\u001b[39m, max_br\u001b[38;5;241m=\u001b[39m\u001b[38;5;241m0.5\u001b[39m):\n\u001b[1;32m      5\u001b[0m     \u001b[38;5;28;01mif\u001b[39;00m data \u001b[38;5;241m<\u001b[39m\u001b[38;5;241m=\u001b[39m min_br:\n",
      "\u001b[0;31mNameError\u001b[0m: name 'landa2' is not defined"
     ]
    }
   ],
   "source": [
    "landa2norm = NormalizeData(np.abs(landa2))\n",
    "\n",
    "\n",
    "def weigthed_function(data, min_br=0.25, max_br=0.5):\n",
    "    if data <= min_br:\n",
    "        return 0.0\n",
    "    elif data >= max_br:\n",
    "        return 1.0\n",
    "    else:\n",
    "        return data\n",
    "\n",
    "    \n",
    "#ahora lo hago asi, luego podemos hacerlo más eficiente con maps o vectorize\n",
    "\n"
   ]
  },
  {
   "cell_type": "code",
   "execution_count": 22,
   "metadata": {},
   "outputs": [],
   "source": [
    "def iterative_low_pass(im, sigma=2. ,times=5, ksize = (5,5)):\n",
    "    low = cv2.GaussianBlur(im, ksize, sigma, borderType=cv2.BORDER_REFLECT)\n",
    "    high = im - low\n",
    "    \n",
    "    pmin = high.min()\n",
    "    pmax = high.max()\n",
    "    \n",
    "# estamos aca poniendo entre 0 y 255 entre la imagen anterior y la gaussiada\n",
    "    def calib_minmax(im):\n",
    "        return (im - im.min()) / (im.max() - im.min()) * (pmax - pmin) + pmin\n",
    "\n",
    "    \n",
    "    for i in range (0, times):\n",
    "        high = high - cv2.GaussianBlur(high, ksize, sigma, borderType=cv2.BORDER_REFLECT)\n",
    "        high = calib_minmax(high)\n",
    "        #creo que es lo mismo hacerlo antes o despues del loop lo del low\n",
    "    low = im - high\n",
    "    return low, high\n",
    "\n",
    "def getgradient(img):  \n",
    "    sobel_h = cv2.Sobel(img, ddepth=-1, dx=1, dy=0, borderType=cv2.BORDER_REFLECT) #hor gradient\n",
    "    sobel_v = cv2.Sobel(img, ddepth=-1, dx=0, dy=1, borderType=cv2.BORDER_REFLECT) #ver gradient\n",
    "    magnitude = np.sqrt(sobel_h**2 + sobel_v**2)\n",
    "    return magnitude\n",
    "\n",
    "def weigthed_function(data, min_br=0.25, max_br=0.5):\n",
    "    if data <= min_br:\n",
    "        return 0.0\n",
    "    elif data >= max_br:\n",
    "        return 1.0\n",
    "    else:\n",
    "        return data\n"
   ]
  },
  {
   "cell_type": "code",
   "execution_count": 23,
   "metadata": {},
   "outputs": [],
   "source": [
    "def cartoon_and_texture_decomposition(img,sig_par, num_pasadas):\n",
    "    lowpassing,_ = iterative_low_pass(img, sig_par, num_pasadas)\n",
    "    mag_img = getgradient(img)\n",
    "    mag_lowim = getgradient(lowpassing)    \n",
    "    \n",
    "    mag_img = mag_img.astype('float32')\n",
    "    mag_lowim = mag_lowim.astype('float32')\n",
    "    \n",
    "    local_total_var_img =  cv2.GaussianBlur(mag_img, (5,5), 2., borderType=cv2.BORDER_REFLECT)\n",
    "    local_total_var_lowim = cv2.GaussianBlur(mag_lowim, (5,5), 2., borderType=cv2.BORDER_REFLECT)\n",
    "    \n",
    "    diff =  local_total_var_img - local_total_var_lowim\n",
    "    landa = diff / local_total_var_img\n",
    "    #landa = (local_total_var_img - local_total_var_lowim)/local_total_var_img\n",
    "    #landa2= np.nan_to_num(landa,  nan=0.0, posinf=0.0, neginf=0.0)\n",
    "    #landa2norm = NormalizeData(np.abs(landa2))\n",
    "    u = np.zeros((len(landa), len(landa[0])))\n",
    "    for i in range(0, len(landa)):\n",
    "        for j in range(0, len(landa[i])):\n",
    "            u[i][j] = weigthed_function(landa[i][j])*lowpassing[i][j] + (1-weigthed_function(landa[i][j]))*img[i][j]\n",
    "    v = img - u\n",
    "    return u , v\n",
    "\n"
   ]
  },
  {
   "cell_type": "code",
   "execution_count": null,
   "metadata": {},
   "outputs": [],
   "source": [
    "\n"
   ]
  },
  {
   "cell_type": "code",
   "execution_count": null,
   "metadata": {},
   "outputs": [],
   "source": []
  },
  {
   "cell_type": "code",
   "execution_count": null,
   "metadata": {},
   "outputs": [],
   "source": []
  },
  {
   "cell_type": "code",
   "execution_count": 28,
   "metadata": {},
   "outputs": [],
   "source": [
    "def iterative_low_pass(imagen, sigma ,times, mod):\n",
    "    low = scipy.ndimage.gaussian_filter(imagen, sigma, mode = mod)\n",
    "    high = imagen - low\n",
    "    for i in range (0, times):\n",
    "        high = high - scipy.ndimage.gaussian_filter(high, sigma, mode = mod)\n",
    "        low = imagen - high\n",
    "    return low, high\n",
    "\n",
    "def getgradient(imagen):\n",
    "    sobel_h = scipy.ndimage.sobel(imagen, 0)  # horizontal gradient\n",
    "    sobel_v = scipy.ndimage.sobel(imagen, 1)  # vertical gradient\n",
    "    magnitude = np.sqrt(sobel_h**2 + sobel_v**2)\n",
    "    not_normalized_magnitude = magnitude\n",
    "    magnitude *= 255.0 / np.max(magnitude)  # normalization\n",
    "    return not_normalized_magnitude, magnitude\n",
    "\n",
    "def NormalizeData(data):\n",
    "    return (data - np.min(data)) / (np.max(data) - np.min(data))\n",
    "\n",
    "def weigthed_function(data, min_br=0.25, max_br=0.5):\n",
    "    if data <= min_br:\n",
    "        return 0.0\n",
    "    elif data >= max_br:\n",
    "        return 1.0\n",
    "    else:\n",
    "        return data\n"
   ]
  },
  {
   "cell_type": "code",
   "execution_count": 29,
   "metadata": {},
   "outputs": [],
   "source": [
    "#Vamos a juntarlo todo\n",
    "\n",
    "def cartoon_and_texture_decomposition(img,sig_par, num_pas):\n",
    "    lowpassing,_ = iterative_low_pass(img, sig_par, num_pasadas, 'mirror')\n",
    "    mag_img, normmag_img = getgradient(img)\n",
    "    mag_lowim, normmag_lowim = getgradient(lowpassing)\n",
    "    normmag_img = normmag_img.astype('float32')\n",
    "    normmag_lowim = normmag_lowim.astype('float32')\n",
    "    local_total_var_img =  scipy.ndimage.gaussian_filter(normmag_img, 2, mode = 'mirror')\n",
    "    local_total_var_lowim = scipy.ndimage.gaussian_filter(normmag_lowim, 2, mode = 'mirror')\n",
    "    landa = (local_total_var_img - local_total_var_lowim)/local_total_var_img\n",
    "    landa2= np.nan_to_num(landa,  nan=0.0, posinf=0.0, neginf=0.0)\n",
    "    landa2norm = NormalizeData(np.abs(landa2))\n",
    "    u = np.zeros((len(landa2norm), len(landa2norm[0])))\n",
    "    for i in range(0, len(landa2norm)):\n",
    "        for j in range(0, len(landa2norm[i])):\n",
    "            u[i][j] = weigthed_function(landa2norm[i][j])*lowpassing[i][j] + (1-weigthed_function(landa2norm[i][j]))*img[i][j]\n",
    "    v = img - u\n",
    "    return u , v\n"
   ]
  },
  {
   "cell_type": "code",
   "execution_count": null,
   "metadata": {},
   "outputs": [],
   "source": []
  },
  {
   "cell_type": "code",
   "execution_count": null,
   "metadata": {},
   "outputs": [],
   "source": []
  },
  {
   "cell_type": "code",
   "execution_count": null,
   "metadata": {},
   "outputs": [],
   "source": []
  },
  {
   "cell_type": "code",
   "execution_count": null,
   "metadata": {},
   "outputs": [],
   "source": []
  },
  {
   "cell_type": "code",
   "execution_count": 30,
   "metadata": {},
   "outputs": [
    {
     "ename": "NameError",
     "evalue": "name 'num_pasadas' is not defined",
     "output_type": "error",
     "traceback": [
      "\u001b[0;31m---------------------------------------------------------------------------\u001b[0m",
      "\u001b[0;31mNameError\u001b[0m                                 Traceback (most recent call last)",
      "Cell \u001b[0;32mIn[30], line 3\u001b[0m\n\u001b[1;32m      1\u001b[0m im \u001b[38;5;241m=\u001b[39m cv2\u001b[38;5;241m.\u001b[39mimread(subject_images[\u001b[38;5;241m0\u001b[39m],\u001b[38;5;241m0\u001b[39m)\n\u001b[0;32m----> 3\u001b[0m u, v \u001b[38;5;241m=\u001b[39m \u001b[43mcartoon_and_texture_decomposition\u001b[49m\u001b[43m(\u001b[49m\u001b[43mim\u001b[49m\u001b[43m,\u001b[49m\u001b[43m \u001b[49m\u001b[38;5;241;43m2\u001b[39;49m\u001b[43m,\u001b[49m\u001b[38;5;241;43m5\u001b[39;49m\u001b[43m)\u001b[49m\n",
      "Cell \u001b[0;32mIn[29], line 4\u001b[0m, in \u001b[0;36mcartoon_and_texture_decomposition\u001b[0;34m(img, sig_par, num_pas)\u001b[0m\n\u001b[1;32m      3\u001b[0m \u001b[38;5;28;01mdef\u001b[39;00m \u001b[38;5;21mcartoon_and_texture_decomposition\u001b[39m(img,sig_par, num_pas):\n\u001b[0;32m----> 4\u001b[0m     lowpassing,_ \u001b[38;5;241m=\u001b[39m iterative_low_pass(img, sig_par, \u001b[43mnum_pasadas\u001b[49m, \u001b[38;5;124m'\u001b[39m\u001b[38;5;124mmirror\u001b[39m\u001b[38;5;124m'\u001b[39m)\n\u001b[1;32m      5\u001b[0m     mag_img, normmag_img \u001b[38;5;241m=\u001b[39m getgradient(img)\n\u001b[1;32m      6\u001b[0m     mag_lowim, normmag_lowim \u001b[38;5;241m=\u001b[39m getgradient(lowpassing)\n",
      "\u001b[0;31mNameError\u001b[0m: name 'num_pasadas' is not defined"
     ]
    }
   ],
   "source": [
    "im = cv2.imread(subject_images[0],0)\n",
    "\n",
    "u, v = cartoon_and_texture_decomposition(im, 2,5, 50)"
   ]
  },
  {
   "cell_type": "code",
   "execution_count": 19,
   "metadata": {},
   "outputs": [
    {
     "data": {
      "text/plain": [
       "True"
      ]
     },
     "execution_count": 19,
     "metadata": {},
     "output_type": "execute_result"
    }
   ],
   "source": [
    "cv2.imshow(\"Texture cartoon\", u)\n",
    "\n",
    "# Pause screen to wait key from user to see result\n",
    "cv2.waitKey(0)\n",
    "cv2.destroyAllWindows()\n",
    "cv2.imwrite(\"ejemplou.png\", u)\n",
    "cv2.imwrite(\"ejemplov.png\", v)"
   ]
  },
  {
   "cell_type": "code",
   "execution_count": 37,
   "metadata": {},
   "outputs": [],
   "source": [
    "umean = u /np.mean(u)"
   ]
  },
  {
   "cell_type": "code",
   "execution_count": null,
   "metadata": {},
   "outputs": [],
   "source": []
  },
  {
   "cell_type": "code",
   "execution_count": null,
   "metadata": {},
   "outputs": [],
   "source": []
  },
  {
   "cell_type": "code",
   "execution_count": 38,
   "metadata": {},
   "outputs": [],
   "source": [
    "subjects_images = '../ck+warped'\n",
    "\n",
    "first_images = []\n",
    "first_frames = []\n",
    "total = 0\n",
    "first_frames.append(my_data.iloc[total])#first frame of first secuence\n",
    "first_images.append(subjects_images + '/' + 'warped_image_procustres_' + str(total)+ '.png')\n",
    "\n",
    "for i in range(0, len(cant_frames_per_seq)-1):\n",
    "    total = total+cant_frames_per_seq[i]\n",
    "    first_frames.append(my_data.iloc[total])\n",
    "    first_images.append(subjects_images + '/' + 'warped_image_procustres_' + str(total)+ '.png')\n",
    "\n",
    "\n",
    "first_frames = np.asarray( first_frames, dtype=object)   \n",
    "first_images = np.asarray( first_images, dtype=object)   \n",
    "\n",
    "intercalated_first_frames = []\n",
    "for fframe in first_frames:\n",
    "    xaxis = fframe[0: int(len(first_frames[0])/2)]\n",
    "    yaxis = fframe[int(len(first_frames[0])/2):len(first_frames[0])]\n",
    "    lan =[]\n",
    "    for (a, b) in zip(xaxis, yaxis):\n",
    "        lan.append(np.asarray([a,b]))        \n",
    "    intercalated_first_frames.append( np.asarray(lan))\n",
    "intercalated_first_frames = np.asarray(intercalated_first_frames)\n",
    "\n",
    "\n",
    "first_frame = intercalated_first_frames"
   ]
  },
  {
   "cell_type": "code",
   "execution_count": 45,
   "metadata": {},
   "outputs": [],
   "source": [
    "#falta lo del hull"
   ]
  },
  {
   "cell_type": "code",
   "execution_count": null,
   "metadata": {},
   "outputs": [
    {
     "name": "stderr",
     "output_type": "stream",
     "text": [
      "/tmp/ipykernel_10998/2381606023.py:11: RuntimeWarning: divide by zero encountered in divide\n",
      "  landa = (local_total_var_img - local_total_var_lowim)/local_total_var_img\n",
      "/tmp/ipykernel_10998/2381606023.py:11: RuntimeWarning: invalid value encountered in divide\n",
      "  landa = (local_total_var_img - local_total_var_lowim)/local_total_var_img\n"
     ]
    }
   ],
   "source": [
    "cartoon = []\n",
    "texture = []\n",
    "for ima in subject_images:    \n",
    "    imaactual =cv2.imread(ima)\n",
    "    imaactual = cv2.cvtColor(imaactual, cv2.COLOR_BGR2GRAY)\n",
    "    u, v = cartoon_and_texture_decomposition(imaactual, 2,5)\n",
    "    cartoon.append(u)\n",
    "    texture.append(v)\n",
    "    \n",
    "cartoon = np.asarray(cartoon)\n",
    "texture = np.asarray(texture)"
   ]
  },
  {
   "cell_type": "code",
   "execution_count": 44,
   "metadata": {},
   "outputs": [
    {
     "data": {
      "text/plain": [
       "(490, 640)"
      ]
     },
     "execution_count": 44,
     "metadata": {},
     "output_type": "execute_result"
    }
   ],
   "source": [
    "for uva in cartoon:\n",
    "    uva = uva - np.mean(uva)\n",
    "    \n",
    "\n",
    "ind =0\n",
    "my_cartoon_diff =[]\n",
    "for i in range(0, len(cant_frames_per_seq)):#51\n",
    "    cant_frames = cant_frames_per_seq[i]\n",
    "    frame_zero = cartoon.iloc[ind]    \n",
    "    for j in range(ind, ind + cant_frames):\n",
    "        my_cartoon_diff.append(cartoon.iloc[j]- cartoon.iloc[ind]) #no dice nada de abs\n",
    "    ind = ind + cant_frames\n",
    "    \n",
    "my_cartoon_diff = np.asarray(my_cartoon_diff)"
   ]
  },
  {
   "cell_type": "code",
   "execution_count": null,
   "metadata": {},
   "outputs": [],
   "source": [
    "my_df = pd.DataFrame(my_cartoon_diff.flatten())\n",
    "my_df.to_csv('my_cartoon_diff.csv',header = False, index= False)\n",
    "my_df = pd.DataFrame(texture.flatten())\n",
    "my_df.to_csv('my_texture.csv',header = False, index= False)"
   ]
  },
  {
   "cell_type": "code",
   "execution_count": null,
   "metadata": {},
   "outputs": [],
   "source": [
    "#Aca hacemos PCA"
   ]
  },
  {
   "cell_type": "code",
   "execution_count": null,
   "metadata": {},
   "outputs": [],
   "source": []
  },
  {
   "cell_type": "code",
   "execution_count": null,
   "metadata": {},
   "outputs": [],
   "source": [
    "from sklearn.preprocessing import StandardScaler\n",
    "from sklearn.decomposition import PCA\n",
    "my_data_forPCA = pd.read_csv('my_cartoon_diff.csv',header = None)\n",
    "my_data_forPCA\n",
    "std_scaler = StandardScaler()\n",
    "scaled_landDiff = std_scaler.fit_transform(my_data_forPCA)\n",
    "scaled_landDiff.shape\n",
    "pca = PCA(n_components=29)\n",
    "pca.fit_transform(scaled_landDiff)\n",
    "b_shape = pca.fit_transform(scaled_landDiff)\n",
    "b_shape.shape"
   ]
  },
  {
   "cell_type": "code",
   "execution_count": null,
   "metadata": {},
   "outputs": [],
   "source": [
    "print(sum(pca.explained_variance_ratio_))"
   ]
  },
  {
   "cell_type": "code",
   "execution_count": null,
   "metadata": {},
   "outputs": [],
   "source": [
    "b_shape\n",
    "pca_var=np.round(pca.explained_variance_ratio_* 100, decimals=1 )\n",
    "labels = ['PC'+ str(s) for s in range(1, len(pca_var)+1)]\n",
    "\n",
    "plt.bar(x= range(1, len(pca_var)+1), height = pca_var, tick_label= labels)\n",
    "plt.ylabel(\"Percentage of Variance\")\n",
    "plt.xlabel(\"Principal Components\")\n",
    "plt.title(\"Scree Plot\")\n",
    "plt.show()"
   ]
  },
  {
   "cell_type": "code",
   "execution_count": null,
   "metadata": {},
   "outputs": [],
   "source": [
    "from sklearn.preprocessing import StandardScaler\n",
    "from sklearn.decomposition import PCA\n",
    "my_data_forPCA = pd.read_csv('my_texture.csv',header = None)\n",
    "my_data_forPCA\n",
    "std_scaler = StandardScaler()\n",
    "scaled_landDiff = std_scaler.fit_transform(my_data_forPCA)\n",
    "scaled_landDiff.shape\n",
    "pca = PCA(n_components=29)\n",
    "pca.fit_transform(scaled_landDiff)\n",
    "b_shape = pca.fit_transform(scaled_landDiff)\n",
    "b_shape.shape"
   ]
  },
  {
   "cell_type": "code",
   "execution_count": null,
   "metadata": {},
   "outputs": [],
   "source": [
    "print(sum(pca.explained_variance_ratio_))"
   ]
  },
  {
   "cell_type": "code",
   "execution_count": null,
   "metadata": {},
   "outputs": [],
   "source": [
    "b_shape\n",
    "pca_var=np.round(pca.explained_variance_ratio_* 100, decimals=1 )\n",
    "labels = ['PC'+ str(s) for s in range(1, len(pca_var)+1)]\n",
    "\n",
    "plt.bar(x= range(1, len(pca_var)+1), height = pca_var, tick_label= labels)\n",
    "plt.ylabel(\"Percentage of Variance\")\n",
    "plt.xlabel(\"Principal Components\")\n",
    "plt.title(\"Scree Plot\")\n",
    "plt.show()"
   ]
  },
  {
   "cell_type": "code",
   "execution_count": null,
   "metadata": {},
   "outputs": [],
   "source": []
  },
  {
   "cell_type": "code",
   "execution_count": null,
   "metadata": {},
   "outputs": [],
   "source": []
  },
  {
   "cell_type": "code",
   "execution_count": null,
   "metadata": {},
   "outputs": [],
   "source": []
  },
  {
   "cell_type": "code",
   "execution_count": null,
   "metadata": {},
   "outputs": [],
   "source": []
  },
  {
   "cell_type": "code",
   "execution_count": 40,
   "metadata": {},
   "outputs": [
    {
     "data": {
      "text/plain": [
       "<scipy.spatial._qhull.ConvexHull at 0x7f5a30662190>"
      ]
     },
     "execution_count": 40,
     "metadata": {},
     "output_type": "execute_result"
    }
   ],
   "source": [
    "from scipy.spatial import ConvexHull, convex_hull_plot_2d\n",
    "#Aca es para el hull, ahora lo hacemos con toda la imagen, sino hay que ver primero\n",
    "points = first_frame[0][0:26]\n",
    "hull = ConvexHull(points)\n",
    "hull\n",
    "\n",
    "#for i in range(0, len(first_frame)):   \n",
    " #   points = first_frame[i][0:26]\n",
    " #   hull = ConvexHull(points)"
   ]
  },
  {
   "cell_type": "code",
   "execution_count": 31,
   "metadata": {},
   "outputs": [],
   "source": [
    "#cv2.imshow(\"cartoon\", u)\n",
    "cv2.imshow(\"texture\", v)\n",
    "#cv2.imahow('original', img)\n",
    "cv2.waitKey(0)\n",
    "cv2.destroyAllWindows()"
   ]
  },
  {
   "cell_type": "code",
   "execution_count": null,
   "metadata": {},
   "outputs": [],
   "source": [
    "import tensorflow as tf\n",
    "\n",
    "\n",
    "img = cv2.imread(subject_images[0])\n",
    "img_rgb = cv2.cvtColor(img, cv2.COLOR_BGR2RGB)\n",
    "img_tensor = tf.convert_to_tensor(img_rgb, dtype=tf.float32)\n",
    "img_gray = tf.image.rgb_to_grayscale(img_tensor)\n",
    "\n",
    "tot_var = tf.image.total_variation(img_gray) \n",
    "tot_var.numpy()"
   ]
  },
  {
   "cell_type": "code",
   "execution_count": null,
   "metadata": {},
   "outputs": [],
   "source": [
    "tf.print(tot_var, [tot_var])"
   ]
  },
  {
   "cell_type": "code",
   "execution_count": null,
   "metadata": {},
   "outputs": [],
   "source": []
  },
  {
   "cell_type": "code",
   "execution_count": null,
   "metadata": {},
   "outputs": [],
   "source": []
  }
 ],
 "metadata": {
  "kernelspec": {
   "display_name": "solverenv",
   "language": "python",
   "name": "solverenv"
  },
  "language_info": {
   "codemirror_mode": {
    "name": "ipython",
    "version": 3
   },
   "file_extension": ".py",
   "mimetype": "text/x-python",
   "name": "python",
   "nbconvert_exporter": "python",
   "pygments_lexer": "ipython3",
   "version": "3.8.18"
  }
 },
 "nbformat": 4,
 "nbformat_minor": 2
}
