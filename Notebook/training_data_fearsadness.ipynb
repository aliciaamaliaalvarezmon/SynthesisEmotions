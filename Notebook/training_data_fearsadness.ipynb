{
 "cells": [
  {
   "cell_type": "code",
   "execution_count": 2,
   "metadata": {},
   "outputs": [],
   "source": [
    "%matplotlib inline\n",
    "\n",
    "import numpy as np # NUMPY\n",
    "import pandas as pd # PANDAS\n",
    "import matplotlib.pyplot as plt # MATPLOTLIB\n",
    "import seaborn as sns # SEABORN\n",
    "import scipy\n",
    "import sklearn\n",
    "from sklearn.decomposition import PCA\n",
    "import cv2\n",
    "import os \n",
    "from skimage import filters\n",
    "from scipy import ndimage\n",
    "import math \n"
   ]
  },
  {
   "cell_type": "code",
   "execution_count": 3,
   "metadata": {},
   "outputs": [],
   "source": [
    "import glob\n",
    "from pathlib import Path"
   ]
  },
  {
   "cell_type": "code",
   "execution_count": 4,
   "metadata": {},
   "outputs": [],
   "source": [
    "%run auxfunctions.ipynb"
   ]
  },
  {
   "cell_type": "code",
   "execution_count": 5,
   "metadata": {},
   "outputs": [],
   "source": [
    "from sklearn.preprocessing import StandardScaler\n",
    "from sklearn.decomposition import PCA"
   ]
  },
  {
   "cell_type": "code",
   "execution_count": 11,
   "metadata": {},
   "outputs": [],
   "source": [
    "my_data_forPCA = pd.read_csv('my_training_data_aligned_diff_newT.csv',header = None)\n",
    "\n",
    "#std_scaler = StandardScaler()\n",
    "#scaled_landDiff = std_scaler.fit_transform(my_data_forPCA)\n",
    "#scaled_landDiff.shape\n",
    "\n",
    "#pca_shape = PCA(n_components=29)\n",
    "#b_shape = pca_shape.fit_transform(scaled_landDiff)\n",
    "#b_shape.shape "
   ]
  },
  {
   "cell_type": "code",
   "execution_count": 13,
   "metadata": {},
   "outputs": [],
   "source": [
    "fear_data_forPCA = pd.read_csv('my_training_data_aligned_diff_newT_fear.csv',header = None)\n",
    "sadness_data_forPCA = pd.read_csv('my_training_data_aligned_diff_newT_sadness.csv',header = None)\n"
   ]
  },
  {
   "cell_type": "code",
   "execution_count": 16,
   "metadata": {},
   "outputs": [],
   "source": [
    "old_and_sadfear_PCA = pd.concat([my_data_forPCA, fear_data_forPCA, sadness_data_forPCA ])"
   ]
  },
  {
   "cell_type": "code",
   "execution_count": 17,
   "metadata": {},
   "outputs": [
    {
     "data": {
      "text/html": [
       "<div>\n",
       "<style scoped>\n",
       "    .dataframe tbody tr th:only-of-type {\n",
       "        vertical-align: middle;\n",
       "    }\n",
       "\n",
       "    .dataframe tbody tr th {\n",
       "        vertical-align: top;\n",
       "    }\n",
       "\n",
       "    .dataframe thead th {\n",
       "        text-align: right;\n",
       "    }\n",
       "</style>\n",
       "<table border=\"1\" class=\"dataframe\">\n",
       "  <thead>\n",
       "    <tr style=\"text-align: right;\">\n",
       "      <th></th>\n",
       "      <th>0</th>\n",
       "      <th>1</th>\n",
       "      <th>2</th>\n",
       "      <th>3</th>\n",
       "      <th>4</th>\n",
       "      <th>5</th>\n",
       "      <th>6</th>\n",
       "      <th>7</th>\n",
       "      <th>8</th>\n",
       "      <th>9</th>\n",
       "      <th>...</th>\n",
       "      <th>126</th>\n",
       "      <th>127</th>\n",
       "      <th>128</th>\n",
       "      <th>129</th>\n",
       "      <th>130</th>\n",
       "      <th>131</th>\n",
       "      <th>132</th>\n",
       "      <th>133</th>\n",
       "      <th>134</th>\n",
       "      <th>135</th>\n",
       "    </tr>\n",
       "  </thead>\n",
       "  <tbody>\n",
       "    <tr>\n",
       "      <th>0</th>\n",
       "      <td>0.000000</td>\n",
       "      <td>0.000000</td>\n",
       "      <td>0.000000</td>\n",
       "      <td>0.000000</td>\n",
       "      <td>0.000000</td>\n",
       "      <td>0.000000</td>\n",
       "      <td>0.000000</td>\n",
       "      <td>0.000000</td>\n",
       "      <td>0.000000</td>\n",
       "      <td>0.000000</td>\n",
       "      <td>...</td>\n",
       "      <td>0.000000</td>\n",
       "      <td>0.000000</td>\n",
       "      <td>0.000000</td>\n",
       "      <td>0.000000</td>\n",
       "      <td>0.000000</td>\n",
       "      <td>0.000000</td>\n",
       "      <td>0.000000</td>\n",
       "      <td>0.000000</td>\n",
       "      <td>0.000000</td>\n",
       "      <td>0.000000</td>\n",
       "    </tr>\n",
       "    <tr>\n",
       "      <th>1</th>\n",
       "      <td>3.321848</td>\n",
       "      <td>3.389416</td>\n",
       "      <td>3.614584</td>\n",
       "      <td>3.923668</td>\n",
       "      <td>4.586144</td>\n",
       "      <td>1.836830</td>\n",
       "      <td>1.209116</td>\n",
       "      <td>0.736995</td>\n",
       "      <td>0.059171</td>\n",
       "      <td>-0.597565</td>\n",
       "      <td>...</td>\n",
       "      <td>6.312549</td>\n",
       "      <td>4.202433</td>\n",
       "      <td>0.698461</td>\n",
       "      <td>-2.723177</td>\n",
       "      <td>-4.700435</td>\n",
       "      <td>-2.989341</td>\n",
       "      <td>1.120734</td>\n",
       "      <td>5.387435</td>\n",
       "      <td>7.346126</td>\n",
       "      <td>5.497563</td>\n",
       "    </tr>\n",
       "    <tr>\n",
       "      <th>2</th>\n",
       "      <td>0.000000</td>\n",
       "      <td>0.000000</td>\n",
       "      <td>0.000000</td>\n",
       "      <td>0.000000</td>\n",
       "      <td>0.000000</td>\n",
       "      <td>0.000000</td>\n",
       "      <td>0.000000</td>\n",
       "      <td>0.000000</td>\n",
       "      <td>0.000000</td>\n",
       "      <td>0.000000</td>\n",
       "      <td>...</td>\n",
       "      <td>0.000000</td>\n",
       "      <td>0.000000</td>\n",
       "      <td>0.000000</td>\n",
       "      <td>0.000000</td>\n",
       "      <td>0.000000</td>\n",
       "      <td>0.000000</td>\n",
       "      <td>0.000000</td>\n",
       "      <td>0.000000</td>\n",
       "      <td>0.000000</td>\n",
       "      <td>0.000000</td>\n",
       "    </tr>\n",
       "    <tr>\n",
       "      <th>3</th>\n",
       "      <td>-3.865982</td>\n",
       "      <td>-4.154327</td>\n",
       "      <td>-4.198715</td>\n",
       "      <td>-2.676183</td>\n",
       "      <td>-2.193575</td>\n",
       "      <td>-1.075355</td>\n",
       "      <td>0.691931</td>\n",
       "      <td>1.080560</td>\n",
       "      <td>2.856966</td>\n",
       "      <td>3.918157</td>\n",
       "      <td>...</td>\n",
       "      <td>-15.640824</td>\n",
       "      <td>-8.321081</td>\n",
       "      <td>-5.836411</td>\n",
       "      <td>-5.513324</td>\n",
       "      <td>-3.785196</td>\n",
       "      <td>-4.675919</td>\n",
       "      <td>-4.567765</td>\n",
       "      <td>-5.097905</td>\n",
       "      <td>-4.901998</td>\n",
       "      <td>-5.592174</td>\n",
       "    </tr>\n",
       "    <tr>\n",
       "      <th>4</th>\n",
       "      <td>0.000000</td>\n",
       "      <td>0.000000</td>\n",
       "      <td>0.000000</td>\n",
       "      <td>0.000000</td>\n",
       "      <td>0.000000</td>\n",
       "      <td>0.000000</td>\n",
       "      <td>0.000000</td>\n",
       "      <td>0.000000</td>\n",
       "      <td>0.000000</td>\n",
       "      <td>0.000000</td>\n",
       "      <td>...</td>\n",
       "      <td>0.000000</td>\n",
       "      <td>0.000000</td>\n",
       "      <td>0.000000</td>\n",
       "      <td>0.000000</td>\n",
       "      <td>0.000000</td>\n",
       "      <td>0.000000</td>\n",
       "      <td>0.000000</td>\n",
       "      <td>0.000000</td>\n",
       "      <td>0.000000</td>\n",
       "      <td>0.000000</td>\n",
       "    </tr>\n",
       "    <tr>\n",
       "      <th>...</th>\n",
       "      <td>...</td>\n",
       "      <td>...</td>\n",
       "      <td>...</td>\n",
       "      <td>...</td>\n",
       "      <td>...</td>\n",
       "      <td>...</td>\n",
       "      <td>...</td>\n",
       "      <td>...</td>\n",
       "      <td>...</td>\n",
       "      <td>...</td>\n",
       "      <td>...</td>\n",
       "      <td>...</td>\n",
       "      <td>...</td>\n",
       "      <td>...</td>\n",
       "      <td>...</td>\n",
       "      <td>...</td>\n",
       "      <td>...</td>\n",
       "      <td>...</td>\n",
       "      <td>...</td>\n",
       "      <td>...</td>\n",
       "      <td>...</td>\n",
       "    </tr>\n",
       "    <tr>\n",
       "      <th>16</th>\n",
       "      <td>1.458526</td>\n",
       "      <td>1.438414</td>\n",
       "      <td>1.292610</td>\n",
       "      <td>0.785171</td>\n",
       "      <td>0.678849</td>\n",
       "      <td>0.627384</td>\n",
       "      <td>0.205456</td>\n",
       "      <td>-0.301711</td>\n",
       "      <td>-0.866286</td>\n",
       "      <td>-0.955327</td>\n",
       "      <td>...</td>\n",
       "      <td>0.108439</td>\n",
       "      <td>2.931707</td>\n",
       "      <td>4.997043</td>\n",
       "      <td>1.893707</td>\n",
       "      <td>2.080429</td>\n",
       "      <td>2.744648</td>\n",
       "      <td>8.619545</td>\n",
       "      <td>2.860622</td>\n",
       "      <td>2.164940</td>\n",
       "      <td>1.944843</td>\n",
       "    </tr>\n",
       "    <tr>\n",
       "      <th>17</th>\n",
       "      <td>-0.104826</td>\n",
       "      <td>-0.562747</td>\n",
       "      <td>-0.686865</td>\n",
       "      <td>-0.680543</td>\n",
       "      <td>0.646702</td>\n",
       "      <td>1.348654</td>\n",
       "      <td>-0.571505</td>\n",
       "      <td>-0.734606</td>\n",
       "      <td>-0.255969</td>\n",
       "      <td>0.191786</td>\n",
       "      <td>...</td>\n",
       "      <td>0.166520</td>\n",
       "      <td>-3.504449</td>\n",
       "      <td>-5.111879</td>\n",
       "      <td>-4.891640</td>\n",
       "      <td>1.355560</td>\n",
       "      <td>-5.638686</td>\n",
       "      <td>-5.644174</td>\n",
       "      <td>-5.812976</td>\n",
       "      <td>-5.715438</td>\n",
       "      <td>-5.178277</td>\n",
       "    </tr>\n",
       "    <tr>\n",
       "      <th>18</th>\n",
       "      <td>0.076568</td>\n",
       "      <td>-0.121391</td>\n",
       "      <td>0.034190</td>\n",
       "      <td>0.899219</td>\n",
       "      <td>1.997878</td>\n",
       "      <td>2.755954</td>\n",
       "      <td>0.482431</td>\n",
       "      <td>2.264971</td>\n",
       "      <td>3.470655</td>\n",
       "      <td>2.991495</td>\n",
       "      <td>...</td>\n",
       "      <td>-0.469402</td>\n",
       "      <td>1.088381</td>\n",
       "      <td>1.876698</td>\n",
       "      <td>1.847140</td>\n",
       "      <td>1.842480</td>\n",
       "      <td>1.967724</td>\n",
       "      <td>2.082946</td>\n",
       "      <td>2.128166</td>\n",
       "      <td>1.858659</td>\n",
       "      <td>2.027230</td>\n",
       "    </tr>\n",
       "    <tr>\n",
       "      <th>19</th>\n",
       "      <td>-1.035483</td>\n",
       "      <td>-1.319794</td>\n",
       "      <td>-0.520224</td>\n",
       "      <td>-0.638861</td>\n",
       "      <td>-0.768327</td>\n",
       "      <td>-1.485115</td>\n",
       "      <td>-1.991036</td>\n",
       "      <td>-2.130196</td>\n",
       "      <td>-1.617732</td>\n",
       "      <td>-0.482934</td>\n",
       "      <td>...</td>\n",
       "      <td>-11.757692</td>\n",
       "      <td>-6.985962</td>\n",
       "      <td>-4.470720</td>\n",
       "      <td>-4.595483</td>\n",
       "      <td>-6.648101</td>\n",
       "      <td>-4.667502</td>\n",
       "      <td>-4.617455</td>\n",
       "      <td>-4.725245</td>\n",
       "      <td>-6.656655</td>\n",
       "      <td>-4.192392</td>\n",
       "    </tr>\n",
       "    <tr>\n",
       "      <th>20</th>\n",
       "      <td>1.886751</td>\n",
       "      <td>3.333405</td>\n",
       "      <td>3.543971</td>\n",
       "      <td>3.964895</td>\n",
       "      <td>4.674959</td>\n",
       "      <td>2.723359</td>\n",
       "      <td>1.628983</td>\n",
       "      <td>1.082765</td>\n",
       "      <td>0.177355</td>\n",
       "      <td>-1.049920</td>\n",
       "      <td>...</td>\n",
       "      <td>-1.223178</td>\n",
       "      <td>2.129594</td>\n",
       "      <td>1.668806</td>\n",
       "      <td>1.489665</td>\n",
       "      <td>0.312667</td>\n",
       "      <td>0.605674</td>\n",
       "      <td>0.702781</td>\n",
       "      <td>1.018891</td>\n",
       "      <td>0.353303</td>\n",
       "      <td>1.647136</td>\n",
       "    </tr>\n",
       "  </tbody>\n",
       "</table>\n",
       "<p>490 rows × 136 columns</p>\n",
       "</div>"
      ],
      "text/plain": [
       "         0         1         2         3         4         5         6    \\\n",
       "0   0.000000  0.000000  0.000000  0.000000  0.000000  0.000000  0.000000   \n",
       "1   3.321848  3.389416  3.614584  3.923668  4.586144  1.836830  1.209116   \n",
       "2   0.000000  0.000000  0.000000  0.000000  0.000000  0.000000  0.000000   \n",
       "3  -3.865982 -4.154327 -4.198715 -2.676183 -2.193575 -1.075355  0.691931   \n",
       "4   0.000000  0.000000  0.000000  0.000000  0.000000  0.000000  0.000000   \n",
       "..       ...       ...       ...       ...       ...       ...       ...   \n",
       "16  1.458526  1.438414  1.292610  0.785171  0.678849  0.627384  0.205456   \n",
       "17 -0.104826 -0.562747 -0.686865 -0.680543  0.646702  1.348654 -0.571505   \n",
       "18  0.076568 -0.121391  0.034190  0.899219  1.997878  2.755954  0.482431   \n",
       "19 -1.035483 -1.319794 -0.520224 -0.638861 -0.768327 -1.485115 -1.991036   \n",
       "20  1.886751  3.333405  3.543971  3.964895  4.674959  2.723359  1.628983   \n",
       "\n",
       "         7         8         9    ...        126       127       128  \\\n",
       "0   0.000000  0.000000  0.000000  ...   0.000000  0.000000  0.000000   \n",
       "1   0.736995  0.059171 -0.597565  ...   6.312549  4.202433  0.698461   \n",
       "2   0.000000  0.000000  0.000000  ...   0.000000  0.000000  0.000000   \n",
       "3   1.080560  2.856966  3.918157  ... -15.640824 -8.321081 -5.836411   \n",
       "4   0.000000  0.000000  0.000000  ...   0.000000  0.000000  0.000000   \n",
       "..       ...       ...       ...  ...        ...       ...       ...   \n",
       "16 -0.301711 -0.866286 -0.955327  ...   0.108439  2.931707  4.997043   \n",
       "17 -0.734606 -0.255969  0.191786  ...   0.166520 -3.504449 -5.111879   \n",
       "18  2.264971  3.470655  2.991495  ...  -0.469402  1.088381  1.876698   \n",
       "19 -2.130196 -1.617732 -0.482934  ... -11.757692 -6.985962 -4.470720   \n",
       "20  1.082765  0.177355 -1.049920  ...  -1.223178  2.129594  1.668806   \n",
       "\n",
       "         129       130       131       132       133       134       135  \n",
       "0   0.000000  0.000000  0.000000  0.000000  0.000000  0.000000  0.000000  \n",
       "1  -2.723177 -4.700435 -2.989341  1.120734  5.387435  7.346126  5.497563  \n",
       "2   0.000000  0.000000  0.000000  0.000000  0.000000  0.000000  0.000000  \n",
       "3  -5.513324 -3.785196 -4.675919 -4.567765 -5.097905 -4.901998 -5.592174  \n",
       "4   0.000000  0.000000  0.000000  0.000000  0.000000  0.000000  0.000000  \n",
       "..       ...       ...       ...       ...       ...       ...       ...  \n",
       "16  1.893707  2.080429  2.744648  8.619545  2.860622  2.164940  1.944843  \n",
       "17 -4.891640  1.355560 -5.638686 -5.644174 -5.812976 -5.715438 -5.178277  \n",
       "18  1.847140  1.842480  1.967724  2.082946  2.128166  1.858659  2.027230  \n",
       "19 -4.595483 -6.648101 -4.667502 -4.617455 -4.725245 -6.656655 -4.192392  \n",
       "20  1.489665  0.312667  0.605674  0.702781  1.018891  0.353303  1.647136  \n",
       "\n",
       "[490 rows x 136 columns]"
      ]
     },
     "execution_count": 17,
     "metadata": {},
     "output_type": "execute_result"
    }
   ],
   "source": [
    "old_and_sadfear_PCA"
   ]
  },
  {
   "cell_type": "code",
   "execution_count": 20,
   "metadata": {},
   "outputs": [
    {
     "data": {
      "text/plain": [
       "(490, 136)"
      ]
     },
     "execution_count": 20,
     "metadata": {},
     "output_type": "execute_result"
    }
   ],
   "source": [
    "std_scaler = StandardScaler()\n",
    "scaled_landDiff = std_scaler.fit_transform(old_and_sadfear_PCA)\n",
    "scaled_landDiff.shape\n",
    "\n"
   ]
  },
  {
   "cell_type": "code",
   "execution_count": 21,
   "metadata": {},
   "outputs": [
    {
     "data": {
      "text/plain": [
       "(490, 29)"
      ]
     },
     "execution_count": 21,
     "metadata": {},
     "output_type": "execute_result"
    }
   ],
   "source": [
    "pca_shape = PCA(n_components=29)\n",
    "b_shape = pca_shape.fit_transform(scaled_landDiff)\n",
    "b_shape.shape "
   ]
  },
  {
   "cell_type": "code",
   "execution_count": 24,
   "metadata": {},
   "outputs": [
    {
     "name": "stdout",
     "output_type": "stream",
     "text": [
      "0.9631693865026385\n"
     ]
    }
   ],
   "source": [
    "print(sum(pca_shape.explained_variance_ratio_))"
   ]
  },
  {
   "cell_type": "code",
   "execution_count": 25,
   "metadata": {},
   "outputs": [],
   "source": [
    "my_df = pd.DataFrame(b_shape)\n",
    "my_df.to_csv('ck+copynewTfile/pca_training_shapepoints_newT_fearsad.csv',header = False, index= False)"
   ]
  },
  {
   "cell_type": "code",
   "execution_count": null,
   "metadata": {},
   "outputs": [],
   "source": []
  },
  {
   "cell_type": "code",
   "execution_count": 30,
   "metadata": {},
   "outputs": [],
   "source": [
    "my_struct_forPCA = pd.read_csv('structure_feature_newT_vector.csv',header = None)\n",
    "fear_struct_forPCA = pd.read_csv('structure_feature_newT_vector_fear.csv',header = None)\n",
    "sadness_struct_forPCA = pd.read_csv('structure_feature_newT_vector_sadness.csv',header = None)\n",
    "old_and_sadfear_PCA_struct = pd.concat([my_struct_forPCA, fear_struct_forPCA, sadness_struct_forPCA ])"
   ]
  },
  {
   "cell_type": "code",
   "execution_count": 33,
   "metadata": {},
   "outputs": [
    {
     "data": {
      "text/plain": [
       "(490, 22)"
      ]
     },
     "execution_count": 33,
     "metadata": {},
     "output_type": "execute_result"
    }
   ],
   "source": [
    "std_scaler = StandardScaler()\n",
    "scaled_landDiff = std_scaler.fit_transform(old_and_sadfear_PCA_struct)\n",
    "\n",
    "\n",
    "\n",
    "scaled_landDiff.shape"
   ]
  },
  {
   "cell_type": "code",
   "execution_count": 34,
   "metadata": {},
   "outputs": [
    {
     "data": {
      "text/plain": [
       "(490, 13)"
      ]
     },
     "execution_count": 34,
     "metadata": {},
     "output_type": "execute_result"
    }
   ],
   "source": [
    "pca_struct = PCA(n_components=13)\n",
    "b_structure = pca_struct.fit_transform(scaled_landDiff)\n",
    "b_structure.shape"
   ]
  },
  {
   "cell_type": "code",
   "execution_count": 35,
   "metadata": {},
   "outputs": [
    {
     "name": "stdout",
     "output_type": "stream",
     "text": [
      "0.9407747800005588\n"
     ]
    }
   ],
   "source": [
    "print(sum(pca_struct.explained_variance_ratio_))"
   ]
  },
  {
   "cell_type": "code",
   "execution_count": 48,
   "metadata": {},
   "outputs": [],
   "source": [
    "my_df = pd.DataFrame(b_structure)\n",
    "my_df.to_csv('ck+copynewTfile/pca_training_structurepoints_newT_fearsad.csv',header = False, index= False)"
   ]
  },
  {
   "cell_type": "code",
   "execution_count": 37,
   "metadata": {},
   "outputs": [],
   "source": [
    "file_path = 'im_newT_cartoonarray_.csv'\n",
    "chunk_size = 100\n",
    "\n",
    "df_list = []\n",
    "\n",
    "for chunk in pd.read_csv(file_path, chunksize=chunk_size, header = None):\n",
    "    df_list.append(chunk)\n",
    "\n",
    "df = pd.concat(df_list)"
   ]
  },
  {
   "cell_type": "code",
   "execution_count": 38,
   "metadata": {},
   "outputs": [
    {
     "data": {
      "text/plain": [
       "450"
      ]
     },
     "execution_count": 38,
     "metadata": {},
     "output_type": "execute_result"
    }
   ],
   "source": [
    "my_data_forPCA_cartoon = df\n",
    "len(my_data_forPCA_cartoon)"
   ]
  },
  {
   "cell_type": "code",
   "execution_count": 40,
   "metadata": {},
   "outputs": [
    {
     "data": {
      "text/plain": [
       "19"
      ]
     },
     "execution_count": 40,
     "metadata": {},
     "output_type": "execute_result"
    }
   ],
   "source": [
    "file_path = 'im_newT_cartoonarray_fear.csv'\n",
    "fear_add = pd.read_csv(file_path,  header = None)\n",
    "len(fear_add)"
   ]
  },
  {
   "cell_type": "code",
   "execution_count": 41,
   "metadata": {},
   "outputs": [
    {
     "data": {
      "text/plain": [
       "21"
      ]
     },
     "execution_count": 41,
     "metadata": {},
     "output_type": "execute_result"
    }
   ],
   "source": [
    "file_path = 'im_newT_cartoonarray_sadness.csv'\n",
    "sadness_add = pd.read_csv(file_path,  header = None)\n",
    "len(sadness_add)"
   ]
  },
  {
   "cell_type": "code",
   "execution_count": 43,
   "metadata": {},
   "outputs": [
    {
     "data": {
      "text/plain": [
       "490"
      ]
     },
     "execution_count": 43,
     "metadata": {},
     "output_type": "execute_result"
    }
   ],
   "source": [
    "my_data_for_PCA_cartoon_fearsad = pd.concat([my_data_forPCA_cartoon, fear_add, sadness_add ])\n",
    "len(my_data_for_PCA_cartoon_fearsad)"
   ]
  },
  {
   "cell_type": "code",
   "execution_count": null,
   "metadata": {},
   "outputs": [],
   "source": []
  },
  {
   "cell_type": "code",
   "execution_count": 44,
   "metadata": {},
   "outputs": [
    {
     "data": {
      "text/plain": [
       "(490, 168100)"
      ]
     },
     "execution_count": 44,
     "metadata": {},
     "output_type": "execute_result"
    }
   ],
   "source": [
    "std_scaler = StandardScaler()\n",
    "scaled_landDiff = std_scaler.fit_transform(my_data_for_PCA_cartoon_fearsad)\n",
    "scaled_landDiff.shape"
   ]
  },
  {
   "cell_type": "code",
   "execution_count": null,
   "metadata": {},
   "outputs": [],
   "source": []
  },
  {
   "cell_type": "code",
   "execution_count": 45,
   "metadata": {},
   "outputs": [
    {
     "data": {
      "text/plain": [
       "(490, 100)"
      ]
     },
     "execution_count": 45,
     "metadata": {},
     "output_type": "execute_result"
    }
   ],
   "source": [
    "pca_cartoon = PCA(n_components=100)#era 14\n",
    "b_cartoon = pca_cartoon.fit_transform(scaled_landDiff)\n",
    "b_cartoon.shape # "
   ]
  },
  {
   "cell_type": "code",
   "execution_count": 47,
   "metadata": {},
   "outputs": [],
   "source": [
    "my_df = pd.DataFrame(b_cartoon)\n",
    "my_df.to_csv('ck+copynewTfile/pca_cartoonnewTpoints_fearsad.csv',header = False, index= False)"
   ]
  },
  {
   "cell_type": "code",
   "execution_count": null,
   "metadata": {},
   "outputs": [],
   "source": []
  },
  {
   "cell_type": "code",
   "execution_count": 6,
   "metadata": {},
   "outputs": [],
   "source": [
    "file_path = 'im_newT_texturearray_.csv'\n",
    "chunk_size = 100\n",
    "\n",
    "df_list = []\n",
    "\n",
    "for chunk in pd.read_csv(file_path, chunksize=chunk_size, header = None):\n",
    "    df_list.append(chunk)\n",
    "\n",
    "df2 = pd.concat(df_list)"
   ]
  },
  {
   "cell_type": "code",
   "execution_count": 7,
   "metadata": {},
   "outputs": [],
   "source": [
    "my_data_forPCA_texture =df2"
   ]
  },
  {
   "cell_type": "code",
   "execution_count": 8,
   "metadata": {},
   "outputs": [
    {
     "data": {
      "text/plain": [
       "19"
      ]
     },
     "execution_count": 8,
     "metadata": {},
     "output_type": "execute_result"
    }
   ],
   "source": [
    "file_path = 'im_newT_texturearray_fear.csv'\n",
    "fear_add = pd.read_csv(file_path,  header = None)\n",
    "len(fear_add)"
   ]
  },
  {
   "cell_type": "code",
   "execution_count": 9,
   "metadata": {},
   "outputs": [
    {
     "data": {
      "text/plain": [
       "21"
      ]
     },
     "execution_count": 9,
     "metadata": {},
     "output_type": "execute_result"
    }
   ],
   "source": [
    "file_path = 'im_newT_texturearray_sadness.csv'\n",
    "sadness_add = pd.read_csv(file_path,  header = None)\n",
    "len(sadness_add)"
   ]
  },
  {
   "cell_type": "code",
   "execution_count": 10,
   "metadata": {},
   "outputs": [
    {
     "data": {
      "text/plain": [
       "490"
      ]
     },
     "execution_count": 10,
     "metadata": {},
     "output_type": "execute_result"
    }
   ],
   "source": [
    "my_data_for_PCA_texture_fearsad = pd.concat([my_data_forPCA_texture, fear_add, sadness_add ])\n",
    "len(my_data_for_PCA_texture_fearsad)"
   ]
  },
  {
   "cell_type": "code",
   "execution_count": null,
   "metadata": {},
   "outputs": [],
   "source": []
  },
  {
   "cell_type": "code",
   "execution_count": 11,
   "metadata": {},
   "outputs": [
    {
     "data": {
      "text/plain": [
       "(490, 168100)"
      ]
     },
     "execution_count": 11,
     "metadata": {},
     "output_type": "execute_result"
    }
   ],
   "source": [
    "std_scaler = StandardScaler()\n",
    "scaled_landDiff = std_scaler.fit_transform(my_data_for_PCA_texture_fearsad)\n",
    "scaled_landDiff.shape\n"
   ]
  },
  {
   "cell_type": "code",
   "execution_count": null,
   "metadata": {},
   "outputs": [],
   "source": [
    "pca_texture = PCA(n_components=350)#era 14\n",
    "b_texture = pca_texture.fit_transform(scaled_landDiff)\n",
    "b_texture.shape # "
   ]
  },
  {
   "cell_type": "code",
   "execution_count": null,
   "metadata": {},
   "outputs": [],
   "source": [
    "my_df = pd.DataFrame(b_texture)\n",
    "my_df.to_csv('ck+copynewTfile/pca_texturenewTpoints_fearsad.csv',header = False, index= False)"
   ]
  },
  {
   "cell_type": "code",
   "execution_count": null,
   "metadata": {},
   "outputs": [],
   "source": []
  }
 ],
 "metadata": {
  "kernelspec": {
   "display_name": "solverenv",
   "language": "python",
   "name": "solverenv"
  },
  "language_info": {
   "codemirror_mode": {
    "name": "ipython",
    "version": 3
   },
   "file_extension": ".py",
   "mimetype": "text/x-python",
   "name": "python",
   "nbconvert_exporter": "python",
   "pygments_lexer": "ipython3",
   "version": "3.8.18"
  }
 },
 "nbformat": 4,
 "nbformat_minor": 2
}
