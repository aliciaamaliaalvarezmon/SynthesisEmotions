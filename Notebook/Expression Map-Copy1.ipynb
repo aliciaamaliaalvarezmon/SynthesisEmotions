{
 "cells": [
  {
   "cell_type": "code",
   "execution_count": 1,
   "metadata": {},
   "outputs": [],
   "source": [
    "%matplotlib inline\n",
    "\n",
    "import numpy as np # NUMPY\n",
    "import pandas as pd # PANDAS\n",
    "import matplotlib.pyplot as plt # MATPLOTLIB\n",
    "import seaborn as sns # SEABORN\n",
    "import scipy\n",
    "import sklearn\n",
    "from sklearn.decomposition import PCA\n",
    "import cv2\n",
    "import os \n",
    "from skimage import filters\n",
    "from scipy import ndimage"
   ]
  },
  {
   "cell_type": "markdown",
   "metadata": {},
   "source": [
    "# Vamos a escribir un expression map, primero con us Self Organizing Map"
   ]
  },
  {
   "cell_type": "code",
   "execution_count": null,
   "metadata": {},
   "outputs": [],
   "source": [
    "\n"
   ]
  },
  {
   "cell_type": "code",
   "execution_count": 3,
   "metadata": {},
   "outputs": [],
   "source": [
    "b_shape = pd.read_csv('pca_shapepoints.csv',header = None)\n",
    "b_structure = pd.read_csv('pca_structurepoints.csv',header = None)\n",
    "b_cartoon = pd.read_csv('pca_cartoonpoints.csv',header = None)\n",
    "b_texture = pd.read_csv('pca_texturepoints.csv',header = None)"
   ]
  },
  {
   "cell_type": "code",
   "execution_count": 2,
   "metadata": {},
   "outputs": [],
   "source": [
    "b_shape = pd.read_csv('pca_training_shapepoints.csv',header = None)\n",
    "b_structure = pd.read_csv('pca_training_structurepoints.csv',header = None)\n",
    "b_cartoon = pd.read_csv('pca_cartoontrainingpoints.csv',header = None)\n",
    "b_texture = pd.read_csv('pca_texturetrainingpoints.csv',header = None)"
   ]
  },
  {
   "cell_type": "code",
   "execution_count": 3,
   "metadata": {},
   "outputs": [
    {
     "data": {
      "text/plain": [
       "689"
      ]
     },
     "execution_count": 3,
     "metadata": {},
     "output_type": "execute_result"
    }
   ],
   "source": [
    "len(b_cartoon)"
   ]
  },
  {
   "cell_type": "markdown",
   "metadata": {},
   "source": [
    "estas 2 celdas están porque no tenemos todas las imagenes del conjunto de entrenamiento todavia"
   ]
  },
  {
   "cell_type": "code",
   "execution_count": 4,
   "metadata": {},
   "outputs": [],
   "source": [
    "cant_frames_per_seq = pd.read_csv('cktraining_landmark_FramePerSeq.csv',header = None)\n",
    "cant_frames_per_seq = np.asarray(cant_frames_per_seq).flatten()\n",
    "cant_frames_per_seq\n",
    "\n",
    "first_frames = [0]\n",
    "for i in cant_frames_per_seq:\n",
    "    current = first_frames[-1] + i\n",
    "    first_frames.append(current)"
   ]
  },
  {
   "cell_type": "code",
   "execution_count": 52,
   "metadata": {},
   "outputs": [
    {
     "data": {
      "text/plain": [
       "[0,\n",
       " 14,\n",
       " 33,\n",
       " 48,\n",
       " 64,\n",
       " 86,\n",
       " 100,\n",
       " 121,\n",
       " 141,\n",
       " 154,\n",
       " 184,\n",
       " 216,\n",
       " 233,\n",
       " 248,\n",
       " 264,\n",
       " 279,\n",
       " 292,\n",
       " 316,\n",
       " 331,\n",
       " 350,\n",
       " 368,\n",
       " 388,\n",
       " 410,\n",
       " 431,\n",
       " 455,\n",
       " 469,\n",
       " 488,\n",
       " 503,\n",
       " 533,\n",
       " 558,\n",
       " 564,\n",
       " 580,\n",
       " 597,\n",
       " 614,\n",
       " 632,\n",
       " 653,\n",
       " 676]"
      ]
     },
     "execution_count": 52,
     "metadata": {},
     "output_type": "execute_result"
    }
   ],
   "source": [
    "first_frames[0:37]"
   ]
  },
  {
   "cell_type": "code",
   "execution_count": 6,
   "metadata": {},
   "outputs": [],
   "source": [
    "b_shape = b_shape[0:689]\n",
    "b_structure = b_structure[0:689]"
   ]
  },
  {
   "cell_type": "code",
   "execution_count": 7,
   "metadata": {},
   "outputs": [],
   "source": [
    "b_vector = np.concatenate((b_shape, b_structure), axis = 1)\n",
    "b_vector = np.concatenate((b_vector, b_cartoon), axis = 1)\n",
    "b_vector = np.concatenate((b_vector, b_texture), axis = 1)"
   ]
  },
  {
   "cell_type": "code",
   "execution_count": 8,
   "metadata": {},
   "outputs": [
    {
     "data": {
      "text/plain": [
       "(689, 70)"
      ]
     },
     "execution_count": 8,
     "metadata": {},
     "output_type": "execute_result"
    }
   ],
   "source": [
    " b_vector.shape"
   ]
  },
  {
   "cell_type": "code",
   "execution_count": 9,
   "metadata": {},
   "outputs": [],
   "source": []
  },
  {
   "cell_type": "code",
   "execution_count": 48,
   "metadata": {},
   "outputs": [],
   "source": [
    "import glob\n",
    "my_path = '/home/alicia/Documentos/Tesis2023/SynthesisEmotions/ck+copytraining/Emotion_labels/Emotion'\n",
    "\n",
    "\n",
    "emotions = []\n",
    "\n",
    "files = np.sort(glob.glob(my_path + '/**/*.txt', recursive=True))\n",
    "for file in files:\n",
    "    with open(file) as f:\n",
    "        emotion = int(float(f.readline()))\n",
    "        emotions.append(emotion)\n",
    "emotions = np.asarray(emotions)"
   ]
  },
  {
   "cell_type": "markdown",
   "metadata": {},
   "source": [
    "Vamos a buscar las emociones labeleadas, son las numero 0 y 1\n",
    "\n"
   ]
  },
  {
   "cell_type": "code",
   "execution_count": 64,
   "metadata": {},
   "outputs": [],
   "source": [
    "b_vectors_labeled = []\n",
    "target = []\n",
    "for i in range(0,36):\n",
    "    co = first_frames[i]\n",
    "    sa = first_frames[i+1]\n",
    "    b_vectors_labeled.append(b_vector[co])\n",
    "    b_vectors_labeled.append(b_vector[sa-1])\n",
    "    target.append(0)\n",
    "    target.append(emotions[i])"
   ]
  },
  {
   "cell_type": "code",
   "execution_count": 10,
   "metadata": {},
   "outputs": [],
   "source": [
    "target son las neuronas 0 y 1 (inicio y fin de frames)\n"
   ]
  },
  {
   "cell_type": "code",
   "execution_count": 11,
   "metadata": {},
   "outputs": [],
   "source": [
    "#b_vector = np.concatenate((b_vector, emotion_targets), axis = 1)\n",
    "#b_vector.shape"
   ]
  },
  {
   "cell_type": "code",
   "execution_count": 12,
   "metadata": {},
   "outputs": [],
   "source": [
    "target = emotion_targets\n",
    "label_names ={0: 'Neutral',1:'Anger',2:'Disgust',3:'Fear',4:'Happy',5:'Sadness',6:'Surprise'}"
   ]
  },
  {
   "cell_type": "code",
   "execution_count": 13,
   "metadata": {},
   "outputs": [
    {
     "data": {
      "text/plain": [
       "array([0, 6, 6, 6, 6, 6, 6, 6, 6, 6, 6, 6, 6, 6, 6, 6, 0, 5, 5, 5, 5, 5,\n",
       "       5, 5, 5, 5, 5, 5, 5, 5, 5, 5, 5, 5, 5, 5, 5, 5, 0, 3, 3, 3, 3, 3,\n",
       "       3, 3, 3, 3, 3, 3, 3, 3, 0, 1, 1, 1, 1, 1, 1, 1, 1, 1, 1, 1, 1, 1,\n",
       "       1, 1, 1, 1, 1, 1, 1, 0, 2, 2, 2, 2, 2, 2, 2, 2, 2, 2, 2, 2, 2, 2,\n",
       "       2, 2, 2, 2, 2, 0, 4, 4, 4, 4, 4, 4, 4, 4, 4, 4, 4, 4, 0, 6, 6, 6,\n",
       "       6, 6, 6, 6, 6, 6, 6, 6, 6, 6, 6, 6, 6, 6, 6, 0, 5, 5, 5, 5, 5, 5,\n",
       "       5, 5, 5, 5, 5, 5, 5, 5, 5, 0, 2, 2, 2, 2, 2, 2, 2, 2, 2, 2, 2, 2])"
      ]
     },
     "execution_count": 13,
     "metadata": {},
     "output_type": "execute_result"
    }
   ],
   "source": [
    "target = target.flatten()\n",
    "target"
   ]
  },
  {
   "cell_type": "code",
   "execution_count": 76,
   "metadata": {},
   "outputs": [
    {
     "name": "stdout",
     "output_type": "stream",
     "text": [
      "Training...\n",
      "\n",
      "...ready!\n"
     ]
    }
   ],
   "source": [
    "import minisom\n",
    "### Initialization and training ###\n",
    "som = minisom.MiniSom(9,9,70,sigma=1.5,learning_rate=0.2)#hay 8x8 neuronas(64)\n",
    "som.random_weights_init(b_vector)\n",
    "print(\"Training...\")\n",
    "som.train_random(b_vector,2000) # training with 100 iterations\n",
    "print(\"\\n...ready!\")"
   ]
  },
  {
   "cell_type": "code",
   "execution_count": 77,
   "metadata": {},
   "outputs": [
    {
     "data": {
      "text/plain": [
       "0.04833333333333333"
      ]
     },
     "execution_count": 77,
     "metadata": {},
     "output_type": "execute_result"
    }
   ],
   "source": [
    "som.topographic_error(b_vector[:600])\n",
    "\n"
   ]
  },
  {
   "cell_type": "code",
   "execution_count": 78,
   "metadata": {},
   "outputs": [
    {
     "name": "stdout",
     "output_type": "stream",
     "text": [
      "72\n"
     ]
    },
    {
     "data": {
      "image/png": "[encoded data removed]",
      "text/plain": [
       "<Figure size 900x900 with 2 Axes>"
      ]
     },
     "metadata": {},
     "output_type": "display_data"
    }
   ],
   "source": [
    "import matplotlib.pyplot as plt\n",
    "%matplotlib inline\n",
    "\n",
    "plt.figure(figsize=(9, 9))\n",
    "\n",
    "plt.pcolor(som.distance_map().T, cmap='bone_r')  # plotting the distance map as background\n",
    "plt.colorbar()\n",
    "\n",
    "\n",
    "## Plotting the response for each pattern in the iris dataset\n",
    "## different colors and markers for each label\n",
    "markers = ['o','v','NO', 'x', 'p', 'P','s','D' ]\n",
    "colors = ['C0', 'C1', 'NO', 'C2', 'C3', 'C4','C5', 'C6']\n",
    "for cnt, xx in enumerate(b_vectors_labeled):     \n",
    "    w = som.winner(xx)  # getting the winner    \n",
    "    # palce a marker on the winning position for the sample xx\n",
    "    plt.plot(w[0]+.5, w[1]+.5, markers[target[cnt]], markerfacecolor='None',\n",
    "             markeredgecolor=colors[target[cnt]], markersize=12, markeredgewidth=2)\n",
    "print(len(b_vectors_labeled))\n",
    "plt.show()"
   ]
  },
  {
   "cell_type": "code",
   "execution_count": 79,
   "metadata": {},
   "outputs": [],
   "source": [
    "dic = som.win_map(b_vectors_labeled,return_indices=True )\n",
    "emotion_targets = target\n",
    "\n",
    "\n",
    "counters = []\n",
    "for key in dic:\n",
    "    space = np.zeros(len(dic[key]), dtype = int)\n",
    "    for i in range(0, len(dic[key])):\n",
    "        val = dic[key]       \n",
    "        space[i] = emotion_targets[val[i]]\n",
    "    counters.append(space)\n",
    "\n",
    "MyDic = {}\n",
    "\n",
    "for cnt, key in enumerate(dic):\n",
    "    MyDic[key] = max(counters[cnt])\n",
    "    "
   ]
  },
  {
   "cell_type": "code",
   "execution_count": null,
   "metadata": {},
   "outputs": [],
   "source": []
  },
  {
   "cell_type": "code",
   "execution_count": 148,
   "metadata": {},
   "outputs": [
    {
     "name": "stderr",
     "output_type": "stream",
     "text": [
      "The PostScript backend does not support transparency; partially transparent artists will be rendered opaque.\n",
      "The PostScript backend does not support transparency; partially transparent artists will be rendered opaque.\n"
     ]
    },
    {
     "data": {
      "image/png": "[encoded data removed]",
      "text/plain": [
       "<Figure size 800x800 with 2 Axes>"
      ]
     },
     "metadata": {},
     "output_type": "display_data"
    }
   ],
   "source": [
    "import matplotlib.lines as mlines\n",
    "import matplotlib.pyplot as plt\n",
    "%matplotlib inline\n",
    "\n",
    "plt.figure(figsize=(8, 8))\n",
    "\n",
    "plt.pcolor(som.distance_map().T, cmap='bone_r')  # plotting the distance map as background\n",
    "plt.colorbar()\n",
    "\n",
    "## Plotting the response for each pattern in the iris dataset\n",
    "## different colors and markers for each label\n",
    "blue_star = mlines.Line2D([], [], color='blue', marker='o', linestyle='None',\n",
    "                          markersize=10, label='Blue stars')\n",
    "red_square = mlines.Line2D([], [], color='orange', marker='v', linestyle='None',\n",
    "                          markersize=10, label='Red squares')\n",
    "purple_triangle = mlines.Line2D([], [], color='green', marker='x', linestyle='None',\n",
    "                          markersize=10, label='Purple triangles')\n",
    "green_star = mlines.Line2D([], [], color='red', marker='p', linestyle='None',\n",
    "                          markersize=10, label='Blue stars')\n",
    "orange_square = mlines.Line2D([], [], color='purple', marker='P', linestyle='None',\n",
    "                          markersize=10, label='Red squares')\n",
    "yellow_triangle = mlines.Line2D([], [], color='brown', marker='s', linestyle='None',\n",
    "                          markersize=10, label='Purple triangles')\n",
    "black_triangle = mlines.Line2D([], [], color='pink', marker='D', linestyle='None',\n",
    "                          markersize=10, label='Purple triangles')\n",
    "\n",
    "markersleg = [blue_star, red_square, purple_triangle, green_star, orange_square,yellow_triangle, black_triangle   ]\n",
    "\n",
    "#markers = [1,2,3,4,5,6,7]\n",
    "markers = ['o','v', 'x', 'p', 'P','s','D' ]\n",
    "colors = ['C0', 'C1', 'C2', 'C3', 'C4','C5', 'C6']\n",
    "lala = ['Anger', 'Disgust', 'Fear', 'Happy', 'Sadness', 'Surprise', 'Neutral'] \n",
    "for key in MyDic:\n",
    "    # palce a marker on the winning position for the sample xx\n",
    "    w = key  \n",
    "    sign = MyDic[key]\n",
    "    if sign > 2:#no hay labels 2 porque las filtramos al hacer la base de dates\n",
    "        sign = sign -1\n",
    "    plt.plot(w[0]+.5, w[1]+.5, markers[sign], markerfacecolor='None',\n",
    "             markeredgecolor=colors[sign], markersize=12, markeredgewidth=2)\n",
    "\n",
    "\n",
    "plt.legend(handles = markersleg, labels = lala, bbox_to_anchor=(0, 1), loc='upper right', ncol=1)\n",
    "\n",
    "plt.title('Clasificación del Expression Map')\n",
    "#b_tuple = tuple(map(tuple, b_vector))\n",
    "plt.savefig('/home/alicia/Documentos/Tesis2023/SynthesisEmotions/Notebook/expression_map.eps', format='eps')\n",
    "plt.show()\n",
    "\n",
    "#som.labels_map(b_vector, emotion_targets.flatten())"
   ]
  },
  {
   "cell_type": "code",
   "execution_count": 79,
   "metadata": {},
   "outputs": [
    {
     "data": {
      "text/plain": [
       "{(1, 7): 6,\n",
       " (7, 0): 6,\n",
       " (7, 1): 6,\n",
       " (3, 7): 5,\n",
       " (4, 7): 5,\n",
       " (5, 7): 5,\n",
       " (6, 7): 5,\n",
       " (7, 7): 5,\n",
       " (7, 6): 5,\n",
       " (4, 6): 3,\n",
       " (5, 5): 3,\n",
       " (6, 5): 3,\n",
       " (6, 4): 3,\n",
       " (7, 4): 3,\n",
       " (2, 2): 1,\n",
       " (1, 2): 1,\n",
       " (0, 3): 1,\n",
       " (0, 2): 1,\n",
       " (0, 1): 1,\n",
       " (0, 0): 1,\n",
       " (2, 4): 2,\n",
       " (1, 4): 2,\n",
       " (1, 5): 2,\n",
       " (0, 6): 2,\n",
       " (0, 5): 2,\n",
       " (3, 5): 4,\n",
       " (2, 6): 4,\n",
       " (7, 3): 4,\n",
       " (4, 1): 6,\n",
       " (4, 2): 6,\n",
       " (3, 2): 6,\n",
       " (3, 3): 6,\n",
       " (4, 3): 6,\n",
       " (4, 4): 6,\n",
       " (4, 0): 5,\n",
       " (3, 0): 5,\n",
       " (2, 0): 5,\n",
       " (5, 1): 0,\n",
       " (5, 0): 2}"
      ]
     },
     "execution_count": 79,
     "metadata": {},
     "output_type": "execute_result"
    }
   ],
   "source": [
    "\n",
    "MyDic"
   ]
  },
  {
   "cell_type": "code",
   "execution_count": null,
   "metadata": {},
   "outputs": [],
   "source": []
  },
  {
   "cell_type": "code",
   "execution_count": null,
   "metadata": {},
   "outputs": [],
   "source": []
  },
  {
   "cell_type": "code",
   "execution_count": null,
   "metadata": {
    "collapsed": true
   },
   "outputs": [],
   "source": []
  },
  {
   "cell_type": "code",
   "execution_count": 146,
   "metadata": {},
   "outputs": [
    {
     "data": {
      "text/plain": [
       "(8, 8, 86)"
      ]
     },
     "execution_count": 146,
     "metadata": {},
     "output_type": "execute_result"
    }
   ],
   "source": [
    "som.get_weights().shape # las weights finales son los patterns\n",
    "\n"
   ]
  },
  {
   "cell_type": "code",
   "execution_count": 87,
   "metadata": {},
   "outputs": [],
   "source": [
    "np.save('expmaptest.npy', som.get_weights(), allow_pickle=False)\n",
    "\n",
    "np.save('expmaplabels.npy', MyDic)"
   ]
  },
  {
   "cell_type": "code",
   "execution_count": null,
   "metadata": {},
   "outputs": [],
   "source": [
    "surprise\n",
    "sadness\n",
    "fear\n",
    "anger\n",
    "disgust\n",
    "happiness\n",
    "surprise\n",
    "sadness\n",
    "disgust"
   ]
  },
  {
   "cell_type": "code",
   "execution_count": null,
   "metadata": {},
   "outputs": [],
   "source": []
  },
  {
   "cell_type": "code",
   "execution_count": 139,
   "metadata": {},
   "outputs": [
    {
     "ename": "SyntaxError",
     "evalue": "invalid syntax (1089313241.py, line 1)",
     "output_type": "error",
     "traceback": [
      "\u001b[0;36m  Cell \u001b[0;32mIn[139], line 1\u001b[0;36m\u001b[0m\n\u001b[0;31m    According to ck+\u001b[0m\n\u001b[0m              ^\u001b[0m\n\u001b[0;31mSyntaxError\u001b[0m\u001b[0;31m:\u001b[0m invalid syntax\n"
     ]
    }
   ],
   "source": [
    "According to ck+\n",
    "\n",
    "Anger = 1\n",
    "Contempt = 2 (no vemos)\n",
    "Disgust = 3\n",
    "Fear = 4\n",
    "Happy = 5\n",
    "Sadness =6\n",
    "Surprise =  7"
   ]
  },
  {
   "cell_type": "code",
   "execution_count": 138,
   "metadata": {},
   "outputs": [
    {
     "ename": "AttributeError",
     "evalue": "'MiniSom' object has no attribute 'values'",
     "output_type": "error",
     "traceback": [
      "\u001b[0;31m---------------------------------------------------------------------------\u001b[0m",
      "\u001b[0;31mAttributeError\u001b[0m                            Traceback (most recent call last)",
      "Cell \u001b[0;32mIn[138], line 1\u001b[0m\n\u001b[0;32m----> 1\u001b[0m \u001b[43msom\u001b[49m\u001b[38;5;241;43m.\u001b[39;49m\u001b[43mvalues\u001b[49m\n",
      "\u001b[0;31mAttributeError\u001b[0m: 'MiniSom' object has no attribute 'values'"
     ]
    }
   ],
   "source": [
    "som.values"
   ]
  },
  {
   "cell_type": "raw",
   "metadata": {},
   "source": []
  },
  {
   "cell_type": "code",
   "execution_count": null,
   "metadata": {},
   "outputs": [],
   "source": []
  },
  {
   "cell_type": "code",
   "execution_count": null,
   "metadata": {},
   "outputs": [],
   "source": [
    "\n"
   ]
  },
  {
   "cell_type": "code",
   "execution_count": null,
   "metadata": {},
   "outputs": [],
   "source": []
  },
  {
   "cell_type": "code",
   "execution_count": null,
   "metadata": {},
   "outputs": [],
   "source": []
  }
 ],
 "metadata": {
  "kernelspec": {
   "display_name": "solverenv",
   "language": "python",
   "name": "solverenv"
  },
  "language_info": {
   "codemirror_mode": {
    "name": "ipython",
    "version": 3
   },
   "file_extension": ".py",
   "mimetype": "text/x-python",
   "name": "python",
   "nbconvert_exporter": "python",
   "pygments_lexer": "ipython3",
   "version": "3.8.18"
  }
 },
 "nbformat": 4,
 "nbformat_minor": 2
}
