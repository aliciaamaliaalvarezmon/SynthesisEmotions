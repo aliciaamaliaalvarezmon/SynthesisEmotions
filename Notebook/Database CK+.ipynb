{
 "cells": [
  {
   "cell_type": "code",
   "execution_count": 92,
   "metadata": {},
   "outputs": [],
   "source": [
    "%matplotlib inline\n",
    "\n",
    "import numpy as np # NUMPY\n",
    "import pandas as pd # PANDAS\n",
    "import matplotlib.pyplot as plt # MATPLOTLIB\n",
    "import seaborn as sns # SEABORN\n",
    "import scipy\n",
    "import sklearn\n",
    "import random as rd\n",
    "from sklearn.decomposition import PCA\n",
    "from IPython.display import display\n",
    "import os \n",
    "from pathlib import Path\n",
    "import shutil \n"
   ]
  },
  {
   "cell_type": "markdown",
   "metadata": {},
   "source": [
    "### IF WE HAVE THE CK+ DATABASE, WE CAN DO THIS CODE IN THE NEXTS CELLS TO CREATE A MINI DATABASE TO START WITH THE FEATURES"
   ]
  },
  {
   "cell_type": "markdown",
   "metadata": {},
   "source": []
  },
  {
   "cell_type": "code",
   "execution_count": 17,
   "metadata": {},
   "outputs": [
    {
     "data": {
      "text/plain": [
       "['S125',\n",
       " 'S133',\n",
       " 'S078',\n",
       " 'S117',\n",
       " 'S029',\n",
       " 'S035',\n",
       " 'S109',\n",
       " 'S079',\n",
       " 'S076',\n",
       " 'S099',\n",
       " 'S051',\n",
       " 'S156',\n",
       " 'S148',\n",
       " 'S506',\n",
       " 'S045',\n",
       " 'S077',\n",
       " 'S502',\n",
       " 'S052',\n",
       " 'S090',\n",
       " 'S014',\n",
       " 'S095',\n",
       " 'S104',\n",
       " 'S083',\n",
       " 'S130',\n",
       " 'S127',\n",
       " 'S059',\n",
       " 'S151',\n",
       " 'S136',\n",
       " 'S073',\n",
       " 'S085',\n",
       " 'S056',\n",
       " 'S069',\n",
       " 'S114',\n",
       " 'S138',\n",
       " 'S071',\n",
       " 'S137',\n",
       " 'S067',\n",
       " 'S110',\n",
       " 'S091',\n",
       " 'S503',\n",
       " 'S096',\n",
       " 'S070',\n",
       " 'S121',\n",
       " 'S046',\n",
       " 'S158',\n",
       " 'S139',\n",
       " 'S097',\n",
       " 'S010',\n",
       " 'S058',\n",
       " 'S037',\n",
       " 'S092',\n",
       " 'S102',\n",
       " 'S120',\n",
       " 'S504',\n",
       " 'S063',\n",
       " 'S106',\n",
       " 'S061',\n",
       " 'S066',\n",
       " 'S086',\n",
       " 'S107',\n",
       " 'S135',\n",
       " 'S055',\n",
       " 'S112',\n",
       " 'S501',\n",
       " 'S074',\n",
       " 'S131',\n",
       " 'S084',\n",
       " 'S101',\n",
       " 'S054',\n",
       " 'S072',\n",
       " 'S134',\n",
       " 'S126',\n",
       " 'S089',\n",
       " 'S999',\n",
       " 'S155',\n",
       " 'S119',\n",
       " 'S064',\n",
       " 'S129',\n",
       " 'S103',\n",
       " 'S124',\n",
       " 'S080',\n",
       " 'S075',\n",
       " 'S154',\n",
       " 'S062',\n",
       " 'S105',\n",
       " 'S113',\n",
       " 'S111',\n",
       " 'S082',\n",
       " 'S093',\n",
       " 'S087',\n",
       " 'S053',\n",
       " 'S088',\n",
       " 'S147',\n",
       " 'S034',\n",
       " 'S060',\n",
       " 'S065',\n",
       " 'S081',\n",
       " 'S042',\n",
       " 'S032',\n",
       " 'S108',\n",
       " 'S160',\n",
       " 'S005',\n",
       " 'S057',\n",
       " 'S115',\n",
       " 'S157',\n",
       " 'S022',\n",
       " 'S132',\n",
       " 'S116',\n",
       " 'S044',\n",
       " 'S149',\n",
       " 'S026',\n",
       " 'S098',\n",
       " 'S118',\n",
       " 'S100',\n",
       " 'S050',\n",
       " 'S895',\n",
       " 'S068',\n",
       " 'S094',\n",
       " 'S505',\n",
       " 'S122',\n",
       " 'S128',\n",
       " 'S028',\n",
       " 'S011']"
      ]
     },
     "execution_count": 17,
     "metadata": {},
     "output_type": "execute_result"
    }
   ],
   "source": [
    " os.listdir('../../ck+/Landmarks' )"
   ]
  },
  {
   "cell_type": "markdown",
   "metadata": {},
   "source": [
    "##Elegimos la cantidad de sujetos para la extraccion (=11) de ck al azar. Luego eligiremos una con interseccion 0 para la evaluacio (y una parte mas chica con interseccion 0 con las otras 2 papra validacion)"
   ]
  },
  {
   "cell_type": "code",
   "execution_count": 5,
   "metadata": {},
   "outputs": [
    {
     "name": "stdout",
     "output_type": "stream",
     "text": [
      "['003', '001', '002', '004']\n",
      "['006', '003', '001', '005', '002', '004']\n",
      "['003', '001', '005', '002', '004']\n",
      "['006', '001', '002', '004']\n",
      "['003', '001', '005', '002', '004']\n",
      "['006', '003', '001', '005', '002', '004']\n",
      "['007', '006', '003', '001', '005', '002', '004']\n",
      "['001']\n",
      "['006', '003', '001', '005', '002', '004']\n",
      "['006']\n",
      "['011', '003', '001', '005', '002', '004']\n"
     ]
    }
   ],
   "source": [
    "Emotion_subjects = os.listdir('../../ck+/Emotion_labels/Emotion' )\n",
    "len(Emotion_subjects)\n",
    "images_subjects = os.listdir('../../ck+/extended-cohn-kanade-images/cohn-kanade-images' )\n",
    "len(images_subjects)\n",
    "facts_subjects =  os.listdir('../../ck+/FACS_labels/FACS' )\n",
    "len(facts_subjects)\n",
    "landmarks_subjects =  os.listdir('../../ck+/Landmarks' )\n",
    "len(landmarks_subjects)\n",
    "\n",
    "def choose_random_subjects(main_dir, local_dir, amount):\n",
    "    subjects = os.listdir(main_dir + local_dir )\n",
    "    random_subjects = np.random.choice(subjects, amount,replace=False )\n",
    "    return random_subjects\n",
    "    \n",
    "subject_number =choose_random_subjects('../../ck+/','extended-cohn-kanade-images/cohn-kanade-images', 11)\n",
    "\n"
   ]
  },
  {
   "cell_type": "code",
   "execution_count": 11,
   "metadata": {},
   "outputs": [
    {
     "name": "stdout",
     "output_type": "stream",
     "text": [
      "../ck+copy/extended-cohn-kanade-images/cohn-kanade-images/S064\n",
      "../ck+copy/extended-cohn-kanade-images/cohn-kanade-images/S073\n",
      "../ck+copy/extended-cohn-kanade-images/cohn-kanade-images/S068\n",
      "../ck+copy/extended-cohn-kanade-images/cohn-kanade-images/S504\n",
      "../ck+copy/extended-cohn-kanade-images/cohn-kanade-images/S014\n",
      "../ck+copy/extended-cohn-kanade-images/cohn-kanade-images/S100\n",
      "../ck+copy/extended-cohn-kanade-images/cohn-kanade-images/S078\n",
      "../ck+copy/extended-cohn-kanade-images/cohn-kanade-images/S029\n",
      "../ck+copy/extended-cohn-kanade-images/cohn-kanade-images/S022\n",
      "../ck+copy/extended-cohn-kanade-images/cohn-kanade-images/S160\n",
      "../ck+copy/extended-cohn-kanade-images/cohn-kanade-images/S137\n"
     ]
    }
   ],
   "source": [
    "for number in subject_number:\n",
    "  \n",
    "    src = '../../ck+/extended-cohn-kanade-images/cohn-kanade-images/'  + number\n",
    "    dst = '../ck+copy/extended-cohn-kanade-images/cohn-kanade-images/' + number\n",
    "    destination = shutil.copytree(src, dst) \n",
    "    print(destination)"
   ]
  },
  {
   "cell_type": "code",
   "execution_count": 14,
   "metadata": {},
   "outputs": [
    {
     "name": "stdout",
     "output_type": "stream",
     "text": [
      "../ck+copy/Emotion_labels/Emotion/S064\n",
      "../ck+copy/Emotion_labels/Emotion/S073\n",
      "../ck+copy/Emotion_labels/Emotion/S068\n",
      "../ck+copy/Emotion_labels/Emotion/S504\n",
      "../ck+copy/Emotion_labels/Emotion/S014\n",
      "../ck+copy/Emotion_labels/Emotion/S100\n",
      "../ck+copy/Emotion_labels/Emotion/S078\n",
      "../ck+copy/Emotion_labels/Emotion/S029\n",
      "../ck+copy/Emotion_labels/Emotion/S022\n",
      "../ck+copy/Emotion_labels/Emotion/S160\n",
      "../ck+copy/Emotion_labels/Emotion/S137\n"
     ]
    }
   ],
   "source": [
    "for number in subject_number:\n",
    "  \n",
    "    src = '../../ck+/Emotion_labels/Emotion/'  + number\n",
    "    dst = '../ck+copy/Emotion_labels/Emotion/' + number\n",
    "    destination = shutil.copytree(src, dst) \n",
    "    print(destination)"
   ]
  },
  {
   "cell_type": "code",
   "execution_count": 16,
   "metadata": {},
   "outputs": [
    {
     "name": "stdout",
     "output_type": "stream",
     "text": [
      "../ck+copy/FACS_labels/FACS/S064\n",
      "../ck+copy/FACS_labels/FACS/S073\n",
      "../ck+copy/FACS_labels/FACS/S068\n",
      "../ck+copy/FACS_labels/FACS/S504\n",
      "../ck+copy/FACS_labels/FACS/S014\n",
      "../ck+copy/FACS_labels/FACS/S100\n",
      "../ck+copy/FACS_labels/FACS/S078\n",
      "../ck+copy/FACS_labels/FACS/S029\n",
      "../ck+copy/FACS_labels/FACS/S022\n",
      "../ck+copy/FACS_labels/FACS/S160\n",
      "../ck+copy/FACS_labels/FACS/S137\n"
     ]
    }
   ],
   "source": [
    "for number in subject_number:\n",
    "  \n",
    "    src ='../../ck+/FACS_labels/FACS/'  + number\n",
    "    dst = '../ck+copy/FACS_labels/FACS/' + number\n",
    "    destination = shutil.copytree(src, dst) \n",
    "    print(destination)"
   ]
  },
  {
   "cell_type": "code",
   "execution_count": 18,
   "metadata": {},
   "outputs": [
    {
     "name": "stdout",
     "output_type": "stream",
     "text": [
      "../ck+copy/Landmarks/S064\n",
      "../ck+copy/Landmarks/S073\n",
      "../ck+copy/Landmarks/S068\n",
      "../ck+copy/Landmarks/S504\n",
      "../ck+copy/Landmarks/S014\n",
      "../ck+copy/Landmarks/S100\n",
      "../ck+copy/Landmarks/S078\n",
      "../ck+copy/Landmarks/S029\n",
      "../ck+copy/Landmarks/S022\n",
      "../ck+copy/Landmarks/S160\n",
      "../ck+copy/Landmarks/S137\n"
     ]
    }
   ],
   "source": [
    "for number in subject_number:\n",
    "  \n",
    "    src ='../../ck+/Landmarks/'  + number\n",
    "    dst = '../ck+copy/Landmarks/' + number\n",
    "    destination = shutil.copytree(src, dst) \n",
    "    print(destination)"
   ]
  },
  {
   "cell_type": "code",
   "execution_count": 127,
   "metadata": {},
   "outputs": [],
   "source": [
    "subjects_landmarks = '../ck+copy/Landmarks/'\n",
    "sorted_subjects =   np.sort(os.listdir('../ck+copy/Landmarks/'))  \n",
    "one_subject_landmarks = '../ck+copy/Landmarks/' + 'S064/'\n",
    "sorted_list = np.sort(os.listdir('../ck+copy/Landmarks/' + 'S064/')) #creo que este sort se puede quitar\n",
    "\n",
    "\n",
    "    \n",
    "distances_per_subject = []\n",
    "for emotion in sorted_list:\n",
    "    matrix_landmark_per_frame = []\n",
    "    subject_landmark_emotion = one_subject_landmarks + str(emotion)    \n",
    "    for i in range(0, len(os.listdir(subject_landmark_emotion))):\n",
    "        data = pd.read_csv('../ck+copy/Landmarks/' + 'S064/' + str(emotion)+'/'+'S064_'+str(emotion)+'_'+ str(i+1).zfill(8)+'_landmarks.txt',  header=None)\n",
    "        data.columns =['landmarks']\n",
    "        quantity_of_landmarks = data.size #68\n",
    "        data = data['landmarks'].str.split('   ', expand=True)\n",
    "        data.columns =['landmarks', 'landmarkX', 'landmarkY']\n",
    "        data =data.drop(columns=['landmarks'])\n",
    "        landmarkXY=data['landmarkX'].append(data['landmarkY'], ignore_index=True)\n",
    "        matrix_landmark_per_frame.append(landmarkXY_array)\n",
    "    frame0 = matrix_landmark_per_frame[0]\n",
    "    distance_landmark_per_frame = matrix_landmark_per_frame\n",
    "    for i in range(0, len(distance_landmark_per_frame)):\n",
    "        distance_landmark_per_frame[i] = distance_landmark_per_frame[i] - frame0\n",
    "    distances_per_subject.append(distance_landmark_per_frame)\n"
   ]
  },
  {
   "cell_type": "code",
   "execution_count": 93,
   "metadata": {},
   "outputs": [],
   "source": []
  },
  {
   "cell_type": "code",
   "execution_count": null,
   "metadata": {},
   "outputs": [],
   "source": [
    "\n"
   ]
  },
  {
   "cell_type": "code",
   "execution_count": null,
   "metadata": {},
   "outputs": [],
   "source": []
  },
  {
   "cell_type": "code",
   "execution_count": null,
   "metadata": {},
   "outputs": [],
   "source": []
  },
  {
   "cell_type": "code",
   "execution_count": null,
   "metadata": {},
   "outputs": [],
   "source": []
  },
  {
   "cell_type": "code",
   "execution_count": null,
   "metadata": {},
   "outputs": [],
   "source": []
  },
  {
   "cell_type": "code",
   "execution_count": null,
   "metadata": {},
   "outputs": [],
   "source": []
  },
  {
   "cell_type": "code",
   "execution_count": null,
   "metadata": {},
   "outputs": [],
   "source": []
  },
  {
   "cell_type": "code",
   "execution_count": null,
   "metadata": {},
   "outputs": [],
   "source": []
  },
  {
   "cell_type": "code",
   "execution_count": null,
   "metadata": {},
   "outputs": [],
   "source": []
  },
  {
   "cell_type": "code",
   "execution_count": null,
   "metadata": {},
   "outputs": [],
   "source": []
  },
  {
   "cell_type": "code",
   "execution_count": null,
   "metadata": {},
   "outputs": [],
   "source": [
    "\n",
    "    "
   ]
  },
  {
   "cell_type": "code",
   "execution_count": null,
   "metadata": {},
   "outputs": [],
   "source": [
    "\n"
   ]
  },
  {
   "cell_type": "code",
   "execution_count": null,
   "metadata": {},
   "outputs": [],
   "source": []
  },
  {
   "cell_type": "code",
   "execution_count": null,
   "metadata": {},
   "outputs": [],
   "source": []
  },
  {
   "cell_type": "code",
   "execution_count": null,
   "metadata": {},
   "outputs": [],
   "source": []
  },
  {
   "cell_type": "code",
   "execution_count": null,
   "metadata": {},
   "outputs": [],
   "source": []
  },
  {
   "cell_type": "code",
   "execution_count": null,
   "metadata": {},
   "outputs": [],
   "source": []
  },
  {
   "cell_type": "code",
   "execution_count": null,
   "metadata": {},
   "outputs": [],
   "source": []
  },
  {
   "cell_type": "code",
   "execution_count": null,
   "metadata": {},
   "outputs": [],
   "source": []
  },
  {
   "cell_type": "code",
   "execution_count": null,
   "metadata": {},
   "outputs": [],
   "source": []
  },
  {
   "cell_type": "code",
   "execution_count": null,
   "metadata": {},
   "outputs": [],
   "source": []
  },
  {
   "cell_type": "code",
   "execution_count": null,
   "metadata": {},
   "outputs": [],
   "source": []
  },
  {
   "cell_type": "code",
   "execution_count": null,
   "metadata": {},
   "outputs": [],
   "source": []
  },
  {
   "cell_type": "code",
   "execution_count": null,
   "metadata": {},
   "outputs": [],
   "source": []
  },
  {
   "cell_type": "code",
   "execution_count": null,
   "metadata": {},
   "outputs": [],
   "source": []
  },
  {
   "cell_type": "code",
   "execution_count": null,
   "metadata": {},
   "outputs": [],
   "source": []
  },
  {
   "cell_type": "code",
   "execution_count": null,
   "metadata": {},
   "outputs": [],
   "source": []
  },
  {
   "cell_type": "code",
   "execution_count": null,
   "metadata": {},
   "outputs": [],
   "source": []
  },
  {
   "cell_type": "code",
   "execution_count": null,
   "metadata": {},
   "outputs": [],
   "source": []
  }
 ],
 "metadata": {
  "kernelspec": {
   "display_name": "Python 3",
   "language": "python",
   "name": "python3"
  },
  "language_info": {
   "codemirror_mode": {
    "name": "ipython",
    "version": 3
   },
   "file_extension": ".py",
   "mimetype": "text/x-python",
   "name": "python",
   "nbconvert_exporter": "python",
   "pygments_lexer": "ipython3",
   "version": "3.6.9"
  }
 },
 "nbformat": 4,
 "nbformat_minor": 2
}
