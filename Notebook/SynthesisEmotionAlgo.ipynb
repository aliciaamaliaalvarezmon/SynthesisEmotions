{
 "cells": [
  {
   "cell_type": "code",
   "execution_count": 1,
   "metadata": {},
   "outputs": [],
   "source": [
    "%matplotlib inline\n",
    "\n",
    "import numpy as np # NUMPY\n",
    "import pandas as pd # PANDAS\n",
    "import matplotlib.pyplot as plt # MATPLOTLIB\n",
    "import seaborn as sns # SEABORN\n",
    "import scipy\n",
    "import sklearn\n",
    "from sklearn.decomposition import PCA\n",
    "import cv2\n",
    "import os \n",
    "from skimage import filters\n",
    "from scipy import ndimage"
   ]
  },
  {
   "cell_type": "code",
   "execution_count": 5,
   "metadata": {},
   "outputs": [],
   "source": [
    "def Algoritm1(expmap, target_face, emotions_vector, intensities_vector):\n",
    "    map_weights = expmap\n",
    "    for i in range(0,6):        \n",
    "        print(i)\n",
    "    return map_weights"
   ]
  },
  {
   "cell_type": "code",
   "execution_count": 20,
   "metadata": {},
   "outputs": [
    {
     "name": "stdout",
     "output_type": "stream",
     "text": [
      "0\n",
      "1\n",
      "2\n",
      "3\n",
      "4\n",
      "5\n"
     ]
    },
    {
     "data": {
      "text/plain": [
       "dict_keys([(1, 7), (7, 0), (7, 1), (3, 7), (4, 7), (5, 7), (6, 7), (7, 7), (7, 6), (4, 6), (5, 5), (6, 5), (6, 4), (7, 4), (2, 2), (1, 2), (0, 3), (0, 2), (0, 1), (0, 0), (2, 4), (1, 4), (1, 5), (0, 6), (0, 5), (3, 5), (2, 6), (7, 3), (4, 1), (4, 2), (3, 2), (3, 3), (4, 3), (4, 4), (4, 0), (3, 0), (2, 0), (5, 1), (5, 0)])"
      ]
     },
     "execution_count": 20,
     "metadata": {},
     "output_type": "execute_result"
    }
   ],
   "source": [
    "\n",
    "\n",
    "\n",
    "target_face = 0\n",
    "emotions_vector = [1,2,3,4,5,6]\n",
    "intensities_vector = [0,0,0,100,0,0]\n",
    "exMap = np.load('expmaptest.npy')\n",
    "maplabels = np.load('expmaplabels.npy',allow_pickle=True )\n",
    "Algoritm1(exMap,target_face, emotions_vector,intensities_vector)\n",
    "dicc = maplabels.item()\n"
   ]
  },
  {
   "cell_type": "code",
   "execution_count": null,
   "metadata": {},
   "outputs": [],
   "source": []
  }
 ],
 "metadata": {
  "kernelspec": {
   "display_name": "solverenv",
   "language": "python",
   "name": "solverenv"
  },
  "language_info": {
   "codemirror_mode": {
    "name": "ipython",
    "version": 3
   },
   "file_extension": ".py",
   "mimetype": "text/x-python",
   "name": "python",
   "nbconvert_exporter": "python",
   "pygments_lexer": "ipython3",
   "version": "3.8.18"
  }
 },
 "nbformat": 4,
 "nbformat_minor": 2
}
