{
 "cells": [
  {
   "cell_type": "code",
   "execution_count": 3,
   "metadata": {},
   "outputs": [],
   "source": [
    "%matplotlib inline\n",
    "\n",
    "import numpy as np # NUMPY\n",
    "import pandas as pd # PANDAS\n",
    "import matplotlib.pyplot as plt # MATPLOTLIB\n",
    "import seaborn as sns # SEABORN\n",
    "import scipy\n",
    "import sklearn\n",
    "import random as rd\n",
    "from sklearn.decomposition import PCA\n",
    "from IPython.display import display"
   ]
  },
  {
   "cell_type": "code",
   "execution_count": 4,
   "metadata": {},
   "outputs": [],
   "source": [
    "cantSeq = 3\n",
    "cantFramesxSeq = 4\n",
    "cantImg = cantSeq*cantFramesxSeq # 12\n",
    "l = 5 # cantidad de landmark points, 2l es 10 "
   ]
  },
  {
   "cell_type": "code",
   "execution_count": 5,
   "metadata": {},
   "outputs": [
    {
     "data": {
      "text/html": [
       "<div>\n",
       "<style scoped>\n",
       "    .dataframe tbody tr th:only-of-type {\n",
       "        vertical-align: middle;\n",
       "    }\n",
       "\n",
       "    .dataframe tbody tr th {\n",
       "        vertical-align: top;\n",
       "    }\n",
       "\n",
       "    .dataframe thead th {\n",
       "        text-align: right;\n",
       "    }\n",
       "</style>\n",
       "<table border=\"1\" class=\"dataframe\">\n",
       "  <thead>\n",
       "    <tr style=\"text-align: right;\">\n",
       "      <th></th>\n",
       "      <th>frame0</th>\n",
       "      <th>frame1</th>\n",
       "      <th>frame2</th>\n",
       "      <th>frame3</th>\n",
       "      <th>frame4</th>\n",
       "      <th>frame5</th>\n",
       "      <th>frame6</th>\n",
       "      <th>frame7</th>\n",
       "      <th>frame8</th>\n",
       "      <th>frame9</th>\n",
       "      <th>frame10</th>\n",
       "      <th>frame11</th>\n",
       "    </tr>\n",
       "  </thead>\n",
       "  <tbody>\n",
       "    <tr>\n",
       "      <th>x0</th>\n",
       "      <td>86</td>\n",
       "      <td>85</td>\n",
       "      <td>97</td>\n",
       "      <td>114</td>\n",
       "      <td>96</td>\n",
       "      <td>112</td>\n",
       "      <td>65</td>\n",
       "      <td>82</td>\n",
       "      <td>80</td>\n",
       "      <td>76</td>\n",
       "      <td>82</td>\n",
       "      <td>83</td>\n",
       "    </tr>\n",
       "    <tr>\n",
       "      <th>x1</th>\n",
       "      <td>12</td>\n",
       "      <td>15</td>\n",
       "      <td>17</td>\n",
       "      <td>13</td>\n",
       "      <td>12</td>\n",
       "      <td>12</td>\n",
       "      <td>41</td>\n",
       "      <td>35</td>\n",
       "      <td>42</td>\n",
       "      <td>33</td>\n",
       "      <td>45</td>\n",
       "      <td>35</td>\n",
       "    </tr>\n",
       "    <tr>\n",
       "      <th>x2</th>\n",
       "      <td>51</td>\n",
       "      <td>45</td>\n",
       "      <td>46</td>\n",
       "      <td>43</td>\n",
       "      <td>50</td>\n",
       "      <td>51</td>\n",
       "      <td>67</td>\n",
       "      <td>67</td>\n",
       "      <td>81</td>\n",
       "      <td>64</td>\n",
       "      <td>71</td>\n",
       "      <td>78</td>\n",
       "    </tr>\n",
       "    <tr>\n",
       "      <th>y0</th>\n",
       "      <td>56</td>\n",
       "      <td>64</td>\n",
       "      <td>63</td>\n",
       "      <td>66</td>\n",
       "      <td>56</td>\n",
       "      <td>53</td>\n",
       "      <td>67</td>\n",
       "      <td>61</td>\n",
       "      <td>51</td>\n",
       "      <td>57</td>\n",
       "      <td>60</td>\n",
       "      <td>43</td>\n",
       "    </tr>\n",
       "    <tr>\n",
       "      <th>y1</th>\n",
       "      <td>89</td>\n",
       "      <td>90</td>\n",
       "      <td>85</td>\n",
       "      <td>98</td>\n",
       "      <td>93</td>\n",
       "      <td>87</td>\n",
       "      <td>103</td>\n",
       "      <td>90</td>\n",
       "      <td>69</td>\n",
       "      <td>90</td>\n",
       "      <td>91</td>\n",
       "      <td>69</td>\n",
       "    </tr>\n",
       "    <tr>\n",
       "      <th>y2</th>\n",
       "      <td>89</td>\n",
       "      <td>84</td>\n",
       "      <td>79</td>\n",
       "      <td>90</td>\n",
       "      <td>79</td>\n",
       "      <td>82</td>\n",
       "      <td>20</td>\n",
       "      <td>28</td>\n",
       "      <td>23</td>\n",
       "      <td>32</td>\n",
       "      <td>20</td>\n",
       "      <td>22</td>\n",
       "    </tr>\n",
       "  </tbody>\n",
       "</table>\n",
       "</div>"
      ],
      "text/plain": [
       "   frame0 frame1 frame2 frame3 frame4 frame5 frame6 frame7 frame8 frame9  \\\n",
       "x0     86     85     97    114     96    112     65     82     80     76   \n",
       "x1     12     15     17     13     12     12     41     35     42     33   \n",
       "x2     51     45     46     43     50     51     67     67     81     64   \n",
       "y0     56     64     63     66     56     53     67     61     51     57   \n",
       "y1     89     90     85     98     93     87    103     90     69     90   \n",
       "y2     89     84     79     90     79     82     20     28     23     32   \n",
       "\n",
       "   frame10 frame11  \n",
       "x0      82      83  \n",
       "x1      45      35  \n",
       "x2      71      78  \n",
       "y0      60      43  \n",
       "y1      91      69  \n",
       "y2      20      22  "
      ]
     },
     "execution_count": 5,
     "metadata": {},
     "output_type": "execute_result"
    }
   ],
   "source": [
    "#estoy juntando los frames (las distancias)de todas las secuencias juntos\n",
    "frame = ['frame'+ str(i) for i in range(0,12)]\n",
    "xo =['x'+ str(i) for i in range(0,3)]\n",
    "yo =['y'+ str(i) for i in range(0,3)]\n",
    "\n",
    "\n",
    "data = pd.DataFrame(columns= frame, index = [*xo,*yo] )\n",
    "for flp in data.index:\n",
    "    data.loc[flp, 'frame0':'frame5'] = np.random.poisson(lam = rd.randrange(10,100), size=6)\n",
    "    data.loc[flp, 'frame6':'frame11'] = np.random.poisson(lam = rd.randrange(10,100), size=6)\n",
    "data"
   ]
  },
  {
   "cell_type": "code",
   "execution_count": 6,
   "metadata": {},
   "outputs": [
    {
     "data": {
      "text/html": [
       "<div>\n",
       "<style scoped>\n",
       "    .dataframe tbody tr th:only-of-type {\n",
       "        vertical-align: middle;\n",
       "    }\n",
       "\n",
       "    .dataframe tbody tr th {\n",
       "        vertical-align: top;\n",
       "    }\n",
       "\n",
       "    .dataframe thead th {\n",
       "        text-align: right;\n",
       "    }\n",
       "</style>\n",
       "<table border=\"1\" class=\"dataframe\">\n",
       "  <thead>\n",
       "    <tr style=\"text-align: right;\">\n",
       "      <th></th>\n",
       "      <th>x0</th>\n",
       "      <th>x1</th>\n",
       "      <th>x2</th>\n",
       "      <th>y0</th>\n",
       "      <th>y1</th>\n",
       "      <th>y2</th>\n",
       "    </tr>\n",
       "  </thead>\n",
       "  <tbody>\n",
       "    <tr>\n",
       "      <th>frame0</th>\n",
       "      <td>86</td>\n",
       "      <td>12</td>\n",
       "      <td>51</td>\n",
       "      <td>56</td>\n",
       "      <td>89</td>\n",
       "      <td>89</td>\n",
       "    </tr>\n",
       "    <tr>\n",
       "      <th>frame1</th>\n",
       "      <td>85</td>\n",
       "      <td>15</td>\n",
       "      <td>45</td>\n",
       "      <td>64</td>\n",
       "      <td>90</td>\n",
       "      <td>84</td>\n",
       "    </tr>\n",
       "    <tr>\n",
       "      <th>frame2</th>\n",
       "      <td>97</td>\n",
       "      <td>17</td>\n",
       "      <td>46</td>\n",
       "      <td>63</td>\n",
       "      <td>85</td>\n",
       "      <td>79</td>\n",
       "    </tr>\n",
       "    <tr>\n",
       "      <th>frame3</th>\n",
       "      <td>114</td>\n",
       "      <td>13</td>\n",
       "      <td>43</td>\n",
       "      <td>66</td>\n",
       "      <td>98</td>\n",
       "      <td>90</td>\n",
       "    </tr>\n",
       "    <tr>\n",
       "      <th>frame4</th>\n",
       "      <td>96</td>\n",
       "      <td>12</td>\n",
       "      <td>50</td>\n",
       "      <td>56</td>\n",
       "      <td>93</td>\n",
       "      <td>79</td>\n",
       "    </tr>\n",
       "    <tr>\n",
       "      <th>frame5</th>\n",
       "      <td>112</td>\n",
       "      <td>12</td>\n",
       "      <td>51</td>\n",
       "      <td>53</td>\n",
       "      <td>87</td>\n",
       "      <td>82</td>\n",
       "    </tr>\n",
       "    <tr>\n",
       "      <th>frame6</th>\n",
       "      <td>65</td>\n",
       "      <td>41</td>\n",
       "      <td>67</td>\n",
       "      <td>67</td>\n",
       "      <td>103</td>\n",
       "      <td>20</td>\n",
       "    </tr>\n",
       "    <tr>\n",
       "      <th>frame7</th>\n",
       "      <td>82</td>\n",
       "      <td>35</td>\n",
       "      <td>67</td>\n",
       "      <td>61</td>\n",
       "      <td>90</td>\n",
       "      <td>28</td>\n",
       "    </tr>\n",
       "    <tr>\n",
       "      <th>frame8</th>\n",
       "      <td>80</td>\n",
       "      <td>42</td>\n",
       "      <td>81</td>\n",
       "      <td>51</td>\n",
       "      <td>69</td>\n",
       "      <td>23</td>\n",
       "    </tr>\n",
       "    <tr>\n",
       "      <th>frame9</th>\n",
       "      <td>76</td>\n",
       "      <td>33</td>\n",
       "      <td>64</td>\n",
       "      <td>57</td>\n",
       "      <td>90</td>\n",
       "      <td>32</td>\n",
       "    </tr>\n",
       "    <tr>\n",
       "      <th>frame10</th>\n",
       "      <td>82</td>\n",
       "      <td>45</td>\n",
       "      <td>71</td>\n",
       "      <td>60</td>\n",
       "      <td>91</td>\n",
       "      <td>20</td>\n",
       "    </tr>\n",
       "    <tr>\n",
       "      <th>frame11</th>\n",
       "      <td>83</td>\n",
       "      <td>35</td>\n",
       "      <td>78</td>\n",
       "      <td>43</td>\n",
       "      <td>69</td>\n",
       "      <td>22</td>\n",
       "    </tr>\n",
       "  </tbody>\n",
       "</table>\n",
       "</div>"
      ],
      "text/plain": [
       "          x0  x1  x2  y0   y1  y2\n",
       "frame0    86  12  51  56   89  89\n",
       "frame1    85  15  45  64   90  84\n",
       "frame2    97  17  46  63   85  79\n",
       "frame3   114  13  43  66   98  90\n",
       "frame4    96  12  50  56   93  79\n",
       "frame5   112  12  51  53   87  82\n",
       "frame6    65  41  67  67  103  20\n",
       "frame7    82  35  67  61   90  28\n",
       "frame8    80  42  81  51   69  23\n",
       "frame9    76  33  64  57   90  32\n",
       "frame10   82  45  71  60   91  20\n",
       "frame11   83  35  78  43   69  22"
      ]
     },
     "execution_count": 6,
     "metadata": {},
     "output_type": "execute_result"
    }
   ],
   "source": [
    "data = data.T\n",
    "data"
   ]
  },
  {
   "cell_type": "code",
   "execution_count": 8,
   "metadata": {},
   "outputs": [
    {
     "data": {
      "text/plain": [
       "array([[-0.15845413, -1.0811966 , -0.66356992, -0.31439702,  0.12165177,\n",
       "         1.16066393],\n",
       "       [-0.2315868 , -0.84951161, -1.13197222,  0.89288753,  0.22592472,\n",
       "         0.9948548 ],\n",
       "       [ 0.64600529, -0.69505496, -1.05390517,  0.74197696, -0.29544002,\n",
       "         0.82904567],\n",
       "       [ 1.88926075, -1.00396827, -1.28810631,  1.19470867,  1.06010832,\n",
       "         1.19382576],\n",
       "       [ 0.57287262, -1.0811966 , -0.74163697, -0.31439702,  0.53874357,\n",
       "         0.82904567],\n",
       "       [ 1.7429954 , -1.0811966 , -0.66356992, -0.76712872, -0.08689412,\n",
       "         0.92853115],\n",
       "       [-1.69424029,  1.15842493,  0.58550287,  1.34561924,  1.58147307,\n",
       "        -1.12750211],\n",
       "       [-0.45098483,  0.69505496,  0.58550287,  0.44015582,  0.22592472,\n",
       "        -0.86220749],\n",
       "       [-0.59725017,  1.23565325,  1.67844156, -1.06894986, -1.96380722,\n",
       "        -1.02801663],\n",
       "       [-0.88978087,  0.5405983 ,  0.35130172, -0.16348645,  0.22592472,\n",
       "        -0.72956019],\n",
       "       [-0.45098483,  1.46733824,  0.89777107,  0.28924526,  0.33019767,\n",
       "        -1.12750211],\n",
       "       [-0.37785215,  0.69505496,  1.44424041, -2.27623441, -1.96380722,\n",
       "        -1.06117845]])"
      ]
     },
     "execution_count": 8,
     "metadata": {},
     "output_type": "execute_result"
    }
   ],
   "source": [
    "#por como pusimos los datos tenemos 4 seq de imagenes, y las primeras 2 y las segundas 2 pertenecen a != tipo de shape\n",
    "\n",
    "from sklearn.preprocessing import StandardScaler\n",
    "std_scaler = StandardScaler()\n",
    "scaled_df = std_scaler.fit_transform(data)\n",
    "scaled_df"
   ]
  },
  {
   "cell_type": "code",
   "execution_count": 34,
   "metadata": {},
   "outputs": [
    {
     "data": {
      "text/plain": [
       "array([[ 1.31323026, -0.51701897, -0.99287647, -0.24882079,  0.23131535],\n",
       "       [ 1.65319129,  0.45187971, -0.81921366,  0.53185065, -0.05166964],\n",
       "       [ 1.61906379, -0.20907521, -0.04645716,  0.79764161, -0.17957516],\n",
       "       [ 3.01301614,  0.33240216,  1.00126805,  0.11585053,  0.08391077],\n",
       "       [ 1.58268061, -0.4577652 , -0.24020101, -0.59115022, -0.00725256],\n",
       "       [ 1.76246078, -1.56544712,  0.5946554 , -0.44142953, -0.00983843],\n",
       "       [-1.29691074,  2.88687063, -0.20737886, -0.26905866,  0.05897578],\n",
       "       [-1.05405072,  0.8802186 ,  0.30600928,  0.06607328, -0.05440577],\n",
       "       [-2.95619608, -1.2534979 ,  0.11472851,  0.61702719,  0.22569904],\n",
       "       [-1.11213185,  0.59906911, -0.29762534, -0.29971635, -0.20180901],\n",
       "       [-1.71781267,  1.06914636,  0.69634615, -0.04493379,  0.03921506],\n",
       "       [-2.8065408 , -2.21678217, -0.10925489, -0.23333391, -0.13456543]])"
      ]
     },
     "execution_count": 34,
     "metadata": {},
     "output_type": "execute_result"
    }
   ],
   "source": [
    "from sklearn.decomposition import PCA\n",
    "pca = PCA(n_components=5)\n",
    "pca.fit_transform(scaled_df)\n",
    "a = pca.fit_transform(scaled_df)\n",
    "#np.shape(a)#<-aca cada fila deberia ser un Bk"
   ]
  },
  {
   "cell_type": "code",
   "execution_count": 17,
   "metadata": {},
   "outputs": [
    {
     "name": "stdout",
     "output_type": "stream",
     "text": [
      "[[ 0.38331271 -0.47507435 -0.50695638  0.24333412  0.26800061  0.4892189 ]\n",
      " [-0.35509533  0.24203747 -0.0455071   0.63889877  0.6088925  -0.1852365 ]\n",
      " [ 0.85197603  0.34463123  0.19486234  0.15586277  0.126399   -0.27771374]\n",
      " [-0.01167284  0.17243706 -0.12195162  0.64523264 -0.72330813  0.12552769]\n",
      " [-0.00432455  0.0803774   0.70084157  0.1066952   0.11616495  0.69098749]]\n"
     ]
    }
   ],
   "source": [
    "print(pca.components_)\n"
   ]
  },
  {
   "cell_type": "code",
   "execution_count": 18,
   "metadata": {},
   "outputs": [
    {
     "data": {
      "text/plain": [
       "(5, 6)"
      ]
     },
     "execution_count": 18,
     "metadata": {},
     "output_type": "execute_result"
    }
   ],
   "source": [
    "np.shape(pca.components_) # asumimos 6 componentes"
   ]
  },
  {
   "cell_type": "code",
   "execution_count": 19,
   "metadata": {},
   "outputs": [
    {
     "name": "stdout",
     "output_type": "stream",
     "text": [
      "0.9987630789368738\n"
     ]
    }
   ],
   "source": [
    "print(sum(pca.explained_variance_ratio_))\n"
   ]
  },
  {
   "cell_type": "code",
   "execution_count": 31,
   "metadata": {},
   "outputs": [
    {
     "name": "stdout",
     "output_type": "stream",
     "text": [
      "(5, 6)\n"
     ]
    }
   ],
   "source": [
    "#u_k deberia ser column wise(sino seria el mismo numero para todo y no un vector lo cual seria raro)\n",
    "\n",
    "ayu= pca.components_\n",
    "\n",
    "ayul = ayu.T\n",
    "print(np.shape(ayu))"
   ]
  },
  {
   "cell_type": "code",
   "execution_count": 28,
   "metadata": {},
   "outputs": [
    {
     "data": {
      "text/plain": [
       "array([86, 12, 51, 56, 89, 89])"
      ]
     },
     "execution_count": 28,
     "metadata": {},
     "output_type": "execute_result"
    }
   ],
   "source": [
    "np.array(list(data.loc['frame0']))"
   ]
  },
  {
   "cell_type": "code",
   "execution_count": 29,
   "metadata": {},
   "outputs": [
    {
     "data": {
      "text/plain": [
       "array([-0.15845413, -1.0811966 , -0.66356992, -0.31439702,  0.12165177,\n",
       "        1.16066393])"
      ]
     },
     "execution_count": 29,
     "metadata": {},
     "output_type": "execute_result"
    }
   ],
   "source": [
    "scaled_df[0]"
   ]
  },
  {
   "cell_type": "code",
   "execution_count": 32,
   "metadata": {},
   "outputs": [
    {
     "data": {
      "text/plain": [
       "array([ 1.31323026, -0.51701897, -0.99287647, -0.24882079,  0.23131535])"
      ]
     },
     "execution_count": 32,
     "metadata": {},
     "output_type": "execute_result"
    }
   ],
   "source": [
    "np.dot(ayu, scaled_df[0] )"
   ]
  },
  {
   "cell_type": "code",
   "execution_count": null,
   "metadata": {},
   "outputs": [],
   "source": []
  }
 ],
 "metadata": {
  "kernelspec": {
   "display_name": "Python 3",
   "language": "python",
   "name": "python3"
  },
  "language_info": {
   "codemirror_mode": {
    "name": "ipython",
    "version": 3
   },
   "file_extension": ".py",
   "mimetype": "text/x-python",
   "name": "python",
   "nbconvert_exporter": "python",
   "pygments_lexer": "ipython3",
   "version": "3.6.9"
  }
 },
 "nbformat": 4,
 "nbformat_minor": 2
}
