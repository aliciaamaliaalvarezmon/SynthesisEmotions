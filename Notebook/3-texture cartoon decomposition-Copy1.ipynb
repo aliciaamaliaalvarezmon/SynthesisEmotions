{
 "cells": [
  {
   "cell_type": "code",
   "execution_count": 1,
   "metadata": {},
   "outputs": [],
   "source": [
    "%matplotlib inline\n",
    "\n",
    "import numpy as np # NUMPY\n",
    "import pandas as pd # PANDAS\n",
    "import matplotlib.pyplot as plt # MATPLOTLIB\n",
    "import seaborn as sns # SEABORN\n",
    "import scipy\n",
    "import sklearn\n",
    "from sklearn.decomposition import PCA\n",
    "import cv2\n",
    "import os \n",
    "from skimage import filters\n",
    "from scipy import ndimage"
   ]
  },
  {
   "cell_type": "code",
   "execution_count": 5,
   "metadata": {},
   "outputs": [],
   "source": [
    "\n"
   ]
  },
  {
   "cell_type": "code",
   "execution_count": 2,
   "metadata": {},
   "outputs": [
    {
     "data": {
      "text/plain": [
       "(490, 640)"
      ]
     },
     "execution_count": 2,
     "metadata": {},
     "output_type": "execute_result"
    }
   ],
   "source": [
    "cant_frames_per_seq = pd.read_csv('ckmock_landmark_FramePerSeq.csv',header = None)\n",
    "cant_frames_per_seq = np.asarray(cant_frames_per_seq).flatten()\n",
    "\n",
    "subject_images = []\n",
    "warpimgpath = '../ck+warped'\n",
    "for i in range(0, len(os.listdir(warpimgpath))):\n",
    "    subject_images.append('../ck+warped/' + 'warped_image_procustres_' + str(i)+'.png')\n",
    "subject_images = np.asarray(subject_images)\n",
    "\n",
    "img = cv2.imread(subject_images[0])\n",
    "img = cv2.cvtColor(img, cv2.COLOR_BGR2GRAY)\n",
    "width, height = img.shape\n",
    "width, height"
   ]
  },
  {
   "cell_type": "code",
   "execution_count": null,
   "metadata": {},
   "outputs": [],
   "source": []
  },
  {
   "cell_type": "code",
   "execution_count": 3,
   "metadata": {},
   "outputs": [
    {
     "data": {
      "text/plain": [
       "True"
      ]
     },
     "execution_count": 3,
     "metadata": {},
     "output_type": "execute_result"
    }
   ],
   "source": [
    "img = cv2.imread(subject_images[0])\n",
    "img = cv2.cvtColor(img, cv2.COLOR_BGR2GRAY)\n",
    "cv2.imshow(\"Texture start\", img)\n",
    "# Pause screen to wait key from user to see result\n",
    "cv2.waitKey(0)\n",
    "cv2.destroyAllWindows()\n",
    "cv2.imwrite(\"ejemplotex.png\", img)"
   ]
  },
  {
   "cell_type": "code",
   "execution_count": 4,
   "metadata": {},
   "outputs": [
    {
     "data": {
      "text/plain": [
       "(array([[109, 255, 255, ...,   0,   0,   0],\n",
       "        [ 83, 255, 255, ...,   0,   0,   0],\n",
       "        [ 32,  92, 110, ...,   0,   0,   0],\n",
       "        ...,\n",
       "        [  4,   9,  10, ...,   0,   0,   0],\n",
       "        [  3,   6,   8, ...,   0,   0,   0],\n",
       "        [  0,   0,   0, ...,   0,   0,   0]], dtype=uint8),\n",
       " array([[ 1,  9, 17, ...,  0,  0,  0],\n",
       "        [ 0,  0,  0, ...,  0,  0,  0],\n",
       "        [ 0,  0,  0, ...,  0,  0,  0],\n",
       "        ...,\n",
       "        [ 0,  0,  0, ...,  0,  1,  0],\n",
       "        [ 0,  0,  0, ...,  0,  0,  0],\n",
       "        [ 0,  0,  0, ...,  0,  0,  0]], dtype=uint8))"
      ]
     },
     "execution_count": 4,
     "metadata": {},
     "output_type": "execute_result"
    }
   ],
   "source": [
    "from skimage import filters\n",
    "\n",
    "def ComputeImageGradient(image, way):\n",
    "    if way == 0:\n",
    "        GradX = cv2.Sobel(image, ddepth=-1, dx=1, dy=0, borderType=cv2.BORDER_REFLECT)\n",
    "        GradY = cv2.Sobel(image, ddepth=-1, dx=0, dy=1, borderType=cv2.BORDER_REFLECT)\n",
    "        GradX[-1,:] = 0\n",
    "        GradY[:, -1] = 0 # Neumann boundary Condition\n",
    "    elif way == 1:\n",
    "        GradX, GradY = np.gradient(image)      \n",
    "        GradX[-1,:] = 0\n",
    "        GradY[:, -1] = 0 # Neumann boundary Condition     \n",
    "    elif way == 2: \n",
    "        Kx = -1*np.array([[-1,0,1]])\n",
    "        GradX = ndimage.convolve(img, Kx)\n",
    "        Ky = -1*np.array([[-1],[0],[1]])\n",
    "        GradY = ndimage.convolve(img, Ky)\n",
    "        GradX[-1,:] = 0\n",
    "        GradY[:, -1] = 0 # Neumann boundary Condition  \n",
    "    else:\n",
    "        print('not legal way')\n",
    "        GradY = np.zeros(image.shape)\n",
    "        GradX = np.zeros(image.shape)\n",
    "    return GradX, GradY\n",
    "\n",
    "\n",
    "ComputeImageGradient(img,  0)\n",
    "#gradx\n",
    "\n"
   ]
  },
  {
   "cell_type": "code",
   "execution_count": 5,
   "metadata": {},
   "outputs": [],
   "source": [
    "from numpy import linalg as LA\n",
    "def ProximalF_Star(img_p1,img_p2):\n",
    "    inp1 = img_p1.flatten()    \n",
    "    inp2 = img_p2.flatten()# (313600,1)\n",
    "    p_total =  np.dstack((inp1, inp2)) # queda (1,313600,2)\n",
    "    p_total = p_total[0]\n",
    "\n",
    "    partial = np.zeros(len(p_total))\n",
    "    \n",
    "    partial = np.asarray(list(map(LA.norm, p_total))) # cada el de p_total la norma 2\n",
    "    partial = np.asarray(list(map(lambda e: max(1.0,e), partial)))\n",
    "    \n",
    "    partial = partial.reshape(img_p1.shape)\n",
    "    \n",
    "    output_img_p1 = img_p1 / partial\n",
    "    output_img_p2 = img_p1 / partial \n",
    "\n",
    "\n",
    "    return output_img_p1, output_img_p2\n"
   ]
  },
  {
   "cell_type": "code",
   "execution_count": 37,
   "metadata": {},
   "outputs": [
    {
     "data": {
      "text/plain": [
       "3.1622776601683795"
      ]
     },
     "execution_count": 37,
     "metadata": {},
     "output_type": "execute_result"
    }
   ],
   "source": [
    "LA.norm([1,3], ord = 2)"
   ]
  },
  {
   "cell_type": "code",
   "execution_count": 38,
   "metadata": {},
   "outputs": [
    {
     "data": {
      "text/plain": [
       "3.1622776601683795"
      ]
     },
     "execution_count": 38,
     "metadata": {},
     "output_type": "execute_result"
    }
   ],
   "source": [
    "(1**2+3**2)**(1/2)"
   ]
  },
  {
   "cell_type": "code",
   "execution_count": 6,
   "metadata": {},
   "outputs": [],
   "source": [
    "def ComputeDivergenceL(img_p1, img_p2, way=1, sp=[1,1]):\n",
    "    if way == 0 :\n",
    "        p1_dx =  cv2.Sobel(img_p1, ddepth=-1, dx=1, dy=0, borderType=cv2.BORDER_REFLECT)\n",
    "        p2_dy =  cv2.Sobel(img_p2, ddepth=-1, dx=0, dy=1, borderType=cv2.BORDER_REFLECT)\n",
    "        output_image = p1_dx + p2_dy\n",
    "    elif way == 1 :\n",
    "        width, height =img_p1.shape\n",
    "        inp1 = img_p1.flatten()\n",
    "        inp2 = img_p2.flatten()#no se si f o c\n",
    "        vector_field = np.array([inp1, inp2])\n",
    "        num_dims = 2        \n",
    "        output_image = np.ufunc.reduce(np.add, [np.gradient(vector_field[i], sp[i], axis =0) for i in range(num_dims)]) \n",
    "        output_image = output_image.reshape(width,height)        \n",
    "    return output_image"
   ]
  },
  {
   "cell_type": "code",
   "execution_count": 7,
   "metadata": {},
   "outputs": [],
   "source": [
    "def ProximalG(img_u, img_g, landa, tau):\n",
    "    resta = img_u - img_g    \n",
    "    output_image = np.zeros(img_u.shape)\n",
    "    for i in range(0, len(img_u)):\n",
    "        for j in range(0, len(img_u[i])):            \n",
    "            if resta[i][j] > landa*tau :\n",
    "                output_image[i][j] = img_u[i][j] - (landa*tau)\n",
    "            elif resta[i][j] < -1*(landa*tau):\n",
    "                output_image[i][j] = img_u[i][j] + (landa*tau)\n",
    "            else: # si el modulo de la resta es menor a landa*tau\n",
    "                output_image[i][j] = img_g[i][j]\n",
    "    return output_image"
   ]
  },
  {
   "cell_type": "markdown",
   "metadata": {},
   "source": [
    "Vamos ahora si a tratar de hacer la decomposition con el paper"
   ]
  },
  {
   "cell_type": "code",
   "execution_count": 8,
   "metadata": {},
   "outputs": [],
   "source": [
    "def Chambolle_TV_L1(input_image, nb_iter, tau, sigma, landa, tetha, way):\n",
    "    # inicializacion\n",
    "    width, height  = input_image.shape\n",
    "    size_image = width * height\n",
    "    \n",
    "    u = input_image    \n",
    "    u_old = np.zeros(input_image.shape)    \n",
    "    p1 =  np.zeros(input_image.shape)# p = (p1, p2) o (px, py)\n",
    "    p2= np.zeros(input_image.shape)\n",
    "    img1 = np.zeros(input_image.shape)\n",
    "    img2 = np.zeros(input_image.shape)\n",
    "    GradX = np.zeros(input_image.shape)\n",
    "    GradY = np.zeros(input_image.shape)\n",
    "    \n",
    "    E = float('inf')\n",
    "    \n",
    "        \n",
    "    for it in range (1, nb_iter):\n",
    "        u_old = u\n",
    "        GradX, GradY = ComputeImageGradient(u, way) \n",
    "        im1 = p1+ sigma*GradX\n",
    "        im2 = p2 + sigma*GradY\n",
    "        p1, p2 = ProximalF_Star(im1,im2)        \n",
    "        div = ComputeDivergenceL(p1, p2)        \n",
    "        image1 = u + tau*div\n",
    "        u = ProximalG(image1, input_image, landa, tau)\n",
    "        u = u + tetha* (u - u_old)\n",
    "        \n",
    "        if( it % 10 == 0):\n",
    "            E_old = E\n",
    "            E = 0\n",
    "            GradX, GradY = ComputeImageGradient(u, way)\n",
    "            E += np.sum(landa * abs(u-input_image) + np.sqrt(GradX**2 + GradY**2))\n",
    "            E = E/size_image\n",
    "            if(abs(E-E_old) < 0.001): break\n",
    "    \n",
    "    return u\n"
   ]
  },
  {
   "cell_type": "code",
   "execution_count": 42,
   "metadata": {},
   "outputs": [],
   "source": [
    "def cartoonTexture_grey(input_image, landa, nb_iter_max=1000, tau=0.35, sigma=0.35, tetha =1.0, way =3):\n",
    "    \n",
    "    \n",
    "    cartoon = np.zeros(input_image.shape)    \n",
    "    cartoon = Chambolle_TV_L1(input_image, nb_iter_max, tau, sigma, landa, tetha, way)\n",
    "    \n",
    "    GradX = np.zeros(input_image.shape) \n",
    "    GradY = np.zeros(input_image.shape) \n",
    "    \n",
    "    BV_norm = 0.0\n",
    "    \n",
    "    GradX, GradY = ComputeImageGradient(cartoon, way)\n",
    "    \n",
    "    BV_norm += np.sum((GradX **2 + GradY **2)**(1/2))     \n",
    "    \n",
    "    \n",
    "    vLim = 20.0\n",
    "    \n",
    "    texture = np.zeros(input_image.shape)\n",
    "    \n",
    "    #texture = input_image - cartoon\n",
    "    \n",
    "    for i in range(0, len(texture)):\n",
    "        for j in range(0, len(texture[i])):\n",
    "            fValue = float(float(input_image[i][j]) - float(cartoon[i][j]))\n",
    "            fValue =  (fValue + vLim) * 255.0 / (2.0 * vLim)\n",
    "            if (fValue < 0.0): fValue = 0.0\n",
    "            if (fValue > 255.0): fValue = 255.0\n",
    "            texture[i][j] = fValue        \n",
    "    return cartoon, texture\n",
    "    \n"
   ]
  },
  {
   "cell_type": "code",
   "execution_count": null,
   "metadata": {},
   "outputs": [],
   "source": [
    "Ahora tenemos los algoritmos vamos a\n",
    "\n",
    "1) conseguir los cartoon textura para todas las imagenes\n",
    "2) guardarlas en una database\n",
    "\n",
    " "
   ]
  },
  {
   "cell_type": "code",
   "execution_count": 11,
   "metadata": {},
   "outputs": [
    {
     "data": {
      "text/plain": [
       "(490, 640)"
      ]
     },
     "execution_count": 11,
     "metadata": {},
     "output_type": "execute_result"
    }
   ],
   "source": [
    "cant_frames_per_seq = pd.read_csv('ckmock_landmark_FramePerSeq.csv',header = None)\n",
    "cant_frames_per_seq = np.asarray(cant_frames_per_seq).flatten()\n",
    "\n",
    "subject_images = []\n",
    "warpimgpath = '../ck+warped'\n",
    "for i in range(0, len(os.listdir(warpimgpath))):\n",
    "    subject_images.append('../ck+warped/' + 'warped_image_procustres_' + str(i)+'.png')\n",
    "subject_images = np.asarray(subject_images)\n",
    "\n",
    "img = cv2.imread(subject_images[0])\n",
    "img = cv2.cvtColor(img, cv2.COLOR_BGR2GRAY)\n",
    "width, height = img.shape\n",
    "width, height"
   ]
  },
  {
   "cell_type": "code",
   "execution_count": 31,
   "metadata": {},
   "outputs": [],
   "source": [
    "subject_images = []\n",
    "warpimgpath = '../ck+warped'\n",
    "for i in range(0, len(os.listdir(warpimgpath))):\n",
    "    subject_images.append('../ck+warped/' + 'warped_image_procustres_' + str(i)+'.png')\n",
    "subject_images = np.asarray(subject_images)\n",
    "\n",
    "img = cv2.imread(subject_images[0])\n",
    "img = cv2.cvtColor(img, cv2.COLOR_BGR2GRAY)\n",
    "img = img[40:450, 170:580]\n",
    "cv2.imshow(\"Texture start\", img)\n",
    "# Pause screen to wait key from user to see result\n",
    "cv2.waitKey(0)\n",
    "cv2.destroyAllWindows()\n"
   ]
  },
  {
   "cell_type": "code",
   "execution_count": null,
   "metadata": {},
   "outputs": [
    {
     "name": "stdout",
     "output_type": "stream",
     "text": [
      "(410, 410)\n",
      "(410, 410)\n",
      "(410, 410)\n",
      "(410, 410)\n",
      "(410, 410)\n",
      "(410, 410)\n",
      "(410, 410)\n",
      "(410, 410)\n",
      "(410, 410)\n",
      "(410, 410)\n",
      "(410, 410)\n",
      "(410, 410)\n",
      "(410, 410)\n",
      "(410, 410)\n",
      "(410, 410)\n",
      "(410, 410)\n",
      "(410, 410)\n",
      "(410, 410)\n",
      "(410, 410)\n",
      "(410, 410)\n",
      "(410, 410)\n",
      "(410, 410)\n",
      "(410, 410)\n",
      "(410, 410)\n",
      "(410, 410)\n",
      "(410, 410)\n",
      "(410, 410)\n",
      "(410, 410)\n",
      "(410, 410)\n",
      "(410, 410)\n",
      "(410, 410)\n",
      "(410, 410)\n",
      "(410, 410)\n",
      "(410, 410)\n",
      "(410, 410)\n",
      "(410, 410)\n",
      "(410, 410)\n",
      "(410, 410)\n",
      "(410, 410)\n",
      "(410, 410)\n",
      "(410, 410)\n",
      "(410, 410)\n",
      "(410, 410)\n",
      "(410, 410)\n",
      "(410, 410)\n",
      "(410, 410)\n",
      "(410, 410)\n",
      "(410, 410)\n",
      "(410, 410)\n",
      "(410, 410)\n",
      "(410, 410)\n",
      "(410, 410)\n",
      "(410, 410)\n",
      "(410, 410)\n",
      "(410, 410)\n",
      "(410, 410)\n",
      "(410, 410)\n",
      "(410, 410)\n",
      "(410, 410)\n",
      "(410, 410)\n",
      "(410, 410)\n",
      "(410, 410)\n",
      "(410, 410)\n",
      "(410, 410)\n",
      "(410, 410)\n",
      "(410, 410)\n",
      "(410, 410)\n",
      "(410, 410)\n",
      "(410, 410)\n",
      "(410, 410)\n",
      "(410, 410)\n",
      "(410, 410)\n",
      "(410, 410)\n",
      "(410, 410)\n",
      "(410, 410)\n",
      "(410, 410)\n",
      "(410, 410)\n",
      "(410, 410)\n",
      "(410, 410)\n",
      "(410, 410)\n",
      "(410, 410)\n",
      "(410, 410)\n",
      "(410, 410)\n",
      "(410, 410)\n",
      "(410, 410)\n",
      "(410, 410)\n",
      "(410, 410)\n",
      "(410, 410)\n",
      "(410, 410)\n",
      "(410, 410)\n",
      "(410, 410)\n",
      "(410, 410)\n",
      "(410, 410)\n",
      "(410, 410)\n",
      "(410, 410)\n",
      "(410, 410)\n",
      "(410, 410)\n",
      "(410, 410)\n",
      "(410, 410)\n",
      "(410, 410)\n",
      "(410, 410)\n",
      "(410, 410)\n",
      "(410, 410)\n",
      "(410, 410)\n",
      "(410, 410)\n",
      "(410, 410)\n",
      "(410, 410)\n",
      "(410, 410)\n",
      "(410, 410)\n",
      "(410, 410)\n",
      "(410, 410)\n",
      "(410, 410)\n",
      "(410, 410)\n",
      "(410, 410)\n",
      "(410, 410)\n",
      "(410, 410)\n",
      "(410, 410)\n",
      "(410, 410)\n",
      "(410, 410)\n",
      "(410, 410)\n",
      "(410, 410)\n",
      "(410, 410)\n",
      "(410, 410)\n",
      "(410, 410)\n",
      "(410, 410)\n",
      "(410, 410)\n",
      "(410, 410)\n",
      "(410, 410)\n",
      "(410, 410)\n",
      "(410, 410)\n",
      "(410, 410)\n",
      "(410, 410)\n",
      "(410, 410)\n",
      "(410, 410)\n",
      "(410, 410)\n",
      "(410, 410)\n",
      "(410, 410)\n",
      "(410, 410)\n",
      "(410, 410)\n",
      "(410, 410)\n",
      "(410, 410)\n",
      "(410, 410)\n",
      "(410, 410)\n",
      "(410, 410)\n",
      "(410, 410)\n",
      "(410, 410)\n",
      "(410, 410)\n",
      "(410, 410)\n",
      "(410, 410)\n",
      "(410, 410)\n",
      "(410, 410)\n",
      "(410, 410)\n",
      "(410, 410)\n"
     ]
    }
   ],
   "source": [
    "for i in range (0, len(subject_images)):\n",
    "    img = cv2.imread(subject_images[i])\n",
    "    img = cv2.cvtColor(img, cv2.COLOR_BGR2GRAY)\n",
    "    img2 = img[40:450, 170:580]\n",
    "    print(img2.shape)\n",
    "    cartoon, texture = cartoonTexture_grey(img2, 0.2, 50, 0.35, 0.35, 1.0, 0)\n",
    "    cv2.imwrite(\"cartoon/cartoonimg\" + str(i) +\".png\", cartoon)\n",
    "    cv2.imwrite(\"texture/textureimg\" + str(i)+\".png\", texture)"
   ]
  },
  {
   "cell_type": "code",
   "execution_count": 3,
   "metadata": {},
   "outputs": [],
   "source": [
    "\n",
    "cartoon_images = []\n",
    "warpimgpath = 'cartoon/'\n",
    "for i in range(0, len(os.listdir(warpimgpath))):\n",
    "    cartoon_images.append('cartoon/' + 'cartoonimg' + str(i)+'.png')\n",
    "cartoon_images = np.asarray(cartoon_images)"
   ]
  },
  {
   "cell_type": "code",
   "execution_count": 32,
   "metadata": {},
   "outputs": [
    {
     "data": {
      "text/plain": [
       "'cartoon/cartoonimg0.png'"
      ]
     },
     "execution_count": 32,
     "metadata": {},
     "output_type": "execute_result"
    }
   ],
   "source": []
  },
  {
   "cell_type": "code",
   "execution_count": 6,
   "metadata": {},
   "outputs": [],
   "source": [
    "counter = 0\n",
    "state = 0\n",
    "frame_counter = 0\n",
    "subject_first = np.zeros(len(subject_images))\n",
    "for i in range(0, len(subject_images)):\n",
    "    subject_first[i] = state \n",
    "    counter = counter + 1\n",
    "    if counter == cant_frames_per_seq[frame_counter]: \n",
    "        counter = 0\n",
    "        state +=  cant_frames_per_seq[frame_counter]\n",
    "        frame_counter += 1\n",
    "        \n"
   ]
  },
  {
   "cell_type": "code",
   "execution_count": 8,
   "metadata": {},
   "outputs": [
    {
     "data": {
      "text/plain": [
       "(583,)"
      ]
     },
     "execution_count": 8,
     "metadata": {},
     "output_type": "execute_result"
    }
   ],
   "source": [
    "subject_first.shape"
   ]
  },
  {
   "cell_type": "code",
   "execution_count": 10,
   "metadata": {},
   "outputs": [],
   "source": [
    "imcart = []\n",
    "for i in cartoon_images:\n",
    "    img = cv2.imread(i, cv2.IMREAD_GRAYSCALE)\n",
    "    img_mean = img/np.mean(img)\n",
    "    imcart.append(img_mean.flatten())\n",
    "    \n",
    "imcartoon = np.asarray(imcart)\n",
    "imcartooncopy = []\n",
    "for i in range(0, len(imcartoon) ):\n",
    "    first_frame = int(subject_first[i])\n",
    "    imca = imcartoon[i] - imcartoon[first_frame]\n",
    "    imcartooncopy.append(np.asarray(imca))\n",
    "\n",
    "imcartoonarray = np.asarray(imcartooncopy)\n",
    "imcartoonarray.shape\n",
    "\n",
    "my_df = pd.DataFrame(imcartoonarray)\n",
    "my_df.to_csv('imcartoonarray.csv',header = False, index= False)\n"
   ]
  },
  {
   "cell_type": "code",
   "execution_count": null,
   "metadata": {},
   "outputs": [],
   "source": []
  },
  {
   "cell_type": "code",
   "execution_count": null,
   "metadata": {},
   "outputs": [],
   "source": []
  },
  {
   "cell_type": "code",
   "execution_count": 12,
   "metadata": {},
   "outputs": [],
   "source": [
    "texture_images = []\n",
    "warpimgpath = 'texture/'\n",
    "for i in range(0, len(os.listdir(warpimgpath))):\n",
    "    texture_images.append('texture/' + 'textureimg' + str(i)+'.png')\n",
    "texture_images = np.asarray(texture_images)"
   ]
  },
  {
   "cell_type": "code",
   "execution_count": 14,
   "metadata": {},
   "outputs": [],
   "source": [
    "imtext = []\n",
    "for i in texture_images:\n",
    "    img = cv2.imread(i, cv2.IMREAD_GRAYSCALE)    \n",
    "    imtext.append(img.flatten())\n",
    "    \n",
    "imtextarray = np.asarray(imtext)\n",
    "imtextarray.shape\n",
    "\n",
    "my_df = pd.DataFrame(imtextarray)\n",
    "my_df.to_csv('imtexturearray.csv',header = False, index= False)"
   ]
  },
  {
   "cell_type": "code",
   "execution_count": 11,
   "metadata": {},
   "outputs": [
    {
     "data": {
      "text/html": [
       "<div>\n",
       "<style scoped>\n",
       "    .dataframe tbody tr th:only-of-type {\n",
       "        vertical-align: middle;\n",
       "    }\n",
       "\n",
       "    .dataframe tbody tr th {\n",
       "        vertical-align: top;\n",
       "    }\n",
       "\n",
       "    .dataframe thead th {\n",
       "        text-align: right;\n",
       "    }\n",
       "</style>\n",
       "<table border=\"1\" class=\"dataframe\">\n",
       "  <thead>\n",
       "    <tr style=\"text-align: right;\">\n",
       "      <th></th>\n",
       "      <th>0</th>\n",
       "      <th>1</th>\n",
       "      <th>2</th>\n",
       "      <th>3</th>\n",
       "      <th>4</th>\n",
       "      <th>5</th>\n",
       "      <th>6</th>\n",
       "      <th>7</th>\n",
       "      <th>8</th>\n",
       "      <th>9</th>\n",
       "      <th>...</th>\n",
       "      <th>168090</th>\n",
       "      <th>168091</th>\n",
       "      <th>168092</th>\n",
       "      <th>168093</th>\n",
       "      <th>168094</th>\n",
       "      <th>168095</th>\n",
       "      <th>168096</th>\n",
       "      <th>168097</th>\n",
       "      <th>168098</th>\n",
       "      <th>168099</th>\n",
       "    </tr>\n",
       "  </thead>\n",
       "  <tbody>\n",
       "    <tr>\n",
       "      <th>0</th>\n",
       "      <td>0.000000</td>\n",
       "      <td>0.000000</td>\n",
       "      <td>0.000000</td>\n",
       "      <td>0.000000</td>\n",
       "      <td>0.000000</td>\n",
       "      <td>0.000000</td>\n",
       "      <td>0.000000</td>\n",
       "      <td>0.000000</td>\n",
       "      <td>0.000000</td>\n",
       "      <td>0.000000</td>\n",
       "      <td>...</td>\n",
       "      <td>0.000000</td>\n",
       "      <td>0.000000</td>\n",
       "      <td>0.000000</td>\n",
       "      <td>0.000000</td>\n",
       "      <td>0.000000</td>\n",
       "      <td>0.000000</td>\n",
       "      <td>0.000000</td>\n",
       "      <td>0.000000</td>\n",
       "      <td>0.000000</td>\n",
       "      <td>0.000000</td>\n",
       "    </tr>\n",
       "    <tr>\n",
       "      <th>1</th>\n",
       "      <td>-0.000106</td>\n",
       "      <td>-0.000106</td>\n",
       "      <td>-0.000106</td>\n",
       "      <td>-0.000106</td>\n",
       "      <td>-0.000106</td>\n",
       "      <td>-0.000106</td>\n",
       "      <td>-0.000106</td>\n",
       "      <td>-0.000106</td>\n",
       "      <td>-0.000106</td>\n",
       "      <td>-0.000106</td>\n",
       "      <td>...</td>\n",
       "      <td>-0.016197</td>\n",
       "      <td>-0.016198</td>\n",
       "      <td>-0.016199</td>\n",
       "      <td>-0.008105</td>\n",
       "      <td>-0.000012</td>\n",
       "      <td>0.008081</td>\n",
       "      <td>0.024269</td>\n",
       "      <td>0.016174</td>\n",
       "      <td>-0.008109</td>\n",
       "      <td>-0.024298</td>\n",
       "    </tr>\n",
       "    <tr>\n",
       "      <th>2</th>\n",
       "      <td>-0.008392</td>\n",
       "      <td>-0.008392</td>\n",
       "      <td>-0.008392</td>\n",
       "      <td>-0.008392</td>\n",
       "      <td>-0.008392</td>\n",
       "      <td>-0.008392</td>\n",
       "      <td>-0.008392</td>\n",
       "      <td>-0.008392</td>\n",
       "      <td>-0.008392</td>\n",
       "      <td>-0.008392</td>\n",
       "      <td>...</td>\n",
       "      <td>0.015399</td>\n",
       "      <td>0.007272</td>\n",
       "      <td>0.007206</td>\n",
       "      <td>0.007173</td>\n",
       "      <td>0.023230</td>\n",
       "      <td>0.023164</td>\n",
       "      <td>0.047381</td>\n",
       "      <td>0.039221</td>\n",
       "      <td>0.014905</td>\n",
       "      <td>0.014839</td>\n",
       "    </tr>\n",
       "    <tr>\n",
       "      <th>3</th>\n",
       "      <td>0.000271</td>\n",
       "      <td>0.000271</td>\n",
       "      <td>0.000271</td>\n",
       "      <td>0.000271</td>\n",
       "      <td>0.000271</td>\n",
       "      <td>0.000271</td>\n",
       "      <td>0.000271</td>\n",
       "      <td>0.000271</td>\n",
       "      <td>0.000271</td>\n",
       "      <td>0.000271</td>\n",
       "      <td>...</td>\n",
       "      <td>0.016214</td>\n",
       "      <td>0.008121</td>\n",
       "      <td>0.000028</td>\n",
       "      <td>0.016220</td>\n",
       "      <td>0.016222</td>\n",
       "      <td>0.000033</td>\n",
       "      <td>0.016223</td>\n",
       "      <td>0.000035</td>\n",
       "      <td>-0.024247</td>\n",
       "      <td>-0.032340</td>\n",
       "    </tr>\n",
       "    <tr>\n",
       "      <th>4</th>\n",
       "      <td>-0.004758</td>\n",
       "      <td>-0.004758</td>\n",
       "      <td>-0.004758</td>\n",
       "      <td>-0.004758</td>\n",
       "      <td>-0.004758</td>\n",
       "      <td>-0.004758</td>\n",
       "      <td>-0.004758</td>\n",
       "      <td>-0.004758</td>\n",
       "      <td>-0.004758</td>\n",
       "      <td>-0.004758</td>\n",
       "      <td>...</td>\n",
       "      <td>-0.016562</td>\n",
       "      <td>-0.024675</td>\n",
       "      <td>-0.016637</td>\n",
       "      <td>-0.000504</td>\n",
       "      <td>0.007535</td>\n",
       "      <td>0.023649</td>\n",
       "      <td>0.055970</td>\n",
       "      <td>0.039763</td>\n",
       "      <td>-0.000690</td>\n",
       "      <td>-0.000728</td>\n",
       "    </tr>\n",
       "    <tr>\n",
       "      <th>...</th>\n",
       "      <td>...</td>\n",
       "      <td>...</td>\n",
       "      <td>...</td>\n",
       "      <td>...</td>\n",
       "      <td>...</td>\n",
       "      <td>...</td>\n",
       "      <td>...</td>\n",
       "      <td>...</td>\n",
       "      <td>...</td>\n",
       "      <td>...</td>\n",
       "      <td>...</td>\n",
       "      <td>...</td>\n",
       "      <td>...</td>\n",
       "      <td>...</td>\n",
       "      <td>...</td>\n",
       "      <td>...</td>\n",
       "      <td>...</td>\n",
       "      <td>...</td>\n",
       "      <td>...</td>\n",
       "      <td>...</td>\n",
       "      <td>...</td>\n",
       "    </tr>\n",
       "    <tr>\n",
       "      <th>149</th>\n",
       "      <td>-0.011520</td>\n",
       "      <td>0.006588</td>\n",
       "      <td>-0.005483</td>\n",
       "      <td>0.000554</td>\n",
       "      <td>-0.005483</td>\n",
       "      <td>0.006588</td>\n",
       "      <td>-0.005483</td>\n",
       "      <td>0.006588</td>\n",
       "      <td>-0.005483</td>\n",
       "      <td>0.006588</td>\n",
       "      <td>...</td>\n",
       "      <td>0.000603</td>\n",
       "      <td>0.000603</td>\n",
       "      <td>0.000603</td>\n",
       "      <td>0.000603</td>\n",
       "      <td>0.000603</td>\n",
       "      <td>0.000603</td>\n",
       "      <td>0.000603</td>\n",
       "      <td>0.000603</td>\n",
       "      <td>0.000603</td>\n",
       "      <td>0.000603</td>\n",
       "    </tr>\n",
       "    <tr>\n",
       "      <th>150</th>\n",
       "      <td>-0.006469</td>\n",
       "      <td>-0.000434</td>\n",
       "      <td>-0.006469</td>\n",
       "      <td>-0.000410</td>\n",
       "      <td>-0.000410</td>\n",
       "      <td>0.005625</td>\n",
       "      <td>-0.000410</td>\n",
       "      <td>0.005625</td>\n",
       "      <td>-0.000410</td>\n",
       "      <td>0.005625</td>\n",
       "      <td>...</td>\n",
       "      <td>0.006156</td>\n",
       "      <td>0.006156</td>\n",
       "      <td>0.006156</td>\n",
       "      <td>0.006156</td>\n",
       "      <td>0.006156</td>\n",
       "      <td>0.006156</td>\n",
       "      <td>0.006156</td>\n",
       "      <td>0.006156</td>\n",
       "      <td>0.006156</td>\n",
       "      <td>0.006156</td>\n",
       "    </tr>\n",
       "    <tr>\n",
       "      <th>151</th>\n",
       "      <td>0.019220</td>\n",
       "      <td>0.019190</td>\n",
       "      <td>0.019220</td>\n",
       "      <td>0.019220</td>\n",
       "      <td>0.019220</td>\n",
       "      <td>0.025255</td>\n",
       "      <td>0.019220</td>\n",
       "      <td>0.025255</td>\n",
       "      <td>0.019220</td>\n",
       "      <td>0.019190</td>\n",
       "      <td>...</td>\n",
       "      <td>0.007727</td>\n",
       "      <td>0.007727</td>\n",
       "      <td>0.007727</td>\n",
       "      <td>0.007727</td>\n",
       "      <td>0.007727</td>\n",
       "      <td>0.007727</td>\n",
       "      <td>0.007727</td>\n",
       "      <td>0.007727</td>\n",
       "      <td>0.007727</td>\n",
       "      <td>0.007727</td>\n",
       "    </tr>\n",
       "    <tr>\n",
       "      <th>152</th>\n",
       "      <td>-0.017239</td>\n",
       "      <td>-0.005113</td>\n",
       "      <td>-0.017239</td>\n",
       "      <td>-0.011147</td>\n",
       "      <td>-0.011147</td>\n",
       "      <td>-0.005113</td>\n",
       "      <td>-0.011147</td>\n",
       "      <td>-0.005113</td>\n",
       "      <td>-0.011147</td>\n",
       "      <td>-0.005113</td>\n",
       "      <td>...</td>\n",
       "      <td>0.014403</td>\n",
       "      <td>0.014403</td>\n",
       "      <td>0.014403</td>\n",
       "      <td>0.014403</td>\n",
       "      <td>0.014403</td>\n",
       "      <td>0.014403</td>\n",
       "      <td>0.014403</td>\n",
       "      <td>0.014403</td>\n",
       "      <td>0.014403</td>\n",
       "      <td>0.014403</td>\n",
       "    </tr>\n",
       "    <tr>\n",
       "      <th>153</th>\n",
       "      <td>0.016534</td>\n",
       "      <td>0.016463</td>\n",
       "      <td>0.010429</td>\n",
       "      <td>0.010429</td>\n",
       "      <td>0.010429</td>\n",
       "      <td>0.016463</td>\n",
       "      <td>0.010429</td>\n",
       "      <td>0.016463</td>\n",
       "      <td>0.010429</td>\n",
       "      <td>0.016463</td>\n",
       "      <td>...</td>\n",
       "      <td>0.018018</td>\n",
       "      <td>0.018018</td>\n",
       "      <td>0.018018</td>\n",
       "      <td>0.018018</td>\n",
       "      <td>0.018018</td>\n",
       "      <td>0.011912</td>\n",
       "      <td>0.011912</td>\n",
       "      <td>0.018018</td>\n",
       "      <td>0.018018</td>\n",
       "      <td>0.018018</td>\n",
       "    </tr>\n",
       "  </tbody>\n",
       "</table>\n",
       "<p>154 rows × 168100 columns</p>\n",
       "</div>"
      ],
      "text/plain": [
       "       0         1         2         3         4         5         6       \\\n",
       "0    0.000000  0.000000  0.000000  0.000000  0.000000  0.000000  0.000000   \n",
       "1   -0.000106 -0.000106 -0.000106 -0.000106 -0.000106 -0.000106 -0.000106   \n",
       "2   -0.008392 -0.008392 -0.008392 -0.008392 -0.008392 -0.008392 -0.008392   \n",
       "3    0.000271  0.000271  0.000271  0.000271  0.000271  0.000271  0.000271   \n",
       "4   -0.004758 -0.004758 -0.004758 -0.004758 -0.004758 -0.004758 -0.004758   \n",
       "..        ...       ...       ...       ...       ...       ...       ...   \n",
       "149 -0.011520  0.006588 -0.005483  0.000554 -0.005483  0.006588 -0.005483   \n",
       "150 -0.006469 -0.000434 -0.006469 -0.000410 -0.000410  0.005625 -0.000410   \n",
       "151  0.019220  0.019190  0.019220  0.019220  0.019220  0.025255  0.019220   \n",
       "152 -0.017239 -0.005113 -0.017239 -0.011147 -0.011147 -0.005113 -0.011147   \n",
       "153  0.016534  0.016463  0.010429  0.010429  0.010429  0.016463  0.010429   \n",
       "\n",
       "       7         8         9       ...    168090    168091    168092  \\\n",
       "0    0.000000  0.000000  0.000000  ...  0.000000  0.000000  0.000000   \n",
       "1   -0.000106 -0.000106 -0.000106  ... -0.016197 -0.016198 -0.016199   \n",
       "2   -0.008392 -0.008392 -0.008392  ...  0.015399  0.007272  0.007206   \n",
       "3    0.000271  0.000271  0.000271  ...  0.016214  0.008121  0.000028   \n",
       "4   -0.004758 -0.004758 -0.004758  ... -0.016562 -0.024675 -0.016637   \n",
       "..        ...       ...       ...  ...       ...       ...       ...   \n",
       "149  0.006588 -0.005483  0.006588  ...  0.000603  0.000603  0.000603   \n",
       "150  0.005625 -0.000410  0.005625  ...  0.006156  0.006156  0.006156   \n",
       "151  0.025255  0.019220  0.019190  ...  0.007727  0.007727  0.007727   \n",
       "152 -0.005113 -0.011147 -0.005113  ...  0.014403  0.014403  0.014403   \n",
       "153  0.016463  0.010429  0.016463  ...  0.018018  0.018018  0.018018   \n",
       "\n",
       "       168093    168094    168095    168096    168097    168098    168099  \n",
       "0    0.000000  0.000000  0.000000  0.000000  0.000000  0.000000  0.000000  \n",
       "1   -0.008105 -0.000012  0.008081  0.024269  0.016174 -0.008109 -0.024298  \n",
       "2    0.007173  0.023230  0.023164  0.047381  0.039221  0.014905  0.014839  \n",
       "3    0.016220  0.016222  0.000033  0.016223  0.000035 -0.024247 -0.032340  \n",
       "4   -0.000504  0.007535  0.023649  0.055970  0.039763 -0.000690 -0.000728  \n",
       "..        ...       ...       ...       ...       ...       ...       ...  \n",
       "149  0.000603  0.000603  0.000603  0.000603  0.000603  0.000603  0.000603  \n",
       "150  0.006156  0.006156  0.006156  0.006156  0.006156  0.006156  0.006156  \n",
       "151  0.007727  0.007727  0.007727  0.007727  0.007727  0.007727  0.007727  \n",
       "152  0.014403  0.014403  0.014403  0.014403  0.014403  0.014403  0.014403  \n",
       "153  0.018018  0.018018  0.011912  0.011912  0.018018  0.018018  0.018018  \n",
       "\n",
       "[154 rows x 168100 columns]"
      ]
     },
     "execution_count": 11,
     "metadata": {},
     "output_type": "execute_result"
    }
   ],
   "source": [
    "my_data_forPCA = pd.read_csv('imcartoonarray.csv',header = None)\n",
    "my_data_forPCA"
   ]
  },
  {
   "cell_type": "code",
   "execution_count": 12,
   "metadata": {},
   "outputs": [
    {
     "data": {
      "text/plain": [
       "(154, 168100)"
      ]
     },
     "execution_count": 12,
     "metadata": {},
     "output_type": "execute_result"
    }
   ],
   "source": [
    "from sklearn.preprocessing import StandardScaler\n",
    "std_scaler = StandardScaler()\n",
    "scaled_landDiff = std_scaler.fit_transform(my_data_forPCA)\n",
    "scaled_landDiff.shape"
   ]
  },
  {
   "cell_type": "code",
   "execution_count": 13,
   "metadata": {},
   "outputs": [
    {
     "data": {
      "text/plain": [
       "(154, 14)"
      ]
     },
     "execution_count": 13,
     "metadata": {},
     "output_type": "execute_result"
    }
   ],
   "source": [
    "from sklearn.decomposition import PCA\n",
    "pca = PCA(n_components=14)\n",
    "pca.fit_transform(scaled_landDiff)\n",
    "b_cartoon = pca.fit_transform(scaled_landDiff)\n",
    "b_cartoon.shape # "
   ]
  },
  {
   "cell_type": "code",
   "execution_count": 14,
   "metadata": {},
   "outputs": [
    {
     "name": "stdout",
     "output_type": "stream",
     "text": [
      "0.8383171422653423\n"
     ]
    }
   ],
   "source": [
    "print(sum(pca.explained_variance_ratio_))"
   ]
  },
  {
   "cell_type": "code",
   "execution_count": 15,
   "metadata": {},
   "outputs": [
    {
     "data": {
      "image/png": "[encoded data removed]",
      "text/plain": [
       "<Figure size 640x480 with 1 Axes>"
      ]
     },
     "metadata": {},
     "output_type": "display_data"
    }
   ],
   "source": [
    "b_cartoon\n",
    "pca_var=np.round(pca.explained_variance_ratio_* 100, decimals=1 )\n",
    "labels = ['PC'+ str(s) for s in range(1, len(pca_var)+1)]\n",
    "\n",
    "plt.bar(x= range(1, len(pca_var)+1), height = pca_var, tick_label= labels)\n",
    "plt.ylabel(\"Percentage of Variance\")\n",
    "plt.xlabel(\"Principal Components\")\n",
    "plt.title(\"Scree Plot\")\n",
    "plt.show()"
   ]
  },
  {
   "cell_type": "code",
   "execution_count": 16,
   "metadata": {},
   "outputs": [],
   "source": [
    "my_df = pd.DataFrame(b_cartoon)\n",
    "my_df.to_csv('pca_cartoonpoints.csv',header = False, index= False)"
   ]
  },
  {
   "cell_type": "code",
   "execution_count": 10,
   "metadata": {},
   "outputs": [
    {
     "data": {
      "text/html": [
       "<div>\n",
       "<style scoped>\n",
       "    .dataframe tbody tr th:only-of-type {\n",
       "        vertical-align: middle;\n",
       "    }\n",
       "\n",
       "    .dataframe tbody tr th {\n",
       "        vertical-align: top;\n",
       "    }\n",
       "\n",
       "    .dataframe thead th {\n",
       "        text-align: right;\n",
       "    }\n",
       "</style>\n",
       "<table border=\"1\" class=\"dataframe\">\n",
       "  <thead>\n",
       "    <tr style=\"text-align: right;\">\n",
       "      <th></th>\n",
       "      <th>0</th>\n",
       "      <th>1</th>\n",
       "      <th>2</th>\n",
       "      <th>3</th>\n",
       "      <th>4</th>\n",
       "      <th>5</th>\n",
       "      <th>6</th>\n",
       "      <th>7</th>\n",
       "      <th>8</th>\n",
       "      <th>9</th>\n",
       "      <th>...</th>\n",
       "      <th>168090</th>\n",
       "      <th>168091</th>\n",
       "      <th>168092</th>\n",
       "      <th>168093</th>\n",
       "      <th>168094</th>\n",
       "      <th>168095</th>\n",
       "      <th>168096</th>\n",
       "      <th>168097</th>\n",
       "      <th>168098</th>\n",
       "      <th>168099</th>\n",
       "    </tr>\n",
       "  </thead>\n",
       "  <tbody>\n",
       "    <tr>\n",
       "      <th>0</th>\n",
       "      <td>128</td>\n",
       "      <td>128</td>\n",
       "      <td>128</td>\n",
       "      <td>128</td>\n",
       "      <td>128</td>\n",
       "      <td>128</td>\n",
       "      <td>128</td>\n",
       "      <td>128</td>\n",
       "      <td>128</td>\n",
       "      <td>128</td>\n",
       "      <td>...</td>\n",
       "      <td>128</td>\n",
       "      <td>128</td>\n",
       "      <td>128</td>\n",
       "      <td>128</td>\n",
       "      <td>128</td>\n",
       "      <td>128</td>\n",
       "      <td>128</td>\n",
       "      <td>128</td>\n",
       "      <td>128</td>\n",
       "      <td>128</td>\n",
       "    </tr>\n",
       "    <tr>\n",
       "      <th>1</th>\n",
       "      <td>128</td>\n",
       "      <td>128</td>\n",
       "      <td>128</td>\n",
       "      <td>128</td>\n",
       "      <td>128</td>\n",
       "      <td>128</td>\n",
       "      <td>128</td>\n",
       "      <td>128</td>\n",
       "      <td>128</td>\n",
       "      <td>128</td>\n",
       "      <td>...</td>\n",
       "      <td>128</td>\n",
       "      <td>128</td>\n",
       "      <td>128</td>\n",
       "      <td>128</td>\n",
       "      <td>128</td>\n",
       "      <td>128</td>\n",
       "      <td>128</td>\n",
       "      <td>128</td>\n",
       "      <td>128</td>\n",
       "      <td>128</td>\n",
       "    </tr>\n",
       "    <tr>\n",
       "      <th>2</th>\n",
       "      <td>128</td>\n",
       "      <td>128</td>\n",
       "      <td>128</td>\n",
       "      <td>128</td>\n",
       "      <td>128</td>\n",
       "      <td>128</td>\n",
       "      <td>128</td>\n",
       "      <td>128</td>\n",
       "      <td>128</td>\n",
       "      <td>128</td>\n",
       "      <td>...</td>\n",
       "      <td>128</td>\n",
       "      <td>128</td>\n",
       "      <td>128</td>\n",
       "      <td>128</td>\n",
       "      <td>128</td>\n",
       "      <td>128</td>\n",
       "      <td>128</td>\n",
       "      <td>128</td>\n",
       "      <td>128</td>\n",
       "      <td>128</td>\n",
       "    </tr>\n",
       "    <tr>\n",
       "      <th>3</th>\n",
       "      <td>128</td>\n",
       "      <td>128</td>\n",
       "      <td>128</td>\n",
       "      <td>128</td>\n",
       "      <td>128</td>\n",
       "      <td>128</td>\n",
       "      <td>128</td>\n",
       "      <td>128</td>\n",
       "      <td>128</td>\n",
       "      <td>128</td>\n",
       "      <td>...</td>\n",
       "      <td>128</td>\n",
       "      <td>128</td>\n",
       "      <td>128</td>\n",
       "      <td>128</td>\n",
       "      <td>128</td>\n",
       "      <td>128</td>\n",
       "      <td>128</td>\n",
       "      <td>128</td>\n",
       "      <td>128</td>\n",
       "      <td>128</td>\n",
       "    </tr>\n",
       "    <tr>\n",
       "      <th>4</th>\n",
       "      <td>128</td>\n",
       "      <td>128</td>\n",
       "      <td>128</td>\n",
       "      <td>128</td>\n",
       "      <td>128</td>\n",
       "      <td>128</td>\n",
       "      <td>128</td>\n",
       "      <td>128</td>\n",
       "      <td>128</td>\n",
       "      <td>128</td>\n",
       "      <td>...</td>\n",
       "      <td>128</td>\n",
       "      <td>128</td>\n",
       "      <td>128</td>\n",
       "      <td>128</td>\n",
       "      <td>128</td>\n",
       "      <td>128</td>\n",
       "      <td>128</td>\n",
       "      <td>128</td>\n",
       "      <td>128</td>\n",
       "      <td>128</td>\n",
       "    </tr>\n",
       "    <tr>\n",
       "      <th>...</th>\n",
       "      <td>...</td>\n",
       "      <td>...</td>\n",
       "      <td>...</td>\n",
       "      <td>...</td>\n",
       "      <td>...</td>\n",
       "      <td>...</td>\n",
       "      <td>...</td>\n",
       "      <td>...</td>\n",
       "      <td>...</td>\n",
       "      <td>...</td>\n",
       "      <td>...</td>\n",
       "      <td>...</td>\n",
       "      <td>...</td>\n",
       "      <td>...</td>\n",
       "      <td>...</td>\n",
       "      <td>...</td>\n",
       "      <td>...</td>\n",
       "      <td>...</td>\n",
       "      <td>...</td>\n",
       "      <td>...</td>\n",
       "      <td>...</td>\n",
       "    </tr>\n",
       "    <tr>\n",
       "      <th>149</th>\n",
       "      <td>128</td>\n",
       "      <td>122</td>\n",
       "      <td>128</td>\n",
       "      <td>121</td>\n",
       "      <td>126</td>\n",
       "      <td>127</td>\n",
       "      <td>132</td>\n",
       "      <td>128</td>\n",
       "      <td>125</td>\n",
       "      <td>115</td>\n",
       "      <td>...</td>\n",
       "      <td>128</td>\n",
       "      <td>128</td>\n",
       "      <td>128</td>\n",
       "      <td>128</td>\n",
       "      <td>128</td>\n",
       "      <td>128</td>\n",
       "      <td>128</td>\n",
       "      <td>128</td>\n",
       "      <td>128</td>\n",
       "      <td>128</td>\n",
       "    </tr>\n",
       "    <tr>\n",
       "      <th>150</th>\n",
       "      <td>128</td>\n",
       "      <td>126</td>\n",
       "      <td>125</td>\n",
       "      <td>128</td>\n",
       "      <td>128</td>\n",
       "      <td>133</td>\n",
       "      <td>127</td>\n",
       "      <td>127</td>\n",
       "      <td>128</td>\n",
       "      <td>126</td>\n",
       "      <td>...</td>\n",
       "      <td>128</td>\n",
       "      <td>128</td>\n",
       "      <td>128</td>\n",
       "      <td>128</td>\n",
       "      <td>128</td>\n",
       "      <td>128</td>\n",
       "      <td>128</td>\n",
       "      <td>128</td>\n",
       "      <td>128</td>\n",
       "      <td>128</td>\n",
       "    </tr>\n",
       "    <tr>\n",
       "      <th>151</th>\n",
       "      <td>104</td>\n",
       "      <td>114</td>\n",
       "      <td>117</td>\n",
       "      <td>118</td>\n",
       "      <td>121</td>\n",
       "      <td>130</td>\n",
       "      <td>128</td>\n",
       "      <td>136</td>\n",
       "      <td>127</td>\n",
       "      <td>127</td>\n",
       "      <td>...</td>\n",
       "      <td>128</td>\n",
       "      <td>128</td>\n",
       "      <td>128</td>\n",
       "      <td>128</td>\n",
       "      <td>128</td>\n",
       "      <td>128</td>\n",
       "      <td>128</td>\n",
       "      <td>128</td>\n",
       "      <td>128</td>\n",
       "      <td>128</td>\n",
       "    </tr>\n",
       "    <tr>\n",
       "      <th>152</th>\n",
       "      <td>127</td>\n",
       "      <td>130</td>\n",
       "      <td>131</td>\n",
       "      <td>135</td>\n",
       "      <td>142</td>\n",
       "      <td>136</td>\n",
       "      <td>127</td>\n",
       "      <td>124</td>\n",
       "      <td>115</td>\n",
       "      <td>124</td>\n",
       "      <td>...</td>\n",
       "      <td>128</td>\n",
       "      <td>128</td>\n",
       "      <td>128</td>\n",
       "      <td>128</td>\n",
       "      <td>128</td>\n",
       "      <td>128</td>\n",
       "      <td>128</td>\n",
       "      <td>128</td>\n",
       "      <td>128</td>\n",
       "      <td>128</td>\n",
       "    </tr>\n",
       "    <tr>\n",
       "      <th>153</th>\n",
       "      <td>115</td>\n",
       "      <td>122</td>\n",
       "      <td>119</td>\n",
       "      <td>123</td>\n",
       "      <td>127</td>\n",
       "      <td>129</td>\n",
       "      <td>134</td>\n",
       "      <td>134</td>\n",
       "      <td>132</td>\n",
       "      <td>128</td>\n",
       "      <td>...</td>\n",
       "      <td>128</td>\n",
       "      <td>128</td>\n",
       "      <td>128</td>\n",
       "      <td>128</td>\n",
       "      <td>128</td>\n",
       "      <td>128</td>\n",
       "      <td>128</td>\n",
       "      <td>128</td>\n",
       "      <td>128</td>\n",
       "      <td>128</td>\n",
       "    </tr>\n",
       "  </tbody>\n",
       "</table>\n",
       "<p>154 rows × 168100 columns</p>\n",
       "</div>"
      ],
      "text/plain": [
       "     0       1       2       3       4       5       6       7       8       \\\n",
       "0       128     128     128     128     128     128     128     128     128   \n",
       "1       128     128     128     128     128     128     128     128     128   \n",
       "2       128     128     128     128     128     128     128     128     128   \n",
       "3       128     128     128     128     128     128     128     128     128   \n",
       "4       128     128     128     128     128     128     128     128     128   \n",
       "..      ...     ...     ...     ...     ...     ...     ...     ...     ...   \n",
       "149     128     122     128     121     126     127     132     128     125   \n",
       "150     128     126     125     128     128     133     127     127     128   \n",
       "151     104     114     117     118     121     130     128     136     127   \n",
       "152     127     130     131     135     142     136     127     124     115   \n",
       "153     115     122     119     123     127     129     134     134     132   \n",
       "\n",
       "     9       ...  168090  168091  168092  168093  168094  168095  168096  \\\n",
       "0       128  ...     128     128     128     128     128     128     128   \n",
       "1       128  ...     128     128     128     128     128     128     128   \n",
       "2       128  ...     128     128     128     128     128     128     128   \n",
       "3       128  ...     128     128     128     128     128     128     128   \n",
       "4       128  ...     128     128     128     128     128     128     128   \n",
       "..      ...  ...     ...     ...     ...     ...     ...     ...     ...   \n",
       "149     115  ...     128     128     128     128     128     128     128   \n",
       "150     126  ...     128     128     128     128     128     128     128   \n",
       "151     127  ...     128     128     128     128     128     128     128   \n",
       "152     124  ...     128     128     128     128     128     128     128   \n",
       "153     128  ...     128     128     128     128     128     128     128   \n",
       "\n",
       "     168097  168098  168099  \n",
       "0       128     128     128  \n",
       "1       128     128     128  \n",
       "2       128     128     128  \n",
       "3       128     128     128  \n",
       "4       128     128     128  \n",
       "..      ...     ...     ...  \n",
       "149     128     128     128  \n",
       "150     128     128     128  \n",
       "151     128     128     128  \n",
       "152     128     128     128  \n",
       "153     128     128     128  \n",
       "\n",
       "[154 rows x 168100 columns]"
      ]
     },
     "execution_count": 10,
     "metadata": {},
     "output_type": "execute_result"
    }
   ],
   "source": [
    "my_data_forPCA2 = pd.read_csv('imtexturearray.csv',header = None)\n",
    "my_data_forPCA2"
   ]
  },
  {
   "cell_type": "code",
   "execution_count": null,
   "metadata": {},
   "outputs": [],
   "source": []
  },
  {
   "cell_type": "code",
   "execution_count": 11,
   "metadata": {},
   "outputs": [
    {
     "data": {
      "text/plain": [
       "(154, 168100)"
      ]
     },
     "execution_count": 11,
     "metadata": {},
     "output_type": "execute_result"
    }
   ],
   "source": [
    "from sklearn.preprocessing import StandardScaler\n",
    "std_scaler = StandardScaler()\n",
    "scaled_landDiff = std_scaler.fit_transform(my_data_forPCA2)\n",
    "scaled_landDiff.shape"
   ]
  },
  {
   "cell_type": "code",
   "execution_count": 12,
   "metadata": {},
   "outputs": [
    {
     "data": {
      "text/plain": [
       "(154, 30)"
      ]
     },
     "execution_count": 12,
     "metadata": {},
     "output_type": "execute_result"
    }
   ],
   "source": [
    "from sklearn.decomposition import PCA\n",
    "pca = PCA(n_components=30)\n",
    "pca.fit_transform(scaled_landDiff)\n",
    "b_texture = pca.fit_transform(scaled_landDiff)\n",
    "b_texture.shape # "
   ]
  },
  {
   "cell_type": "code",
   "execution_count": 13,
   "metadata": {},
   "outputs": [
    {
     "name": "stdout",
     "output_type": "stream",
     "text": [
      "0.5457880381820189\n"
     ]
    }
   ],
   "source": [
    "print(sum(pca.explained_variance_ratio_))"
   ]
  },
  {
   "cell_type": "code",
   "execution_count": 14,
   "metadata": {},
   "outputs": [
    {
     "data": {
      "image/png": "[encoded data removed]",
      "text/plain": [
       "<Figure size 640x480 with 1 Axes>"
      ]
     },
     "metadata": {},
     "output_type": "display_data"
    }
   ],
   "source": [
    "b_texture\n",
    "pca_var=np.round(pca.explained_variance_ratio_* 100, decimals=1 )\n",
    "labels = ['PC'+ str(s) for s in range(1, len(pca_var)+1)]\n",
    "\n",
    "plt.bar(x= range(1, len(pca_var)+1), height = pca_var, tick_label= labels)\n",
    "plt.ylabel(\"Percentage of Variance\")\n",
    "plt.xlabel(\"Principal Components\")\n",
    "plt.title(\"Scree Plot\")\n",
    "plt.show()"
   ]
  },
  {
   "cell_type": "code",
   "execution_count": 15,
   "metadata": {},
   "outputs": [],
   "source": [
    "my_df = pd.DataFrame(b_texture)\n",
    "my_df.to_csv('pca_texturepoints.csv',header = False, index= False)"
   ]
  },
  {
   "cell_type": "code",
   "execution_count": 22,
   "metadata": {},
   "outputs": [
    {
     "ename": "NameError",
     "evalue": "name 'ProximalG' is not defined",
     "output_type": "error",
     "traceback": [
      "\u001b[0;31m---------------------------------------------------------------------------\u001b[0m",
      "\u001b[0;31mNameError\u001b[0m                                 Traceback (most recent call last)",
      "Cell \u001b[0;32mIn[22], line 1\u001b[0m\n\u001b[0;32m----> 1\u001b[0m cartoon, texture \u001b[38;5;241m=\u001b[39m \u001b[43mcartoonTexture_grey\u001b[49m\u001b[43m(\u001b[49m\u001b[43mimg\u001b[49m\u001b[43m,\u001b[49m\u001b[43m \u001b[49m\u001b[38;5;241;43m0.7\u001b[39;49m\u001b[43m,\u001b[49m\u001b[43m \u001b[49m\u001b[38;5;241;43m50\u001b[39;49m\u001b[43m,\u001b[49m\u001b[43m \u001b[49m\u001b[38;5;241;43m0.35\u001b[39;49m\u001b[43m,\u001b[49m\u001b[43m \u001b[49m\u001b[38;5;241;43m0.35\u001b[39;49m\u001b[43m,\u001b[49m\u001b[43m \u001b[49m\u001b[38;5;241;43m1.0\u001b[39;49m\u001b[43m,\u001b[49m\u001b[43m \u001b[49m\u001b[38;5;241;43m0\u001b[39;49m\u001b[43m)\u001b[49m\n\u001b[1;32m      3\u001b[0m cartoon, img, texture\n",
      "Cell \u001b[0;32mIn[8], line 5\u001b[0m, in \u001b[0;36mcartoonTexture_grey\u001b[0;34m(input_image, landa, nb_iter_max, tau, sigma, tetha, way)\u001b[0m\n\u001b[1;32m      1\u001b[0m \u001b[38;5;28;01mdef\u001b[39;00m \u001b[38;5;21mcartoonTexture_grey\u001b[39m(input_image, landa, nb_iter_max\u001b[38;5;241m=\u001b[39m\u001b[38;5;241m1000\u001b[39m, tau\u001b[38;5;241m=\u001b[39m\u001b[38;5;241m0.35\u001b[39m, sigma\u001b[38;5;241m=\u001b[39m\u001b[38;5;241m0.35\u001b[39m, tetha \u001b[38;5;241m=\u001b[39m\u001b[38;5;241m1.0\u001b[39m, way \u001b[38;5;241m=\u001b[39m\u001b[38;5;241m3\u001b[39m):\n\u001b[1;32m      4\u001b[0m     cartoon \u001b[38;5;241m=\u001b[39m np\u001b[38;5;241m.\u001b[39mzeros(input_image\u001b[38;5;241m.\u001b[39mshape)    \n\u001b[0;32m----> 5\u001b[0m     cartoon \u001b[38;5;241m=\u001b[39m \u001b[43mChambolle_TV_L1\u001b[49m\u001b[43m(\u001b[49m\u001b[43minput_image\u001b[49m\u001b[43m,\u001b[49m\u001b[43m \u001b[49m\u001b[43mnb_iter_max\u001b[49m\u001b[43m,\u001b[49m\u001b[43m \u001b[49m\u001b[43mtau\u001b[49m\u001b[43m,\u001b[49m\u001b[43m \u001b[49m\u001b[43msigma\u001b[49m\u001b[43m,\u001b[49m\u001b[43m \u001b[49m\u001b[43mlanda\u001b[49m\u001b[43m,\u001b[49m\u001b[43m \u001b[49m\u001b[43mtetha\u001b[49m\u001b[43m,\u001b[49m\u001b[43m \u001b[49m\u001b[43mway\u001b[49m\u001b[43m)\u001b[49m\n\u001b[1;32m      7\u001b[0m     GradX \u001b[38;5;241m=\u001b[39m np\u001b[38;5;241m.\u001b[39mzeros(input_image\u001b[38;5;241m.\u001b[39mshape) \n\u001b[1;32m      8\u001b[0m     GradY \u001b[38;5;241m=\u001b[39m np\u001b[38;5;241m.\u001b[39mzeros(input_image\u001b[38;5;241m.\u001b[39mshape) \n",
      "Cell \u001b[0;32mIn[7], line 26\u001b[0m, in \u001b[0;36mChambolle_TV_L1\u001b[0;34m(input_image, nb_iter, tau, sigma, landa, tetha, way)\u001b[0m\n\u001b[1;32m     24\u001b[0m div \u001b[38;5;241m=\u001b[39m ComputeDivergenceL(p1, p2)        \n\u001b[1;32m     25\u001b[0m image1 \u001b[38;5;241m=\u001b[39m u \u001b[38;5;241m+\u001b[39m tau\u001b[38;5;241m*\u001b[39mdiv\n\u001b[0;32m---> 26\u001b[0m u \u001b[38;5;241m=\u001b[39m \u001b[43mProximalG\u001b[49m(image1, input_image, landa, tau)\n\u001b[1;32m     27\u001b[0m u \u001b[38;5;241m=\u001b[39m u \u001b[38;5;241m+\u001b[39m tetha\u001b[38;5;241m*\u001b[39m (u \u001b[38;5;241m-\u001b[39m u_old)\n\u001b[1;32m     29\u001b[0m \u001b[38;5;28;01mif\u001b[39;00m( it \u001b[38;5;241m%\u001b[39m \u001b[38;5;241m10\u001b[39m \u001b[38;5;241m==\u001b[39m \u001b[38;5;241m0\u001b[39m):\n",
      "\u001b[0;31mNameError\u001b[0m: name 'ProximalG' is not defined"
     ]
    }
   ],
   "source": [
    "cartoon, texture = cartoonTexture_grey(img, 0.7, 50, 0.35, 0.35, 1.0, 0)\n",
    "\n",
    "cartoon, img, texture"
   ]
  },
  {
   "cell_type": "code",
   "execution_count": 23,
   "metadata": {},
   "outputs": [
    {
     "data": {
      "text/plain": [
       "True"
      ]
     },
     "execution_count": 23,
     "metadata": {},
     "output_type": "execute_result"
    }
   ],
   "source": [
    "Hori = np.concatenate((cartoon, texture), axis=1) \n",
    "cv2.imshow('Cartoon Texture', Hori) \n",
    "cv2.waitKey(0) \n",
    "cv2.destroyAllWindows()  \n",
    "\n",
    "cv2.imwrite(\"ejemplotexcartoondescom07w0.png\", Hori)"
   ]
  },
  {
   "cell_type": "code",
   "execution_count": null,
   "metadata": {},
   "outputs": [],
   "source": [
    "To counter this dependence, for each face image we di-\n",
    "vide each element of the u component by the mean value of\n",
    "u of that ima"
   ]
  },
  {
   "cell_type": "code",
   "execution_count": null,
   "metadata": {},
   "outputs": [],
   "source": []
  },
  {
   "cell_type": "code",
   "execution_count": 43,
   "metadata": {},
   "outputs": [],
   "source": []
  },
  {
   "cell_type": "code",
   "execution_count": 45,
   "metadata": {},
   "outputs": [
    {
     "data": {
      "text/plain": [
       "True"
      ]
     },
     "execution_count": 45,
     "metadata": {},
     "output_type": "execute_result"
    }
   ],
   "source": [
    "result = (cartoon_vector == a).all()\n",
    "result"
   ]
  },
  {
   "cell_type": "code",
   "execution_count": null,
   "metadata": {},
   "outputs": [],
   "source": []
  },
  {
   "cell_type": "code",
   "execution_count": null,
   "metadata": {},
   "outputs": [],
   "source": []
  },
  {
   "cell_type": "code",
   "execution_count": null,
   "metadata": {},
   "outputs": [],
   "source": [
    "\n"
   ]
  },
  {
   "cell_type": "code",
   "execution_count": null,
   "metadata": {},
   "outputs": [],
   "source": []
  },
  {
   "cell_type": "markdown",
   "metadata": {},
   "source": []
  },
  {
   "cell_type": "code",
   "execution_count": null,
   "metadata": {},
   "outputs": [],
   "source": []
  },
  {
   "cell_type": "code",
   "execution_count": null,
   "metadata": {},
   "outputs": [],
   "source": []
  },
  {
   "cell_type": "code",
   "execution_count": null,
   "metadata": {},
   "outputs": [],
   "source": []
  },
  {
   "cell_type": "code",
   "execution_count": null,
   "metadata": {},
   "outputs": [],
   "source": []
  },
  {
   "cell_type": "code",
   "execution_count": null,
   "metadata": {},
   "outputs": [],
   "source": []
  },
  {
   "cell_type": "code",
   "execution_count": null,
   "metadata": {},
   "outputs": [],
   "source": []
  },
  {
   "cell_type": "code",
   "execution_count": null,
   "metadata": {},
   "outputs": [],
   "source": []
  },
  {
   "cell_type": "code",
   "execution_count": null,
   "metadata": {},
   "outputs": [],
   "source": []
  },
  {
   "cell_type": "code",
   "execution_count": null,
   "metadata": {},
   "outputs": [],
   "source": []
  }
 ],
 "metadata": {
  "kernelspec": {
   "display_name": "solverenv",
   "language": "python",
   "name": "solverenv"
  },
  "language_info": {
   "codemirror_mode": {
    "name": "ipython",
    "version": 3
   },
   "file_extension": ".py",
   "mimetype": "text/x-python",
   "name": "python",
   "nbconvert_exporter": "python",
   "pygments_lexer": "ipython3",
   "version": "3.8.18"
  }
 },
 "nbformat": 4,
 "nbformat_minor": 2
}
