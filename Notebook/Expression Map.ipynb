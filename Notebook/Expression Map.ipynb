{
 "cells": [
  {
   "cell_type": "code",
   "execution_count": 2,
   "metadata": {},
   "outputs": [],
   "source": [
    "%matplotlib inline\n",
    "\n",
    "import numpy as np # NUMPY\n",
    "import pandas as pd # PANDAS\n",
    "import matplotlib.pyplot as plt # MATPLOTLIB\n",
    "import seaborn as sns # SEABORN\n",
    "import scipy\n",
    "import sklearn\n",
    "from sklearn.decomposition import PCA\n",
    "import cv2\n",
    "import os \n",
    "from skimage import filters\n",
    "from scipy import ndimage"
   ]
  },
  {
   "cell_type": "markdown",
   "metadata": {},
   "source": [
    "# Vamos a escribir un expression map, primero con us Self Organizing Map"
   ]
  },
  {
   "cell_type": "code",
   "execution_count": null,
   "metadata": {},
   "outputs": [],
   "source": [
    "\n"
   ]
  },
  {
   "cell_type": "code",
   "execution_count": 3,
   "metadata": {},
   "outputs": [],
   "source": [
    "b_shape = pd.read_csv('pca_shapepoints.csv',header = None)\n",
    "b_structure = pd.read_csv('pca_structurepoints.csv',header = None)\n",
    "b_cartoon = pd.read_csv('pca_cartoonpoints.csv',header = None)\n",
    "b_texture = pd.read_csv('pca_texturepoints.csv',header = None)"
   ]
  },
  {
   "cell_type": "code",
   "execution_count": 4,
   "metadata": {},
   "outputs": [],
   "source": [
    "cant_frames_per_seq = pd.read_csv('ckmock_landmark_FramePerSeq.csv',header = None)\n",
    "cant_frames_per_seq = np.asarray(cant_frames_per_seq).flatten()\n",
    "cant_frames_per_seq\n",
    "\n",
    "first_frames = [0]\n",
    "for i in cant_frames_per_seq:\n",
    "    current = first_frames[-1] + i\n",
    "    first_frames.append(current)"
   ]
  },
  {
   "cell_type": "code",
   "execution_count": 5,
   "metadata": {},
   "outputs": [
    {
     "data": {
      "text/plain": [
       "[0, 16, 38, 52, 73, 93, 106, 125, 141]"
      ]
     },
     "execution_count": 5,
     "metadata": {},
     "output_type": "execute_result"
    }
   ],
   "source": [
    "first_frames[0:9]"
   ]
  },
  {
   "cell_type": "code",
   "execution_count": 6,
   "metadata": {},
   "outputs": [],
   "source": [
    "b_shape = b_shape[0:154]\n",
    "b_structure = b_structure[0:154]"
   ]
  },
  {
   "cell_type": "code",
   "execution_count": 7,
   "metadata": {},
   "outputs": [],
   "source": [
    "b_vector = np.concatenate((b_shape, b_structure), axis = 1)\n",
    "b_vector = np.concatenate((b_vector, b_cartoon), axis = 1)\n",
    "b_vector = np.concatenate((b_vector, b_texture), axis = 1)"
   ]
  },
  {
   "cell_type": "code",
   "execution_count": 8,
   "metadata": {},
   "outputs": [
    {
     "data": {
      "text/plain": [
       "(154, 86)"
      ]
     },
     "execution_count": 8,
     "metadata": {},
     "output_type": "execute_result"
    }
   ],
   "source": [
    " b_vector.shape"
   ]
  },
  {
   "cell_type": "code",
   "execution_count": 9,
   "metadata": {},
   "outputs": [],
   "source": [
    "emotion_targets = np.zeros(154, dtype=int)\n",
    "emotion_targets[0] = 0\n",
    "emotion_targets[1:16] = 6\n",
    "emotion_targets[16] = 0\n",
    "emotion_targets[17:38] = 5\n",
    "emotion_targets[38] = 0\n",
    "emotion_targets[39:52] = 3\n",
    "emotion_targets[52] = 0\n",
    "emotion_targets[53:73] = 1\n",
    "emotion_targets[73] = 0\n",
    "emotion_targets[74:93] = 2\n",
    "emotion_targets[93] = 0\n",
    "emotion_targets[94:106] = 4\n",
    "emotion_targets[106] = 0\n",
    "emotion_targets[107:125] = 6\n",
    "emotion_targets[125] = 0\n",
    "emotion_targets[126:141] = 5\n",
    "emotion_targets[141] = 0\n",
    "emotion_targets[142:154] = 2\n"
   ]
  },
  {
   "cell_type": "code",
   "execution_count": null,
   "metadata": {},
   "outputs": [],
   "source": []
  },
  {
   "cell_type": "code",
   "execution_count": 10,
   "metadata": {},
   "outputs": [],
   "source": [
    "\n",
    "emotion_targets = emotion_targets.reshape((154,1))"
   ]
  },
  {
   "cell_type": "code",
   "execution_count": 11,
   "metadata": {},
   "outputs": [],
   "source": [
    "#b_vector = np.concatenate((b_vector, emotion_targets), axis = 1)\n",
    "#b_vector.shape"
   ]
  },
  {
   "cell_type": "code",
   "execution_count": 12,
   "metadata": {},
   "outputs": [],
   "source": [
    "target = emotion_targets\n",
    "label_names ={0: 'Neutral',1:'Anger',2:'Disgust',3:'Fear',4:'Happy',5:'Sadness',6:'Surprise'}"
   ]
  },
  {
   "cell_type": "code",
   "execution_count": 13,
   "metadata": {},
   "outputs": [
    {
     "data": {
      "text/plain": [
       "array([0, 6, 6, 6, 6, 6, 6, 6, 6, 6, 6, 6, 6, 6, 6, 6, 0, 5, 5, 5, 5, 5,\n",
       "       5, 5, 5, 5, 5, 5, 5, 5, 5, 5, 5, 5, 5, 5, 5, 5, 0, 3, 3, 3, 3, 3,\n",
       "       3, 3, 3, 3, 3, 3, 3, 3, 0, 1, 1, 1, 1, 1, 1, 1, 1, 1, 1, 1, 1, 1,\n",
       "       1, 1, 1, 1, 1, 1, 1, 0, 2, 2, 2, 2, 2, 2, 2, 2, 2, 2, 2, 2, 2, 2,\n",
       "       2, 2, 2, 2, 2, 0, 4, 4, 4, 4, 4, 4, 4, 4, 4, 4, 4, 4, 0, 6, 6, 6,\n",
       "       6, 6, 6, 6, 6, 6, 6, 6, 6, 6, 6, 6, 6, 6, 6, 0, 5, 5, 5, 5, 5, 5,\n",
       "       5, 5, 5, 5, 5, 5, 5, 5, 5, 0, 2, 2, 2, 2, 2, 2, 2, 2, 2, 2, 2, 2])"
      ]
     },
     "execution_count": 13,
     "metadata": {},
     "output_type": "execute_result"
    }
   ],
   "source": [
    "target = target.flatten()\n",
    "target"
   ]
  },
  {
   "cell_type": "code",
   "execution_count": 14,
   "metadata": {},
   "outputs": [
    {
     "name": "stdout",
     "output_type": "stream",
     "text": [
      "Training...\n",
      "\n",
      "...ready!\n"
     ]
    }
   ],
   "source": [
    "import minisom\n",
    "### Initialization and training ###\n",
    "som = minisom.MiniSom(8,8,86,sigma=1.5,learning_rate=0.5)#hay 8x8 neuronas(64)\n",
    "som.random_weights_init(b_vector)\n",
    "print(\"Training...\")\n",
    "som.train_random(b_vector,1000) # training with 100 iterations\n",
    "print(\"\\n...ready!\")"
   ]
  },
  {
   "cell_type": "code",
   "execution_count": 15,
   "metadata": {},
   "outputs": [
    {
     "data": {
      "text/plain": [
       "0.0"
      ]
     },
     "execution_count": 15,
     "metadata": {},
     "output_type": "execute_result"
    }
   ],
   "source": [
    "som.topographic_error(b_vector[:100])\n",
    "\n"
   ]
  },
  {
   "cell_type": "code",
   "execution_count": 85,
   "metadata": {},
   "outputs": [
    {
     "data": {
      "image/png": "[encoded data removed]",
      "text/plain": [
       "<Figure size 800x800 with 2 Axes>"
      ]
     },
     "metadata": {},
     "output_type": "display_data"
    }
   ],
   "source": [
    "import matplotlib.pyplot as plt\n",
    "%matplotlib inline\n",
    "\n",
    "plt.figure(figsize=(8, 8))\n",
    "\n",
    "plt.pcolor(som.distance_map().T, cmap='bone_r')  # plotting the distance map as background\n",
    "plt.colorbar()\n",
    "\n",
    "## Plotting the response for each pattern in the iris dataset\n",
    "## different colors and markers for each label\n",
    "markers = ['o','v', 'x', 'p', 'P','s','D' ]\n",
    "colors = ['C0', 'C1', 'C2', 'C3', 'C4','C5', 'C6']\n",
    "for cnt, xx in enumerate(b_vector):     \n",
    "    w = som.winner(xx)  # getting the winner  \n",
    "  \n",
    "    # palce a marker on the winning position for the sample xx\n",
    "    plt.plot(w[0]+.5, w[1]+.5, markers[target[cnt]], markerfacecolor='None',\n",
    "             markeredgecolor=colors[target[cnt]], markersize=12, markeredgewidth=2)\n",
    "\n",
    "plt.show()"
   ]
  },
  {
   "cell_type": "code",
   "execution_count": null,
   "metadata": {},
   "outputs": [],
   "source": [
    "dic = som.win_map(b_vector,return_indices=True )\n",
    "emotion_targets = emotion_targets.flatten()\n",
    "\n",
    "\n",
    "counters = []\n",
    "for key in dic:\n",
    "    space = np.zeros(len(dic[key]), dtype = int)\n",
    "    for i in range(0, len(dic[key])):\n",
    "        val = dic[key]       \n",
    "        space[i] = emotion_targets[val[i]]\n",
    "    counters.append(space)\n",
    "\n",
    "MyDic = {}\n",
    "\n",
    "for cnt, key in enumerate(dic):\n",
    "    MyDic[key] = max(counters[cnt])\n",
    "    "
   ]
  },
  {
   "cell_type": "code",
   "execution_count": 84,
   "metadata": {},
   "outputs": [
    {
     "data": {
      "image/png": "[encoded data removed]",
      "text/plain": [
       "<Figure size 800x800 with 2 Axes>"
      ]
     },
     "metadata": {},
     "output_type": "display_data"
    }
   ],
   "source": [
    "import matplotlib.pyplot as plt\n",
    "%matplotlib inline\n",
    "\n",
    "plt.figure(figsize=(8, 8))\n",
    "\n",
    "plt.pcolor(som.distance_map().T, cmap='bone_r')  # plotting the distance map as background\n",
    "plt.colorbar()\n",
    "\n",
    "## Plotting the response for each pattern in the iris dataset\n",
    "## different colors and markers for each label\n",
    "markers = ['o','v', 'x', 'p', 'P','s','D' ]\n",
    "colors = ['C0', 'C1', 'C2', 'C3', 'C4','C5', 'C6']\n",
    "\n",
    "for key in MyDic:\n",
    "    # palce a marker on the winning position for the sample xx\n",
    "    w = key    \n",
    "    plt.plot(w[0]+.5, w[1]+.5, markers[MyDic[key]], markerfacecolor='None',\n",
    "             markeredgecolor=colors[MyDic[key]], markersize=12, markeredgewidth=2)\n",
    "\n",
    "plt.show()\n",
    "#b_tuple = tuple(map(tuple, b_vector))\n",
    "\n",
    "\n",
    "\n",
    "#som.labels_map(b_vector, emotion_targets.flatten())"
   ]
  },
  {
   "cell_type": "code",
   "execution_count": 79,
   "metadata": {},
   "outputs": [
    {
     "data": {
      "text/plain": [
       "{(1, 7): 6,\n",
       " (7, 0): 6,\n",
       " (7, 1): 6,\n",
       " (3, 7): 5,\n",
       " (4, 7): 5,\n",
       " (5, 7): 5,\n",
       " (6, 7): 5,\n",
       " (7, 7): 5,\n",
       " (7, 6): 5,\n",
       " (4, 6): 3,\n",
       " (5, 5): 3,\n",
       " (6, 5): 3,\n",
       " (6, 4): 3,\n",
       " (7, 4): 3,\n",
       " (2, 2): 1,\n",
       " (1, 2): 1,\n",
       " (0, 3): 1,\n",
       " (0, 2): 1,\n",
       " (0, 1): 1,\n",
       " (0, 0): 1,\n",
       " (2, 4): 2,\n",
       " (1, 4): 2,\n",
       " (1, 5): 2,\n",
       " (0, 6): 2,\n",
       " (0, 5): 2,\n",
       " (3, 5): 4,\n",
       " (2, 6): 4,\n",
       " (7, 3): 4,\n",
       " (4, 1): 6,\n",
       " (4, 2): 6,\n",
       " (3, 2): 6,\n",
       " (3, 3): 6,\n",
       " (4, 3): 6,\n",
       " (4, 4): 6,\n",
       " (4, 0): 5,\n",
       " (3, 0): 5,\n",
       " (2, 0): 5,\n",
       " (5, 1): 0,\n",
       " (5, 0): 2}"
      ]
     },
     "execution_count": 79,
     "metadata": {},
     "output_type": "execute_result"
    }
   ],
   "source": [
    "\n",
    "MyDic"
   ]
  },
  {
   "cell_type": "code",
   "execution_count": null,
   "metadata": {},
   "outputs": [],
   "source": []
  },
  {
   "cell_type": "code",
   "execution_count": null,
   "metadata": {},
   "outputs": [],
   "source": []
  },
  {
   "cell_type": "code",
   "execution_count": null,
   "metadata": {
    "collapsed": true
   },
   "outputs": [],
   "source": []
  },
  {
   "cell_type": "code",
   "execution_count": 146,
   "metadata": {},
   "outputs": [
    {
     "data": {
      "text/plain": [
       "(8, 8, 86)"
      ]
     },
     "execution_count": 146,
     "metadata": {},
     "output_type": "execute_result"
    }
   ],
   "source": [
    "som.get_weights().shape # las weights finales son los patterns\n",
    "\n"
   ]
  },
  {
   "cell_type": "code",
   "execution_count": 87,
   "metadata": {},
   "outputs": [],
   "source": [
    "np.save('expmaptest.npy', som.get_weights(), allow_pickle=False)\n",
    "\n",
    "np.save('expmaplabels.npy', MyDic)"
   ]
  },
  {
   "cell_type": "code",
   "execution_count": null,
   "metadata": {},
   "outputs": [],
   "source": [
    "surprise\n",
    "sadness\n",
    "fear\n",
    "anger\n",
    "disgust\n",
    "happiness\n",
    "surprise\n",
    "sadness\n",
    "disgust"
   ]
  },
  {
   "cell_type": "code",
   "execution_count": null,
   "metadata": {},
   "outputs": [],
   "source": [
    "markers = ['Anger', 'Disgust', 'Fear', 'Happy', 'Sadness', 'Surprise'] "
   ]
  },
  {
   "cell_type": "code",
   "execution_count": 139,
   "metadata": {},
   "outputs": [
    {
     "ename": "SyntaxError",
     "evalue": "invalid syntax (1089313241.py, line 1)",
     "output_type": "error",
     "traceback": [
      "\u001b[0;36m  Cell \u001b[0;32mIn[139], line 1\u001b[0;36m\u001b[0m\n\u001b[0;31m    According to ck+\u001b[0m\n\u001b[0m              ^\u001b[0m\n\u001b[0;31mSyntaxError\u001b[0m\u001b[0;31m:\u001b[0m invalid syntax\n"
     ]
    }
   ],
   "source": [
    "According to ck+\n",
    "\n",
    "Anger = 1\n",
    "Contempt = 2 (no vemos)\n",
    "Disgust = 3\n",
    "Fear = 4\n",
    "Happy = 5\n",
    "Sadness =6\n",
    "Surprise =  7"
   ]
  },
  {
   "cell_type": "code",
   "execution_count": 138,
   "metadata": {},
   "outputs": [
    {
     "ename": "AttributeError",
     "evalue": "'MiniSom' object has no attribute 'values'",
     "output_type": "error",
     "traceback": [
      "\u001b[0;31m---------------------------------------------------------------------------\u001b[0m",
      "\u001b[0;31mAttributeError\u001b[0m                            Traceback (most recent call last)",
      "Cell \u001b[0;32mIn[138], line 1\u001b[0m\n\u001b[0;32m----> 1\u001b[0m \u001b[43msom\u001b[49m\u001b[38;5;241;43m.\u001b[39;49m\u001b[43mvalues\u001b[49m\n",
      "\u001b[0;31mAttributeError\u001b[0m: 'MiniSom' object has no attribute 'values'"
     ]
    }
   ],
   "source": [
    "som.values"
   ]
  },
  {
   "cell_type": "raw",
   "metadata": {},
   "source": []
  },
  {
   "cell_type": "code",
   "execution_count": null,
   "metadata": {},
   "outputs": [],
   "source": []
  },
  {
   "cell_type": "code",
   "execution_count": null,
   "metadata": {},
   "outputs": [],
   "source": [
    "\n"
   ]
  },
  {
   "cell_type": "code",
   "execution_count": null,
   "metadata": {},
   "outputs": [],
   "source": []
  },
  {
   "cell_type": "code",
   "execution_count": null,
   "metadata": {},
   "outputs": [],
   "source": []
  }
 ],
 "metadata": {
  "kernelspec": {
   "display_name": "solverenv",
   "language": "python",
   "name": "solverenv"
  },
  "language_info": {
   "codemirror_mode": {
    "name": "ipython",
    "version": 3
   },
   "file_extension": ".py",
   "mimetype": "text/x-python",
   "name": "python",
   "nbconvert_exporter": "python",
   "pygments_lexer": "ipython3",
   "version": "3.8.18"
  }
 },
 "nbformat": 4,
 "nbformat_minor": 2
}
