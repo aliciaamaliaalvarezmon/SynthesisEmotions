{
 "cells": [
  {
   "cell_type": "code",
   "execution_count": 2,
   "metadata": {},
   "outputs": [],
   "source": [
    "%matplotlib inline\n",
    "\n",
    "import numpy as np # NUMPY\n",
    "import pandas as pd # PANDAS\n",
    "import matplotlib.pyplot as plt # MATPLOTLIB\n",
    "import os \n",
    "from pathlib import Path\n",
    "import cv2"
   ]
  },
  {
   "cell_type": "code",
   "execution_count": 4,
   "metadata": {},
   "outputs": [],
   "source": [
    "import dlib\n",
    "\n",
    "\n",
    "subject_image =  '../ck+copytraining/' + 'extended-cohn-kanade-images/' + 'cohn-kanade-images/'+'S010/'+ '002/'+ 'S010_002_00000001.png'\n",
    "\n",
    "face_detector = dlib.get_frontal_face_detector()\n",
    "\n",
    "predictor = dlib.shape_predictor('shape_predictor_68_face_landmarks.dat')\n",
    "\n",
    "img = cv2.imread(subject_image)\n",
    "gray = cv2.cvtColor(img, cv2.COLOR_BGR2GRAY)\n",
    "\n",
    "coordinate_boxes = face_detector(gray, 1)\n",
    "\n",
    "face_landmark_got_points = []\n",
    "\n",
    "for c in coordinate_boxes:\n",
    "    x_init, y_init, x_fin, y_fin = c.left(), c.top(), c.right(), c.bottom()\n",
    "    cv2.rectangle(img, (x_init, y_init), (x_fin, y_fin), (0,255,0),1)\n",
    "    \n",
    "    shape = predictor(gray, c)\n",
    "    \n",
    "    for i in range(0,68):\n",
    "        x, y = shape.part(i).x, shape.part(i).y\n",
    "        face_landmark_got_points.append(np.asarray([x,y]))\n",
    "        cv2.circle(img, (x,y), 2, (255,0,0),-1)\n",
    "    \n",
    "face_landmark_got_points = np.asarray(face_landmark_got_points)\n",
    "\n",
    "data = pd.read_csv('../ck+copytraining/Landmarks/S010/002/S010_002_00000001_landmarks.txt', header = None)\n",
    "\n",
    "data\n",
    "        \n",
    "cv2.imshow(\"AAM Test\", img)\n",
    "# Pause screen to wait key from user to see result\n",
    "cv2.waitKey(0)\n",
    "cv2.destroyAllWindows()"
   ]
  },
  {
   "cell_type": "code",
   "execution_count": null,
   "metadata": {},
   "outputs": [],
   "source": [
    "face_landmark_got_points (bastante cercanos, vamos a poder usarlos )"
   ]
  }
 ],
 "metadata": {
  "kernelspec": {
   "display_name": "solverenv",
   "language": "python",
   "name": "solverenv"
  },
  "language_info": {
   "codemirror_mode": {
    "name": "ipython",
    "version": 3
   },
   "file_extension": ".py",
   "mimetype": "text/x-python",
   "name": "python",
   "nbconvert_exporter": "python",
   "pygments_lexer": "ipython3",
   "version": "3.8.18"
  }
 },
 "nbformat": 4,
 "nbformat_minor": 2
}
