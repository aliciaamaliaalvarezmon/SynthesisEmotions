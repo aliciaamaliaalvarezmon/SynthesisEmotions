{
 "cells": [
  {
   "cell_type": "code",
   "execution_count": 1,
   "metadata": {},
   "outputs": [],
   "source": [
    "%matplotlib inline\n",
    "\n",
    "import numpy as np # NUMPY\n",
    "import pandas as pd # PANDAS\n",
    "import matplotlib.pyplot as plt # MATPLOTLIB\n",
    "import seaborn as sns # SEABORN\n",
    "import scipy\n",
    "import sklearn\n",
    "import random as rd\n",
    "from sklearn.decomposition import PCA\n",
    "from IPython.display import display\n",
    "import cv2\n",
    "import os \n",
    "from pathlib import Path\n",
    "from random import randint\n",
    "from scipy.linalg import norm\n",
    "from math import atan"
   ]
  },
  {
   "cell_type": "code",
   "execution_count": null,
   "metadata": {},
   "outputs": [],
   "source": [
    "###Aca vamos a sacar los b de textura"
   ]
  },
  {
   "cell_type": "markdown",
   "metadata": {},
   "source": [
    "### primero agarramos la imagenes y las poneemos en array"
   ]
  },
  {
   "cell_type": "code",
   "execution_count": 2,
   "metadata": {},
   "outputs": [],
   "source": [
    "\n",
    "subjects_images = '../ck+copy/extended-cohn-kanade-images/cohn-kanade-images'\n",
    "sorted_subjects =   np.sort(os.listdir('../ck+copy/extended-cohn-kanade-images/cohn-kanade-images/')) # we probably need to not have the sorted\n",
    "\n",
    "images = []\n",
    "\n",
    "for subject in sorted_subjects:\n",
    "    one_subject_images = '../ck+copy/extended-cohn-kanade-images/cohn-kanade-images/' + str(subject)+ '/'\n",
    "    sorted_list = np.sort(os.listdir(one_subject_images)) #creo que este sort se puede quitar\n",
    "    images_per_subject = []\n",
    "    for emotion in sorted_list:\n",
    "        images__per_seqframe = []\n",
    "        subject_image_emotion = one_subject_images + str(emotion)\n",
    "        for i in range(0, len(os.listdir(subject_image_emotion))):\n",
    "            image = '../ck+copy/extended-cohn-kanade-images/cohn-kanade-images/' +  str(subject)+ '/' + str(emotion)+'/'+ str(subject)+ '_'+str(emotion)+'_'+ str(i+1).zfill(8)+'.png'\n",
    "            images__per_seqframe.append(image)        \n",
    "        images_per_subject.append(images__per_seqframe)\n",
    "    images.append(images_per_subject)   \n",
    "       "
   ]
  },
  {
   "cell_type": "code",
   "execution_count": 3,
   "metadata": {},
   "outputs": [],
   "source": [
    "for i in range(0, len(images)):\n",
    "    for j in range(0, len(images[i])):\n",
    "                images[i][j]= np.asarray( images[i][j], dtype=object)\n",
    "    images[i]= np.asarray( images[i], dtype=object)\n",
    "images= np.asarray( images, dtype=object)"
   ]
  },
  {
   "cell_type": "code",
   "execution_count": null,
   "metadata": {},
   "outputs": [],
   "source": []
  },
  {
   "cell_type": "markdown",
   "metadata": {},
   "source": []
  },
  {
   "cell_type": "code",
   "execution_count": 4,
   "metadata": {},
   "outputs": [
    {
     "data": {
      "text/plain": [
       "(965,)"
      ]
     },
     "execution_count": 4,
     "metadata": {},
     "output_type": "execute_result"
    }
   ],
   "source": [
    "all_images = []\n",
    "for i in range(0, len(images)):\n",
    "    for j in range(0, len(images[i])):\n",
    "        for r in range(0, len(images[i][j])):\n",
    "            all_images.append(images[i][j][r])\n",
    "        \n",
    "        \n",
    "all_images = np.asarray(all_images)\n",
    "all_images.shape\n",
    "#    stacked_array.append(np.vstack(tuple(images[i])))\n",
    "#stacked_array= np.asarray( stacked_array, dtype=object)\n",
    "#total_stacked_landmarkRawData = np.vstack(tuple(stacked_array))\n",
    "#print(total_stacked_landmarkRawData.shape)"
   ]
  },
  {
   "cell_type": "code",
   "execution_count": 5,
   "metadata": {},
   "outputs": [
    {
     "name": "stdout",
     "output_type": "stream",
     "text": [
      "(490, 640)\n"
     ]
    }
   ],
   "source": [
    "#See if loading image works\n",
    "img= cv2.imread(images[0][0][0])\n",
    "\n",
    "img =cv2.cvtColor(img, cv2.COLOR_BGR2GRAY)\n",
    "img_width, img_height = img.shape\n",
    "print(img.shape)\n",
    "\n",
    "cv2.imshow(\"Face landmark result\", img)\n",
    "\n",
    "# Pause screen to wait key from user to see result\n",
    "cv2.waitKey(0)\n",
    "cv2.destroyAllWindows()"
   ]
  },
  {
   "cell_type": "code",
   "execution_count": null,
   "metadata": {},
   "outputs": [],
   "source": []
  },
  {
   "cell_type": "markdown",
   "metadata": {},
   "source": [
    "### aca trate de alinear para el warp usando los ojos usando affine transformation, que usa 3 puntos,  y luego Delaunay triangulation para los 68, pero en el paper usan procustres que podemos usar para los 68 directamente, asi que luego de darme cuenta empeze con eso. Aca dejo este pedazo igual por ahora (falta delaunay)"
   ]
  },
  {
   "cell_type": "code",
   "execution_count": null,
   "metadata": {},
   "outputs": [],
   "source": []
  },
  {
   "cell_type": "code",
   "execution_count": 5,
   "metadata": {},
   "outputs": [],
   "source": [
    "#por ahora usamos numeros enteros, alineo los ojos a una altura y ancho\n",
    "left_eye_warp = np.array([ 0.3 * img_width, float(round(img_height / 3 ))]) \n",
    "right_eye_warp =np.array([ 0.7 * img_width , float(round(img_height / 3 ))])"
   ]
  },
  {
   "cell_type": "code",
   "execution_count": 6,
   "metadata": {},
   "outputs": [],
   "source": [
    "#Equilateral triangle\n",
    "def equilateral_point(left, right):\n",
    "    X, Y = left, right\n",
    "    M = (X + Y) / 2\n",
    "    O = (X - M) * 3**0.5\n",
    "    t = np.array([[0, -1], [1, 0]])   # 90 degree transformation matrix\n",
    "\n",
    "    thrid_point = M + O @ t\n",
    "    return thrid_point\n",
    "#\n",
    "#In []:\n",
    "#M + O @ t\n",
    "\n",
    "#Out[]:\n",
    "#array([1.5      , 1.8660254])\n",
    "\n",
    "#In []:\n",
    "#M + O @ t.T                       # the transpose gives -90\n",
    "\n",
    "#Out[]:\n",
    "#array([1.5      , 0.1339746])"
   ]
  },
  {
   "cell_type": "code",
   "execution_count": 7,
   "metadata": {},
   "outputs": [
    {
     "data": {
      "text/plain": [
       "array([245.        , 382.74097914])"
      ]
     },
     "execution_count": 7,
     "metadata": {},
     "output_type": "execute_result"
    }
   ],
   "source": [
    "third_point = equilateral_point(left_eye_warp, right_eye_warp)\n",
    "third_point"
   ]
  },
  {
   "cell_type": "code",
   "execution_count": null,
   "metadata": {},
   "outputs": [],
   "source": []
  },
  {
   "cell_type": "code",
   "execution_count": null,
   "metadata": {},
   "outputs": [],
   "source": []
  },
  {
   "cell_type": "code",
   "execution_count": 9,
   "metadata": {},
   "outputs": [
    {
     "data": {
      "text/plain": [
       "array([343., 213.])"
      ]
     },
     "execution_count": 9,
     "metadata": {},
     "output_type": "execute_result"
    }
   ],
   "source": [
    "right_eye_warp"
   ]
  },
  {
   "cell_type": "markdown",
   "metadata": {},
   "source": [
    "landmark_37(point 36) y landmark 46(45) son los corners de los ojos. Para mejor transformaciones usamos los landmarks intercalados"
   ]
  },
  {
   "cell_type": "code",
   "execution_count": 6,
   "metadata": {},
   "outputs": [],
   "source": [
    "my_landmarks = pd.read_csv('ckmock_landmark_intercalated_data.csv',header = None)"
   ]
  },
  {
   "cell_type": "code",
   "execution_count": 9,
   "metadata": {},
   "outputs": [],
   "source": [
    "even = np.asarray(my_landmarks.iloc[0][::2] )\n",
    "odds = np.asarray( my_landmarks.iloc[0][1::2] )\n",
    "\n",
    "\n",
    "\n",
    "left_eye_corner = np.array([even[36], odds[36]])\n",
    "right_eye_corner = np.array([even[45], odds[45]])\n",
    "\n",
    "\n",
    "third_point_corner = equilateral_point(left_eye_corner, right_eye_corner)\n",
    "\n"
   ]
  },
  {
   "cell_type": "code",
   "execution_count": null,
   "metadata": {},
   "outputs": [],
   "source": []
  },
  {
   "cell_type": "code",
   "execution_count": null,
   "metadata": {},
   "outputs": [],
   "source": []
  },
  {
   "cell_type": "code",
   "execution_count": null,
   "metadata": {},
   "outputs": [],
   "source": []
  },
  {
   "cell_type": "code",
   "execution_count": 10,
   "metadata": {},
   "outputs": [],
   "source": [
    "rows = 490\n",
    "cols = 640\n",
    "input_pts =  np.float32([left_eye_corner, right_eye_corner, third_point_corner])\n",
    "output_pts =  np.float32([left_eye_warp, right_eye_warp, third_point])\n",
    "M = cv2.getAffineTransform(input_pts , output_pts)\n",
    " \n",
    "# Apply the affine transformation using cv2.warpAffine()\n",
    "dst = cv2.warpAffine(img, M, (cols,rows))\n",
    " \n",
    "# Display the image\n",
    "out = cv2.hconcat([img, dst])\n",
    "cv2.imshow('Output', out)\n",
    "cv2.waitKey(0)\n",
    "cv2.destroyAllWindows()"
   ]
  },
  {
   "cell_type": "code",
   "execution_count": 12,
   "metadata": {},
   "outputs": [],
   "source": [
    "lan =[]\n",
    "for (a, b) in zip(even, odds):\n",
    "    lan.append([[a,b]])\n",
    "    \n",
    "#np.array([ [[x1, y1]], ..., [[xn, yn]] ])\n",
    "#dst=(np.dot(M[:,:2], a.T)+M[:,2].reshape(2,1)).T\n",
    "lan =np.asarray(lan)\n",
    "transformed_landmarks = cv2.transform(lan, M)"
   ]
  },
  {
   "cell_type": "code",
   "execution_count": 13,
   "metadata": {},
   "outputs": [
    {
     "data": {
      "text/plain": [
       "array([100.37205186, 223.13833075])"
      ]
     },
     "execution_count": 13,
     "metadata": {},
     "output_type": "execute_result"
    }
   ],
   "source": [
    "transformed_landmarks[0][0]"
   ]
  },
  {
   "cell_type": "code",
   "execution_count": 14,
   "metadata": {},
   "outputs": [
    {
     "data": {
      "text/plain": [
       "array([245.688  , 252.45154])"
      ]
     },
     "execution_count": 14,
     "metadata": {},
     "output_type": "execute_result"
    }
   ],
   "source": [
    "lan[0][0]"
   ]
  },
  {
   "cell_type": "code",
   "execution_count": 15,
   "metadata": {},
   "outputs": [],
   "source": [
    "#Lets draw the landmarks in the image before and after the warp\n",
    "for landmark in lan:\n",
    "    x, y = landmark[0][0], landmark[0][1]\n",
    "    cv2.circle(img, (int(x),int(y)), 1 , (255,0,0), -1)\n"
   ]
  },
  {
   "cell_type": "code",
   "execution_count": null,
   "metadata": {},
   "outputs": [],
   "source": [
    "cv2.imshow('Output', img)\n",
    "cv2.waitKey(0)\n",
    "cv2.destroyAllWindows()"
   ]
  },
  {
   "cell_type": "code",
   "execution_count": 20,
   "metadata": {},
   "outputs": [],
   "source": [
    "for landmark in transformed_landmarks:\n",
    "    x, y = landmark[0][0], landmark[0][1]\n",
    "    cv2.circle(dst, (int(x),int(y)), 1 , (255,0,0), -1)\n"
   ]
  },
  {
   "cell_type": "code",
   "execution_count": 21,
   "metadata": {},
   "outputs": [],
   "source": [
    "cv2.imshow('Output', dst)\n",
    "cv2.waitKey(0)\n",
    "cv2.destroyAllWindows()"
   ]
  },
  {
   "cell_type": "markdown",
   "metadata": {},
   "source": [
    "# Ahora vamos a hacerlo para todas las imagenes.\n",
    "Y luego vamos a ver lo de los restos de los puntos\n",
    "\n"
   ]
  },
  {
   "cell_type": "code",
   "execution_count": null,
   "metadata": {},
   "outputs": [],
   "source": [
    "#los puntos a coordinar\n",
    "left_eye_warp, right_eye_warp, third_point\n",
    "rows, cols #(490,640)\n",
    "all_images"
   ]
  },
  {
   "cell_type": "code",
   "execution_count": 34,
   "metadata": {},
   "outputs": [
    {
     "data": {
      "text/plain": [
       "(965, 136)"
      ]
     },
     "execution_count": 34,
     "metadata": {},
     "output_type": "execute_result"
    }
   ],
   "source": [
    "my_landmarks.shape"
   ]
  },
  {
   "cell_type": "code",
   "execution_count": 39,
   "metadata": {},
   "outputs": [],
   "source": [
    "transformed_landmarks_total = []\n",
    "for i in range(0, len(my_landmarks)):\n",
    "    even = np.asarray(my_landmarks.iloc[i][::2] )\n",
    "    odds = np.asarray( my_landmarks.iloc[i][1::2] )\n",
    "    left_eye_corner = np.array([even[36], odds[36]])\n",
    "    right_eye_corner = np.array([even[45], odds[45]])\n",
    "    third_point_corner = equilateral_point(left_eye_corner, right_eye_corner)\n",
    "\n",
    "    input_pts =  np.float32([left_eye_corner, right_eye_corner, third_point_corner])\n",
    "    output_pts =  np.float32([left_eye_warp, right_eye_warp, third_point])\n",
    "    M = cv2.getAffineTransform(input_pts , output_pts)\n",
    "    load_img = cv2.imread(all_images[i])\n",
    "    dst = cv2.warpAffine(load_img, M, (cols,rows))\n",
    "    lan =[]\n",
    "    for (a, b) in zip(even, odds):\n",
    "        lan.append([[a,b]])\n",
    "    lan =np.asarray(lan)\n",
    "    transformed_landmarks = cv2.transform(lan, M)\n",
    "    transformed_landmarks_total.append(transformed_landmarks)\n",
    "    filename = 'warped_image'+ str(i) + '.png'\n",
    "    path = '../ck+warped'\n",
    "    cv2.imwrite(os.path.join(path , filename), dst)\n",
    "  \n",
    "      \n",
    "transformed_landmarks_total = np.asarray(transformed_landmarks_total) "
   ]
  },
  {
   "cell_type": "code",
   "execution_count": 65,
   "metadata": {},
   "outputs": [
    {
     "data": {
      "text/plain": [
       "(965, 68, 1, 2)"
      ]
     },
     "execution_count": 65,
     "metadata": {},
     "output_type": "execute_result"
    }
   ],
   "source": [
    "transformed_landmarks_total.shape"
   ]
  },
  {
   "cell_type": "code",
   "execution_count": 68,
   "metadata": {},
   "outputs": [
    {
     "data": {
      "text/plain": [
       "131240"
      ]
     },
     "execution_count": 68,
     "metadata": {},
     "output_type": "execute_result"
    }
   ],
   "source": [
    "965*136"
   ]
  },
  {
   "cell_type": "code",
   "execution_count": 71,
   "metadata": {},
   "outputs": [],
   "source": [
    "transformed_landmarks_total =transformed_landmarks_total.flatten().reshape((965,136))\n",
    "transformed_landmarks_total.shape\n",
    "\n",
    "my_df = pd.DataFrame(transformed_landmarks_total)\n",
    "my_df.to_csv('transformed_landmarks_total.csv',header = False, index= False)"
   ]
  },
  {
   "cell_type": "code",
   "execution_count": 35,
   "metadata": {},
   "outputs": [
    {
     "data": {
      "text/plain": [
       "'../ck+copy/extended-cohn-kanade-images/cohn-kanade-images/S014/001/S014_001_00000011.png'"
      ]
     },
     "execution_count": 35,
     "metadata": {},
     "output_type": "execute_result"
    }
   ],
   "source": [
    "(deberriamos centrarlas tambien, pero al menos estan alineadas)"
   ]
  },
  {
   "cell_type": "code",
   "execution_count": 82,
   "metadata": {},
   "outputs": [
    {
     "data": {
      "text/plain": [
       "(136,)"
      ]
     },
     "execution_count": 82,
     "metadata": {},
     "output_type": "execute_result"
    }
   ],
   "source": [
    "mean_landmark_points = transformed_landmarks_total.mean(axis = 0)\n",
    "mean_landmark_points.shape"
   ]
  },
  {
   "cell_type": "code",
   "execution_count": 95,
   "metadata": {},
   "outputs": [
    {
     "data": {
      "text/plain": [
       "68"
      ]
     },
     "execution_count": 95,
     "metadata": {},
     "output_type": "execute_result"
    }
   ],
   "source": [
    "even = np.asarray(mean_landmark_points[::2] )\n",
    "odds = np.asarray( mean_landmark_points[1::2] )\n",
    "lan =[]\n",
    "for (a, b) in zip(even, odds):\n",
    "    lan.append([a,b])\n",
    "len(lan)"
   ]
  },
  {
   "cell_type": "code",
   "execution_count": 92,
   "metadata": {},
   "outputs": [
    {
     "data": {
      "text/plain": [
       "(111, 3)"
      ]
     },
     "execution_count": 92,
     "metadata": {},
     "output_type": "execute_result"
    }
   ],
   "source": [
    "tri = scipy.spatial.Delaunay(lan, furthest_site=False, incremental=False, qhull_options=None)\n",
    "\n",
    "tri.simplices.shape"
   ]
  },
  {
   "cell_type": "code",
   "execution_count": null,
   "metadata": {},
   "outputs": [],
   "source": [
    "we warp all the training face images to a\n",
    "reference shape using cubic polynomial function"
   ]
  },
  {
   "cell_type": "code",
   "execution_count": null,
   "metadata": {},
   "outputs": [],
   "source": [
    "For that, we first load the landmarks of the procustres analysis\n",
    "used before as the references points for the warp \n",
    "(we use the intercalated ones as for now)\n"
   ]
  },
  {
   "cell_type": "code",
   "execution_count": null,
   "metadata": {},
   "outputs": [],
   "source": []
  },
  {
   "cell_type": "code",
   "execution_count": null,
   "metadata": {},
   "outputs": [],
   "source": []
  },
  {
   "cell_type": "code",
   "execution_count": null,
   "metadata": {},
   "outputs": [],
   "source": []
  },
  {
   "cell_type": "code",
   "execution_count": null,
   "metadata": {},
   "outputs": [],
   "source": []
  },
  {
   "cell_type": "code",
   "execution_count": 16,
   "metadata": {},
   "outputs": [],
   "source": []
  },
  {
   "cell_type": "raw",
   "metadata": {},
   "source": []
  },
  {
   "cell_type": "code",
   "execution_count": null,
   "metadata": {},
   "outputs": [],
   "source": []
  },
  {
   "cell_type": "code",
   "execution_count": null,
   "metadata": {},
   "outputs": [],
   "source": [
    "Ahora vamos a hacer el wrap de todas las imagenes"
   ]
  },
  {
   "cell_type": "code",
   "execution_count": null,
   "metadata": {},
   "outputs": [],
   "source": [
    "Por ahora estoy usando la misma imagen que en procustres. Deberia usar generalizado para hallar la de menor diferencia y usar esta"
   ]
  },
  {
   "cell_type": "code",
   "execution_count": null,
   "metadata": {},
   "outputs": [],
   "source": []
  },
  {
   "cell_type": "code",
   "execution_count": null,
   "metadata": {},
   "outputs": [],
   "source": [
    "#Procustres"
   ]
  },
  {
   "cell_type": "code",
   "execution_count": 7,
   "metadata": {},
   "outputs": [],
   "source": [
    "\n",
    "\n",
    "\n",
    "        \n",
    "def opa(a, b):# a, b matrices de puntos [[],[],[]] a and b need to have same dimension\n",
    "    aT = a.mean(0) # column mean [[1,2,3],[1,2,3]]<-(1,2,3)\n",
    "    bT = b.mean(0)\n",
    "    A = a - aT  #We rest aT and bT to center the matrix (translation)\n",
    "    B = b - bT\n",
    "    aS = np.sum(A * A)**.5 #to see the scale, we first calculate square of squared sum\n",
    "    bS = np.sum(B * B)**.5\n",
    "    A /= aS  #we standarize the scale.\n",
    "    B /= bS\n",
    "    U, _, V = np.linalg.svd(np.dot(B.T, A)) # we get the principal values of the mult for getting the rotation more close \n",
    "    aR = np.dot(U, V) #<-the rotation matrix is the multiplication of these 2\n",
    "    if np.linalg.det(aR) < 0: # we rotate to the positive side\n",
    "        V[1] *= -1\n",
    "        aR = np.dot(U, V)\n",
    "    aS = aS / bS  #to scale A most similar to B, we divide the scale by sSvale\n",
    "    aT-= (bT.dot(aR) * aS) #to get the translation in B coordinates, rest b mean rotated to A, and scaled to A \n",
    "    aD = (np.sum((A - B.dot(aR))**2) / len(a))**.5  # the square distance (error)of the A and B rotated after scale and translation\n",
    "    return aR, aS, aT, aD #return aROtation, aScale, aTranslation, Adifference\n",
    "        \n",
    "def gpa(v, n=-1): #v is vector of images, n indicates index to reflect\n",
    "    if n < 0: \n",
    "        p = avg(v)\n",
    "    else:\n",
    "        p = v[n]\n",
    "    l = len(v) #quantity of images\n",
    "    r, s, t, d = np.ndarray((4, l), object) #4 array of len l, each a matrix\n",
    "    for i in range(l):\n",
    "        r[i], s[i], t[i], d[i] = opa(p, v[i]) \n",
    "    return r, s, t, d#<-calculates the matrix and the error for all images, you use the one with the smallest one (can iterate this)\n",
    "\n",
    "def avg(v): #given a vector of images, calculates average shape of images \n",
    "    v_= np.copy(v)\n",
    "    l = len(v_) \n",
    "    R, S, T = [list(np.zeros(l)) for _ in range(3)]\n",
    "    for i, j in np.ndindex(l, l): #hace la daptacion de cada i para cada j\n",
    "        r, s, t, _ = opa(v_[i], v_[j]) \n",
    "        R[j] += np.arccos(min(1, max(-1, np.trace(r[:1])))) * np.sign(r[1][0]) \n",
    "        S[j] += s \n",
    "        T[j] += t #ajusta rot, s y translacion en todo j con todo i\n",
    "    for i in range(l):#hace el avg dado todo j\n",
    "        a = R[i] / l\n",
    "        r = [np.cos(a), -np.sin(a)], [np.sin(a), np.cos(a)]\n",
    "        v_[i] = v_[i].dot(r) * (S[i] / l) + (T[i] / l) \n",
    "    return v_.mean(0)"
   ]
  },
  {
   "cell_type": "markdown",
   "metadata": {},
   "source": [
    "### Aca lo probamos con 1 imagen (procustres normal), con loa imagen en 0,0 como referencia"
   ]
  },
  {
   "cell_type": "code",
   "execution_count": 8,
   "metadata": {},
   "outputs": [],
   "source": [
    "my_landmarks = pd.read_csv('ckmock_landmark_intercalated_data.csv',header = None)\n",
    "even = np.asarray(my_landmarks.iloc[0][::2] )\n",
    "odds = np.asarray( my_landmarks.iloc[0][1::2] )\n",
    "\n",
    "even1 = np.asarray(my_landmarks.iloc[300][::2] )\n",
    "odds1 = np.asarray( my_landmarks.iloc[300][1::2] )"
   ]
  },
  {
   "cell_type": "code",
   "execution_count": 56,
   "metadata": {},
   "outputs": [],
   "source": [
    "lan =[]\n",
    "for (a, b) in zip(even, odds):\n",
    "    lan.append(np.asarray([a,b]))\n",
    "    \n"
   ]
  },
  {
   "cell_type": "code",
   "execution_count": 57,
   "metadata": {},
   "outputs": [],
   "source": [
    "lan1 =[]\n",
    "for (a, b) in zip(even1, odds1):\n",
    "    lan1.append(np.asarray([a,b]))\n",
    "    "
   ]
  },
  {
   "cell_type": "code",
   "execution_count": 64,
   "metadata": {},
   "outputs": [
    {
     "data": {
      "image/png": "[encoded data removed]",
      "text/plain": [
       "<Figure size 432x288 with 3 Axes>"
      ]
     },
     "metadata": {},
     "output_type": "display_data"
    }
   ],
   "source": [
    "import matplotlib.cm as cm \n",
    "\n",
    "# Open images...\n",
    "target_X_img = cv2.imread(all_images[0],0)\n",
    "input_Y_img = cv2.imread(all_images[300],0)\n",
    "\n",
    "# Landmark points - same number and order!\n",
    "# l eye, r eye, nose tip, l mouth, r mouth\n",
    "X_pts = np.asarray(lan)\n",
    "Y_pts = np.asarray(lan1)\n",
    "\n",
    "# Calculate transform via procrustes...\n",
    "\n",
    "r,s,tr, d= opa(X_pts,Y_pts)\n",
    "\n",
    "# Build and apply transform matrix...\n",
    "# Note: for affine need 2x3 (a,b,c,d,e,f) form\n",
    "R = np.eye(3)\n",
    "R[0:2,0:2] = r\n",
    "S = np.eye(3) * s\n",
    "S[2,2] = 1\n",
    "t = np.eye(3)\n",
    "t[0:2,2] = tr\n",
    "M = np.dot(np.dot(R,S),t.T).T\n",
    "tr_Y_img = cv2.warpAffine(input_Y_img,M[0:2,:],(490,640))\n",
    "\n",
    "#transform deberia hacer el a[1] = a[1].dot(r) * s + t\n",
    "Z_pts = Y_pts.dot(r) * s + tr\n",
    "# Confirm points...\n",
    "aY_pts = np.hstack((Y_pts,np.array(([np.ones(68)])).T))\n",
    "tr_Y_pts = np.dot(M,aY_pts.T).T\n",
    "\n",
    "# Show result - input transformed and superimposed on target...\n",
    "plt.figure() \n",
    "plt.subplot(1,3,1)\n",
    "plt.imshow(target_X_img,cmap=cm.gray)\n",
    "plt.plot(X_pts[:,0],X_pts[:,1],'bo',markersize=3)\n",
    "plt.axis('off')\n",
    "plt.subplot(1,3,2)\n",
    "plt.imshow(input_Y_img,cmap=cm.gray)\n",
    "plt.plot(Y_pts[:,0],Y_pts[:,1],'ro',markersize=3)\n",
    "plt.axis('off')\n",
    "plt.subplot(1,3,3)\n",
    "plt.imshow(target_X_img,cmap=cm.gray)\n",
    "plt.imshow(tr_Y_img,alpha=0.6,cmap=cm.gray)\n",
    "plt.plot(X_pts[:,0],X_pts[:,1],'bo',markersize=3) \n",
    "plt.plot(Z_pts[:,0],Z_pts[:,1],'ro',markersize=3) # same as...\n",
    "plt.plot(tr_Y_pts[:,0],tr_Y_pts[:,1],'gx',markersize=3)\n",
    "plt.axis('off')\n",
    "plt.show()"
   ]
  },
  {
   "cell_type": "code",
   "execution_count": null,
   "metadata": {},
   "outputs": [],
   "source": [
    "#Ahora hay uque hacerlo para todas las imagenes y ya estamos listos para TV transform (si usamos procustres generalizado es mejor porque vamos a usar la dhape + efectiva (- error))"
   ]
  },
  {
   "cell_type": "code",
   "execution_count": null,
   "metadata": {},
   "outputs": [],
   "source": []
  },
  {
   "cell_type": "markdown",
   "metadata": {},
   "source": [
    "### Ahora lo hacemos con todas las imagenes y guardamos imagenes y textura"
   ]
  },
  {
   "cell_type": "code",
   "execution_count": 10,
   "metadata": {},
   "outputs": [],
   "source": [
    "\n",
    "even = np.asarray(my_landmarks.iloc[0][::2] )\n",
    "odds = np.asarray( my_landmarks.iloc[0][1::2] )\n",
    "target_X_img = cv2.imread(all_images[0],0)\n",
    "lan =[]\n",
    "for (a, b) in zip(even, odds):\n",
    "    lan.append(np.asarray([a,b]))\n",
    "\n",
    "transformed_landmarks_total = []\n",
    "\n",
    "for i in range(0, len(my_landmarks)):\n",
    "    even1 = np.asarray(my_landmarks.iloc[i][::2] )\n",
    "    odds1 = np.asarray( my_landmarks.iloc[i][1::2] )\n",
    "    lan1 =[]\n",
    "    for (a, b) in zip(even1, odds1):\n",
    "        lan1.append(np.asarray([a,b]))\n",
    "    \n",
    "    X_pts = np.asarray(lan)\n",
    "    Y_pts = np.asarray(lan1)\n",
    "    \n",
    "    input_Y_img = cv2.imread(all_images[i])\n",
    "    \n",
    "    r,s,tr, d= opa(X_pts,Y_pts)\n",
    "\n",
    "    \n",
    "    # Build and apply transform matrix...\n",
    "    # Note: for affine need 2x3 (a,b,c,d,e,f) form\n",
    "    R = np.eye(3)\n",
    "    R[0:2,0:2] = r\n",
    "    S = np.eye(3) * s\n",
    "    S[2,2] = 1\n",
    "    t = np.eye(3)\n",
    "    t[0:2,2] = tr\n",
    "    M = np.dot(np.dot(R,S),t.T).T\n",
    "    tr_Y_img = cv2.warpAffine(input_Y_img,M[0:2,:],(700,700))\n",
    "\n",
    "    \n",
    "    #transform deberia hacer el a[1] = a[1].dot(r) * s + t\n",
    "    Z_pts = Y_pts.dot(r) * s + tr\n",
    " \n",
    "   \n",
    "\n",
    "    transformed_landmarks_total.append(Z_pts)\n",
    "    filename = 'warped_image_procustres_'+ str(i) + '.png'\n",
    "    path = '../ck+warped'\n",
    "    cv2.imwrite(os.path.join(path , filename), tr_Y_img)\n",
    "  \n",
    "      \n",
    "transformed_landmarks_total = np.asarray(transformed_landmarks_total) "
   ]
  },
  {
   "cell_type": "code",
   "execution_count": 9,
   "metadata": {},
   "outputs": [],
   "source": [
    "transformed_landmarks_total =transformed_landmarks_total.flatten().reshape((965,136))\n",
    "transformed_landmarks_total.shape\n",
    "\n",
    "my_df = pd.DataFrame(transformed_landmarks_total)\n",
    "my_df.to_csv('transformed_landmarks_procustres_total.csv',header = False, index= False)"
   ]
  },
  {
   "cell_type": "code",
   "execution_count": null,
   "metadata": {},
   "outputs": [],
   "source": [
    "Vamos a hacerlo con el general que da el error más chico"
   ]
  },
  {
   "cell_type": "code",
   "execution_count": 9,
   "metadata": {},
   "outputs": [],
   "source": [
    "\n",
    "even = np.asarray(my_landmarks.iloc[0][::2] )\n",
    "odds = np.asarray( my_landmarks.iloc[0][1::2] )\n",
    "target_X_img = cv2.imread(all_images[0],0)\n",
    "lan =[]\n",
    "for (a, b) in zip(even, odds):\n",
    "    lan.append(np.asarray([a,b]))\n",
    "\n",
    "transformed_landmarks_total = []\n",
    "lans  =[]\n",
    "\n",
    "for i in range(0, len(my_landmarks)):\n",
    "    even1 = np.asarray(my_landmarks.iloc[i][::2] )\n",
    "    odds1 = np.asarray( my_landmarks.iloc[i][1::2] )\n",
    "    lan1 =[]\n",
    "    for (a, b) in zip(even1, odds1):\n",
    "        lan1.append(np.asarray([a,b]))\n",
    "    \n",
    "    \n",
    "    \n",
    "    Y_pts = np.asarray(lan1)\n",
    "    lans.append(Y_pts)\n",
    "\n",
    "lans = np.asarray(lans)\n",
    "\n",
    "rV,sV,trV, dV= gpa(lans)\n",
    "M_index =  np.argmin(dV)\n",
    "\n",
    "for i in range(0, len(my_landmarks)):   \n",
    "    input_Y_img = cv2.imread(all_images[i])\n",
    "    Y_pts = lans[i]\n",
    "    \n",
    "    r = rV[M_index]\n",
    "    s = sV[M_index]\n",
    "    tr = trV[M_index]\n",
    "\n",
    "\n",
    "\n",
    "    \n",
    "    # Build and apply transform matrix...\n",
    "    # Note: for affine need 2x3 (a,b,c,d,e,f) form\n",
    "    R = np.eye(3)\n",
    "    R[0:2,0:2] = r\n",
    "    S = np.eye(3) * s\n",
    "    S[2,2] = 1\n",
    "    t = np.eye(3)\n",
    "    t[0:2,2] = tr\n",
    "    M = np.dot(np.dot(R,S),t.T).T\n",
    "    tr_Y_img = cv2.warpAffine(input_Y_img,M[0:2,:],(600,600))\n",
    "\n",
    "    \n",
    "    #transform deberia hacer el a[1] = a[1].dot(r) * s + t\n",
    "    Z_pts = Y_pts.dot(r) * s + tr\n",
    " \n",
    "   \n",
    "\n",
    "    transformed_landmarks_total.append(Z_pts)\n",
    "    filename = 'warped_image_gen_rocustres_'+ str(i) + '.png'\n",
    "    path = '../ck+warped'\n",
    "    cv2.imwrite(os.path.join(path , filename), tr_Y_img)\n",
    "  \n",
    "      \n",
    "transformed_landmarks_total = np.asarray(transformed_landmarks_total) "
   ]
  },
  {
   "cell_type": "code",
   "execution_count": 10,
   "metadata": {},
   "outputs": [],
   "source": [
    "transformed_landmarks_total =transformed_landmarks_total.flatten().reshape((965,136))\n",
    "transformed_landmarks_total.shape\n",
    "\n",
    "my_df = pd.DataFrame(transformed_landmarks_total)\n",
    "my_df.to_csv('transformed_landmarks_gen_procustres_total.csv',header = False, index= False)"
   ]
  },
  {
   "cell_type": "code",
   "execution_count": null,
   "metadata": {},
   "outputs": [],
   "source": [
    "\n",
    "def gpa_out(a):\n",
    "    g = gpa(a, -1) \n",
    "    D = [avg(a)]\n",
    "    for i in range(len(a)):\n",
    "        D.append(a[i].dot(g[0][i]) * g[1][i] + g[2][i])\n",
    "    return D, sum(g[3])/len(a), True \n",
    "plt(*gpa_out([arr1, arr2]))"
   ]
  },
  {
   "cell_type": "code",
   "execution_count": null,
   "metadata": {},
   "outputs": [],
   "source": [
    "Ahora (con las de gen_procustres por ahora) vamos a hacer el TV scree"
   ]
  },
  {
   "cell_type": "code",
   "execution_count": null,
   "metadata": {},
   "outputs": [],
   "source": [
    "Para eso hay que resoler un sistema SOCP"
   ]
  },
  {
   "cell_type": "code",
   "execution_count": null,
   "metadata": {},
   "outputs": [],
   "source": []
  },
  {
   "cell_type": "code",
   "execution_count": null,
   "metadata": {},
   "outputs": [],
   "source": []
  },
  {
   "cell_type": "code",
   "execution_count": null,
   "metadata": {},
   "outputs": [],
   "source": []
  },
  {
   "cell_type": "code",
   "execution_count": null,
   "metadata": {},
   "outputs": [],
   "source": [
    "def align_to_shape(image, labels, target, extend=1.0, rotate=False):\n",
    "  image = np.array(image)\n",
    "  labels = np.array(labels).astype(np.float32)\n",
    "  target = np.array(target).astype(np.float32)\n",
    "  m, _ = cv2.estimateAffinePartial2D(labels, target)\n",
    "  image_t = cv2.warpAffine(image, m, (128, 128))\n",
    "  labels_t = np.dot(labels, m[:,:2].T) + m[np.newaxis,:,2]\n",
    "  return image_t, labels_t"
   ]
  }
 ],
 "metadata": {
  "kernelspec": {
   "display_name": "Python 3",
   "language": "python",
   "name": "python3"
  },
  "language_info": {
   "codemirror_mode": {
    "name": "ipython",
    "version": 3
   },
   "file_extension": ".py",
   "mimetype": "text/x-python",
   "name": "python",
   "nbconvert_exporter": "python",
   "pygments_lexer": "ipython3",
   "version": "3.6.9"
  }
 },
 "nbformat": 4,
 "nbformat_minor": 2
}
