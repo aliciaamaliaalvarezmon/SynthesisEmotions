{
 "cells": [
  {
   "cell_type": "code",
   "execution_count": 4,
   "metadata": {},
   "outputs": [],
   "source": [
    "%matplotlib inline\n",
    "\n",
    "import numpy as np # NUMPY\n",
    "import pandas as pd # PANDAS\n",
    "import matplotlib.pyplot as plt # MATPLOTLIB\n",
    "import seaborn as sns # SEABORN\n",
    "import scipy\n",
    "import sklearn\n",
    "import random as rd\n",
    "from sklearn.decomposition import PCA\n",
    "from IPython.display import display\n",
    "import cv2\n",
    "import os \n",
    "from pathlib import Path"
   ]
  },
  {
   "cell_type": "code",
   "execution_count": null,
   "metadata": {},
   "outputs": [],
   "source": [
    "###Aca vamos a sacar los b de textura"
   ]
  },
  {
   "cell_type": "code",
   "execution_count": null,
   "metadata": {},
   "outputs": [],
   "source": []
  },
  {
   "cell_type": "code",
   "execution_count": 6,
   "metadata": {},
   "outputs": [],
   "source": [
    "\n",
    "subjects_images = '../ck+copy/extended-cohn-kanade-images/cohn-kanade-images'\n",
    "sorted_subjects =   np.sort(os.listdir('../ck+copy/extended-cohn-kanade-images/cohn-kanade-images/')) # we probably need to not have the sorted\n",
    "\n",
    "images = []\n",
    "\n",
    "for subject in sorted_subjects:\n",
    "    one_subject_images = '../ck+copy/extended-cohn-kanade-images/cohn-kanade-images/' + str(subject)+ '/'\n",
    "    sorted_list = np.sort(os.listdir(one_subject_images)) #creo que este sort se puede quitar\n",
    "    images_per_subject = []\n",
    "    for emotion in sorted_list:\n",
    "        images__per_seqframe = []\n",
    "        subject_image_emotion = one_subject_images + str(emotion)\n",
    "        for i in range(0, len(os.listdir(subject_image_emotion))):\n",
    "            image = '../ck+copy/Landmarks/' +  str(subject)+ '/' + str(emotion)+'/'+ str(subject)+ '_'+str(emotion)+'_'+ str(i+1).zfill(8)+'_landmarks.txt'\n",
    "            images__per_seqframe.append(image)        \n",
    "        images_per_subject.append(images__per_seqframe)\n",
    "    images.append(images_per_subject)   \n",
    "       "
   ]
  },
  {
   "cell_type": "code",
   "execution_count": 9,
   "metadata": {},
   "outputs": [
    {
     "data": {
      "text/plain": [
       "(29,)"
      ]
     },
     "execution_count": 9,
     "metadata": {},
     "output_type": "execute_result"
    }
   ],
   "source": []
  },
  {
   "cell_type": "code",
   "execution_count": null,
   "metadata": {},
   "outputs": [],
   "source": []
  }
 ],
 "metadata": {
  "kernelspec": {
   "display_name": "Python 3",
   "language": "python",
   "name": "python3"
  },
  "language_info": {
   "codemirror_mode": {
    "name": "ipython",
    "version": 3
   },
   "file_extension": ".py",
   "mimetype": "text/x-python",
   "name": "python",
   "nbconvert_exporter": "python",
   "pygments_lexer": "ipython3",
   "version": "3.6.9"
  }
 },
 "nbformat": 4,
 "nbformat_minor": 2
}
