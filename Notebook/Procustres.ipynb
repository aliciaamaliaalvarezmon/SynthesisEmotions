{
 "cells": [
  {
   "cell_type": "code",
   "execution_count": 1,
   "metadata": {},
   "outputs": [],
   "source": [
    "import cv2\n",
    "import numpy as np\n",
    "from random import randint\n"
   ]
  },
  {
   "cell_type": "code",
   "execution_count": 20,
   "metadata": {},
   "outputs": [],
   "source": [
    "\n",
    "def show_image(img):\n",
    "    '''\n",
    "    Displays an image\n",
    "    Args:\n",
    "        img(a NumPy array of type uint 8) an image to be\n",
    "        dsplayed\n",
    "    '''\n",
    "    \n",
    "    cv2.imshow('', img)\n",
    "    cv2.waitKey(5000)\n",
    "    \n",
    "def generate_color():\n",
    "    '''\n",
    "    Generates a random combination\n",
    "    of red, green and blue channels\n",
    "    Returns:\n",
    "        (r,g,b), a generated tuple\n",
    "    '''\n",
    "    col = []\n",
    "    for i in range(3):\n",
    "        col.append(randint(0, 255))\n",
    "        \n",
    "    return tuple(col)\n",
    "\n",
    "def create_test_set():\n",
    "    \n",
    "    #create canvas on which the triangles will be visualized\n",
    "    canvas = np.full([400,400], 255).astype('uint8')\n",
    "    \n",
    "    #convert to 3 channel RGB for fun colors!\n",
    "    canvas = cv2.cvtColor(canvas,cv2.COLOR_GRAY2RGB)\n",
    "    \n",
    "    #initialize triangles as sets of vertex coordinates (x,y)\n",
    "    triangles = []\n",
    "    #triangles.append(np.array([250,250, 250,150, 300,250]))\n",
    "    triangles.append(np.array([250,250, 250,150, 300,250]))\n",
    "    #tr1 translated by 50 points on both axis\n",
    "    triangles.append(triangles[0] - 50)\n",
    "    #tr1 shrinked and consequently translated as well\n",
    "    triangles.append((triangles[0] / 2).astype(np.int))\n",
    "    #tr1 rotated by 90 defrees annd translated by 20 pixels\n",
    "    triangles.append(np.array([250,250,150,250, 250, 200]) - 20)\n",
    "    #a random triangle\n",
    "    triangles.append(np.array([360,240, 370,100, 390, 240]))\n",
    "    \n",
    "    return canvas, triangles\n",
    "\n",
    "def draw_shapes(canvas, shapes):\n",
    "    '''\n",
    "    Draws shapes on canvas\n",
    "    Args:\n",
    "        canvas(a NumPy matrix), a background on which\n",
    "        shapes are drawn\n",
    "        shapes(list), shapes to be drawn\n",
    "    '''\n",
    "    \n",
    "    for sh in shapes:\n",
    "        pts = sh.reshape((-1,1,2))\n",
    "        color = generate_color()\n",
    "        cv2.polylines(canvas, [pts], True, color, 2)\n",
    "    \n",
    "    show_image(canvas)\n",
    "\n",
    "if __name__ == '__main__':\n",
    "    \n",
    "    canvas, triangles = create_test_set()\n",
    "    draw_shapes(canvas, triangles)\n",
    "    "
   ]
  },
  {
   "cell_type": "code",
   "execution_count": 21,
   "metadata": {},
   "outputs": [],
   "source": [
    "import numpy as np\n",
    "\n",
    "def get_translation(shape):\n",
    "#  '''\n",
    "#  Calculates a translation for x and y\n",
    "#  axis that centers shape around the\n",
    "#  origin\n",
    "#  Args:\n",
    "#    shape(2n x 1 NumPy array) an array \n",
    "#    containing x coodrinates of shape\n",
    "#    points as first column and y coords\n",
    "#    as second column\n",
    "#   Returns:\n",
    "#    translation([x,y]) a NumPy array with\n",
    "#    x and y translationcoordinates\n",
    "#  '''\n",
    "\n",
    "  mean_x = np.mean(shape[::2]).astype(np.int)#get even points from 0 pos (from 0 to end by step 2)\n",
    "  mean_y = np.mean(shape[1::2]).astype(np.int)#gets odd points form 1 pos\n",
    "  #mean_x = np.mean(shape[0:len(shape)/2-1]).astype(np.int)get even points from 0 pos (from 0 to end by step 2)\n",
    "#mean_y = np.mean(shape[len(shape)/2:len(shape)-1]).astype(np.int)\n",
    "  return np.array([mean_x, mean_y])\n",
    "\n",
    "def translate(shape):\n",
    "  '''\n",
    "  Translates shape to the origin\n",
    "  Args:\n",
    "    shape(2n x 1 NumPy array) an array \n",
    "    containing x coodrinates of shape\n",
    "    points as first column and y coords\n",
    "    as second column\n",
    "  '''\n",
    "  mean_x, mean_y = get_translation(shape)\n",
    "  shape[::2] -= mean_x\n",
    "  shape[1::2] -= mean_y\n",
    "  #shape[shape[0:len(shape)/2-1]] -= mean_x\n",
    "  #shape[len(shape)/2:len(shape)-1] -= mean_y"
   ]
  },
  {
   "cell_type": "code",
   "execution_count": 22,
   "metadata": {},
   "outputs": [],
   "source": [
    "from scipy.linalg import norm\n",
    "import numpy as np\n",
    "from math import atan\n",
    "\n",
    "def get_rotation_scale(reference_shape, shape):\n",
    "    '''\n",
    "    Calculates rotation and scale\n",
    "    that would optimally align shape\n",
    "    with reference shape\n",
    "    Args:\n",
    "        reference_shape(2nx1 NumPy array), a shape that\n",
    "        serves as reference for scaling and \n",
    "        alignment\n",
    "        \n",
    "        shape(2nx1 NumPy array), a shape that is scaled\n",
    "        and aligned\n",
    "        \n",
    "    Returns:\n",
    "        scale(float), a scaling factor\n",
    "        theta(float), a rotation angle in radians\n",
    "    '''\n",
    "    \n",
    "    a = np.dot(shape, reference_shape) / norm(reference_shape)**2\n",
    "    \n",
    "    #separate x and y for the sake of convenience\n",
    "    ref_x = reference_shape[::2]  # reference_shape[0:int(len(reference_shape)/2)]\n",
    "    ref_y = reference_shape[1::2]# reference_shape[int(len(reference_shape)/2):len(reference_shape)]\n",
    "    \n",
    "    x = shape[::2]#shape[0:int(len(shape)/2)]\n",
    "    y = shape[1::2]#shape(int(len(shape)/2): len(shape))\n",
    "    \n",
    "    b = np.sum(x*ref_y - ref_x*y) / norm(reference_shape)**2\n",
    "    \n",
    "    scale = np.sqrt(a**2+b**2)\n",
    "    theta = atan(b / max(a, 10**-10)) #avoid dividing by 0\n",
    "    \n",
    "    return round(scale,1), round(theta,2)"
   ]
  },
  {
   "cell_type": "code",
   "execution_count": 23,
   "metadata": {},
   "outputs": [
    {
     "data": {
      "text/plain": [
       "4"
      ]
     },
     "execution_count": 23,
     "metadata": {},
     "output_type": "execute_result"
    }
   ],
   "source": [
    "a =np.array([ 0, 1 ,2,3])\n",
    "len(a)"
   ]
  },
  {
   "cell_type": "code",
   "execution_count": 24,
   "metadata": {},
   "outputs": [
    {
     "data": {
      "text/plain": [
       "array([0, 1, 2, 3])"
      ]
     },
     "execution_count": 24,
     "metadata": {},
     "output_type": "execute_result"
    }
   ],
   "source": [
    "b = len(a)/2\n",
    "a[0:int(len(a))]"
   ]
  },
  {
   "cell_type": "code",
   "execution_count": 25,
   "metadata": {},
   "outputs": [],
   "source": [
    "from math import sin, cos\n",
    "import numpy as np\n",
    "\n",
    "def get_rotation_matrix(theta):\n",
    "    \n",
    "    return np.array([[cos(theta), -sin(theta)], [sin(theta), cos(theta)]])\n",
    "\n",
    "def scale(shape, scale):\n",
    "    \n",
    "    return shape / scale\n",
    "\n",
    "def rotate(shape, theta):\n",
    "    '''\n",
    "    Rotates a shape by angle theta\n",
    "    Assumes a shape is centered around \n",
    "    origin\n",
    "    Args:\n",
    "        shape(2nx1 NumPy array) an shape to be rotated\n",
    "        theta(float) angle in radians\n",
    "    Returns:\n",
    "        rotated_shape(2nx1 NumPy array) a rotated shape\n",
    "    '''\n",
    "    \n",
    "    matr = get_rotation_matrix(theta)\n",
    "    \n",
    "    #reshape so that dot product is eascily computed\n",
    "    temp_shape = shape.reshape((-1,2)).T\n",
    "    \n",
    "    #rotate\n",
    "    rotated_shape = np.dot(matr, temp_shape)\n",
    "    \n",
    "    return rotated_shape.T.reshape(-1)"
   ]
  },
  {
   "cell_type": "code",
   "execution_count": 26,
   "metadata": {},
   "outputs": [],
   "source": [
    "def procrustes_analysis(reference_shape, shape):\n",
    "    '''\n",
    "    Scales, and rotates a shape optimally to\n",
    "    be aligned with a reference shape\n",
    "    Args:\n",
    "        reference_shape(2nx1 NumPy array), a shape that\n",
    "        serves as reference alignment\n",
    "        \n",
    "        shape(2nx1 NumPy array), a shape that is aligned\n",
    "        \n",
    "    Returns:\n",
    "        aligned_shape(2nx1 NumPy array), an aligned shape\n",
    "        translated to the location of reference shape\n",
    "    '''\n",
    "    #copy both shapes in caseoriginals are needed later\n",
    "    temp_ref = np.copy(reference_shape)\n",
    "    temp_sh = np.copy(shape)\n",
    " \n",
    "    translate(temp_ref)\n",
    "    translate(temp_sh)\n",
    "    \n",
    "    #get scale and rotation\n",
    "    scale, theta = get_rotation_scale(temp_ref, temp_sh)\n",
    "    \n",
    "    #scale, rotate both shapes\n",
    "    temp_sh = temp_sh / scale\n",
    "    aligned_shape = rotate(temp_sh, theta)\n",
    "    \n",
    "    return aligned_shape"
   ]
  },
  {
   "cell_type": "code",
   "execution_count": 30,
   "metadata": {},
   "outputs": [
    {
     "ename": "error",
     "evalue": "/build/opencv-L2vuMj/opencv-3.2.0+dfsg/modules/imgproc/src/drawing.cpp:2407: error: (-215) p.checkVector(2, CV_32S) >= 0 in function polylines\n",
     "output_type": "error",
     "traceback": [
      "\u001b[0;31m---------------------------------------------------------------------------\u001b[0m",
      "\u001b[0;31merror\u001b[0m                                     Traceback (most recent call last)",
      "\u001b[0;32m<ipython-input-30-7920c85a98f2>\u001b[0m in \u001b[0;36m<module>\u001b[0;34m()\u001b[0m\n\u001b[1;32m     15\u001b[0m         \u001b[0mnew_shapes\u001b[0m\u001b[0;34m.\u001b[0m\u001b[0mappend\u001b[0m\u001b[0;34m(\u001b[0m\u001b[0mnew_shape\u001b[0m\u001b[0;34m)\u001b[0m\u001b[0;34m\u001b[0m\u001b[0;34m\u001b[0m\u001b[0m\n\u001b[1;32m     16\u001b[0m \u001b[0;34m\u001b[0m\u001b[0m\n\u001b[0;32m---> 17\u001b[0;31m     \u001b[0mdraw_shapes\u001b[0m\u001b[0;34m(\u001b[0m\u001b[0mcanvas\u001b[0m\u001b[0;34m,\u001b[0m \u001b[0mnew_shapes\u001b[0m\u001b[0;34m[\u001b[0m\u001b[0;36m0\u001b[0m\u001b[0;34m:\u001b[0m\u001b[0;36m2\u001b[0m\u001b[0;34m]\u001b[0m\u001b[0;34m)\u001b[0m\u001b[0;34m\u001b[0m\u001b[0;34m\u001b[0m\u001b[0m\n\u001b[0m",
      "\u001b[0;32m<ipython-input-20-19a507af17eb>\u001b[0m in \u001b[0;36mdraw_shapes\u001b[0;34m(canvas, shapes)\u001b[0m\n\u001b[1;32m     59\u001b[0m         \u001b[0mpts\u001b[0m \u001b[0;34m=\u001b[0m \u001b[0msh\u001b[0m\u001b[0;34m.\u001b[0m\u001b[0mreshape\u001b[0m\u001b[0;34m(\u001b[0m\u001b[0;34m(\u001b[0m\u001b[0;34m-\u001b[0m\u001b[0;36m1\u001b[0m\u001b[0;34m,\u001b[0m\u001b[0;36m1\u001b[0m\u001b[0;34m,\u001b[0m\u001b[0;36m2\u001b[0m\u001b[0;34m)\u001b[0m\u001b[0;34m)\u001b[0m\u001b[0;34m\u001b[0m\u001b[0;34m\u001b[0m\u001b[0m\n\u001b[1;32m     60\u001b[0m         \u001b[0mcolor\u001b[0m \u001b[0;34m=\u001b[0m \u001b[0mgenerate_color\u001b[0m\u001b[0;34m(\u001b[0m\u001b[0;34m)\u001b[0m\u001b[0;34m\u001b[0m\u001b[0;34m\u001b[0m\u001b[0m\n\u001b[0;32m---> 61\u001b[0;31m         \u001b[0mcv2\u001b[0m\u001b[0;34m.\u001b[0m\u001b[0mpolylines\u001b[0m\u001b[0;34m(\u001b[0m\u001b[0mcanvas\u001b[0m\u001b[0;34m,\u001b[0m \u001b[0;34m[\u001b[0m\u001b[0mpts\u001b[0m\u001b[0;34m]\u001b[0m\u001b[0;34m,\u001b[0m \u001b[0;32mTrue\u001b[0m\u001b[0;34m,\u001b[0m \u001b[0mcolor\u001b[0m\u001b[0;34m,\u001b[0m \u001b[0;36m2\u001b[0m\u001b[0;34m)\u001b[0m\u001b[0;34m\u001b[0m\u001b[0;34m\u001b[0m\u001b[0m\n\u001b[0m\u001b[1;32m     62\u001b[0m \u001b[0;34m\u001b[0m\u001b[0m\n\u001b[1;32m     63\u001b[0m     \u001b[0mshow_image\u001b[0m\u001b[0;34m(\u001b[0m\u001b[0mcanvas\u001b[0m\u001b[0;34m)\u001b[0m\u001b[0;34m\u001b[0m\u001b[0;34m\u001b[0m\u001b[0m\n",
      "\u001b[0;31merror\u001b[0m: /build/opencv-L2vuMj/opencv-3.2.0+dfsg/modules/imgproc/src/drawing.cpp:2407: error: (-215) p.checkVector(2, CV_32S) >= 0 in function polylines\n"
     ]
    }
   ],
   "source": [
    "if __name__ == '__main__':\n",
    "    \n",
    "    canvas, triangles = create_test_set()\n",
    "    #get translation of reference landmark\n",
    "    x,y = get_translation(triangles[0])\n",
    "    #create array for new shapes, append reference shape to it\n",
    "    new_shapes = []\n",
    "    new_shapes.append(triangles[0])\n",
    "    \n",
    "    #superimpose all shapes to reference shape\n",
    "    for i  in range(1,5):\n",
    "        new_shape = procrustes_analysis(triangles[0], triangles[i])\n",
    "        new_shape[::2] = new_shape[::2] + x\n",
    "        new_shape[1::2] = new_shape[1::2] + y\n",
    "        new_shapes.append(new_shape)\n",
    "    \n",
    "    draw_shapes(canvas, new_shapes[0:2])"
   ]
  },
  {
   "cell_type": "code",
   "execution_count": 28,
   "metadata": {},
   "outputs": [
    {
     "data": {
      "text/plain": [
       "[array([250, 250, 250, 150, 300, 250]),\n",
       " array([250., 250., 250., 150., 300., 250.]),\n",
       " array([250., 250., 250., 150., 300., 250.]),\n",
       " array([249.0270805 , 250.01352677, 248.94744783, 150.01355848,\n",
       "        299.02706464, 249.97371044]),\n",
       " array([262.75859417, 256.5078039 , 248.90842505, 140.36681902,\n",
       "        287.30870005, 251.78633153])]"
      ]
     },
     "execution_count": 28,
     "metadata": {},
     "output_type": "execute_result"
    }
   ],
   "source": [
    "new_shapes"
   ]
  },
  {
   "cell_type": "code",
   "execution_count": null,
   "metadata": {},
   "outputs": [],
   "source": []
  }
 ],
 "metadata": {
  "kernelspec": {
   "display_name": "Python 3",
   "language": "python",
   "name": "python3"
  },
  "language_info": {
   "codemirror_mode": {
    "name": "ipython",
    "version": 3
   },
   "file_extension": ".py",
   "mimetype": "text/x-python",
   "name": "python",
   "nbconvert_exporter": "python",
   "pygments_lexer": "ipython3",
   "version": "3.6.9"
  }
 },
 "nbformat": 4,
 "nbformat_minor": 2
}
