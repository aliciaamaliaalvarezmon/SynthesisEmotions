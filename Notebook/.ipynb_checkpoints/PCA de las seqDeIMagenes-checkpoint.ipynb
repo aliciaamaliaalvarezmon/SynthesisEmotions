{
 "cells": [
  {
   "cell_type": "code",
   "execution_count": 127,
   "metadata": {},
   "outputs": [],
   "source": [
    "%matplotlib inline\n",
    "\n",
    "import numpy as np # NUMPY\n",
    "import pandas as pd # PANDAS\n",
    "import matplotlib.pyplot as plt # MATPLOTLIB\n",
    "import seaborn as sns # SEABORN\n",
    "import scipy\n",
    "import sklearn\n",
    "import random as rd\n",
    "from sklearn.decomposition import PCA\n",
    "from IPython.display import display"
   ]
  },
  {
   "cell_type": "code",
   "execution_count": 109,
   "metadata": {},
   "outputs": [],
   "source": [
    "cantSeq = 3\n",
    "cantFramesxSeq = 4\n",
    "cantImg = cantSeq*cantFramesxSeq # 12\n",
    "l = 5 # cantidad de landmark points, 2l es 10 "
   ]
  },
  {
   "cell_type": "code",
   "execution_count": 71,
   "metadata": {},
   "outputs": [],
   "source": [
    "seqIm0 = frame0, frame1, frame2, frame3, frame4\n",
    "\n",
    "seqIm1 = frame0, frame1, frame2, frame3, frame4\n",
    "\n",
    "seqIm4 = frame0, frame1, frame2, frame3, frame4"
   ]
  },
  {
   "cell_type": "code",
   "execution_count": 72,
   "metadata": {},
   "outputs": [],
   "source": [
    "frame0 = np.random.randint(-5,5, size=10)\n",
    "frame1 = np.random.randint(-5,5, size=10)\n",
    "frame2 = np.random.randint(-5,5, size=10)\n",
    "frame3 = np.random.randint(-5,5, size=10)\n",
    "frame4 = np.random.randint(-5,5, size=10)\n",
    "frame5 = np.random.randint(-5,5, size=10)\n",
    "frame6 = np.random.randint(-5,5, size=10)\n",
    "frame7 = np.random.randint(-5,5, size=10)\n",
    "frame8 = np.random.randint(-5,5, size=10)\n",
    "frame9 = np.random.randint(-5,5, size=10)\n",
    "frame10 = np.random.randint(-5,5, size=10)\n",
    "frame11 = np.random.randint(-5,5, size=10)"
   ]
  },
  {
   "cell_type": "code",
   "execution_count": 73,
   "metadata": {},
   "outputs": [
    {
     "data": {
      "text/plain": [
       "array([ 3, -3,  1,  1, -2, -4,  4,  0, -1, -5])"
      ]
     },
     "execution_count": 73,
     "metadata": {},
     "output_type": "execute_result"
    }
   ],
   "source": [
    "frame0#los primeros 5 son x, los siguientes 5 son y (comprobar con dataset)"
   ]
  },
  {
   "cell_type": "code",
   "execution_count": 130,
   "metadata": {},
   "outputs": [
    {
     "data": {
      "text/html": [
       "<div>\n",
       "<style scoped>\n",
       "    .dataframe tbody tr th:only-of-type {\n",
       "        vertical-align: middle;\n",
       "    }\n",
       "\n",
       "    .dataframe tbody tr th {\n",
       "        vertical-align: top;\n",
       "    }\n",
       "\n",
       "    .dataframe thead th {\n",
       "        text-align: right;\n",
       "    }\n",
       "</style>\n",
       "<table border=\"1\" class=\"dataframe\">\n",
       "  <thead>\n",
       "    <tr style=\"text-align: right;\">\n",
       "      <th></th>\n",
       "      <th>frame0</th>\n",
       "      <th>frame1</th>\n",
       "      <th>frame2</th>\n",
       "      <th>frame3</th>\n",
       "      <th>frame4</th>\n",
       "      <th>frame5</th>\n",
       "      <th>frame6</th>\n",
       "      <th>frame7</th>\n",
       "      <th>frame8</th>\n",
       "      <th>frame9</th>\n",
       "      <th>frame10</th>\n",
       "      <th>frame11</th>\n",
       "    </tr>\n",
       "  </thead>\n",
       "  <tbody>\n",
       "    <tr>\n",
       "      <th>x0</th>\n",
       "      <td>55</td>\n",
       "      <td>47</td>\n",
       "      <td>43</td>\n",
       "      <td>45</td>\n",
       "      <td>43</td>\n",
       "      <td>51</td>\n",
       "      <td>16</td>\n",
       "      <td>25</td>\n",
       "      <td>20</td>\n",
       "      <td>18</td>\n",
       "      <td>18</td>\n",
       "      <td>12</td>\n",
       "    </tr>\n",
       "    <tr>\n",
       "      <th>x1</th>\n",
       "      <td>78</td>\n",
       "      <td>92</td>\n",
       "      <td>83</td>\n",
       "      <td>83</td>\n",
       "      <td>64</td>\n",
       "      <td>84</td>\n",
       "      <td>32</td>\n",
       "      <td>36</td>\n",
       "      <td>28</td>\n",
       "      <td>32</td>\n",
       "      <td>23</td>\n",
       "      <td>30</td>\n",
       "    </tr>\n",
       "    <tr>\n",
       "      <th>x2</th>\n",
       "      <td>48</td>\n",
       "      <td>47</td>\n",
       "      <td>59</td>\n",
       "      <td>63</td>\n",
       "      <td>60</td>\n",
       "      <td>52</td>\n",
       "      <td>67</td>\n",
       "      <td>64</td>\n",
       "      <td>50</td>\n",
       "      <td>59</td>\n",
       "      <td>73</td>\n",
       "      <td>64</td>\n",
       "    </tr>\n",
       "    <tr>\n",
       "      <th>y0</th>\n",
       "      <td>45</td>\n",
       "      <td>38</td>\n",
       "      <td>42</td>\n",
       "      <td>39</td>\n",
       "      <td>44</td>\n",
       "      <td>47</td>\n",
       "      <td>76</td>\n",
       "      <td>55</td>\n",
       "      <td>73</td>\n",
       "      <td>55</td>\n",
       "      <td>71</td>\n",
       "      <td>74</td>\n",
       "    </tr>\n",
       "    <tr>\n",
       "      <th>y1</th>\n",
       "      <td>89</td>\n",
       "      <td>68</td>\n",
       "      <td>64</td>\n",
       "      <td>65</td>\n",
       "      <td>73</td>\n",
       "      <td>75</td>\n",
       "      <td>94</td>\n",
       "      <td>79</td>\n",
       "      <td>106</td>\n",
       "      <td>93</td>\n",
       "      <td>93</td>\n",
       "      <td>97</td>\n",
       "    </tr>\n",
       "    <tr>\n",
       "      <th>y2</th>\n",
       "      <td>67</td>\n",
       "      <td>70</td>\n",
       "      <td>78</td>\n",
       "      <td>53</td>\n",
       "      <td>70</td>\n",
       "      <td>68</td>\n",
       "      <td>45</td>\n",
       "      <td>38</td>\n",
       "      <td>63</td>\n",
       "      <td>65</td>\n",
       "      <td>45</td>\n",
       "      <td>53</td>\n",
       "    </tr>\n",
       "  </tbody>\n",
       "</table>\n",
       "</div>"
      ],
      "text/plain": [
       "   frame0 frame1 frame2 frame3 frame4 frame5 frame6 frame7 frame8 frame9  \\\n",
       "x0     55     47     43     45     43     51     16     25     20     18   \n",
       "x1     78     92     83     83     64     84     32     36     28     32   \n",
       "x2     48     47     59     63     60     52     67     64     50     59   \n",
       "y0     45     38     42     39     44     47     76     55     73     55   \n",
       "y1     89     68     64     65     73     75     94     79    106     93   \n",
       "y2     67     70     78     53     70     68     45     38     63     65   \n",
       "\n",
       "   frame10 frame11  \n",
       "x0      18      12  \n",
       "x1      23      30  \n",
       "x2      73      64  \n",
       "y0      71      74  \n",
       "y1      93      97  \n",
       "y2      45      53  "
      ]
     },
     "execution_count": 130,
     "metadata": {},
     "output_type": "execute_result"
    }
   ],
   "source": [
    "frame = ['frame'+ str(i) for i in range(0,12)]\n",
    "xo =['x'+ str(i) for i in range(0,3)]\n",
    "yo =['y'+ str(i) for i in range(0,3)]\n",
    "\n",
    "\n",
    "data = pd.DataFrame(columns= frame, index = [*xo,*yo] )\n",
    "for flp in data.index:\n",
    "    data.loc[flp, 'frame0':'frame5'] = np.random.poisson(lam = rd.randrange(10,100), size=6)\n",
    "    data.loc[flp, 'frame6':'frame11'] = np.random.poisson(lam = rd.randrange(10,100), size=6)\n",
    "data"
   ]
  },
  {
   "cell_type": "code",
   "execution_count": 131,
   "metadata": {},
   "outputs": [
    {
     "data": {
      "text/plain": [
       "array([[ 1.46705511,  0.86481777, -1.3969614 , -0.70401877,  0.44597649,\n",
       "         0.62295671],\n",
       "       [ 0.93957462,  1.40094096, -1.52591168, -1.2009732 , -1.11494122,\n",
       "         0.87493919],\n",
       "       [ 0.67583438,  1.05629034,  0.02149171, -0.91699924, -1.41225888,\n",
       "         1.54689249],\n",
       "       [ 0.8077045 ,  1.05629034,  0.53729285, -1.12997971, -1.33792946,\n",
       "        -0.55296157],\n",
       "       [ 0.67583438,  0.32869458,  0.150442  , -0.77501226, -0.74329415,\n",
       "         0.87493919],\n",
       "       [ 1.20331487,  1.09458485, -0.88116027, -0.56203179, -0.59463532,\n",
       "         0.70695087],\n",
       "       [-1.10441228, -0.89672986,  1.05309398,  1.49677941,  0.81762356,\n",
       "        -1.22491487],\n",
       "       [-0.51099672, -0.74355181,  0.66624313,  0.00591612, -0.29731766,\n",
       "        -1.81287401],\n",
       "       [-0.84067203, -1.04990792, -1.13906083,  1.28379894,  1.70957654,\n",
       "         0.28698006],\n",
       "       [-0.97254215, -0.89672986,  0.02149171,  0.00591612,  0.74329415,\n",
       "         0.45496838],\n",
       "       [-0.97254215, -1.24138049,  1.82679568,  1.14181196,  0.74329415,\n",
       "        -1.22491487],\n",
       "       [-1.36815252, -0.97331889,  0.66624313,  1.35479243,  1.0406118 ,\n",
       "        -0.55296157]])"
      ]
     },
     "execution_count": 131,
     "metadata": {},
     "output_type": "execute_result"
    }
   ],
   "source": [
    "scaled_data = sklearn.preprocessing.scale(data.T)\n",
    "\n",
    "scaled_data"
   ]
  },
  {
   "cell_type": "code",
   "execution_count": 132,
   "metadata": {},
   "outputs": [
    {
     "data": {
      "text/plain": [
       "array([[ 1.88098046,  1.14508208, -0.82608898, -0.4413409 ,  0.44486173,\n",
       "        -0.09933239],\n",
       "       [ 2.84014249,  0.35824558, -0.27422325,  0.44556539, -0.39036822,\n",
       "        -0.06267472],\n",
       "       [ 2.29797512, -0.4040797 ,  1.14037089, -0.08592348, -0.2151664 ,\n",
       "         0.05574198],\n",
       "       [ 1.51280889, -1.72303321, -0.36516698, -0.00783561,  0.01140753,\n",
       "        -0.19627201],\n",
       "       [ 1.35924993, -0.3295628 ,  0.62864698, -0.08553367,  0.32946386,\n",
       "         0.19708458],\n",
       "       [ 2.06821507,  0.29766402, -0.26756651, -0.33724517, -0.17344599,\n",
       "         0.1012393 ],\n",
       "       [-2.6767368 , -0.35064485, -0.16303412, -0.31439776, -0.35765031,\n",
       "        -0.03032568],\n",
       "       [-1.3261888 , -1.33571988, -0.82027821,  0.60830819,  0.09998901,\n",
       "         0.19233951],\n",
       "       [-1.64159433,  2.23245711, -0.17338608,  0.12839698, -0.12098039,\n",
       "         0.14058243],\n",
       "       [-0.99094963,  0.73387386,  0.67435099,  0.56464766,  0.42795938,\n",
       "        -0.18073323],\n",
       "       [-2.83228094, -0.94730911,  0.1906766 , -0.41273672,  0.23171829,\n",
       "         0.0327256 ],\n",
       "       [-2.49162146,  0.32302689,  0.25569866, -0.06190492, -0.28778849,\n",
       "        -0.15037536]])"
      ]
     },
     "execution_count": 132,
     "metadata": {},
     "output_type": "execute_result"
    }
   ],
   "source": [
    "pca = PCA()\n",
    "pca.fit(scaled_data)\n",
    "pca_data= pca.transform(scaled_data)\n",
    "pca_data"
   ]
  },
  {
   "cell_type": "code",
   "execution_count": 133,
   "metadata": {},
   "outputs": [
    {
     "data": {
      "image/png": "[encoded data removed]",
      "text/plain": [
       "<Figure size 432x288 with 1 Axes>"
      ]
     },
     "metadata": {},
     "output_type": "display_data"
    }
   ],
   "source": [
    "pca_data\n",
    "pca_var=np.round(pca.explained_variance_ratio_* 100, decimals=1 )\n",
    "labels = ['PC'+ str(s) for s in range(1, len(pca_var)+1)]\n",
    "\n",
    "plt.bar(x= range(1, len(pca_var)+1), height = pca_var, tick_label= labels)\n",
    "plt.ylabel(\"Percentage of Variance\")\n",
    "plt.xlabel(\"Principal Components\")\n",
    "plt.title(\"Scree Plot\")\n",
    "plt.show()"
   ]
  },
  {
   "cell_type": "code",
   "execution_count": 135,
   "metadata": {},
   "outputs": [
    {
     "data": {
      "image/png": "[encoded data removed]",
      "text/plain": [
       "<Figure size 432x288 with 1 Axes>"
      ]
     },
     "metadata": {},
     "output_type": "display_data"
    }
   ],
   "source": [
    "fra_x = ['lfpx'+ str(s) for s in range(0, 3)]\n",
    "fra_y = ['lfpy'+ str(s) for s in range(0, 3)]\n",
    "pca_df = pd.DataFrame(pca_data, columns = labels, index = frame)\n",
    "pca_df\n",
    "\n",
    "plt.scatter(pca_df.PC1, pca_df.PC2)\n",
    "plt.title(\"\")\n",
    "plt.xlabel('PCA1- %'.format(pca_var[0]))\n",
    "plt.ylabel('PC2- %'.format(pca_var[1]))\n",
    "\n",
    "for sample in pca_df.index:\n",
    "    plt.annotate(sample, (pca_df.PC1.loc[sample], pca_df.PC2.loc[sample]))\n",
    "    \n",
    "plt.show()"
   ]
  },
  {
   "cell_type": "code",
   "execution_count": 140,
   "metadata": {},
   "outputs": [
    {
     "name": "stdout",
     "output_type": "stream",
     "text": [
      "x1    0.465786\n",
      "x0    0.455625\n",
      "dtype: float64\n"
     ]
    }
   ],
   "source": [
    "loading_scores = pd.Series(pca.components_[0], index = [*xo,*yo])\n",
    "sorting_loading_scores = loading_scores.abs().sort_values(ascending = False)\n",
    "\n",
    "top_10_genes = sorting_loading_scores[0:2].index.values\n",
    "\n",
    "print(loading_scores[top_10_genes])"
   ]
  },
  {
   "cell_type": "code",
   "execution_count": 54,
   "metadata": {},
   "outputs": [
    {
     "data": {
      "text/plain": [
       "[<matplotlib.lines.Line2D at 0x7f687677e390>]"
      ]
     },
     "execution_count": 54,
     "metadata": {},
     "output_type": "execute_result"
    },
    {
     "data": {
      "image/png": "[encoded data removed]",
      "text/plain": [
       "<Figure size 360x360 with 1 Axes>"
      ]
     },
     "metadata": {},
     "output_type": "display_data"
    }
   ],
   "source": [
    "\n",
    "plt.figure(figsize=(5, 5))\n",
    "plt.plot(difference_frame_1_0, difference_frame_2_0, 'bo' )\n"
   ]
  },
  {
   "cell_type": "code",
   "execution_count": null,
   "metadata": {},
   "outputs": [],
   "source": []
  },
  {
   "cell_type": "code",
   "execution_count": 24,
   "metadata": {},
   "outputs": [],
   "source": [
    "#We perform PCA in difference_frame taken from all training sequences"
   ]
  },
  {
   "cell_type": "code",
   "execution_count": null,
   "metadata": {},
   "outputs": [],
   "source": []
  }
 ],
 "metadata": {
  "kernelspec": {
   "display_name": "Python 3",
   "language": "python",
   "name": "python3"
  },
  "language_info": {
   "codemirror_mode": {
    "name": "ipython",
    "version": 3
   },
   "file_extension": ".py",
   "mimetype": "text/x-python",
   "name": "python",
   "nbconvert_exporter": "python",
   "pygments_lexer": "ipython3",
   "version": "3.6.9"
  }
 },
 "nbformat": 4,
 "nbformat_minor": 2
}
