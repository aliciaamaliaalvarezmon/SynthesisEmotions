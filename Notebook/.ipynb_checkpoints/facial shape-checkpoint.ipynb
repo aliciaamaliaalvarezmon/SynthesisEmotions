{
 "cells": [
  {
   "cell_type": "code",
   "execution_count": 1,
   "metadata": {},
   "outputs": [],
   "source": [
    "%matplotlib inline\n",
    "\n",
    "import numpy as np # NUMPY\n",
    "import pandas as pd # PANDAS\n",
    "import matplotlib.pyplot as plt # MATPLOTLIB\n",
    "import seaborn as sns # SEABORN\n",
    "import scipy\n",
    "import sklearn\n",
    "import random as rd\n",
    "from sklearn.decomposition import PCA\n",
    "from IPython.display import display\n",
    "import os \n",
    "from pathlib import Path\n",
    "import shutil \n"
   ]
  },
  {
   "cell_type": "code",
   "execution_count": null,
   "metadata": {},
   "outputs": [],
   "source": [
    "Assumptions :\n",
    "Each sequence displays one of the six basic emotional ex-\n",
    "pressions.\n",
    "\n",
    "The first frame of each sequence shows an expression-neutral face.\n",
    "\n",
    "The intensity of the expression increases over the\n",
    "frames.(others dont say the final is 1 .We do)"
   ]
  },
  {
   "cell_type": "code",
   "execution_count": null,
   "metadata": {},
   "outputs": [],
   "source": [
    "we need to understansd the landmarks (annotaste) and the aam for the test image (input images)"
   ]
  },
  {
   "cell_type": "code",
   "execution_count": null,
   "metadata": {},
   "outputs": [],
   "source": [
    "we have todo procustres and we need noormalization of the landmark differences,"
   ]
  }
 ],
 "metadata": {
  "kernelspec": {
   "display_name": "Python 3",
   "language": "python",
   "name": "python3"
  },
  "language_info": {
   "codemirror_mode": {
    "name": "ipython",
    "version": 3
   },
   "file_extension": ".py",
   "mimetype": "text/x-python",
   "name": "python",
   "nbconvert_exporter": "python",
   "pygments_lexer": "ipython3",
   "version": "3.6.9"
  }
 },
 "nbformat": 4,
 "nbformat_minor": 2
}
