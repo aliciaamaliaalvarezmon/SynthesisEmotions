{
 "cells": [
  {
   "cell_type": "code",
   "execution_count": 2,
   "metadata": {},
   "outputs": [],
   "source": [
    "%matplotlib inline\n",
    "\n",
    "import numpy as np # NUMPY\n",
    "import pandas as pd # PANDAS\n",
    "import matplotlib.pyplot as plt # MATPLOTLIB\n",
    "import seaborn as sns # SEABORN\n",
    "import scipy\n",
    "import sklearn\n",
    "from sklearn.decomposition import PCA\n",
    "import cv2\n",
    "import os \n",
    "from skimage import filters\n",
    "from scipy import ndimage"
   ]
  },
  {
   "cell_type": "code",
   "execution_count": null,
   "metadata": {},
   "outputs": [],
   "source": [
    "\n"
   ]
  },
  {
   "cell_type": "code",
   "execution_count": 5,
   "metadata": {},
   "outputs": [],
   "source": [
    "cant_frames_per_seq = pd.read_csv('cktraining_landmark_FramePerSeq.csv',header = None)\n",
    "cant_frames_per_seq = np.asarray(cant_frames_per_seq).flatten()\n",
    "\n",
    "subject_images = []\n",
    "warpimgpath = '../ck+warpedtraining'\n",
    "for i in range(0, len(os.listdir(warpimgpath))):\n",
    "    subject_images.append('../ck+warpedtraining/' + 'warped_image_procustres_' + str(i)+'.png')\n",
    "subject_images = np.asarray(subject_images)\n",
    "\n",
    "my_df = pd.DataFrame(subject_images)\n",
    "my_df.to_csv('cktraining_subject_images.csv',header = False, index= False)\n",
    "\n"
   ]
  },
  {
   "cell_type": "code",
   "execution_count": null,
   "metadata": {},
   "outputs": [],
   "source": []
  },
  {
   "cell_type": "code",
   "execution_count": null,
   "metadata": {},
   "outputs": [],
   "source": []
  },
  {
   "cell_type": "code",
   "execution_count": 5,
   "metadata": {},
   "outputs": [],
   "source": [
    "from skimage import filters\n",
    "\n",
    "def ComputeImageGradient(image, way):\n",
    "    if way == 0:\n",
    "        GradX = cv2.Sobel(image, ddepth=-1, dx=1, dy=0, borderType=cv2.BORDER_REFLECT)\n",
    "        GradY = cv2.Sobel(image, ddepth=-1, dx=0, dy=1, borderType=cv2.BORDER_REFLECT)\n",
    "        GradX[-1,:] = 0\n",
    "        GradY[:, -1] = 0 # Neumann boundary Condition\n",
    "    elif way == 1:\n",
    "        GradX, GradY = np.gradient(image)      \n",
    "        GradX[-1,:] = 0\n",
    "        GradY[:, -1] = 0 # Neumann boundary Condition     \n",
    "    elif way == 2: \n",
    "        Kx = -1*np.array([[-1,0,1]])\n",
    "        GradX = ndimage.convolve(img, Kx)\n",
    "        Ky = -1*np.array([[-1],[0],[1]])\n",
    "        GradY = ndimage.convolve(img, Ky)\n",
    "        GradX[-1,:] = 0\n",
    "        GradY[:, -1] = 0 # Neumann boundary Condition  \n",
    "    else:\n",
    "        print('not legal way')\n",
    "        GradY = np.zeros(image.shape)\n",
    "        GradX = np.zeros(image.shape)\n",
    "    return GradX, GradY\n",
    "\n",
    "\n",
    "#ComputeImageGradient(img,  0)\n",
    "#gradx\n",
    "\n"
   ]
  },
  {
   "cell_type": "code",
   "execution_count": 6,
   "metadata": {},
   "outputs": [],
   "source": [
    "from numpy import linalg as LA\n",
    "def ProximalF_Star(img_p1,img_p2):\n",
    "    inp1 = img_p1.flatten()    \n",
    "    inp2 = img_p2.flatten()# (313600,1)\n",
    "    p_total =  np.dstack((inp1, inp2)) # queda (1,313600,2)\n",
    "    p_total = p_total[0]\n",
    "\n",
    "    partial = np.zeros(len(p_total))\n",
    "    \n",
    "    partial = np.asarray(list(map(LA.norm, p_total))) # cada el de p_total la norma 2\n",
    "    partial = np.asarray(list(map(lambda e: max(1.0,e), partial)))\n",
    "    \n",
    "    partial = partial.reshape(img_p1.shape)\n",
    "    \n",
    "    output_img_p1 = img_p1 / partial\n",
    "    output_img_p2 = img_p1 / partial \n",
    "\n",
    "\n",
    "    return output_img_p1, output_img_p2\n"
   ]
  },
  {
   "cell_type": "code",
   "execution_count": 5,
   "metadata": {},
   "outputs": [
    {
     "data": {
      "text/plain": [
       "3.1622776601683795"
      ]
     },
     "execution_count": 5,
     "metadata": {},
     "output_type": "execute_result"
    }
   ],
   "source": [
    "LA.norm([1,3], ord = 2)"
   ]
  },
  {
   "cell_type": "code",
   "execution_count": 6,
   "metadata": {},
   "outputs": [
    {
     "data": {
      "text/plain": [
       "3.1622776601683795"
      ]
     },
     "execution_count": 6,
     "metadata": {},
     "output_type": "execute_result"
    }
   ],
   "source": [
    "(1**2+3**2)**(1/2)"
   ]
  },
  {
   "cell_type": "code",
   "execution_count": 7,
   "metadata": {},
   "outputs": [],
   "source": [
    "def ComputeDivergenceL(img_p1, img_p2, way=1, sp=[1,1]):\n",
    "    if way == 0 :\n",
    "        p1_dx =  cv2.Sobel(img_p1, ddepth=-1, dx=1, dy=0, borderType=cv2.BORDER_REFLECT)\n",
    "        p2_dy =  cv2.Sobel(img_p2, ddepth=-1, dx=0, dy=1, borderType=cv2.BORDER_REFLECT)\n",
    "        output_image = p1_dx + p2_dy\n",
    "    elif way == 1 :\n",
    "        width, height =img_p1.shape\n",
    "        inp1 = img_p1.flatten()\n",
    "        inp2 = img_p2.flatten()#no se si f o c\n",
    "        vector_field = np.array([inp1, inp2])\n",
    "        num_dims = 2        \n",
    "        output_image = np.ufunc.reduce(np.add, [np.gradient(vector_field[i], sp[i], axis =0) for i in range(num_dims)]) \n",
    "        output_image = output_image.reshape(width,height)        \n",
    "    return output_image"
   ]
  },
  {
   "cell_type": "code",
   "execution_count": 8,
   "metadata": {},
   "outputs": [],
   "source": [
    "def ProximalG(img_u, img_g, landa, tau):\n",
    "    resta = img_u - img_g    \n",
    "    output_image = np.zeros(img_u.shape)\n",
    "    \n",
    "    maskH = resta > landa*tau\n",
    "    maskL = resta < -1*(landa*tau)\n",
    "    maskB = np.abs(resta) <= landa*tau \n",
    "\n",
    "    lander = np.zeros(img_u.shape)\n",
    "    lander.fill(landa*tau)\n",
    "    \n",
    "    landerA = lander *maskH\n",
    "    imageA = img_u * maskH\n",
    "    landerB = lander * maskL\n",
    "    imageB = img_u * maskL    \n",
    "   \n",
    "    \n",
    "    imageA = imageA - landerA\n",
    "    imageB = imageB + landerB\n",
    "    imageC = img_g * maskB\n",
    "    \n",
    "    output_image  = imageA +imageB + imageC    \n",
    "\n",
    "    return output_image"
   ]
  },
  {
   "cell_type": "code",
   "execution_count": 9,
   "metadata": {},
   "outputs": [
    {
     "ename": "TypeError",
     "evalue": "ProximalG() takes 4 positional arguments but 5 were given",
     "output_type": "error",
     "traceback": [
      "\u001b[0;31m---------------------------------------------------------------------------\u001b[0m",
      "\u001b[0;31mTypeError\u001b[0m                                 Traceback (most recent call last)",
      "Cell \u001b[0;32mIn[9], line 6\u001b[0m\n\u001b[1;32m      4\u001b[0m resta \u001b[38;5;241m=\u001b[39m np\u001b[38;5;241m.\u001b[39masarray([[\u001b[38;5;241m1\u001b[39m,\u001b[38;5;241m-\u001b[39m\u001b[38;5;241m1\u001b[39m,\u001b[38;5;241m0.10\u001b[39m],[\u001b[38;5;241m0.5\u001b[39m,\u001b[38;5;241m0.15\u001b[39m,\u001b[38;5;241m-\u001b[39m\u001b[38;5;241m2\u001b[39m],[\u001b[38;5;241m0.09\u001b[39m,\u001b[38;5;241m-\u001b[39m\u001b[38;5;241m1\u001b[39m,\u001b[38;5;241m-\u001b[39m\u001b[38;5;241m6\u001b[39m]])\n\u001b[1;32m      5\u001b[0m img_u \u001b[38;5;241m=\u001b[39m np\u001b[38;5;241m.\u001b[39mzeros((\u001b[38;5;241m3\u001b[39m,\u001b[38;5;241m3\u001b[39m))\n\u001b[0;32m----> 6\u001b[0m j \u001b[38;5;241m=\u001b[39m\u001b[43mProximalG\u001b[49m\u001b[43m(\u001b[49m\u001b[43mimg_u\u001b[49m\u001b[43m,\u001b[49m\u001b[43m \u001b[49m\u001b[43mimg_g\u001b[49m\u001b[43m,\u001b[49m\u001b[43m \u001b[49m\u001b[43mlanda\u001b[49m\u001b[43m,\u001b[49m\u001b[43m \u001b[49m\u001b[43mtau\u001b[49m\u001b[43m,\u001b[49m\u001b[43m \u001b[49m\u001b[43mresta\u001b[49m\u001b[43m)\u001b[49m\n\u001b[1;32m      7\u001b[0m g \u001b[38;5;241m=\u001b[39mProximalGD(img_u, img_g, landa, tau, resta)\n\u001b[1;32m      8\u001b[0m j,g\n",
      "\u001b[0;31mTypeError\u001b[0m: ProximalG() takes 4 positional arguments but 5 were given"
     ]
    }
   ],
   "source": [
    "landa = 0.5\n",
    "tau = 0.5\n",
    "img_g = np.asarray([[3,3,3],[3,3,3],[3,3,3]])\n",
    "resta = np.asarray([[1,-1,0.10],[0.5,0.15,-2],[0.09,-1,-6]])\n",
    "img_u = np.zeros((3,3))\n",
    "j =ProximalG(img_u, img_g, landa, tau, resta)\n",
    "g =ProximalGD(img_u, img_g, landa, tau, resta)\n",
    "j,g"
   ]
  },
  {
   "cell_type": "code",
   "execution_count": 9,
   "metadata": {},
   "outputs": [],
   "source": [
    "def ProximalGD(img_u, img_g, landa, tau, resta):\n",
    "    #resta = img_u - img_g    \n",
    "    output_image = np.zeros(img_u.shape)\n",
    "    for i in range(0, len(img_u)):\n",
    "        for j in range(0, len(img_u[i])):            \n",
    "            if resta[i][j] > landa*tau :\n",
    "                output_image[i][j] = img_u[i][j] - (landa*tau)\n",
    "            elif resta[i][j] < -1*(landa*tau):\n",
    "                output_image[i][j] = img_u[i][j] + (landa*tau)\n",
    "            else: # si el modulo de la resta es menor a landa*tau\n",
    "                output_image[i][j] = img_g[i][j]\n",
    "    return output_image"
   ]
  },
  {
   "cell_type": "code",
   "execution_count": null,
   "metadata": {},
   "outputs": [],
   "source": [
    "\n"
   ]
  },
  {
   "cell_type": "code",
   "execution_count": null,
   "metadata": {},
   "outputs": [],
   "source": []
  },
  {
   "cell_type": "code",
   "execution_count": null,
   "metadata": {},
   "outputs": [],
   "source": []
  },
  {
   "cell_type": "code",
   "execution_count": 10,
   "metadata": {},
   "outputs": [],
   "source": [
    "def ProximalGL(img_u, img_g, landa, tau):\n",
    "    resta = img_u - img_g    \n",
    "    output_image = np.zeros(img_u.shape)\n",
    "    for i in range(0, len(img_u)):\n",
    "        for j in range(0, len(img_u[i])):            \n",
    "            if resta[i][j] > landa*tau :\n",
    "                output_image[i][j] = img_u[i][j] - (landa*tau)\n",
    "            elif resta[i][j] < -1*(landa*tau):\n",
    "                output_image[i][j] = img_u[i][j] + (landa*tau)\n",
    "            else: # si el modulo de la resta es menor a landa*tau\n",
    "                output_image[i][j] = img_g[i][j]\n",
    "    return output_image"
   ]
  },
  {
   "cell_type": "markdown",
   "metadata": {},
   "source": [
    "Vamos ahora si a tratar de hacer la decomposition con el paper"
   ]
  },
  {
   "cell_type": "code",
   "execution_count": 11,
   "metadata": {},
   "outputs": [],
   "source": [
    "def Chambolle_TV_L1(input_image, nb_iter, tau, sigma, landa, tetha, way):\n",
    "    # inicializacion\n",
    "    width, height  = input_image.shape\n",
    "    size_image = width * height\n",
    "    \n",
    "    u = input_image    \n",
    "    u_old = np.zeros(input_image.shape)    \n",
    "    p1 =  np.zeros(input_image.shape)# p = (p1, p2) o (px, py)\n",
    "    p2= np.zeros(input_image.shape)\n",
    "    img1 = np.zeros(input_image.shape)\n",
    "    img2 = np.zeros(input_image.shape)\n",
    "    GradX = np.zeros(input_image.shape)\n",
    "    GradY = np.zeros(input_image.shape)\n",
    "    \n",
    "    E = float('inf')\n",
    "    \n",
    "        \n",
    "    for it in range (1, nb_iter):\n",
    "        u_old = u\n",
    "        GradX, GradY = ComputeImageGradient(u, way) \n",
    "        im1 = p1+ sigma*GradX\n",
    "        im2 = p2 + sigma*GradY\n",
    "        p1, p2 = ProximalF_Star(im1,im2)        \n",
    "        div = ComputeDivergenceL(p1, p2)        \n",
    "        image1 = u + tau*div\n",
    "        u = ProximalG(image1, input_image, landa, tau)\n",
    "        u = u + tetha* (u - u_old)\n",
    "        \n",
    "        if( it % 10 == 0):\n",
    "            E_old = E\n",
    "            E = 0\n",
    "            GradX, GradY = ComputeImageGradient(u, way)\n",
    "            E += np.sum(landa * abs(u-input_image) + np.sqrt(GradX**2 + GradY**2))\n",
    "            E = E/size_image\n",
    "            if(abs(E-E_old) < 0.001): break\n",
    "    \n",
    "    return u\n"
   ]
  },
  {
   "cell_type": "code",
   "execution_count": 12,
   "metadata": {},
   "outputs": [],
   "source": [
    "def cartoonTexture_grey(input_image, landa, nb_iter_max=1000, tau=0.35, sigma=0.35, tetha =1.0, way =3):\n",
    "    \n",
    "    \n",
    "    cartoon = np.zeros(input_image.shape)    \n",
    "    cartoon = Chambolle_TV_L1(input_image, nb_iter_max, tau, sigma, landa, tetha, way)\n",
    "    \n",
    "    GradX = np.zeros(input_image.shape) \n",
    "    GradY = np.zeros(input_image.shape) \n",
    "    \n",
    "    BV_norm = 0.0\n",
    "    \n",
    "    GradX, GradY = ComputeImageGradient(cartoon, way)\n",
    "    \n",
    "    BV_norm += np.sum((GradX **2 + GradY **2)**(1/2))     \n",
    "    \n",
    "    \n",
    "    vLim = 20.0\n",
    "    \n",
    "    texture = np.zeros(input_image.shape)\n",
    "    \n",
    "    texture = input_image - cartoon\n",
    "    \n",
    "    texture  = (texture + vLim )*255.0 /(2.0* vLim)\n",
    "    maskL = texture  >= 0.0 # para que quede 0 cuando es menor a 0\n",
    "    texture = texture * maskL\n",
    "    texture[texture >255.0] =255.0 \n",
    "      \n",
    "    return cartoon, texture\n",
    "    \n"
   ]
  },
  {
   "cell_type": "markdown",
   "metadata": {},
   "source": [
    "Ahora tenemos los algoritmos vamos a\n",
    "\n",
    "1) conseguir los cartoon textura para todas las imagenes\n",
    "2) guardarlas en una database\n",
    "\n",
    " "
   ]
  },
  {
   "cell_type": "code",
   "execution_count": 13,
   "metadata": {},
   "outputs": [
    {
     "data": {
      "text/plain": [
       "(490, 640)"
      ]
     },
     "execution_count": 13,
     "metadata": {},
     "output_type": "execute_result"
    }
   ],
   "source": [
    "cant_frames_per_seq = pd.read_csv('cktraining_landmark_FramePerSeq.csv',header = None)\n",
    "cant_frames_per_seq = np.asarray(cant_frames_per_seq).flatten()\n",
    "\n",
    "subject_images = []\n",
    "warpimgpath = '../ck+warpedtraining'\n",
    "for i in range(0, len(os.listdir(warpimgpath))):\n",
    "    subject_images.append('../ck+warpedtraining/' + 'warped_image_procustres_' + str(i)+'.png')\n",
    "subject_images = np.asarray(subject_images)\n",
    "\n",
    "img = cv2.imread(subject_images[0])\n",
    "img = cv2.cvtColor(img, cv2.COLOR_BGR2GRAY)\n",
    "width, height = img.shape\n",
    "width, height"
   ]
  },
  {
   "cell_type": "code",
   "execution_count": 14,
   "metadata": {},
   "outputs": [],
   "source": [
    "subject_images = []\n",
    "warpimgpath = '../ck+warpedtraining'\n",
    "for i in range(0, len(os.listdir(warpimgpath))):\n",
    "    subject_images.append('../ck+warpedtraining/' + 'warped_image_procustres_' + str(i)+'.png')\n",
    "subject_images = np.asarray(subject_images)\n",
    "\n",
    "img = cv2.imread(subject_images[0])\n",
    "img = cv2.cvtColor(img, cv2.COLOR_BGR2GRAY)\n",
    "img = img[40:450, 170:580]\n",
    "cv2.imshow(\"Texture start\", img)\n",
    "# Pause screen to wait key from user to see result\n",
    "cv2.waitKey(0)\n",
    "cv2.destroyAllWindows()\n"
   ]
  },
  {
   "cell_type": "code",
   "execution_count": 20,
   "metadata": {},
   "outputs": [
    {
     "name": "stdout",
     "output_type": "stream",
     "text": [
      "(410, 410)\n"
     ]
    },
    {
     "data": {
      "text/plain": [
       "True"
      ]
     },
     "execution_count": 20,
     "metadata": {},
     "output_type": "execute_result"
    }
   ],
   "source": [
    "img = cv2.imread(subject_images[0])\n",
    "img = cv2.cvtColor(img, cv2.COLOR_BGR2GRAY)\n",
    "img2 = img[40:450, 170:580]\n",
    "print(img2.shape)\n",
    "cartoon, texture = cartoonTexture_grey(img2, 0.2, 50, 0.35, 0.35, 1.0, 0)\n",
    "cv2.imwrite(\"cartoon_training/cartoonimg\" + str(i) +\"lala\"+\".png\", cartoon)\n",
    "cv2.imwrite(\"texture_training/textureimg\" + str(i)+\"lala\"+\".png\", texture)"
   ]
  },
  {
   "cell_type": "code",
   "execution_count": 15,
   "metadata": {},
   "outputs": [
    {
     "name": "stdout",
     "output_type": "stream",
     "text": [
      "(410, 410)\n",
      "(410, 410)\n",
      "(410, 410)\n",
      "(410, 410)\n",
      "(410, 410)\n",
      "(410, 410)\n",
      "(410, 410)\n",
      "(410, 410)\n",
      "(410, 410)\n",
      "(410, 410)\n",
      "(410, 410)\n",
      "(410, 410)\n",
      "(410, 410)\n",
      "(410, 410)\n",
      "(410, 410)\n",
      "(410, 410)\n",
      "(410, 410)\n",
      "(410, 410)\n",
      "(410, 410)\n",
      "(410, 410)\n",
      "(410, 410)\n",
      "(410, 410)\n",
      "(410, 410)\n",
      "(410, 410)\n",
      "(410, 410)\n",
      "(410, 410)\n",
      "(410, 410)\n",
      "(410, 410)\n",
      "(410, 410)\n",
      "(410, 410)\n",
      "(410, 410)\n",
      "(410, 410)\n",
      "(410, 410)\n",
      "(410, 410)\n",
      "(410, 410)\n",
      "(410, 410)\n",
      "(410, 410)\n",
      "(410, 410)\n",
      "(410, 410)\n",
      "(410, 410)\n",
      "(410, 410)\n",
      "(410, 410)\n",
      "(410, 410)\n",
      "(410, 410)\n",
      "(410, 410)\n",
      "(410, 410)\n",
      "(410, 410)\n",
      "(410, 410)\n",
      "(410, 410)\n",
      "(410, 410)\n",
      "(410, 410)\n",
      "(410, 410)\n",
      "(410, 410)\n",
      "(410, 410)\n",
      "(410, 410)\n",
      "(410, 410)\n",
      "(410, 410)\n",
      "(410, 410)\n",
      "(410, 410)\n",
      "(410, 410)\n",
      "(410, 410)\n",
      "(410, 410)\n",
      "(410, 410)\n",
      "(410, 410)\n",
      "(410, 410)\n",
      "(410, 410)\n",
      "(410, 410)\n",
      "(410, 410)\n",
      "(410, 410)\n",
      "(410, 410)\n",
      "(410, 410)\n",
      "(410, 410)\n",
      "(410, 410)\n",
      "(410, 410)\n",
      "(410, 410)\n",
      "(410, 410)\n",
      "(410, 410)\n",
      "(410, 410)\n",
      "(410, 410)\n",
      "(410, 410)\n",
      "(410, 410)\n",
      "(410, 410)\n",
      "(410, 410)\n",
      "(410, 410)\n",
      "(410, 410)\n",
      "(410, 410)\n",
      "(410, 410)\n",
      "(410, 410)\n",
      "(410, 410)\n",
      "(410, 410)\n",
      "(410, 410)\n",
      "(410, 410)\n",
      "(410, 410)\n",
      "(410, 410)\n",
      "(410, 410)\n",
      "(410, 410)\n",
      "(410, 410)\n",
      "(410, 410)\n",
      "(410, 410)\n",
      "(410, 410)\n",
      "(410, 410)\n",
      "(410, 410)\n",
      "(410, 410)\n",
      "(410, 410)\n",
      "(410, 410)\n",
      "(410, 410)\n",
      "(410, 410)\n",
      "(410, 410)\n",
      "(410, 410)\n",
      "(410, 410)\n",
      "(410, 410)\n",
      "(410, 410)\n",
      "(410, 410)\n",
      "(410, 410)\n",
      "(410, 410)\n",
      "(410, 410)\n",
      "(410, 410)\n",
      "(410, 410)\n",
      "(410, 410)\n",
      "(410, 410)\n",
      "(410, 410)\n",
      "(410, 410)\n",
      "(410, 410)\n",
      "(410, 410)\n",
      "(410, 410)\n",
      "(410, 410)\n",
      "(410, 410)\n",
      "(410, 410)\n",
      "(410, 410)\n",
      "(410, 410)\n",
      "(410, 410)\n",
      "(410, 410)\n",
      "(410, 410)\n",
      "(410, 410)\n",
      "(410, 410)\n",
      "(410, 410)\n",
      "(410, 410)\n",
      "(410, 410)\n",
      "(410, 410)\n",
      "(410, 410)\n",
      "(410, 410)\n",
      "(410, 410)\n",
      "(410, 410)\n",
      "(410, 410)\n",
      "(410, 410)\n",
      "(410, 410)\n",
      "(410, 410)\n",
      "(410, 410)\n",
      "(410, 410)\n",
      "(410, 410)\n",
      "(410, 410)\n",
      "(410, 410)\n",
      "(410, 410)\n",
      "(410, 410)\n",
      "(410, 410)\n",
      "(410, 410)\n",
      "(410, 410)\n",
      "(410, 410)\n",
      "(410, 410)\n",
      "(410, 410)\n",
      "(410, 410)\n",
      "(410, 410)\n",
      "(410, 410)\n",
      "(410, 410)\n",
      "(410, 410)\n",
      "(410, 410)\n",
      "(410, 410)\n",
      "(410, 410)\n",
      "(410, 410)\n",
      "(410, 410)\n",
      "(410, 410)\n",
      "(410, 410)\n",
      "(410, 410)\n",
      "(410, 410)\n",
      "(410, 410)\n",
      "(410, 410)\n",
      "(410, 410)\n",
      "(410, 410)\n",
      "(410, 410)\n",
      "(410, 410)\n",
      "(410, 410)\n",
      "(410, 410)\n",
      "(410, 410)\n",
      "(410, 410)\n",
      "(410, 410)\n",
      "(410, 410)\n",
      "(410, 410)\n",
      "(410, 410)\n",
      "(410, 410)\n",
      "(410, 410)\n",
      "(410, 410)\n",
      "(410, 410)\n",
      "(410, 410)\n",
      "(410, 410)\n",
      "(410, 410)\n",
      "(410, 410)\n",
      "(410, 410)\n",
      "(410, 410)\n",
      "(410, 410)\n",
      "(410, 410)\n",
      "(410, 410)\n",
      "(410, 410)\n",
      "(410, 410)\n",
      "(410, 410)\n",
      "(410, 410)\n",
      "(410, 410)\n",
      "(410, 410)\n",
      "(410, 410)\n",
      "(410, 410)\n",
      "(410, 410)\n",
      "(410, 410)\n",
      "(410, 410)\n",
      "(410, 410)\n",
      "(410, 410)\n",
      "(410, 410)\n",
      "(410, 410)\n",
      "(410, 410)\n",
      "(410, 410)\n",
      "(410, 410)\n",
      "(410, 410)\n",
      "(410, 410)\n",
      "(410, 410)\n",
      "(410, 410)\n",
      "(410, 410)\n",
      "(410, 410)\n",
      "(410, 410)\n",
      "(410, 410)\n",
      "(410, 410)\n",
      "(410, 410)\n",
      "(410, 410)\n",
      "(410, 410)\n",
      "(410, 410)\n",
      "(410, 410)\n",
      "(410, 410)\n",
      "(410, 410)\n",
      "(410, 410)\n",
      "(410, 410)\n",
      "(410, 410)\n",
      "(410, 410)\n",
      "(410, 410)\n",
      "(410, 410)\n",
      "(410, 410)\n",
      "(410, 410)\n",
      "(410, 410)\n",
      "(410, 410)\n",
      "(410, 410)\n",
      "(410, 410)\n",
      "(410, 410)\n",
      "(410, 410)\n",
      "(410, 410)\n",
      "(410, 410)\n",
      "(410, 410)\n",
      "(410, 410)\n",
      "(410, 410)\n",
      "(410, 410)\n",
      "(410, 410)\n",
      "(410, 410)\n",
      "(410, 410)\n",
      "(410, 410)\n",
      "(410, 410)\n",
      "(410, 410)\n",
      "(410, 410)\n",
      "(410, 410)\n",
      "(410, 410)\n",
      "(410, 410)\n",
      "(410, 410)\n",
      "(410, 410)\n",
      "(410, 410)\n",
      "(410, 410)\n",
      "(410, 410)\n",
      "(410, 410)\n",
      "(410, 410)\n",
      "(410, 410)\n",
      "(410, 410)\n",
      "(410, 410)\n",
      "(410, 410)\n",
      "(410, 410)\n",
      "(410, 410)\n",
      "(410, 410)\n",
      "(410, 410)\n",
      "(410, 410)\n",
      "(410, 410)\n",
      "(410, 410)\n",
      "(410, 410)\n",
      "(410, 410)\n",
      "(410, 410)\n",
      "(410, 410)\n",
      "(410, 410)\n",
      "(410, 410)\n",
      "(410, 410)\n",
      "(410, 410)\n",
      "(410, 410)\n",
      "(410, 410)\n",
      "(410, 410)\n",
      "(410, 410)\n",
      "(410, 410)\n",
      "(410, 410)\n",
      "(410, 410)\n",
      "(410, 410)\n",
      "(410, 410)\n",
      "(410, 410)\n",
      "(410, 410)\n",
      "(410, 410)\n",
      "(410, 410)\n",
      "(410, 410)\n",
      "(410, 410)\n",
      "(410, 410)\n",
      "(410, 410)\n",
      "(410, 410)\n",
      "(410, 410)\n",
      "(410, 410)\n",
      "(410, 410)\n",
      "(410, 410)\n",
      "(410, 410)\n",
      "(410, 410)\n",
      "(410, 410)\n",
      "(410, 410)\n",
      "(410, 410)\n",
      "(410, 410)\n",
      "(410, 410)\n",
      "(410, 410)\n",
      "(410, 410)\n",
      "(410, 410)\n",
      "(410, 410)\n",
      "(410, 410)\n",
      "(410, 410)\n",
      "(410, 410)\n",
      "(410, 410)\n",
      "(410, 410)\n",
      "(410, 410)\n",
      "(410, 410)\n",
      "(410, 410)\n",
      "(410, 410)\n",
      "(410, 410)\n",
      "(410, 410)\n",
      "(410, 410)\n",
      "(410, 410)\n",
      "(410, 410)\n",
      "(410, 410)\n",
      "(410, 410)\n",
      "(410, 410)\n",
      "(410, 410)\n",
      "(410, 410)\n",
      "(410, 410)\n",
      "(410, 410)\n",
      "(410, 410)\n",
      "(410, 410)\n",
      "(410, 410)\n",
      "(410, 410)\n",
      "(410, 410)\n",
      "(410, 410)\n",
      "(410, 410)\n",
      "(410, 410)\n",
      "(410, 410)\n",
      "(410, 410)\n",
      "(410, 410)\n",
      "(410, 410)\n",
      "(410, 410)\n",
      "(410, 410)\n",
      "(410, 410)\n",
      "(410, 410)\n",
      "(410, 410)\n",
      "(410, 410)\n",
      "(410, 410)\n",
      "(410, 410)\n",
      "(410, 410)\n",
      "(410, 410)\n",
      "(410, 410)\n",
      "(410, 410)\n",
      "(410, 410)\n",
      "(410, 410)\n",
      "(410, 410)\n",
      "(410, 410)\n",
      "(410, 410)\n",
      "(410, 410)\n",
      "(410, 410)\n",
      "(410, 410)\n",
      "(410, 410)\n",
      "(410, 410)\n",
      "(410, 410)\n",
      "(410, 410)\n",
      "(410, 410)\n",
      "(410, 410)\n",
      "(410, 410)\n",
      "(410, 410)\n",
      "(410, 410)\n",
      "(410, 410)\n",
      "(410, 410)\n",
      "(410, 410)\n",
      "(410, 410)\n",
      "(410, 410)\n",
      "(410, 410)\n",
      "(410, 410)\n",
      "(410, 410)\n",
      "(410, 410)\n",
      "(410, 410)\n",
      "(410, 410)\n",
      "(410, 410)\n",
      "(410, 410)\n",
      "(410, 410)\n",
      "(410, 410)\n",
      "(410, 410)\n",
      "(410, 410)\n",
      "(410, 410)\n",
      "(410, 410)\n",
      "(410, 410)\n",
      "(410, 410)\n",
      "(410, 410)\n",
      "(410, 410)\n",
      "(410, 410)\n",
      "(410, 410)\n",
      "(410, 410)\n",
      "(410, 410)\n",
      "(410, 410)\n",
      "(410, 410)\n",
      "(410, 410)\n",
      "(410, 410)\n",
      "(410, 410)\n",
      "(410, 410)\n"
     ]
    },
    {
     "ename": "KeyboardInterrupt",
     "evalue": "",
     "output_type": "error",
     "traceback": [
      "\u001b[0;31m---------------------------------------------------------------------------\u001b[0m",
      "\u001b[0;31mKeyboardInterrupt\u001b[0m                         Traceback (most recent call last)",
      "Cell \u001b[0;32mIn[15], line 6\u001b[0m\n\u001b[1;32m      4\u001b[0m img2 \u001b[38;5;241m=\u001b[39m img[\u001b[38;5;241m40\u001b[39m:\u001b[38;5;241m450\u001b[39m, \u001b[38;5;241m170\u001b[39m:\u001b[38;5;241m580\u001b[39m]\n\u001b[1;32m      5\u001b[0m \u001b[38;5;28mprint\u001b[39m(img2\u001b[38;5;241m.\u001b[39mshape)\n\u001b[0;32m----> 6\u001b[0m cartoon, texture \u001b[38;5;241m=\u001b[39m \u001b[43mcartoonTexture_grey\u001b[49m\u001b[43m(\u001b[49m\u001b[43mimg2\u001b[49m\u001b[43m,\u001b[49m\u001b[43m \u001b[49m\u001b[38;5;241;43m0.2\u001b[39;49m\u001b[43m,\u001b[49m\u001b[43m \u001b[49m\u001b[38;5;241;43m50\u001b[39;49m\u001b[43m,\u001b[49m\u001b[43m \u001b[49m\u001b[38;5;241;43m0.35\u001b[39;49m\u001b[43m,\u001b[49m\u001b[43m \u001b[49m\u001b[38;5;241;43m0.35\u001b[39;49m\u001b[43m,\u001b[49m\u001b[43m \u001b[49m\u001b[38;5;241;43m1.0\u001b[39;49m\u001b[43m,\u001b[49m\u001b[43m \u001b[49m\u001b[38;5;241;43m0\u001b[39;49m\u001b[43m)\u001b[49m\n\u001b[1;32m      7\u001b[0m cv2\u001b[38;5;241m.\u001b[39mimwrite(\u001b[38;5;124m\"\u001b[39m\u001b[38;5;124mcartoon_training/cartoonimg\u001b[39m\u001b[38;5;124m\"\u001b[39m \u001b[38;5;241m+\u001b[39m \u001b[38;5;28mstr\u001b[39m(i) \u001b[38;5;241m+\u001b[39m\u001b[38;5;124m\"\u001b[39m\u001b[38;5;124m.png\u001b[39m\u001b[38;5;124m\"\u001b[39m, cartoon)\n\u001b[1;32m      8\u001b[0m cv2\u001b[38;5;241m.\u001b[39mimwrite(\u001b[38;5;124m\"\u001b[39m\u001b[38;5;124mtexture_training/textureimg\u001b[39m\u001b[38;5;124m\"\u001b[39m \u001b[38;5;241m+\u001b[39m \u001b[38;5;28mstr\u001b[39m(i)\u001b[38;5;241m+\u001b[39m\u001b[38;5;124m\"\u001b[39m\u001b[38;5;124m.png\u001b[39m\u001b[38;5;124m\"\u001b[39m, texture)\n",
      "Cell \u001b[0;32mIn[12], line 5\u001b[0m, in \u001b[0;36mcartoonTexture_grey\u001b[0;34m(input_image, landa, nb_iter_max, tau, sigma, tetha, way)\u001b[0m\n\u001b[1;32m      1\u001b[0m \u001b[38;5;28;01mdef\u001b[39;00m \u001b[38;5;21mcartoonTexture_grey\u001b[39m(input_image, landa, nb_iter_max\u001b[38;5;241m=\u001b[39m\u001b[38;5;241m1000\u001b[39m, tau\u001b[38;5;241m=\u001b[39m\u001b[38;5;241m0.35\u001b[39m, sigma\u001b[38;5;241m=\u001b[39m\u001b[38;5;241m0.35\u001b[39m, tetha \u001b[38;5;241m=\u001b[39m\u001b[38;5;241m1.0\u001b[39m, way \u001b[38;5;241m=\u001b[39m\u001b[38;5;241m3\u001b[39m):\n\u001b[1;32m      4\u001b[0m     cartoon \u001b[38;5;241m=\u001b[39m np\u001b[38;5;241m.\u001b[39mzeros(input_image\u001b[38;5;241m.\u001b[39mshape)    \n\u001b[0;32m----> 5\u001b[0m     cartoon \u001b[38;5;241m=\u001b[39m \u001b[43mChambolle_TV_L1\u001b[49m\u001b[43m(\u001b[49m\u001b[43minput_image\u001b[49m\u001b[43m,\u001b[49m\u001b[43m \u001b[49m\u001b[43mnb_iter_max\u001b[49m\u001b[43m,\u001b[49m\u001b[43m \u001b[49m\u001b[43mtau\u001b[49m\u001b[43m,\u001b[49m\u001b[43m \u001b[49m\u001b[43msigma\u001b[49m\u001b[43m,\u001b[49m\u001b[43m \u001b[49m\u001b[43mlanda\u001b[49m\u001b[43m,\u001b[49m\u001b[43m \u001b[49m\u001b[43mtetha\u001b[49m\u001b[43m,\u001b[49m\u001b[43m \u001b[49m\u001b[43mway\u001b[49m\u001b[43m)\u001b[49m\n\u001b[1;32m      7\u001b[0m     GradX \u001b[38;5;241m=\u001b[39m np\u001b[38;5;241m.\u001b[39mzeros(input_image\u001b[38;5;241m.\u001b[39mshape) \n\u001b[1;32m      8\u001b[0m     GradY \u001b[38;5;241m=\u001b[39m np\u001b[38;5;241m.\u001b[39mzeros(input_image\u001b[38;5;241m.\u001b[39mshape) \n",
      "Cell \u001b[0;32mIn[11], line 23\u001b[0m, in \u001b[0;36mChambolle_TV_L1\u001b[0;34m(input_image, nb_iter, tau, sigma, landa, tetha, way)\u001b[0m\n\u001b[1;32m     21\u001b[0m im1 \u001b[38;5;241m=\u001b[39m p1\u001b[38;5;241m+\u001b[39m sigma\u001b[38;5;241m*\u001b[39mGradX\n\u001b[1;32m     22\u001b[0m im2 \u001b[38;5;241m=\u001b[39m p2 \u001b[38;5;241m+\u001b[39m sigma\u001b[38;5;241m*\u001b[39mGradY\n\u001b[0;32m---> 23\u001b[0m p1, p2 \u001b[38;5;241m=\u001b[39m \u001b[43mProximalF_Star\u001b[49m\u001b[43m(\u001b[49m\u001b[43mim1\u001b[49m\u001b[43m,\u001b[49m\u001b[43mim2\u001b[49m\u001b[43m)\u001b[49m        \n\u001b[1;32m     24\u001b[0m div \u001b[38;5;241m=\u001b[39m ComputeDivergenceL(p1, p2)        \n\u001b[1;32m     25\u001b[0m image1 \u001b[38;5;241m=\u001b[39m u \u001b[38;5;241m+\u001b[39m tau\u001b[38;5;241m*\u001b[39mdiv\n",
      "Cell \u001b[0;32mIn[4], line 10\u001b[0m, in \u001b[0;36mProximalF_Star\u001b[0;34m(img_p1, img_p2)\u001b[0m\n\u001b[1;32m      6\u001b[0m p_total \u001b[38;5;241m=\u001b[39m p_total[\u001b[38;5;241m0\u001b[39m]\n\u001b[1;32m      8\u001b[0m partial \u001b[38;5;241m=\u001b[39m np\u001b[38;5;241m.\u001b[39mzeros(\u001b[38;5;28mlen\u001b[39m(p_total))\n\u001b[0;32m---> 10\u001b[0m partial \u001b[38;5;241m=\u001b[39m np\u001b[38;5;241m.\u001b[39masarray(\u001b[38;5;28;43mlist\u001b[39;49m\u001b[43m(\u001b[49m\u001b[38;5;28;43mmap\u001b[39;49m\u001b[43m(\u001b[49m\u001b[43mLA\u001b[49m\u001b[38;5;241;43m.\u001b[39;49m\u001b[43mnorm\u001b[49m\u001b[43m,\u001b[49m\u001b[43m \u001b[49m\u001b[43mp_total\u001b[49m\u001b[43m)\u001b[49m\u001b[43m)\u001b[49m) \u001b[38;5;66;03m# cada el de p_total la norma 2\u001b[39;00m\n\u001b[1;32m     11\u001b[0m partial \u001b[38;5;241m=\u001b[39m np\u001b[38;5;241m.\u001b[39masarray(\u001b[38;5;28mlist\u001b[39m(\u001b[38;5;28mmap\u001b[39m(\u001b[38;5;28;01mlambda\u001b[39;00m e: \u001b[38;5;28mmax\u001b[39m(\u001b[38;5;241m1.0\u001b[39m,e), partial)))\n\u001b[1;32m     13\u001b[0m partial \u001b[38;5;241m=\u001b[39m partial\u001b[38;5;241m.\u001b[39mreshape(img_p1\u001b[38;5;241m.\u001b[39mshape)\n",
      "File \u001b[0;32m<__array_function__ internals>:200\u001b[0m, in \u001b[0;36mnorm\u001b[0;34m(*args, **kwargs)\u001b[0m\n",
      "File \u001b[0;32m~/anaconda3/envs/solverenv/lib/python3.8/site-packages/numpy/linalg/linalg.py:2512\u001b[0m, in \u001b[0;36mnorm\u001b[0;34m(x, ord, axis, keepdims)\u001b[0m\n\u001b[1;32m   2510\u001b[0m \u001b[38;5;28;01melse\u001b[39;00m:\n\u001b[1;32m   2511\u001b[0m     sqnorm \u001b[38;5;241m=\u001b[39m x\u001b[38;5;241m.\u001b[39mdot(x)\n\u001b[0;32m-> 2512\u001b[0m ret \u001b[38;5;241m=\u001b[39m \u001b[43msqrt\u001b[49m\u001b[43m(\u001b[49m\u001b[43msqnorm\u001b[49m\u001b[43m)\u001b[49m\n\u001b[1;32m   2513\u001b[0m \u001b[38;5;28;01mif\u001b[39;00m keepdims:\n\u001b[1;32m   2514\u001b[0m     ret \u001b[38;5;241m=\u001b[39m ret\u001b[38;5;241m.\u001b[39mreshape(ndim\u001b[38;5;241m*\u001b[39m[\u001b[38;5;241m1\u001b[39m])\n",
      "\u001b[0;31mKeyboardInterrupt\u001b[0m: "
     ]
    }
   ],
   "source": [
    "for i in range (689,  len(subject_images)):#last time we stopped last finished  in 688\n",
    "    img = cv2.imread(subject_images[i])\n",
    "    img = cv2.cvtColor(img, cv2.COLOR_BGR2GRAY)\n",
    "    img2 = img[40:450, 170:580]\n",
    "    print(img2.shape)\n",
    "    cartoon, texture = cartoonTexture_grey(img2, 0.2, 50, 0.35, 0.35, 1.0, 0)\n",
    "    cv2.imwrite(\"cartoon_training/cartoonimg\" + str(i) +\".png\", cartoon)\n",
    "    cv2.imwrite(\"texture_training/textureimg\" + str(i)+\".png\", texture)"
   ]
  },
  {
   "cell_type": "code",
   "execution_count": 2,
   "metadata": {},
   "outputs": [],
   "source": [
    "\n",
    "cartoon_images = []\n",
    "warpimgpath = 'cartoon_training/'\n",
    "for i in range(0, len(os.listdir(warpimgpath))):\n",
    "    cartoon_images.append('cartoon_training/' + 'cartoonimg' + str(i)+'.png')\n",
    "cartoon_images = np.asarray(cartoon_images)"
   ]
  },
  {
   "cell_type": "code",
   "execution_count": 3,
   "metadata": {},
   "outputs": [
    {
     "data": {
      "text/plain": [
       "'cartoon_training/cartoonimg0.png'"
      ]
     },
     "execution_count": 3,
     "metadata": {},
     "output_type": "execute_result"
    }
   ],
   "source": [
    "cartoon_images[0]"
   ]
  },
  {
   "cell_type": "code",
   "execution_count": 6,
   "metadata": {},
   "outputs": [],
   "source": [
    "counter = 0\n",
    "state = 0\n",
    "frame_counter = 0\n",
    "subject_first = np.zeros(len(subject_images))\n",
    "for i in range(0, len(subject_images)):\n",
    "    subject_first[i] = state \n",
    "    counter = counter + 1\n",
    "    if counter == cant_frames_per_seq[frame_counter]: \n",
    "        counter = 0\n",
    "        state +=  cant_frames_per_seq[frame_counter]\n",
    "        frame_counter += 1\n",
    "        \n"
   ]
  },
  {
   "cell_type": "code",
   "execution_count": 9,
   "metadata": {},
   "outputs": [
    {
     "data": {
      "text/plain": [
       "48.0"
      ]
     },
     "execution_count": 9,
     "metadata": {},
     "output_type": "execute_result"
    }
   ],
   "source": [
    "subject_first.shape"
   ]
  },
  {
   "cell_type": "code",
   "execution_count": 10,
   "metadata": {},
   "outputs": [
    {
     "data": {
      "text/plain": [
       "(1107, 168100)"
      ]
     },
     "execution_count": 10,
     "metadata": {},
     "output_type": "execute_result"
    }
   ],
   "source": [
    "imcart = []\n",
    "for i in cartoon_images:\n",
    "    img = cv2.imread(i, cv2.IMREAD_GRAYSCALE)\n",
    "    img_mean = img/np.mean(img)\n",
    "    imcart.append(img_mean.flatten())\n",
    "    \n",
    "imcartoon = np.asarray(imcart)\n",
    "imcartooncopy = []\n",
    "for i in range(0, len(imcartoon) ):\n",
    "    first_frame = int(subject_first[i])\n",
    "    imca = imcartoon[i] - imcartoon[first_frame]\n",
    "    imcartooncopy.append(np.asarray(imca))\n",
    "\n",
    "imcartoonarray = np.asarray(imcartooncopy)\n",
    "imcartoonarray.shape\n",
    "\n",
    "#my_df = pd.DataFrame(imcartoonarray)\n",
    "#my_df.to_csv('im_training_cartoonarray.csv',header = False, index= False)\n"
   ]
  },
  {
   "cell_type": "code",
   "execution_count": 12,
   "metadata": {},
   "outputs": [],
   "source": [
    "np.savetxt('im_training_cartoonarray_longer.csv', imcartoonarray, delimiter=\",\")\n"
   ]
  },
  {
   "cell_type": "code",
   "execution_count": null,
   "metadata": {},
   "outputs": [],
   "source": []
  },
  {
   "cell_type": "code",
   "execution_count": 20,
   "metadata": {},
   "outputs": [],
   "source": [
    "texture_images = []\n",
    "warpimgpath = 'texture_training/'\n",
    "for i in range(0, len(os.listdir(warpimgpath))):\n",
    "    texture_images.append('texture_training/' + 'textureimg' + str(i)+'.png')\n",
    "texture_images = np.asarray(texture_images)"
   ]
  },
  {
   "cell_type": "code",
   "execution_count": 21,
   "metadata": {},
   "outputs": [],
   "source": [
    "imtext = []\n",
    "for i in texture_images:\n",
    "    img = cv2.imread(i, cv2.IMREAD_GRAYSCALE)    \n",
    "    imtext.append(img.flatten())\n",
    "    \n",
    "imtextarray = np.asarray(imtext)\n",
    "imtextarray.shape\n",
    "\n",
    "#my_df = pd.DataFrame(imtextarray)\n",
    "#my_df.to_csv('im_training_texturearray.csv',header = False, index= False)"
   ]
  },
  {
   "cell_type": "code",
   "execution_count": null,
   "metadata": {},
   "outputs": [],
   "source": [
    "np.savetxt('im_training_texturearray_longer.csv', imcartoonarray, delimiter=\",\")"
   ]
  },
  {
   "cell_type": "markdown",
   "metadata": {},
   "source": [
    "Los archivos pueden ser demasiado grandes, por lo que los leemos en chunks\n"
   ]
  },
  {
   "cell_type": "code",
   "execution_count": 3,
   "metadata": {},
   "outputs": [],
   "source": [
    "file_path = 'im_training_cartoonarray_longer.csv'\n",
    "chunk_size = 200\n",
    "\n",
    "df_list = []\n",
    "\n",
    "for chunk in pd.read_csv(file_path, chunksize=chunk_size, header = None):\n",
    "    df_list.append(chunk)\n",
    "\n",
    "df = pd.concat(df_list)"
   ]
  },
  {
   "cell_type": "code",
   "execution_count": 3,
   "metadata": {},
   "outputs": [
    {
     "data": {
      "text/plain": [
       "<bound method NDFrame.head of         0         1         2         3         4         5         6       \\\n",
       "0     0.000000  0.000000  0.000000  0.000000  0.000000  0.000000  0.000000   \n",
       "1    -0.005133 -0.005133 -0.005133 -0.005133 -0.005133 -0.005133 -0.005133   \n",
       "2     0.003569  0.003569  0.003569  0.003569  0.003569  0.003569  0.003569   \n",
       "3    -0.007812 -0.007812 -0.007812 -0.007812 -0.007812 -0.007812 -0.007812   \n",
       "4     0.003143  0.003143  0.003143  0.003143  0.003143  0.003143  0.003143   \n",
       "...        ...       ...       ...       ...       ...       ...       ...   \n",
       "1102  0.000000  0.000000  0.000000  0.000000  0.000000  0.000000  0.000000   \n",
       "1103 -0.009309  0.000123 -0.009309 -0.009309 -0.009309 -0.009309  0.000125   \n",
       "1104 -0.000403  0.009028 -0.000403 -0.000403 -0.000403  0.009024  0.009024   \n",
       "1105  0.009353  0.009354  0.009353 -0.000078  0.009353 -0.000078  0.009353   \n",
       "1106  0.002886  0.012317  0.002886  0.002886  0.002886  0.002886  0.012351   \n",
       "\n",
       "        7         8         9       ...    168090    168091    168092  \\\n",
       "0     0.000000  0.000000  0.000000  ...  0.000000  0.000000  0.000000   \n",
       "1    -0.005133 -0.005133 -0.005133  ... -0.031063 -0.031083 -0.031083   \n",
       "2     0.003569  0.003569  0.003569  ... -0.042052 -0.060024 -0.051031   \n",
       "3    -0.007812 -0.007812 -0.007812  ...  0.002576 -0.006403 -0.006403   \n",
       "4     0.003143  0.003143  0.003143  ... -0.024409 -0.015406 -0.015406   \n",
       "...        ...       ...       ...  ...       ...       ...       ...   \n",
       "1102  0.000000  0.000000  0.000000  ...  0.000000  0.000000  0.000000   \n",
       "1103 -0.009307  0.000126 -0.009306  ...  0.018917  0.018908  0.009471   \n",
       "1104 -0.000408 -0.000408 -0.009840  ... -0.019018  0.028145 -0.000122   \n",
       "1105 -0.009510 -0.000079 -0.018942  ... -0.009463  0.009404 -0.009454   \n",
       "1106  0.002919  0.012384 -0.006512  ... -0.027221 -0.017957 -0.008593   \n",
       "\n",
       "        168093    168094    168095    168096    168097    168098    168099  \n",
       "0     0.000000  0.000000  0.000000  0.000000  0.000000  0.000000  0.000000  \n",
       "1    -0.031103 -0.031103 -0.022144  0.004772  0.022729  0.031708  0.013731  \n",
       "2    -0.060010 -0.051017 -0.042024 -0.006081  0.002883  0.011862  0.002911  \n",
       "3    -0.024330 -0.024330 -0.024330  0.002576  0.029482  0.047409  0.020472  \n",
       "4    -0.024385 -0.033376 -0.033376  0.020546  0.038504  0.047482  0.020546  \n",
       "...        ...       ...       ...       ...       ...       ...       ...  \n",
       "1102  0.000000  0.000000  0.000000  0.000000  0.000000  0.000000  0.000000  \n",
       "1103  0.009466  0.009465  0.018900  0.028337  0.018910  0.028340 -0.009393  \n",
       "1104 -0.009535 -0.000103  0.018746  0.018732 -0.018995  0.009296 -0.000131  \n",
       "1105 -0.009452 -0.000020  0.009410  0.009407 -0.009458  0.009405 -0.009456  \n",
       "1106  0.010237  0.000738  0.019702  0.029268 -0.017924 -0.008526 -0.017991  \n",
       "\n",
       "[1107 rows x 168100 columns]>"
      ]
     },
     "execution_count": 3,
     "metadata": {},
     "output_type": "execute_result"
    }
   ],
   "source": [
    "df"
   ]
  },
  {
   "cell_type": "code",
   "execution_count": 4,
   "metadata": {},
   "outputs": [],
   "source": [
    "my_data_forPCA = df"
   ]
  },
  {
   "cell_type": "code",
   "execution_count": null,
   "metadata": {},
   "outputs": [],
   "source": [
    "from sklearn.preprocessing import StandardScaler\n",
    "std_scaler = StandardScaler()\n",
    "scaled_landDiff = std_scaler.fit_transform(my_data_forPCA)\n",
    "scaled_landDiff.shape"
   ]
  },
  {
   "cell_type": "code",
   "execution_count": 5,
   "metadata": {},
   "outputs": [],
   "source": [
    "my_data_forPCA = []"
   ]
  },
  {
   "cell_type": "code",
   "execution_count": null,
   "metadata": {},
   "outputs": [],
   "source": [
    "from sklearn.decomposition import PCA\n",
    "pca = PCA(n_components=5)#era 14\n",
    "pca.fit_transform(scaled_landDiff)\n",
    "b_cartoon = pca.fit_transform(scaled_landDiff)\n",
    "b_cartoon.shape # "
   ]
  },
  {
   "cell_type": "code",
   "execution_count": 6,
   "metadata": {},
   "outputs": [
    {
     "name": "stdout",
     "output_type": "stream",
     "text": [
      "0.2210463534135603\n"
     ]
    }
   ],
   "source": [
    "print(sum(pca.explained_variance_ratio_))"
   ]
  },
  {
   "cell_type": "code",
   "execution_count": 7,
   "metadata": {},
   "outputs": [
    {
     "data": {
      "image/png": "[encoded data removed]",
      "text/plain": [
       "<Figure size 640x480 with 1 Axes>"
      ]
     },
     "metadata": {},
     "output_type": "display_data"
    }
   ],
   "source": [
    "b_cartoon\n",
    "pca_var=np.round(pca.explained_variance_ratio_* 100, decimals=1 )\n",
    "labels = ['PC'+ str(s) for s in range(1, len(pca_var)+1)]\n",
    "\n",
    "plt.bar(x= range(1, len(pca_var)+1), height = pca_var, tick_label= labels)\n",
    "plt.ylabel(\"Percentage of Variance\")\n",
    "plt.xlabel(\"Principal Components\")\n",
    "plt.title(\"Scree Plot\")\n",
    "plt.savefig(\"CartoonPCALongerData.png\") \n",
    "plt.show()"
   ]
  },
  {
   "cell_type": "code",
   "execution_count": 10,
   "metadata": {},
   "outputs": [],
   "source": [
    "\n"
   ]
  },
  {
   "cell_type": "code",
   "execution_count": 8,
   "metadata": {},
   "outputs": [],
   "source": [
    "my_df = pd.DataFrame(b_cartoon)\n",
    "my_df.to_csv('pca_cartoontrainingpoints_longer.csv',header = False, index= False)"
   ]
  },
  {
   "cell_type": "code",
   "execution_count": 11,
   "metadata": {},
   "outputs": [],
   "source": [
    "file_path = 'im_training_texturearray_longer.csv'\n",
    "chunk_size = 200\n",
    "\n",
    "df_list = []\n",
    "\n",
    "for chunk in pd.read_csv(file_path, chunksize=chunk_size, header = None):\n",
    "    df_list.append(chunk)\n",
    "\n",
    "df2 = pd.concat(df_list)"
   ]
  },
  {
   "cell_type": "code",
   "execution_count": 12,
   "metadata": {},
   "outputs": [],
   "source": [
    "my_data_forPCA2 =df2"
   ]
  },
  {
   "cell_type": "code",
   "execution_count": 13,
   "metadata": {},
   "outputs": [
    {
     "data": {
      "text/plain": [
       "(689, 168100)"
      ]
     },
     "execution_count": 13,
     "metadata": {},
     "output_type": "execute_result"
    }
   ],
   "source": [
    "from sklearn.preprocessing import StandardScaler\n",
    "std_scaler = StandardScaler()\n",
    "scaled_landDiff = std_scaler.fit_transform(my_data_forPCA2)\n",
    "scaled_landDiff.shape"
   ]
  },
  {
   "cell_type": "code",
   "execution_count": null,
   "metadata": {},
   "outputs": [],
   "source": [
    "my_data_forPCA = []"
   ]
  },
  {
   "cell_type": "code",
   "execution_count": 14,
   "metadata": {},
   "outputs": [
    {
     "data": {
      "text/plain": [
       "(689, 14)"
      ]
     },
     "execution_count": 14,
     "metadata": {},
     "output_type": "execute_result"
    }
   ],
   "source": [
    "from sklearn.decomposition import PCA\n",
    "pca = PCA(n_components=5)#era 14\n",
    "pca.fit_transform(scaled_landDiff)\n",
    "b_texture = pca.fit_transform(scaled_landDiff)\n",
    "b_texture.shape # "
   ]
  },
  {
   "cell_type": "code",
   "execution_count": 15,
   "metadata": {},
   "outputs": [
    {
     "name": "stdout",
     "output_type": "stream",
     "text": [
      "0.6525849877633989\n"
     ]
    }
   ],
   "source": [
    "print(sum(pca.explained_variance_ratio_))"
   ]
  },
  {
   "cell_type": "code",
   "execution_count": 16,
   "metadata": {},
   "outputs": [
    {
     "data": {
      "image/png": "[encoded data removed]",
      "text/plain": [
       "<Figure size 640x480 with 1 Axes>"
      ]
     },
     "metadata": {},
     "output_type": "display_data"
    }
   ],
   "source": [
    "b_texture\n",
    "pca_var=np.round(pca.explained_variance_ratio_* 100, decimals=1 )\n",
    "labels = ['PC'+ str(s) for s in range(1, len(pca_var)+1)]\n",
    "\n",
    "plt.bar(x= range(1, len(pca_var)+1), height = pca_var, tick_label= labels)\n",
    "plt.ylabel(\"Percentage of Variance\")\n",
    "plt.xlabel(\"Principal Components\")\n",
    "plt.title(\"Scree Plot\")\n",
    "plt.savefig(\"TexturePCALongerData.png\") \n",
    "plt.show()"
   ]
  },
  {
   "cell_type": "code",
   "execution_count": 17,
   "metadata": {},
   "outputs": [],
   "source": [
    "\n"
   ]
  },
  {
   "cell_type": "code",
   "execution_count": 15,
   "metadata": {},
   "outputs": [],
   "source": [
    "my_df = pd.DataFrame(b_texture)\n",
    "my_df.to_csv('pca_texturetrainingpoints_longer.csv',header = False, index= False)"
   ]
  },
  {
   "cell_type": "code",
   "execution_count": 22,
   "metadata": {},
   "outputs": [
    {
     "ename": "NameError",
     "evalue": "name 'ProximalG' is not defined",
     "output_type": "error",
     "traceback": [
      "\u001b[0;31m---------------------------------------------------------------------------\u001b[0m",
      "\u001b[0;31mNameError\u001b[0m                                 Traceback (most recent call last)",
      "Cell \u001b[0;32mIn[22], line 1\u001b[0m\n\u001b[0;32m----> 1\u001b[0m cartoon, texture \u001b[38;5;241m=\u001b[39m \u001b[43mcartoonTexture_grey\u001b[49m\u001b[43m(\u001b[49m\u001b[43mimg\u001b[49m\u001b[43m,\u001b[49m\u001b[43m \u001b[49m\u001b[38;5;241;43m0.7\u001b[39;49m\u001b[43m,\u001b[49m\u001b[43m \u001b[49m\u001b[38;5;241;43m50\u001b[39;49m\u001b[43m,\u001b[49m\u001b[43m \u001b[49m\u001b[38;5;241;43m0.35\u001b[39;49m\u001b[43m,\u001b[49m\u001b[43m \u001b[49m\u001b[38;5;241;43m0.35\u001b[39;49m\u001b[43m,\u001b[49m\u001b[43m \u001b[49m\u001b[38;5;241;43m1.0\u001b[39;49m\u001b[43m,\u001b[49m\u001b[43m \u001b[49m\u001b[38;5;241;43m0\u001b[39;49m\u001b[43m)\u001b[49m\n\u001b[1;32m      3\u001b[0m cartoon, img, texture\n",
      "Cell \u001b[0;32mIn[8], line 5\u001b[0m, in \u001b[0;36mcartoonTexture_grey\u001b[0;34m(input_image, landa, nb_iter_max, tau, sigma, tetha, way)\u001b[0m\n\u001b[1;32m      1\u001b[0m \u001b[38;5;28;01mdef\u001b[39;00m \u001b[38;5;21mcartoonTexture_grey\u001b[39m(input_image, landa, nb_iter_max\u001b[38;5;241m=\u001b[39m\u001b[38;5;241m1000\u001b[39m, tau\u001b[38;5;241m=\u001b[39m\u001b[38;5;241m0.35\u001b[39m, sigma\u001b[38;5;241m=\u001b[39m\u001b[38;5;241m0.35\u001b[39m, tetha \u001b[38;5;241m=\u001b[39m\u001b[38;5;241m1.0\u001b[39m, way \u001b[38;5;241m=\u001b[39m\u001b[38;5;241m3\u001b[39m):\n\u001b[1;32m      4\u001b[0m     cartoon \u001b[38;5;241m=\u001b[39m np\u001b[38;5;241m.\u001b[39mzeros(input_image\u001b[38;5;241m.\u001b[39mshape)    \n\u001b[0;32m----> 5\u001b[0m     cartoon \u001b[38;5;241m=\u001b[39m \u001b[43mChambolle_TV_L1\u001b[49m\u001b[43m(\u001b[49m\u001b[43minput_image\u001b[49m\u001b[43m,\u001b[49m\u001b[43m \u001b[49m\u001b[43mnb_iter_max\u001b[49m\u001b[43m,\u001b[49m\u001b[43m \u001b[49m\u001b[43mtau\u001b[49m\u001b[43m,\u001b[49m\u001b[43m \u001b[49m\u001b[43msigma\u001b[49m\u001b[43m,\u001b[49m\u001b[43m \u001b[49m\u001b[43mlanda\u001b[49m\u001b[43m,\u001b[49m\u001b[43m \u001b[49m\u001b[43mtetha\u001b[49m\u001b[43m,\u001b[49m\u001b[43m \u001b[49m\u001b[43mway\u001b[49m\u001b[43m)\u001b[49m\n\u001b[1;32m      7\u001b[0m     GradX \u001b[38;5;241m=\u001b[39m np\u001b[38;5;241m.\u001b[39mzeros(input_image\u001b[38;5;241m.\u001b[39mshape) \n\u001b[1;32m      8\u001b[0m     GradY \u001b[38;5;241m=\u001b[39m np\u001b[38;5;241m.\u001b[39mzeros(input_image\u001b[38;5;241m.\u001b[39mshape) \n",
      "Cell \u001b[0;32mIn[7], line 26\u001b[0m, in \u001b[0;36mChambolle_TV_L1\u001b[0;34m(input_image, nb_iter, tau, sigma, landa, tetha, way)\u001b[0m\n\u001b[1;32m     24\u001b[0m div \u001b[38;5;241m=\u001b[39m ComputeDivergenceL(p1, p2)        \n\u001b[1;32m     25\u001b[0m image1 \u001b[38;5;241m=\u001b[39m u \u001b[38;5;241m+\u001b[39m tau\u001b[38;5;241m*\u001b[39mdiv\n\u001b[0;32m---> 26\u001b[0m u \u001b[38;5;241m=\u001b[39m \u001b[43mProximalG\u001b[49m(image1, input_image, landa, tau)\n\u001b[1;32m     27\u001b[0m u \u001b[38;5;241m=\u001b[39m u \u001b[38;5;241m+\u001b[39m tetha\u001b[38;5;241m*\u001b[39m (u \u001b[38;5;241m-\u001b[39m u_old)\n\u001b[1;32m     29\u001b[0m \u001b[38;5;28;01mif\u001b[39;00m( it \u001b[38;5;241m%\u001b[39m \u001b[38;5;241m10\u001b[39m \u001b[38;5;241m==\u001b[39m \u001b[38;5;241m0\u001b[39m):\n",
      "\u001b[0;31mNameError\u001b[0m: name 'ProximalG' is not defined"
     ]
    }
   ],
   "source": [
    "cartoon, texture = cartoonTexture_grey(img, 0.7, 50, 0.35, 0.35, 1.0, 0)\n",
    "\n",
    "cartoon, img, texture"
   ]
  },
  {
   "cell_type": "code",
   "execution_count": 23,
   "metadata": {},
   "outputs": [
    {
     "data": {
      "text/plain": [
       "True"
      ]
     },
     "execution_count": 23,
     "metadata": {},
     "output_type": "execute_result"
    }
   ],
   "source": [
    "Hori = np.concatenate((cartoon, texture), axis=1) \n",
    "cv2.imshow('Cartoon Texture', Hori) \n",
    "cv2.waitKey(0) \n",
    "cv2.destroyAllWindows()  \n",
    "\n",
    "cv2.imwrite(\"ejemplotexcartoondescom07w0.png\", Hori)"
   ]
  },
  {
   "cell_type": "code",
   "execution_count": null,
   "metadata": {},
   "outputs": [],
   "source": [
    "To counter this dependence, for each face image we di-\n",
    "vide each element of the u component by the mean value of\n",
    "u of that ima"
   ]
  },
  {
   "cell_type": "code",
   "execution_count": null,
   "metadata": {},
   "outputs": [],
   "source": []
  },
  {
   "cell_type": "code",
   "execution_count": 43,
   "metadata": {},
   "outputs": [],
   "source": []
  },
  {
   "cell_type": "code",
   "execution_count": 45,
   "metadata": {},
   "outputs": [
    {
     "data": {
      "text/plain": [
       "True"
      ]
     },
     "execution_count": 45,
     "metadata": {},
     "output_type": "execute_result"
    }
   ],
   "source": [
    "result = (cartoon_vector == a).all()\n",
    "result"
   ]
  },
  {
   "cell_type": "code",
   "execution_count": null,
   "metadata": {},
   "outputs": [],
   "source": []
  },
  {
   "cell_type": "code",
   "execution_count": null,
   "metadata": {},
   "outputs": [],
   "source": []
  },
  {
   "cell_type": "code",
   "execution_count": null,
   "metadata": {},
   "outputs": [],
   "source": [
    "\n"
   ]
  },
  {
   "cell_type": "code",
   "execution_count": null,
   "metadata": {},
   "outputs": [],
   "source": []
  },
  {
   "cell_type": "markdown",
   "metadata": {},
   "source": []
  },
  {
   "cell_type": "code",
   "execution_count": null,
   "metadata": {},
   "outputs": [],
   "source": []
  },
  {
   "cell_type": "code",
   "execution_count": null,
   "metadata": {},
   "outputs": [],
   "source": []
  },
  {
   "cell_type": "code",
   "execution_count": null,
   "metadata": {},
   "outputs": [],
   "source": []
  },
  {
   "cell_type": "code",
   "execution_count": null,
   "metadata": {},
   "outputs": [],
   "source": []
  },
  {
   "cell_type": "code",
   "execution_count": null,
   "metadata": {},
   "outputs": [],
   "source": []
  },
  {
   "cell_type": "code",
   "execution_count": null,
   "metadata": {},
   "outputs": [],
   "source": []
  },
  {
   "cell_type": "code",
   "execution_count": null,
   "metadata": {},
   "outputs": [],
   "source": []
  },
  {
   "cell_type": "code",
   "execution_count": null,
   "metadata": {},
   "outputs": [],
   "source": []
  },
  {
   "cell_type": "code",
   "execution_count": null,
   "metadata": {},
   "outputs": [],
   "source": []
  }
 ],
 "metadata": {
  "kernelspec": {
   "display_name": "solverenv",
   "language": "python",
   "name": "solverenv"
  },
  "language_info": {
   "codemirror_mode": {
    "name": "ipython",
    "version": 3
   },
   "file_extension": ".py",
   "mimetype": "text/x-python",
   "name": "python",
   "nbconvert_exporter": "python",
   "pygments_lexer": "ipython3",
   "version": "3.8.18"
  }
 },
 "nbformat": 4,
 "nbformat_minor": 2
}
