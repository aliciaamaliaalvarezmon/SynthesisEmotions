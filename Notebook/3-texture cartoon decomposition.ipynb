{
 "cells": [
  {
   "cell_type": "code",
   "execution_count": 1,
   "metadata": {},
   "outputs": [],
   "source": [
    "%matplotlib inline\n",
    "\n",
    "import numpy as np # NUMPY\n",
    "import pandas as pd # PANDAS\n",
    "import matplotlib.pyplot as plt # MATPLOTLIB\n",
    "import seaborn as sns # SEABORN\n",
    "import scipy\n",
    "import sklearn\n",
    "from sklearn.decomposition import PCA\n",
    "import cv2\n",
    "import os \n",
    "from skimage import filters\n",
    "from scipy import ndimage"
   ]
  },
  {
   "cell_type": "code",
   "execution_count": 5,
   "metadata": {},
   "outputs": [],
   "source": [
    "\n"
   ]
  },
  {
   "cell_type": "code",
   "execution_count": 2,
   "metadata": {},
   "outputs": [
    {
     "data": {
      "text/plain": [
       "(490, 640)"
      ]
     },
     "execution_count": 2,
     "metadata": {},
     "output_type": "execute_result"
    }
   ],
   "source": [
    "cant_frames_per_seq = pd.read_csv('ckmock_landmark_FramePerSeq.csv',header = None)\n",
    "cant_frames_per_seq = np.asarray(cant_frames_per_seq).flatten()\n",
    "subject_images = []\n",
    "warpimgpath = '../ck+warped'\n",
    "for i in range(0, len(os.listdir(warpimgpath))):\n",
    "    subject_images.append('../ck+warped/' + 'warped_image_procustres_' + str(i)+'.png')\n",
    "subject_images = np.asarray(subject_images)\n",
    "\n",
    "img = cv2.imread(subject_images[0])\n",
    "img = cv2.cvtColor(img, cv2.COLOR_BGR2GRAY)\n",
    "width, height = img.shape\n",
    "width, height"
   ]
  },
  {
   "cell_type": "code",
   "execution_count": 3,
   "metadata": {},
   "outputs": [
    {
     "data": {
      "text/plain": [
       "True"
      ]
     },
     "execution_count": 3,
     "metadata": {},
     "output_type": "execute_result"
    }
   ],
   "source": [
    "img = cv2.imread(subject_images[0])\n",
    "img = cv2.cvtColor(img, cv2.COLOR_BGR2GRAY)\n",
    "cv2.imshow(\"Texture start\", img)\n",
    "# Pause screen to wait key from user to see result\n",
    "cv2.waitKey(0)\n",
    "cv2.destroyAllWindows()\n",
    "cv2.imwrite(\"ejemplotex.png\", img)"
   ]
  },
  {
   "cell_type": "code",
   "execution_count": 4,
   "metadata": {},
   "outputs": [],
   "source": [
    "GradX = cv2.Sobel(img, ddepth=-1, dx=1, dy=0, borderType=cv2.BORDER_REFLECT)\n",
    "GradY = cv2.Sobel(img, ddepth=-1, dx=0, dy=1, borderType=cv2.BORDER_REFLECT)\n",
    "GradY[:, -1] = 0\n",
    "Hori = np.concatenate((GradX, GradY), axis=1) \n",
    "cv2.imshow('HORIZONTAL', Hori) \n",
    "cv2.waitKey(0) \n",
    "cv2.destroyAllWindows()  # esto tampoco es"
   ]
  },
  {
   "cell_type": "code",
   "execution_count": 5,
   "metadata": {},
   "outputs": [],
   "source": [
    "GradX, GradY = np.gradient(img)      \n",
    "GradX[-1,:] = 0\n",
    "GradY[:, -1] = 0 # Neumann boundary Condition\n",
    "Hori = np.concatenate((GradX, GradY), axis=1) \n",
    "cv2.imshow('HORIZONTAL', Hori) \n",
    "cv2.waitKey(0) \n",
    "cv2.destroyAllWindows()  # esto tampoco es"
   ]
  },
  {
   "cell_type": "code",
   "execution_count": 6,
   "metadata": {},
   "outputs": [],
   "source": [
    "Kx = -1*np.array([[-1,0,1]])\n",
    "GradX = ndimage.convolve(img, Kx)\n",
    "\n",
    "#-Derivative y\n",
    "Ky = -1*np.array([[-1],[0],[1]])\n",
    "GradY = ndimage.convolve(img, Ky)\n",
    "GradX[-1,:] = 0\n",
    "GradY[:, -1] = 0 # Neumann boundary Condition   \n",
    "Hori = np.concatenate((GradX, GradY), axis=1) \n",
    "cv2.imshow('HORIZONTAL', Hori) \n",
    "cv2.waitKey(0) \n",
    "cv2.destroyAllWindows()  # esto tampoco es"
   ]
  },
  {
   "cell_type": "code",
   "execution_count": 23,
   "metadata": {},
   "outputs": [],
   "source": []
  },
  {
   "cell_type": "code",
   "execution_count": 19,
   "metadata": {},
   "outputs": [],
   "source": []
  },
  {
   "cell_type": "code",
   "execution_count": 4,
   "metadata": {},
   "outputs": [
    {
     "data": {
      "text/plain": [
       "(array([[109, 255, 255, ...,   0,   0,   0],\n",
       "        [ 83, 255, 255, ...,   0,   0,   0],\n",
       "        [ 32,  92, 110, ...,   0,   0,   0],\n",
       "        ...,\n",
       "        [  4,   9,  10, ...,   0,   0,   0],\n",
       "        [  3,   6,   8, ...,   0,   0,   0],\n",
       "        [  0,   0,   0, ...,   0,   0,   0]], dtype=uint8),\n",
       " array([[ 1,  9, 17, ...,  0,  0,  0],\n",
       "        [ 0,  0,  0, ...,  0,  0,  0],\n",
       "        [ 0,  0,  0, ...,  0,  0,  0],\n",
       "        ...,\n",
       "        [ 0,  0,  0, ...,  0,  1,  0],\n",
       "        [ 0,  0,  0, ...,  0,  0,  0],\n",
       "        [ 0,  0,  0, ...,  0,  0,  0]], dtype=uint8))"
      ]
     },
     "execution_count": 4,
     "metadata": {},
     "output_type": "execute_result"
    }
   ],
   "source": [
    "from skimage import filters\n",
    "\n",
    "def ComputeImageGradient(image, way):\n",
    "    if way == 0:\n",
    "        GradX = cv2.Sobel(image, ddepth=-1, dx=1, dy=0, borderType=cv2.BORDER_REFLECT)\n",
    "        GradY = cv2.Sobel(image, ddepth=-1, dx=0, dy=1, borderType=cv2.BORDER_REFLECT)\n",
    "        GradX[-1,:] = 0\n",
    "        GradY[:, -1] = 0 # Neumann boundary Condition\n",
    "    elif way == 1:\n",
    "        GradX, GradY = np.gradient(image)      \n",
    "        GradX[-1,:] = 0\n",
    "        GradY[:, -1] = 0 # Neumann boundary Condition     \n",
    "    elif way == 2: \n",
    "        Kx = -1*np.array([[-1,0,1]])\n",
    "        GradX = ndimage.convolve(img, Kx)\n",
    "        Ky = -1*np.array([[-1],[0],[1]])\n",
    "        GradY = ndimage.convolve(img, Ky)\n",
    "        GradX[-1,:] = 0\n",
    "        GradY[:, -1] = 0 # Neumann boundary Condition  \n",
    "    else:\n",
    "        print('not legal way')\n",
    "        GradY = np.zeros(image.shape)\n",
    "        GradX = np.zeros(image.shape)\n",
    "    return GradX, GradY\n",
    "\n",
    "\n",
    "ComputeImageGradient(img,  0)\n",
    "#gradx\n",
    "\n"
   ]
  },
  {
   "cell_type": "code",
   "execution_count": 5,
   "metadata": {},
   "outputs": [],
   "source": [
    "\n",
    "\n",
    "\n",
    "def imageAddition(output_image, img_a, img_b, landa1, landa2):\n",
    "    \n",
    "    value = landa1*a + landa2*b\n",
    "    output_image = value\n",
    "    return 0\n",
    "\n"
   ]
  },
  {
   "cell_type": "code",
   "execution_count": 6,
   "metadata": {},
   "outputs": [],
   "source": [
    "from numpy import linalg as LA\n",
    "\n",
    "def ProximalF_StarL(img_p1,img_p2):\n",
    "    inp1 = img_p1.flatten()    \n",
    "    inp2 = img_p2.flatten()# (313600,1)\n",
    "    p_total =  np.dstack((inp1, inp2)) # queda (1,313600,2)\n",
    "    p_total = p_total[0]\n",
    "\n",
    "    partial = np.zeros(len(p_total))\n",
    "    output_img_p1 = np.zeros(len(p_total))\n",
    "    output_img_p2 = np.zeros(len(p_total))\n",
    "    \n",
    "    for i in range(0, len(p_total)):\n",
    "        partial[i] = LA.norm(p_total[i])         \n",
    "        output_img_p1[i] = inp1[i] / max(1.0, partial[i])\n",
    "        output_img_p2[i] =  inp2[i] / max(1.0, partial[i] )\n",
    "\n",
    "    #width, height = img_p1.shape\n",
    "    #p_total_norm = p_total_norm.reshape((width,height, 2))     \n",
    "    #norm = LA.norm(p_total_norm)\n",
    "    output_img_p1 = output_img_p1.reshape(img_p1.shape)\n",
    "    output_img_p2 = output_img_p2.reshape(img_p1.shape)\n",
    "    return output_img_p1, output_img_p2\n"
   ]
  },
  {
   "cell_type": "code",
   "execution_count": 7,
   "metadata": {},
   "outputs": [],
   "source": [
    "def ProximalF_Star(img_p1,img_p2):\n",
    "    inp1 = img_p1.flatten()    \n",
    "    inp2 = img_p2.flatten()# (313600,1)\n",
    "    p_total =  np.dstack((inp1, inp2)) # queda (1,313600,2)\n",
    "    p_total = p_total[0]\n",
    "\n",
    "    partial = np.zeros(len(p_total))\n",
    "    \n",
    "    partial = np.asarray(list(map(LA.norm, p_total))) # cada el de p_total la norma 2\n",
    "    partial = np.asarray(list(map(lambda e: max(1.0,e), partial)))\n",
    "    \n",
    "    partial = partial.reshape(img_p1.shape)\n",
    "    \n",
    "    output_img_p1 = img_p1 / partial\n",
    "    output_img_p2 = img_p1 / partial \n",
    "\n",
    "\n",
    "    return output_img_p1, output_img_p2\n"
   ]
  },
  {
   "cell_type": "code",
   "execution_count": 97,
   "metadata": {},
   "outputs": [
    {
     "data": {
      "text/plain": [
       "3.1622776601683795"
      ]
     },
     "execution_count": 97,
     "metadata": {},
     "output_type": "execute_result"
    }
   ],
   "source": [
    "LA.norm([1,3], ord = 2)"
   ]
  },
  {
   "cell_type": "code",
   "execution_count": 98,
   "metadata": {},
   "outputs": [
    {
     "data": {
      "text/plain": [
       "3.1622776601683795"
      ]
     },
     "execution_count": 98,
     "metadata": {},
     "output_type": "execute_result"
    }
   ],
   "source": [
    "(1**2+3**2)**(1/2)"
   ]
  },
  {
   "cell_type": "code",
   "execution_count": null,
   "metadata": {},
   "outputs": [],
   "source": [
    "  "
   ]
  },
  {
   "cell_type": "code",
   "execution_count": 8,
   "metadata": {},
   "outputs": [],
   "source": [
    "def ComputeDivergence(img_p1, img_p2, way=1, sp=[1,1]):\n",
    "    width, height = img_p1.shape\n",
    "    term_1= 0.0\n",
    "    term_2= 0.0\n",
    "    \n",
    "    output_image = np.zeros(img_p1.shape)\n",
    "    \n",
    "    for i in range (0, len(img_p1)):\n",
    "        for j in range(0, len(img_p1[0])):\n",
    "            if (i == 0): term_1 = img_p1[i][j]\n",
    "            elif (i == height): term_1 = - img_p1[i-1][j]\n",
    "            else: term_1 = img_p1[i][j] -img_p1[i-1][j]\n",
    "            \n",
    "            if (i == 0): term_2 = img_p2[i][j]\n",
    "            elif (i == width): term_2 = - img_p2[i][j-1]\n",
    "            else: term_2 = img_p2[i][j] -img_p2[i][j-1]\n",
    "            \n",
    "            output_image[i][j] = term_1 + term_2\n",
    "    \n",
    "    return output_image\n",
    "        \n",
    "    \n",
    "                "
   ]
  },
  {
   "cell_type": "code",
   "execution_count": 9,
   "metadata": {},
   "outputs": [],
   "source": [
    "def ComputeDivergenceL(img_p1, img_p2, way=1, sp=[1,1]):\n",
    "    if way == 0 :\n",
    "        p1_dx =  cv2.Sobel(img_p1, ddepth=-1, dx=1, dy=0, borderType=cv2.BORDER_REFLECT)\n",
    "        p2_dy =  cv2.Sobel(img_p2, ddepth=-1, dx=0, dy=1, borderType=cv2.BORDER_REFLECT)\n",
    "        output_image = p1_dx + p2_dy\n",
    "    elif way == 1 :\n",
    "        inp1 = img_p1.flatten()\n",
    "        inp2 = img_p2.flatten()#no se si f o c\n",
    "        #p_total =  np.dstack((inp1, inp2))\n",
    "        #width, height = img_p1.shape\n",
    "        #p_total = p_total.reshape((width,height, 2)) \n",
    "        #vector_field = p_total\n",
    "        vector_field = np.array([inp1, inp2])\n",
    "        #num_dims = len(vector_field)   \n",
    "        num_dims = 2        \n",
    "        output_image = np.ufunc.reduce(np.add, [np.gradient(vector_field[i], sp[i], axis =0) for i in range(num_dims)]) \n",
    "        output_image = output_image.reshape(width,height)        \n",
    "    return output_image"
   ]
  },
  {
   "cell_type": "code",
   "execution_count": 10,
   "metadata": {},
   "outputs": [],
   "source": [
    "def ProximalG(img_u, img_g, landa, tau):\n",
    "    resta = img_u - img_g    \n",
    "    output_image = np.zeros(img_u.shape)\n",
    "    for i in range(0, len(img_u)):\n",
    "        for j in range(0, len(img_u[i])):            \n",
    "            if resta[i][j] > landa*tau :\n",
    "                output_image[i][j] = img_u[i][j] - (landa*tau)\n",
    "            elif resta[i][j] < -1*(landa*tau):\n",
    "                output_image[i][j] = img_u[i][j] + (landa*tau)\n",
    "            else: # si el modulo de la resta es menor a landa*tau\n",
    "                output_image[i][j] = img_g[i][j]\n",
    "    return output_image"
   ]
  },
  {
   "cell_type": "code",
   "execution_count": 11,
   "metadata": {},
   "outputs": [
    {
     "ename": "SyntaxError",
     "evalue": "invalid syntax (1381181544.py, line 1)",
     "output_type": "error",
     "traceback": [
      "\u001b[0;36m  Cell \u001b[0;32mIn[11], line 1\u001b[0;36m\u001b[0m\n\u001b[0;31m    Vamos ahora si a tratar de hacer la decomposition con el paper\u001b[0m\n\u001b[0m          ^\u001b[0m\n\u001b[0;31mSyntaxError\u001b[0m\u001b[0;31m:\u001b[0m invalid syntax\n"
     ]
    }
   ],
   "source": [
    "Vamos ahora si a tratar de hacer la decomposition con el paper"
   ]
  },
  {
   "cell_type": "code",
   "execution_count": 12,
   "metadata": {},
   "outputs": [],
   "source": [
    "def Chambolle_TV_L1(input_image, nb_iter, tau, sigma, landa, tetha, way):\n",
    "    # inicializacion\n",
    "    width, height  = input_image.shape\n",
    "    size_image = width * height\n",
    "    \n",
    "    u = input_image    \n",
    "    u_old = np.zeros(input_image.shape)    \n",
    "    p1 =  np.zeros(input_image.shape)# p = (p1, p2) o (px, py)\n",
    "    p2= np.zeros(input_image.shape)\n",
    "    img1 = np.zeros(input_image.shape)\n",
    "    img2 = np.zeros(input_image.shape)\n",
    "    GradX = np.zeros(input_image.shape)\n",
    "    GradY = np.zeros(input_image.shape)\n",
    "    \n",
    "    E = float('inf')\n",
    "    \n",
    "        \n",
    "    for it in range (1, nb_iter):\n",
    "        u_old = u\n",
    "        GradX, GradY = ComputeImageGradient(u, way) \n",
    "        im1 = p1+ sigma*GradX\n",
    "        im2 = p2 + sigma*GradY\n",
    "        #imageAddition(im1, p1, GradX, 1, sigma)(es lo mismo)\n",
    "        #imageAddition(im2, p2, GradY, 1, sigma)\n",
    "        p1, p2 = ProximalF_Star(im1,im2)        \n",
    "        div = ComputeDivergence(p1, p2)        \n",
    "        image1 = u + tau*div\n",
    "        #print(u)\n",
    "        #print(image1)\n",
    "        #imageAddition(image1,u, div,1 ,tau)\n",
    "        u = ProximalG(image1, input_image, landa, tau)\n",
    "        \n",
    "        #u = imageAddition(u,u,u_old,1+theta,-theta)\n",
    "        #u = u*(1+theta) - (u_old*theta)\n",
    "        u = u + tetha* (u - u_old) # son lo mismo\n",
    "        \n",
    "        if( it % 10 == 0):\n",
    "            E_old = E\n",
    "            E = 0\n",
    "            GradX, GradY = ComputeImageGradient(u, way)\n",
    "            E += np.sum(landa * abs(u-input_image) + np.sqrt(GradX**2 + GradY**2))\n",
    "            E = E/size_image\n",
    "            if(abs(E-E_old) < 0.001): break\n",
    "    \n",
    "    return u\n"
   ]
  },
  {
   "cell_type": "code",
   "execution_count": 13,
   "metadata": {},
   "outputs": [],
   "source": [
    "def cartoonTexture_grey(input_image, landa, nb_iter_max=1000, tau=0.35, sigma=0.35, tetha =1.0, way =3):\n",
    "    \n",
    "    \n",
    "    #cartoon = np.zeros(size_image)\n",
    "    cartoon = np.zeros(input_image.shape)\n",
    "#lo pasamos a array la input image\n",
    "    \n",
    "    cartoon = Chambolle_TV_L1(input_image, nb_iter_max, tau, sigma, landa, tetha, way)\n",
    "    \n",
    "    GradX = np.zeros(input_image.shape) \n",
    "    GradY = np.zeros(input_image.shape) \n",
    "    \n",
    "    BV_norm = 0.0\n",
    "    \n",
    "    GradX, GradY = ComputeImageGradient(cartoon, way)\n",
    "    \n",
    "    BV_norm += np.sum((GradX **2 + GradY **2)**(1/2))     \n",
    "    \n",
    "    \n",
    "    vLim = 20.0#20\n",
    "    \n",
    "    texture = np.zeros(input_image.shape)\n",
    "    \n",
    "    #texture = input_image - cartoon\n",
    "    \n",
    "    for i in range(0, len(texture)):\n",
    "        for j in range(0, len(texture[i])):\n",
    "            fValue = float(float(input_image[i][j]) - float(cartoon[i][j]))\n",
    "            fValue =  (fValue + vLim) * 255.0 / (2.0 * vLim)\n",
    "            if (fValue < 0.0): fValue = 0.0\n",
    "            if (fValue > 255.0): fValue = 255.0\n",
    "            texture[i][j] = fValue        \n",
    "    return cartoon, texture\n",
    "    \n"
   ]
  },
  {
   "cell_type": "code",
   "execution_count": null,
   "metadata": {},
   "outputs": [],
   "source": [
    "\n",
    " "
   ]
  },
  {
   "cell_type": "code",
   "execution_count": null,
   "metadata": {},
   "outputs": [],
   "source": [
    "\n",
    "\n",
    "\n",
    "\n"
   ]
  },
  {
   "cell_type": "code",
   "execution_count": 21,
   "metadata": {},
   "outputs": [
    {
     "data": {
      "text/plain": [
       "(array([[ 5.14856550e+01,  8.90718426e+01,  1.46506365e+02, ...,\n",
       "         -2.02048765e+01, -2.47637497e+01, -5.68972995e+01],\n",
       "        [-3.00641972e+00,  2.89107160e+01,  7.84519857e+01, ...,\n",
       "          2.25461715e+00,  1.84606784e+01,  4.84899563e+01],\n",
       "        [-6.05357399e+00, -2.16134231e+00, -9.69103423e+00, ...,\n",
       "         -1.62673271e+01, -2.16093573e+00,  1.12059438e+01],\n",
       "        ...,\n",
       "        [ 1.59430502e+02,  1.46633743e+02,  1.62807320e+02, ...,\n",
       "          3.23965793e+01,  2.14830375e+01,  2.59620634e+01],\n",
       "        [ 2.08363566e+02,  1.76478841e+02,  1.67543074e+02, ...,\n",
       "          3.61905786e+01,  3.54550513e+01,  7.31881034e+00],\n",
       "        [ 5.96088736e-02,  8.06743365e-02,  1.28286907e-02, ...,\n",
       "          0.00000000e+00,  4.45674130e+00,  2.91118196e+01]]),\n",
       " array([[  1,  28,  85, ...,   0,   0,   0],\n",
       "        [  1,  29,  92, ...,   0,   0,   0],\n",
       "        [  0,   0,   0, ...,   0,   0,   0],\n",
       "        ...,\n",
       "        [158, 159, 160, ...,  32,  32,  31],\n",
       "        [159, 160, 161, ...,  29,  29,  29],\n",
       "        [  0,   0,   0, ...,   0,   0,   0]], dtype=uint8),\n",
       " array([[  0.        ,   0.        ,   0.        , ..., 255.        ,\n",
       "         255.        , 255.        ],\n",
       "        [153.04092573, 128.06918575, 213.86859087, ..., 113.12681566,\n",
       "           9.81317528,   0.        ],\n",
       "        [166.09153419, 141.27855725, 189.28034325, ..., 231.20421035,\n",
       "         141.27596529,  56.06210821],\n",
       "        ...,\n",
       "        [118.38055119, 206.33488572, 109.60333575, ..., 124.97180726,\n",
       "         194.54563581, 159.61684552],\n",
       "        [  0.        ,  22.44738727,  85.78790525, ...,  81.66006134,\n",
       "          86.34904766, 255.        ],\n",
       "        [127.11999343, 126.98570111, 127.4182171 , ..., 127.5       ,\n",
       "          99.08827419,   0.        ]]))"
      ]
     },
     "execution_count": 21,
     "metadata": {},
     "output_type": "execute_result"
    }
   ],
   "source": [
    "cartoon, texture = cartoonTexture_grey(img, 0.1, 50, 0.35, 0.35, 1.0, 0)\n",
    "\n",
    "cartoon, img, texture"
   ]
  },
  {
   "cell_type": "code",
   "execution_count": 22,
   "metadata": {},
   "outputs": [
    {
     "data": {
      "text/plain": [
       "True"
      ]
     },
     "execution_count": 22,
     "metadata": {},
     "output_type": "execute_result"
    }
   ],
   "source": [
    "Hori = np.concatenate((cartoon, texture), axis=1) \n",
    "cv2.imshow('Cartoon Texture', Hori) \n",
    "cv2.waitKey(0) \n",
    "cv2.destroyAllWindows()  \n",
    "\n",
    "cv2.imwrite(\"ejemplotexcartoondescom01w0.png\", Hori)"
   ]
  },
  {
   "cell_type": "code",
   "execution_count": 41,
   "metadata": {},
   "outputs": [],
   "source": [
    "a =np.array([np.array([np.array([1,2]),np.array([1,2]), np.array([1,2])]), np.array([np.array([1,2]),np.array([1,2]), np.array([1,2])]), np.array([np.array([1,2]),np.array([1,2]), np.array([1,2])])])"
   ]
  },
  {
   "cell_type": "code",
   "execution_count": 50,
   "metadata": {},
   "outputs": [],
   "source": [
    "# cero = negro , 255 = blanco\n"
   ]
  },
  {
   "cell_type": "code",
   "execution_count": null,
   "metadata": {},
   "outputs": [],
   "source": []
  }
 ],
 "metadata": {
  "kernelspec": {
   "display_name": "solverenv",
   "language": "python",
   "name": "solverenv"
  },
  "language_info": {
   "codemirror_mode": {
    "name": "ipython",
    "version": 3
   },
   "file_extension": ".py",
   "mimetype": "text/x-python",
   "name": "python",
   "nbconvert_exporter": "python",
   "pygments_lexer": "ipython3",
   "version": "3.8.18"
  }
 },
 "nbformat": 4,
 "nbformat_minor": 2
}
